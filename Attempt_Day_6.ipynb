{
 "cells": [
  {
   "cell_type": "markdown",
   "id": "74898f0a",
   "metadata": {},
   "source": [
    "### Machine Learning models implented in this kernel version:\n",
    "\n",
    "- Cross Validation: Using 11-fold cross-validation\n",
    "- GridSearchCV for tuning hyperparamters and doing cv\n",
    "- Models:\n",
    "    - Ridge\n",
    "    - Lasso\n",
    "    - Elastic Net\n",
    "    - XGBoost\n",
    "    - Extra tree Regressor\n",
    "    - Bagging Regressor\n",
    "    - Support vector Regressor(SVR)\n",
    "    - Gradient Boositng\n",
    "    - Light GBM\n",
    "    - StackingCV Regressor\n",
    "    - To make final predictions, I blended above models predictions together to get more robust predictions.Blending model using best models.\n"
   ]
  },
  {
   "cell_type": "code",
   "execution_count": 208,
   "id": "dbbd7b22",
   "metadata": {},
   "outputs": [],
   "source": [
    "import pandas as pd\n",
    "import numpy as np\n",
    "import matplotlib.pyplot as plt\n",
    "import seaborn as sns"
   ]
  },
  {
   "cell_type": "code",
   "execution_count": 209,
   "id": "fceb51a4",
   "metadata": {},
   "outputs": [],
   "source": [
    "path = \"E:/Hackathon/CabFarePrediction/\""
   ]
  },
  {
   "cell_type": "code",
   "execution_count": 210,
   "id": "a9bb3b94",
   "metadata": {},
   "outputs": [],
   "source": [
    "train = pd.read_csv(path+'TRAIN.CSV')\n",
    "test = pd.read_csv(path + 'TEST.CSV')"
   ]
  },
  {
   "cell_type": "code",
   "execution_count": 211,
   "id": "56b224f0",
   "metadata": {},
   "outputs": [
    {
     "data": {
      "text/html": [
       "<div>\n",
       "<style scoped>\n",
       "    .dataframe tbody tr th:only-of-type {\n",
       "        vertical-align: middle;\n",
       "    }\n",
       "\n",
       "    .dataframe tbody tr th {\n",
       "        vertical-align: top;\n",
       "    }\n",
       "\n",
       "    .dataframe thead th {\n",
       "        text-align: right;\n",
       "    }\n",
       "</style>\n",
       "<table border=\"1\" class=\"dataframe\">\n",
       "  <thead>\n",
       "    <tr style=\"text-align: right;\">\n",
       "      <th></th>\n",
       "      <th>index</th>\n",
       "      <th>time_stamp</th>\n",
       "      <th>cab_provider</th>\n",
       "      <th>source</th>\n",
       "      <th>destination</th>\n",
       "      <th>distance</th>\n",
       "      <th>surge_multiplier</th>\n",
       "      <th>cab_type</th>\n",
       "      <th>fare</th>\n",
       "    </tr>\n",
       "  </thead>\n",
       "  <tbody>\n",
       "    <tr>\n",
       "      <th>0</th>\n",
       "      <td>0</td>\n",
       "      <td>1543203646318</td>\n",
       "      <td>Lyft</td>\n",
       "      <td>Boston University</td>\n",
       "      <td>Theatre District</td>\n",
       "      <td>3.03</td>\n",
       "      <td>1.0</td>\n",
       "      <td>Lux Black XL</td>\n",
       "      <td>34.0</td>\n",
       "    </tr>\n",
       "    <tr>\n",
       "      <th>1</th>\n",
       "      <td>1</td>\n",
       "      <td>1543203646319</td>\n",
       "      <td>Uber</td>\n",
       "      <td>South Station</td>\n",
       "      <td>Theatre District</td>\n",
       "      <td>1.30</td>\n",
       "      <td>1.0</td>\n",
       "      <td>Black</td>\n",
       "      <td>18.5</td>\n",
       "    </tr>\n",
       "    <tr>\n",
       "      <th>2</th>\n",
       "      <td>2</td>\n",
       "      <td>1543203646320</td>\n",
       "      <td>Uber</td>\n",
       "      <td>Theatre District</td>\n",
       "      <td>Fenway</td>\n",
       "      <td>2.71</td>\n",
       "      <td>1.0</td>\n",
       "      <td>UberX</td>\n",
       "      <td>19.5</td>\n",
       "    </tr>\n",
       "    <tr>\n",
       "      <th>3</th>\n",
       "      <td>3</td>\n",
       "      <td>1543203646320</td>\n",
       "      <td>Lyft</td>\n",
       "      <td>Northeastern University</td>\n",
       "      <td>Beacon Hill</td>\n",
       "      <td>2.43</td>\n",
       "      <td>1.0</td>\n",
       "      <td>Lyft</td>\n",
       "      <td>10.5</td>\n",
       "    </tr>\n",
       "    <tr>\n",
       "      <th>4</th>\n",
       "      <td>4</td>\n",
       "      <td>1543203646320</td>\n",
       "      <td>Uber</td>\n",
       "      <td>Theatre District</td>\n",
       "      <td>Fenway</td>\n",
       "      <td>2.71</td>\n",
       "      <td>1.0</td>\n",
       "      <td>UberXL</td>\n",
       "      <td>32.0</td>\n",
       "    </tr>\n",
       "  </tbody>\n",
       "</table>\n",
       "</div>"
      ],
      "text/plain": [
       "   index     time_stamp cab_provider                   source  \\\n",
       "0      0  1543203646318         Lyft        Boston University   \n",
       "1      1  1543203646319         Uber            South Station   \n",
       "2      2  1543203646320         Uber         Theatre District   \n",
       "3      3  1543203646320         Lyft  Northeastern University   \n",
       "4      4  1543203646320         Uber         Theatre District   \n",
       "\n",
       "        destination  distance  surge_multiplier      cab_type  fare  \n",
       "0  Theatre District      3.03               1.0  Lux Black XL  34.0  \n",
       "1  Theatre District      1.30               1.0         Black  18.5  \n",
       "2            Fenway      2.71               1.0         UberX  19.5  \n",
       "3       Beacon Hill      2.43               1.0          Lyft  10.5  \n",
       "4            Fenway      2.71               1.0        UberXL  32.0  "
      ]
     },
     "execution_count": 211,
     "metadata": {},
     "output_type": "execute_result"
    }
   ],
   "source": [
    "train.head()"
   ]
  },
  {
   "cell_type": "code",
   "execution_count": 212,
   "id": "700177d9",
   "metadata": {},
   "outputs": [
    {
     "data": {
      "text/html": [
       "<div>\n",
       "<style scoped>\n",
       "    .dataframe tbody tr th:only-of-type {\n",
       "        vertical-align: middle;\n",
       "    }\n",
       "\n",
       "    .dataframe tbody tr th {\n",
       "        vertical-align: top;\n",
       "    }\n",
       "\n",
       "    .dataframe thead th {\n",
       "        text-align: right;\n",
       "    }\n",
       "</style>\n",
       "<table border=\"1\" class=\"dataframe\">\n",
       "  <thead>\n",
       "    <tr style=\"text-align: right;\">\n",
       "      <th></th>\n",
       "      <th>index</th>\n",
       "      <th>time_stamp</th>\n",
       "      <th>cab_provider</th>\n",
       "      <th>source</th>\n",
       "      <th>destination</th>\n",
       "      <th>distance</th>\n",
       "      <th>surge_multiplier</th>\n",
       "      <th>cab_type</th>\n",
       "    </tr>\n",
       "  </thead>\n",
       "  <tbody>\n",
       "    <tr>\n",
       "      <th>0</th>\n",
       "      <td>0</td>\n",
       "      <td>1543364124206</td>\n",
       "      <td>Lyft</td>\n",
       "      <td>Theatre District</td>\n",
       "      <td>South Station</td>\n",
       "      <td>0.59</td>\n",
       "      <td>1.0</td>\n",
       "      <td>Lux</td>\n",
       "    </tr>\n",
       "    <tr>\n",
       "      <th>1</th>\n",
       "      <td>1</td>\n",
       "      <td>1543364124206</td>\n",
       "      <td>Lyft</td>\n",
       "      <td>Theatre District</td>\n",
       "      <td>South Station</td>\n",
       "      <td>0.59</td>\n",
       "      <td>1.0</td>\n",
       "      <td>Lux Black XL</td>\n",
       "    </tr>\n",
       "    <tr>\n",
       "      <th>2</th>\n",
       "      <td>2</td>\n",
       "      <td>1543364124206</td>\n",
       "      <td>Uber</td>\n",
       "      <td>Financial District</td>\n",
       "      <td>Fenway</td>\n",
       "      <td>6.83</td>\n",
       "      <td>1.0</td>\n",
       "      <td>UberX</td>\n",
       "    </tr>\n",
       "    <tr>\n",
       "      <th>3</th>\n",
       "      <td>3</td>\n",
       "      <td>1543364124206</td>\n",
       "      <td>Uber</td>\n",
       "      <td>Beacon Hill</td>\n",
       "      <td>Haymarket Square</td>\n",
       "      <td>1.35</td>\n",
       "      <td>1.0</td>\n",
       "      <td>UberXL</td>\n",
       "    </tr>\n",
       "    <tr>\n",
       "      <th>4</th>\n",
       "      <td>4</td>\n",
       "      <td>1543364124206</td>\n",
       "      <td>Lyft</td>\n",
       "      <td>Theatre District</td>\n",
       "      <td>South Station</td>\n",
       "      <td>0.59</td>\n",
       "      <td>1.0</td>\n",
       "      <td>Lyft XL</td>\n",
       "    </tr>\n",
       "  </tbody>\n",
       "</table>\n",
       "</div>"
      ],
      "text/plain": [
       "   index     time_stamp cab_provider              source       destination  \\\n",
       "0      0  1543364124206         Lyft    Theatre District     South Station   \n",
       "1      1  1543364124206         Lyft    Theatre District     South Station   \n",
       "2      2  1543364124206         Uber  Financial District            Fenway   \n",
       "3      3  1543364124206         Uber         Beacon Hill  Haymarket Square   \n",
       "4      4  1543364124206         Lyft    Theatre District     South Station   \n",
       "\n",
       "   distance  surge_multiplier      cab_type  \n",
       "0      0.59               1.0           Lux  \n",
       "1      0.59               1.0  Lux Black XL  \n",
       "2      6.83               1.0         UberX  \n",
       "3      1.35               1.0        UberXL  \n",
       "4      0.59               1.0       Lyft XL  "
      ]
     },
     "execution_count": 212,
     "metadata": {},
     "output_type": "execute_result"
    }
   ],
   "source": [
    "test.head()"
   ]
  },
  {
   "cell_type": "code",
   "execution_count": 213,
   "id": "147fb737",
   "metadata": {},
   "outputs": [
    {
     "data": {
      "text/plain": [
       "((100000, 9), (25000, 8))"
      ]
     },
     "execution_count": 213,
     "metadata": {},
     "output_type": "execute_result"
    }
   ],
   "source": [
    "train.shape, test.shape"
   ]
  },
  {
   "cell_type": "code",
   "execution_count": 214,
   "id": "1499f915",
   "metadata": {},
   "outputs": [
    {
     "data": {
      "text/html": [
       "<div>\n",
       "<style scoped>\n",
       "    .dataframe tbody tr th:only-of-type {\n",
       "        vertical-align: middle;\n",
       "    }\n",
       "\n",
       "    .dataframe tbody tr th {\n",
       "        vertical-align: top;\n",
       "    }\n",
       "\n",
       "    .dataframe thead th {\n",
       "        text-align: right;\n",
       "    }\n",
       "</style>\n",
       "<table border=\"1\" class=\"dataframe\">\n",
       "  <thead>\n",
       "    <tr style=\"text-align: right;\">\n",
       "      <th></th>\n",
       "      <th>index</th>\n",
       "      <th>time_stamp</th>\n",
       "      <th>distance</th>\n",
       "      <th>surge_multiplier</th>\n",
       "      <th>fare</th>\n",
       "    </tr>\n",
       "  </thead>\n",
       "  <tbody>\n",
       "    <tr>\n",
       "      <th>count</th>\n",
       "      <td>100000.000000</td>\n",
       "      <td>1.000000e+05</td>\n",
       "      <td>100000.000000</td>\n",
       "      <td>100000.000000</td>\n",
       "      <td>100000.000000</td>\n",
       "    </tr>\n",
       "    <tr>\n",
       "      <th>mean</th>\n",
       "      <td>49999.500000</td>\n",
       "      <td>1.543299e+12</td>\n",
       "      <td>2.188783</td>\n",
       "      <td>1.014945</td>\n",
       "      <td>16.571013</td>\n",
       "    </tr>\n",
       "    <tr>\n",
       "      <th>std</th>\n",
       "      <td>28867.657797</td>\n",
       "      <td>4.089871e+07</td>\n",
       "      <td>1.142837</td>\n",
       "      <td>0.095462</td>\n",
       "      <td>9.333901</td>\n",
       "    </tr>\n",
       "    <tr>\n",
       "      <th>min</th>\n",
       "      <td>0.000000</td>\n",
       "      <td>1.543204e+12</td>\n",
       "      <td>0.020000</td>\n",
       "      <td>1.000000</td>\n",
       "      <td>2.500000</td>\n",
       "    </tr>\n",
       "    <tr>\n",
       "      <th>25%</th>\n",
       "      <td>24999.750000</td>\n",
       "      <td>1.543272e+12</td>\n",
       "      <td>1.280000</td>\n",
       "      <td>1.000000</td>\n",
       "      <td>9.000000</td>\n",
       "    </tr>\n",
       "    <tr>\n",
       "      <th>50%</th>\n",
       "      <td>49999.500000</td>\n",
       "      <td>1.543302e+12</td>\n",
       "      <td>2.150000</td>\n",
       "      <td>1.000000</td>\n",
       "      <td>13.500000</td>\n",
       "    </tr>\n",
       "    <tr>\n",
       "      <th>75%</th>\n",
       "      <td>74999.250000</td>\n",
       "      <td>1.543333e+12</td>\n",
       "      <td>2.930000</td>\n",
       "      <td>1.000000</td>\n",
       "      <td>22.500000</td>\n",
       "    </tr>\n",
       "    <tr>\n",
       "      <th>max</th>\n",
       "      <td>99999.000000</td>\n",
       "      <td>1.543364e+12</td>\n",
       "      <td>7.500000</td>\n",
       "      <td>3.000000</td>\n",
       "      <td>92.000000</td>\n",
       "    </tr>\n",
       "  </tbody>\n",
       "</table>\n",
       "</div>"
      ],
      "text/plain": [
       "               index    time_stamp       distance  surge_multiplier  \\\n",
       "count  100000.000000  1.000000e+05  100000.000000     100000.000000   \n",
       "mean    49999.500000  1.543299e+12       2.188783          1.014945   \n",
       "std     28867.657797  4.089871e+07       1.142837          0.095462   \n",
       "min         0.000000  1.543204e+12       0.020000          1.000000   \n",
       "25%     24999.750000  1.543272e+12       1.280000          1.000000   \n",
       "50%     49999.500000  1.543302e+12       2.150000          1.000000   \n",
       "75%     74999.250000  1.543333e+12       2.930000          1.000000   \n",
       "max     99999.000000  1.543364e+12       7.500000          3.000000   \n",
       "\n",
       "                fare  \n",
       "count  100000.000000  \n",
       "mean       16.571013  \n",
       "std         9.333901  \n",
       "min         2.500000  \n",
       "25%         9.000000  \n",
       "50%        13.500000  \n",
       "75%        22.500000  \n",
       "max        92.000000  "
      ]
     },
     "execution_count": 214,
     "metadata": {},
     "output_type": "execute_result"
    }
   ],
   "source": [
    "train.describe()"
   ]
  },
  {
   "cell_type": "code",
   "execution_count": 215,
   "id": "9556533d",
   "metadata": {},
   "outputs": [
    {
     "data": {
      "image/png": "[encoded data removed]",
      "text/plain": [
       "<Figure size 1152x576 with 1 Axes>"
      ]
     },
     "metadata": {
      "needs_background": "light"
     },
     "output_type": "display_data"
    }
   ],
   "source": [
    "# Fare\n",
    "\n",
    "sns.displot(x = 'fare', data = train, aspect = 2, height = 8, kde = True);"
   ]
  },
  {
   "cell_type": "code",
   "execution_count": 216,
   "id": "c84523e9",
   "metadata": {},
   "outputs": [
    {
     "data": {
      "image/png": "[encoded data removed]",
      "text/plain": [
       "<Figure size 576x432 with 1 Axes>"
      ]
     },
     "metadata": {
      "needs_background": "light"
     },
     "output_type": "display_data"
    }
   ],
   "source": [
    "# Boxplot (Fare)\n",
    "\n",
    "plt.figure(figsize = (8,6))\n",
    "sns.boxplot(x = 'fare', data = train);"
   ]
  },
  {
   "cell_type": "code",
   "execution_count": 217,
   "id": "c8652bf8",
   "metadata": {},
   "outputs": [
    {
     "name": "stdout",
     "output_type": "stream",
     "text": [
      "Skewness: 1.039652\n",
      "Kurtosis: 1.149118\n"
     ]
    }
   ],
   "source": [
    "# Skew and kurtosis for SalePrice \n",
    "print(\"Skewness: %f\" % train['fare'].skew())\n",
    "print(\"Kurtosis: %f\" % train['fare'].kurt())"
   ]
  },
  {
   "cell_type": "code",
   "execution_count": 218,
   "id": "54af8089",
   "metadata": {},
   "outputs": [],
   "source": [
    "xtrain = train.copy()"
   ]
  },
  {
   "cell_type": "code",
   "execution_count": 219,
   "id": "f5b6b558",
   "metadata": {},
   "outputs": [],
   "source": [
    "# Let's remove outliers\n",
    "\n",
    "def remove_outliers(dataframe, column):\n",
    "    q3 = dataframe[column].quantile(0.75)\n",
    "    q1 = dataframe[column].quantile(0.25)\n",
    "    \n",
    "    iqr = q3- q1\n",
    "    upper = q3 + (1.5 * iqr)\n",
    "    lower = q1 - (1.5 * iqr)\n",
    "    \n",
    "    df_no_outlier = dataframe[(dataframe[column]>lower) & (dataframe[column] < upper)]\n",
    "    \n",
    "    return df_no_outlier"
   ]
  },
  {
   "cell_type": "code",
   "execution_count": 220,
   "id": "20f270d4",
   "metadata": {},
   "outputs": [
    {
     "data": {
      "text/plain": [
       "(100000, 9)"
      ]
     },
     "execution_count": 220,
     "metadata": {},
     "output_type": "execute_result"
    }
   ],
   "source": [
    "xtrain.shape"
   ]
  },
  {
   "cell_type": "code",
   "execution_count": 221,
   "id": "bdd4dc61",
   "metadata": {},
   "outputs": [],
   "source": [
    "# Removing postitive skewness\n",
    "\n",
    "xtrain['fare'] = np.log1p(xtrain['fare'])"
   ]
  },
  {
   "cell_type": "code",
   "execution_count": 222,
   "id": "2582aab9",
   "metadata": {},
   "outputs": [],
   "source": [
    "## REmoving outliers\n",
    "\n",
    "xtrain = remove_outliers(xtrain, 'fare')"
   ]
  },
  {
   "cell_type": "code",
   "execution_count": 223,
   "id": "2fed2cd6",
   "metadata": {},
   "outputs": [
    {
     "data": {
      "text/plain": [
       "(99998, 9)"
      ]
     },
     "execution_count": 223,
     "metadata": {},
     "output_type": "execute_result"
    }
   ],
   "source": [
    "xtrain.shape"
   ]
  },
  {
   "cell_type": "code",
   "execution_count": 224,
   "id": "786afcd9",
   "metadata": {},
   "outputs": [
    {
     "name": "stdout",
     "output_type": "stream",
     "text": [
      "Skewness: -0.006457\n",
      "Kurtosis: -0.656464\n"
     ]
    }
   ],
   "source": [
    "# Skew and kurtosis for Fare\n",
    "\n",
    "print(\"Skewness: %f\" % xtrain['fare'].skew())\n",
    "print(\"Kurtosis: %f\" % xtrain['fare'].kurt())"
   ]
  },
  {
   "cell_type": "code",
   "execution_count": 225,
   "id": "4b539f55",
   "metadata": {},
   "outputs": [
    {
     "data": {
      "image/png": "[encoded data removed]",
      "text/plain": [
       "<Figure size 1152x576 with 1 Axes>"
      ]
     },
     "metadata": {
      "needs_background": "light"
     },
     "output_type": "display_data"
    }
   ],
   "source": [
    "sns.displot(x = 'fare', data = xtrain, aspect = 2, height = 8, kde = True);"
   ]
  },
  {
   "cell_type": "code",
   "execution_count": 226,
   "id": "a400e5a5",
   "metadata": {},
   "outputs": [
    {
     "data": {
      "image/png": "[encoded data removed]",
      "text/plain": [
       "<Figure size 576x432 with 1 Axes>"
      ]
     },
     "metadata": {
      "needs_background": "light"
     },
     "output_type": "display_data"
    }
   ],
   "source": [
    "# Boxplot (Fare)\n",
    "\n",
    "plt.figure(figsize = (8,6))\n",
    "sns.boxplot(x = 'fare', data = xtrain);"
   ]
  },
  {
   "cell_type": "code",
   "execution_count": 227,
   "id": "3ebfc9fb",
   "metadata": {},
   "outputs": [
    {
     "data": {
      "image/png": "[encoded data removed]",
      "text/plain": [
       "<Figure size 864x432 with 1 Axes>"
      ]
     },
     "metadata": {
      "needs_background": "light"
     },
     "output_type": "display_data"
    }
   ],
   "source": [
    "# Distance\n",
    "\n",
    "sns.displot(x = 'distance', data = train, aspect = 2, height = 6, kde = True);"
   ]
  },
  {
   "cell_type": "code",
   "execution_count": 228,
   "id": "36f73a4f",
   "metadata": {},
   "outputs": [
    {
     "data": {
      "image/png": "[encoded data removed]",
      "text/plain": [
       "<Figure size 576x432 with 1 Axes>"
      ]
     },
     "metadata": {
      "needs_background": "light"
     },
     "output_type": "display_data"
    }
   ],
   "source": [
    "# Boxplot (Distance)\n",
    "\n",
    "plt.figure(figsize = (8,6))\n",
    "sns.boxplot(x = 'distance', data = train);"
   ]
  },
  {
   "cell_type": "code",
   "execution_count": 229,
   "id": "87b35834",
   "metadata": {},
   "outputs": [],
   "source": [
    "# Applying log transformation\n",
    "\n",
    "xtrain['distance'] = np.log1p(xtrain['distance'])"
   ]
  },
  {
   "cell_type": "code",
   "execution_count": 230,
   "id": "1bc41bbb",
   "metadata": {},
   "outputs": [],
   "source": [
    "## Removing outliers\n",
    "\n",
    "xtrain = remove_outliers(xtrain, 'distance')"
   ]
  },
  {
   "cell_type": "code",
   "execution_count": 231,
   "id": "a2b27fd7",
   "metadata": {},
   "outputs": [
    {
     "data": {
      "image/png": "[encoded data removed]",
      "text/plain": [
       "<Figure size 576x432 with 1 Axes>"
      ]
     },
     "metadata": {
      "needs_background": "light"
     },
     "output_type": "display_data"
    }
   ],
   "source": [
    "# Boxplot (Distance)\n",
    "\n",
    "plt.figure(figsize = (8,6))\n",
    "sns.boxplot(x = 'distance', data = xtrain);"
   ]
  },
  {
   "cell_type": "code",
   "execution_count": 232,
   "id": "ad69a39f",
   "metadata": {},
   "outputs": [
    {
     "data": {
      "image/png": "[encoded data removed]",
      "text/plain": [
       "<Figure size 864x432 with 1 Axes>"
      ]
     },
     "metadata": {
      "needs_background": "light"
     },
     "output_type": "display_data"
    }
   ],
   "source": [
    "# Distance\n",
    "\n",
    "sns.displot(x = 'distance', data = xtrain, aspect = 2, height = 6, kde = True);"
   ]
  },
  {
   "cell_type": "markdown",
   "id": "e3704582",
   "metadata": {},
   "source": [
    "### Test"
   ]
  },
  {
   "cell_type": "code",
   "execution_count": 233,
   "id": "a19193df",
   "metadata": {},
   "outputs": [],
   "source": [
    "xtest = test.copy()"
   ]
  },
  {
   "cell_type": "code",
   "execution_count": 234,
   "id": "3dd4faf5",
   "metadata": {},
   "outputs": [
    {
     "data": {
      "text/html": [
       "<div>\n",
       "<style scoped>\n",
       "    .dataframe tbody tr th:only-of-type {\n",
       "        vertical-align: middle;\n",
       "    }\n",
       "\n",
       "    .dataframe tbody tr th {\n",
       "        vertical-align: top;\n",
       "    }\n",
       "\n",
       "    .dataframe thead th {\n",
       "        text-align: right;\n",
       "    }\n",
       "</style>\n",
       "<table border=\"1\" class=\"dataframe\">\n",
       "  <thead>\n",
       "    <tr style=\"text-align: right;\">\n",
       "      <th></th>\n",
       "      <th>index</th>\n",
       "      <th>time_stamp</th>\n",
       "      <th>distance</th>\n",
       "      <th>surge_multiplier</th>\n",
       "    </tr>\n",
       "  </thead>\n",
       "  <tbody>\n",
       "    <tr>\n",
       "      <th>count</th>\n",
       "      <td>25000.000000</td>\n",
       "      <td>2.500000e+04</td>\n",
       "      <td>25000.000000</td>\n",
       "      <td>25000.000000</td>\n",
       "    </tr>\n",
       "    <tr>\n",
       "      <th>mean</th>\n",
       "      <td>12499.500000</td>\n",
       "      <td>1.543401e+12</td>\n",
       "      <td>2.177710</td>\n",
       "      <td>1.015840</td>\n",
       "    </tr>\n",
       "    <tr>\n",
       "      <th>std</th>\n",
       "      <td>7217.022701</td>\n",
       "      <td>1.318553e+07</td>\n",
       "      <td>1.120426</td>\n",
       "      <td>0.098815</td>\n",
       "    </tr>\n",
       "    <tr>\n",
       "      <th>min</th>\n",
       "      <td>0.000000</td>\n",
       "      <td>1.543364e+12</td>\n",
       "      <td>0.020000</td>\n",
       "      <td>1.000000</td>\n",
       "    </tr>\n",
       "    <tr>\n",
       "      <th>25%</th>\n",
       "      <td>6249.750000</td>\n",
       "      <td>1.543399e+12</td>\n",
       "      <td>1.280000</td>\n",
       "      <td>1.000000</td>\n",
       "    </tr>\n",
       "    <tr>\n",
       "      <th>50%</th>\n",
       "      <td>12499.500000</td>\n",
       "      <td>1.543404e+12</td>\n",
       "      <td>2.140000</td>\n",
       "      <td>1.000000</td>\n",
       "    </tr>\n",
       "    <tr>\n",
       "      <th>75%</th>\n",
       "      <td>18749.250000</td>\n",
       "      <td>1.543409e+12</td>\n",
       "      <td>2.910000</td>\n",
       "      <td>1.000000</td>\n",
       "    </tr>\n",
       "    <tr>\n",
       "      <th>max</th>\n",
       "      <td>24999.000000</td>\n",
       "      <td>1.543414e+12</td>\n",
       "      <td>7.620000</td>\n",
       "      <td>3.000000</td>\n",
       "    </tr>\n",
       "  </tbody>\n",
       "</table>\n",
       "</div>"
      ],
      "text/plain": [
       "              index    time_stamp      distance  surge_multiplier\n",
       "count  25000.000000  2.500000e+04  25000.000000      25000.000000\n",
       "mean   12499.500000  1.543401e+12      2.177710          1.015840\n",
       "std     7217.022701  1.318553e+07      1.120426          0.098815\n",
       "min        0.000000  1.543364e+12      0.020000          1.000000\n",
       "25%     6249.750000  1.543399e+12      1.280000          1.000000\n",
       "50%    12499.500000  1.543404e+12      2.140000          1.000000\n",
       "75%    18749.250000  1.543409e+12      2.910000          1.000000\n",
       "max    24999.000000  1.543414e+12      7.620000          3.000000"
      ]
     },
     "execution_count": 234,
     "metadata": {},
     "output_type": "execute_result"
    }
   ],
   "source": [
    "test.describe()"
   ]
  },
  {
   "cell_type": "code",
   "execution_count": 235,
   "id": "d9d8bd71",
   "metadata": {},
   "outputs": [
    {
     "data": {
      "image/png": "[encoded data removed]",
      "text/plain": [
       "<Figure size 864x432 with 1 Axes>"
      ]
     },
     "metadata": {
      "needs_background": "light"
     },
     "output_type": "display_data"
    }
   ],
   "source": [
    "# Test\n",
    "\n",
    "sns.displot(x = 'distance', data = test, aspect = 2, height = 6, kde = True);"
   ]
  },
  {
   "cell_type": "code",
   "execution_count": 236,
   "id": "2f44678c",
   "metadata": {},
   "outputs": [
    {
     "data": {
      "image/png": "[encoded data removed]",
      "text/plain": [
       "<Figure size 576x432 with 1 Axes>"
      ]
     },
     "metadata": {
      "needs_background": "light"
     },
     "output_type": "display_data"
    }
   ],
   "source": [
    "# Boxplot (Distance)\n",
    "\n",
    "plt.figure(figsize = (8,6))\n",
    "sns.boxplot(x = 'distance', data = test);"
   ]
  },
  {
   "cell_type": "code",
   "execution_count": 237,
   "id": "d15969a8",
   "metadata": {},
   "outputs": [],
   "source": [
    "# Removing postitive skewness\n",
    "\n",
    "xtest['distance'] = np.log1p(xtest['distance'])"
   ]
  },
  {
   "cell_type": "code",
   "execution_count": 238,
   "id": "fc6891c2",
   "metadata": {},
   "outputs": [],
   "source": [
    "## REmoving outliers\n",
    "\n",
    "xtest = remove_outliers(xtest, 'distance')"
   ]
  },
  {
   "cell_type": "code",
   "execution_count": 239,
   "id": "6a248753",
   "metadata": {},
   "outputs": [
    {
     "data": {
      "text/html": [
       "<div>\n",
       "<style scoped>\n",
       "    .dataframe tbody tr th:only-of-type {\n",
       "        vertical-align: middle;\n",
       "    }\n",
       "\n",
       "    .dataframe tbody tr th {\n",
       "        vertical-align: top;\n",
       "    }\n",
       "\n",
       "    .dataframe thead th {\n",
       "        text-align: right;\n",
       "    }\n",
       "</style>\n",
       "<table border=\"1\" class=\"dataframe\">\n",
       "  <thead>\n",
       "    <tr style=\"text-align: right;\">\n",
       "      <th></th>\n",
       "      <th>index</th>\n",
       "      <th>time_stamp</th>\n",
       "      <th>distance</th>\n",
       "      <th>surge_multiplier</th>\n",
       "    </tr>\n",
       "  </thead>\n",
       "  <tbody>\n",
       "    <tr>\n",
       "      <th>count</th>\n",
       "      <td>25000.000000</td>\n",
       "      <td>2.500000e+04</td>\n",
       "      <td>25000.000000</td>\n",
       "      <td>25000.000000</td>\n",
       "    </tr>\n",
       "    <tr>\n",
       "      <th>mean</th>\n",
       "      <td>12499.500000</td>\n",
       "      <td>1.543401e+12</td>\n",
       "      <td>1.094555</td>\n",
       "      <td>1.015840</td>\n",
       "    </tr>\n",
       "    <tr>\n",
       "      <th>std</th>\n",
       "      <td>7217.022701</td>\n",
       "      <td>1.318553e+07</td>\n",
       "      <td>0.354210</td>\n",
       "      <td>0.098815</td>\n",
       "    </tr>\n",
       "    <tr>\n",
       "      <th>min</th>\n",
       "      <td>0.000000</td>\n",
       "      <td>1.543364e+12</td>\n",
       "      <td>0.019803</td>\n",
       "      <td>1.000000</td>\n",
       "    </tr>\n",
       "    <tr>\n",
       "      <th>25%</th>\n",
       "      <td>6249.750000</td>\n",
       "      <td>1.543399e+12</td>\n",
       "      <td>0.824175</td>\n",
       "      <td>1.000000</td>\n",
       "    </tr>\n",
       "    <tr>\n",
       "      <th>50%</th>\n",
       "      <td>12499.500000</td>\n",
       "      <td>1.543404e+12</td>\n",
       "      <td>1.144223</td>\n",
       "      <td>1.000000</td>\n",
       "    </tr>\n",
       "    <tr>\n",
       "      <th>75%</th>\n",
       "      <td>18749.250000</td>\n",
       "      <td>1.543409e+12</td>\n",
       "      <td>1.363537</td>\n",
       "      <td>1.000000</td>\n",
       "    </tr>\n",
       "    <tr>\n",
       "      <th>max</th>\n",
       "      <td>24999.000000</td>\n",
       "      <td>1.543414e+12</td>\n",
       "      <td>2.154085</td>\n",
       "      <td>3.000000</td>\n",
       "    </tr>\n",
       "  </tbody>\n",
       "</table>\n",
       "</div>"
      ],
      "text/plain": [
       "              index    time_stamp      distance  surge_multiplier\n",
       "count  25000.000000  2.500000e+04  25000.000000      25000.000000\n",
       "mean   12499.500000  1.543401e+12      1.094555          1.015840\n",
       "std     7217.022701  1.318553e+07      0.354210          0.098815\n",
       "min        0.000000  1.543364e+12      0.019803          1.000000\n",
       "25%     6249.750000  1.543399e+12      0.824175          1.000000\n",
       "50%    12499.500000  1.543404e+12      1.144223          1.000000\n",
       "75%    18749.250000  1.543409e+12      1.363537          1.000000\n",
       "max    24999.000000  1.543414e+12      2.154085          3.000000"
      ]
     },
     "execution_count": 239,
     "metadata": {},
     "output_type": "execute_result"
    }
   ],
   "source": [
    "xtest.describe()"
   ]
  },
  {
   "cell_type": "code",
   "execution_count": 240,
   "id": "d52f28ae",
   "metadata": {},
   "outputs": [
    {
     "data": {
      "image/png": "[encoded data removed]",
      "text/plain": [
       "<Figure size 864x432 with 1 Axes>"
      ]
     },
     "metadata": {
      "needs_background": "light"
     },
     "output_type": "display_data"
    }
   ],
   "source": [
    "sns.displot(x = 'distance', data = xtest, aspect = 2, height = 6, kde = True);"
   ]
  },
  {
   "cell_type": "code",
   "execution_count": 241,
   "id": "c59740b8",
   "metadata": {},
   "outputs": [
    {
     "data": {
      "image/png": "[encoded data removed]",
      "text/plain": [
       "<Figure size 576x432 with 1 Axes>"
      ]
     },
     "metadata": {
      "needs_background": "light"
     },
     "output_type": "display_data"
    }
   ],
   "source": [
    "# Boxplot (Distance)\n",
    "\n",
    "plt.figure(figsize = (8,6))\n",
    "sns.boxplot(x = 'distance', data = xtest);"
   ]
  },
  {
   "cell_type": "markdown",
   "id": "9cfb06e8",
   "metadata": {},
   "source": [
    "### Correlation"
   ]
  },
  {
   "cell_type": "code",
   "execution_count": 242,
   "id": "d53a27c4",
   "metadata": {},
   "outputs": [
    {
     "name": "stderr",
     "output_type": "stream",
     "text": [
      "<ipython-input-242-7bd17d292843>:2: DeprecationWarning: `np.bool` is a deprecated alias for the builtin `bool`. To silence this warning, use `bool` by itself. Doing this will not modify any behavior and is safe. If you specifically wanted the numpy scalar type, use `np.bool_` here.\n",
      "Deprecated in NumPy 1.20; for more details and guidance: https://numpy.org/devdocs/release/1.20.0-notes.html#deprecations\n",
      "  mask = np.zeros_like(xtrain.corr(), dtype = np.bool)\n"
     ]
    },
    {
     "data": {
      "text/plain": [
       "<AxesSubplot:>"
      ]
     },
     "execution_count": 242,
     "metadata": {},
     "output_type": "execute_result"
    },
    {
     "data": {
      "image/png": "[encoded data removed]",
      "text/plain": [
       "<Figure size 2160x1440 with 2 Axes>"
      ]
     },
     "metadata": {
      "needs_background": "light"
     },
     "output_type": "display_data"
    }
   ],
   "source": [
    "plt.subplots(figsize = (30,20))\n",
    "mask = np.zeros_like(xtrain.corr(), dtype = np.bool)\n",
    "mask[np.triu_indices_from(mask)] = True\n",
    "\n",
    "#Plotting heatmap\n",
    "sns.heatmap(xtrain.corr(), cmap = sns.diverging_palette(20,220, n = 200), mask = mask, annot = True, center = 0)"
   ]
  },
  {
   "cell_type": "markdown",
   "id": "2702a4d9",
   "metadata": {},
   "source": [
    "### Balancing Dataset"
   ]
  },
  {
   "cell_type": "code",
   "execution_count": 243,
   "id": "69bb845f",
   "metadata": {},
   "outputs": [],
   "source": [
    "xxtrain = xtrain.sample(frac = 1)"
   ]
  },
  {
   "cell_type": "code",
   "execution_count": 244,
   "id": "c2372a61",
   "metadata": {},
   "outputs": [
    {
     "data": {
      "text/html": [
       "<div>\n",
       "<style scoped>\n",
       "    .dataframe tbody tr th:only-of-type {\n",
       "        vertical-align: middle;\n",
       "    }\n",
       "\n",
       "    .dataframe tbody tr th {\n",
       "        vertical-align: top;\n",
       "    }\n",
       "\n",
       "    .dataframe thead th {\n",
       "        text-align: right;\n",
       "    }\n",
       "</style>\n",
       "<table border=\"1\" class=\"dataframe\">\n",
       "  <thead>\n",
       "    <tr style=\"text-align: right;\">\n",
       "      <th></th>\n",
       "      <th>index</th>\n",
       "      <th>time_stamp</th>\n",
       "      <th>cab_provider</th>\n",
       "      <th>source</th>\n",
       "      <th>destination</th>\n",
       "      <th>distance</th>\n",
       "      <th>surge_multiplier</th>\n",
       "      <th>cab_type</th>\n",
       "      <th>fare</th>\n",
       "    </tr>\n",
       "  </thead>\n",
       "  <tbody>\n",
       "    <tr>\n",
       "      <th>56535</th>\n",
       "      <td>56535</td>\n",
       "      <td>1543309763304</td>\n",
       "      <td>Lyft</td>\n",
       "      <td>Beacon Hill</td>\n",
       "      <td>Boston University</td>\n",
       "      <td>1.208960</td>\n",
       "      <td>1.00</td>\n",
       "      <td>Lux</td>\n",
       "      <td>2.862201</td>\n",
       "    </tr>\n",
       "    <tr>\n",
       "      <th>90202</th>\n",
       "      <td>90202</td>\n",
       "      <td>1543351883982</td>\n",
       "      <td>Lyft</td>\n",
       "      <td>Haymarket Square</td>\n",
       "      <td>Theatre District</td>\n",
       "      <td>0.806476</td>\n",
       "      <td>1.00</td>\n",
       "      <td>Lux Black</td>\n",
       "      <td>2.862201</td>\n",
       "    </tr>\n",
       "    <tr>\n",
       "      <th>93641</th>\n",
       "      <td>93641</td>\n",
       "      <td>1543356203089</td>\n",
       "      <td>Lyft</td>\n",
       "      <td>Financial District</td>\n",
       "      <td>North End</td>\n",
       "      <td>0.815365</td>\n",
       "      <td>1.75</td>\n",
       "      <td>Lux Black XL</td>\n",
       "      <td>3.881564</td>\n",
       "    </tr>\n",
       "    <tr>\n",
       "      <th>47112</th>\n",
       "      <td>47112</td>\n",
       "      <td>1543298061853</td>\n",
       "      <td>Uber</td>\n",
       "      <td>Northeastern University</td>\n",
       "      <td>North Station</td>\n",
       "      <td>1.255616</td>\n",
       "      <td>1.00</td>\n",
       "      <td>Black</td>\n",
       "      <td>3.178054</td>\n",
       "    </tr>\n",
       "    <tr>\n",
       "      <th>62295</th>\n",
       "      <td>62295</td>\n",
       "      <td>1543316963829</td>\n",
       "      <td>Uber</td>\n",
       "      <td>Northeastern University</td>\n",
       "      <td>North Station</td>\n",
       "      <td>1.439835</td>\n",
       "      <td>1.00</td>\n",
       "      <td>Black SUV</td>\n",
       "      <td>3.481240</td>\n",
       "    </tr>\n",
       "    <tr>\n",
       "      <th>...</th>\n",
       "      <td>...</td>\n",
       "      <td>...</td>\n",
       "      <td>...</td>\n",
       "      <td>...</td>\n",
       "      <td>...</td>\n",
       "      <td>...</td>\n",
       "      <td>...</td>\n",
       "      <td>...</td>\n",
       "      <td>...</td>\n",
       "    </tr>\n",
       "    <tr>\n",
       "      <th>58568</th>\n",
       "      <td>58568</td>\n",
       "      <td>1543312283673</td>\n",
       "      <td>Uber</td>\n",
       "      <td>Fenway</td>\n",
       "      <td>West End</td>\n",
       "      <td>1.313724</td>\n",
       "      <td>1.00</td>\n",
       "      <td>UberXL</td>\n",
       "      <td>2.833213</td>\n",
       "    </tr>\n",
       "    <tr>\n",
       "      <th>49409</th>\n",
       "      <td>49409</td>\n",
       "      <td>1543300941840</td>\n",
       "      <td>Uber</td>\n",
       "      <td>West End</td>\n",
       "      <td>South Station</td>\n",
       "      <td>1.144223</td>\n",
       "      <td>1.00</td>\n",
       "      <td>WAV</td>\n",
       "      <td>2.251292</td>\n",
       "    </tr>\n",
       "    <tr>\n",
       "      <th>50914</th>\n",
       "      <td>50914</td>\n",
       "      <td>1543302742064</td>\n",
       "      <td>Uber</td>\n",
       "      <td>Financial District</td>\n",
       "      <td>North End</td>\n",
       "      <td>0.792993</td>\n",
       "      <td>1.00</td>\n",
       "      <td>Black</td>\n",
       "      <td>2.772589</td>\n",
       "    </tr>\n",
       "    <tr>\n",
       "      <th>33888</th>\n",
       "      <td>33888</td>\n",
       "      <td>1543281503456</td>\n",
       "      <td>Uber</td>\n",
       "      <td>North Station</td>\n",
       "      <td>Boston University</td>\n",
       "      <td>1.388791</td>\n",
       "      <td>1.00</td>\n",
       "      <td>UberX</td>\n",
       "      <td>2.442347</td>\n",
       "    </tr>\n",
       "    <tr>\n",
       "      <th>3768</th>\n",
       "      <td>3768</td>\n",
       "      <td>1543223113340</td>\n",
       "      <td>Lyft</td>\n",
       "      <td>Northeastern University</td>\n",
       "      <td>Beacon Hill</td>\n",
       "      <td>1.235471</td>\n",
       "      <td>1.00</td>\n",
       "      <td>Lux Black</td>\n",
       "      <td>3.157000</td>\n",
       "    </tr>\n",
       "  </tbody>\n",
       "</table>\n",
       "<p>99998 rows × 9 columns</p>\n",
       "</div>"
      ],
      "text/plain": [
       "       index     time_stamp cab_provider                   source  \\\n",
       "56535  56535  1543309763304         Lyft              Beacon Hill   \n",
       "90202  90202  1543351883982         Lyft         Haymarket Square   \n",
       "93641  93641  1543356203089         Lyft       Financial District   \n",
       "47112  47112  1543298061853         Uber  Northeastern University   \n",
       "62295  62295  1543316963829         Uber  Northeastern University   \n",
       "...      ...            ...          ...                      ...   \n",
       "58568  58568  1543312283673         Uber                   Fenway   \n",
       "49409  49409  1543300941840         Uber                 West End   \n",
       "50914  50914  1543302742064         Uber       Financial District   \n",
       "33888  33888  1543281503456         Uber            North Station   \n",
       "3768    3768  1543223113340         Lyft  Northeastern University   \n",
       "\n",
       "             destination  distance  surge_multiplier      cab_type      fare  \n",
       "56535  Boston University  1.208960              1.00           Lux  2.862201  \n",
       "90202   Theatre District  0.806476              1.00     Lux Black  2.862201  \n",
       "93641          North End  0.815365              1.75  Lux Black XL  3.881564  \n",
       "47112      North Station  1.255616              1.00         Black  3.178054  \n",
       "62295      North Station  1.439835              1.00     Black SUV  3.481240  \n",
       "...                  ...       ...               ...           ...       ...  \n",
       "58568           West End  1.313724              1.00        UberXL  2.833213  \n",
       "49409      South Station  1.144223              1.00           WAV  2.251292  \n",
       "50914          North End  0.792993              1.00         Black  2.772589  \n",
       "33888  Boston University  1.388791              1.00         UberX  2.442347  \n",
       "3768         Beacon Hill  1.235471              1.00     Lux Black  3.157000  \n",
       "\n",
       "[99998 rows x 9 columns]"
      ]
     },
     "execution_count": 244,
     "metadata": {},
     "output_type": "execute_result"
    }
   ],
   "source": [
    "xxtrain"
   ]
  },
  {
   "cell_type": "code",
   "execution_count": 245,
   "id": "6182c584",
   "metadata": {},
   "outputs": [
    {
     "data": {
      "text/plain": [
       "1.00    96753\n",
       "1.25     1715\n",
       "1.50      764\n",
       "1.75      403\n",
       "2.00      335\n",
       "2.50       23\n",
       "3.00        5\n",
       "Name: surge_multiplier, dtype: int64"
      ]
     },
     "execution_count": 245,
     "metadata": {},
     "output_type": "execute_result"
    }
   ],
   "source": [
    "xxtrain['surge_multiplier'].value_counts()"
   ]
  },
  {
   "cell_type": "code",
   "execution_count": 246,
   "id": "8d75b936",
   "metadata": {},
   "outputs": [],
   "source": [
    "xfilter = xxtrain[xxtrain['surge_multiplier'] == 1.00][:15000]"
   ]
  },
  {
   "cell_type": "code",
   "execution_count": 247,
   "id": "fb0b68eb",
   "metadata": {},
   "outputs": [],
   "source": [
    "xxtrain = xxtrain[xxtrain['surge_multiplier'] != 1.00]"
   ]
  },
  {
   "cell_type": "code",
   "execution_count": 248,
   "id": "cf2b26c7",
   "metadata": {},
   "outputs": [
    {
     "data": {
      "text/plain": [
       "1.25    1715\n",
       "1.50     764\n",
       "1.75     403\n",
       "2.00     335\n",
       "2.50      23\n",
       "3.00       5\n",
       "Name: surge_multiplier, dtype: int64"
      ]
     },
     "execution_count": 248,
     "metadata": {},
     "output_type": "execute_result"
    }
   ],
   "source": [
    "xxtrain['surge_multiplier'].value_counts()"
   ]
  },
  {
   "cell_type": "code",
   "execution_count": 249,
   "id": "8a5bcf25",
   "metadata": {},
   "outputs": [],
   "source": [
    "xxtrain = pd.concat([xxtrain, xfilter])"
   ]
  },
  {
   "cell_type": "code",
   "execution_count": 250,
   "id": "6aaeaa00",
   "metadata": {},
   "outputs": [
    {
     "data": {
      "text/plain": [
       "1.00    15000\n",
       "1.25     1715\n",
       "1.50      764\n",
       "1.75      403\n",
       "2.00      335\n",
       "2.50       23\n",
       "3.00        5\n",
       "Name: surge_multiplier, dtype: int64"
      ]
     },
     "execution_count": 250,
     "metadata": {},
     "output_type": "execute_result"
    }
   ],
   "source": [
    "xxtrain['surge_multiplier'].value_counts()"
   ]
  },
  {
   "cell_type": "code",
   "execution_count": 251,
   "id": "1d63f30b",
   "metadata": {},
   "outputs": [
    {
     "data": {
      "text/plain": [
       "1.00    24141\n",
       "1.25      453\n",
       "1.50      210\n",
       "1.75       97\n",
       "2.00       89\n",
       "2.50        8\n",
       "3.00        2\n",
       "Name: surge_multiplier, dtype: int64"
      ]
     },
     "execution_count": 251,
     "metadata": {},
     "output_type": "execute_result"
    }
   ],
   "source": [
    "xtest['surge_multiplier'].value_counts()"
   ]
  },
  {
   "cell_type": "markdown",
   "id": "3804aeaf",
   "metadata": {},
   "source": [
    "### Extracting Time from TimeStamp"
   ]
  },
  {
   "cell_type": "code",
   "execution_count": 252,
   "id": "da2047cc",
   "metadata": {},
   "outputs": [],
   "source": [
    "xxtrain['date_time'] = pd.to_datetime(xxtrain['time_stamp'] / 1000, unit = 's')"
   ]
  },
  {
   "cell_type": "code",
   "execution_count": 253,
   "id": "58f9d315",
   "metadata": {},
   "outputs": [
    {
     "data": {
      "text/plain": [
       "2018-11-26 22:14:10.151000064    21\n",
       "2018-11-26 13:41:10.388999936    12\n",
       "2018-11-26 16:11:10.078000128    10\n",
       "2018-11-26 05:14:01.977999872     8\n",
       "2018-11-26 22:11:10.437999872     8\n",
       "                                 ..\n",
       "2018-11-27 06:36:22.687000064     1\n",
       "2018-11-26 11:02:10.278000128     1\n",
       "2018-11-27 05:21:23.486000128     1\n",
       "2018-11-26 20:47:09.776999936     1\n",
       "2018-11-26 06:26:01.943000064     1\n",
       "Name: date_time, Length: 11040, dtype: int64"
      ]
     },
     "execution_count": 253,
     "metadata": {},
     "output_type": "execute_result"
    }
   ],
   "source": [
    "xxtrain['date_time'].value_counts()"
   ]
  },
  {
   "cell_type": "code",
   "execution_count": 254,
   "id": "4b8f52ce",
   "metadata": {},
   "outputs": [],
   "source": [
    "xxtrain['hour'] = xxtrain['date_time'].dt.hour\n",
    "xxtrain['minutes'] = xxtrain['date_time'].dt.minute"
   ]
  },
  {
   "cell_type": "code",
   "execution_count": 255,
   "id": "5248d9c5",
   "metadata": {},
   "outputs": [],
   "source": [
    "# Test Dataset"
   ]
  },
  {
   "cell_type": "code",
   "execution_count": 256,
   "id": "f71e2f4c",
   "metadata": {},
   "outputs": [],
   "source": [
    "xxtest = xtest.copy()"
   ]
  },
  {
   "cell_type": "code",
   "execution_count": 257,
   "id": "9e5447d3",
   "metadata": {},
   "outputs": [],
   "source": [
    "xxtest['date_time'] = pd.to_datetime(xxtest['time_stamp'] / 1000, unit = 's')"
   ]
  },
  {
   "cell_type": "code",
   "execution_count": 258,
   "id": "88e6b527",
   "metadata": {},
   "outputs": [],
   "source": [
    "xxtest['hour'] = xxtest['date_time'].dt.hour\n",
    "xxtest['minutes'] = xxtest['date_time'].dt.minute"
   ]
  },
  {
   "cell_type": "code",
   "execution_count": 259,
   "id": "da08b3e7",
   "metadata": {},
   "outputs": [],
   "source": [
    "# Removing \n",
    "\n",
    "\n",
    "xxtrain.drop('index', inplace = True, axis = 1)\n",
    "xxtrain.drop('time_stamp', inplace = True, axis =1 )\n",
    "xxtrain.drop('date_time', inplace = True, axis = 1)"
   ]
  },
  {
   "cell_type": "code",
   "execution_count": 260,
   "id": "2189bdc0",
   "metadata": {},
   "outputs": [],
   "source": [
    "# Removing\n",
    "\n",
    "xxtest.drop('index', inplace = True, axis =1)\n",
    "xxtest.drop('time_stamp', inplace = True, axis = 1)\n",
    "xxtest.drop('date_time', inplace = True, axis = 1)"
   ]
  },
  {
   "cell_type": "markdown",
   "id": "8154770e",
   "metadata": {},
   "source": [
    "### Removing Skewness\n"
   ]
  },
  {
   "cell_type": "code",
   "execution_count": 261,
   "id": "4cb77a6b",
   "metadata": {},
   "outputs": [],
   "source": [
    "from scipy.stats import skew"
   ]
  },
  {
   "cell_type": "code",
   "execution_count": 262,
   "id": "4c17c1f7",
   "metadata": {},
   "outputs": [
    {
     "data": {
      "text/plain": [
       "surge_multiplier    3.144947\n",
       "minutes             0.015835\n",
       "fare                0.014580\n",
       "distance           -0.120061\n",
       "hour               -0.148377\n",
       "dtype: float64"
      ]
     },
     "execution_count": 262,
     "metadata": {},
     "output_type": "execute_result"
    }
   ],
   "source": [
    "# Remvoing skewness from (Training dataset)\n",
    "\n",
    "df_all_num = xxtrain.select_dtypes(include = ['int64','float64'])\n",
    "skew_features = df_all_num.apply(lambda x: skew(x)).sort_values(ascending = False)\n",
    "high_skew = skew_features[skew_features > 0.5]\n",
    "skew_index = high_skew.index\n",
    "skewness = pd.DataFrame({'Skew': high_skew})\n",
    "skew_features"
   ]
  },
  {
   "cell_type": "code",
   "execution_count": 263,
   "id": "d8d3a4af",
   "metadata": {},
   "outputs": [],
   "source": [
    "from scipy.stats import boxcox_normmax\n",
    "from scipy.special import boxcox1p"
   ]
  },
  {
   "cell_type": "code",
   "execution_count": 264,
   "id": "9346d747",
   "metadata": {},
   "outputs": [],
   "source": [
    "# Removing\n",
    "\n",
    "for i in skew_index:\n",
    "    xxtrain[i] = boxcox1p(xxtrain[i], boxcox_normmax(xxtrain[i] + 1.002))"
   ]
  },
  {
   "cell_type": "code",
   "execution_count": 265,
   "id": "4c0add1d",
   "metadata": {},
   "outputs": [
    {
     "data": {
      "text/plain": [
       "surge_multiplier    1.975501\n",
       "minutes             0.015835\n",
       "fare                0.014580\n",
       "distance           -0.120061\n",
       "hour               -0.148377\n",
       "dtype: float64"
      ]
     },
     "execution_count": 265,
     "metadata": {},
     "output_type": "execute_result"
    }
   ],
   "source": [
    "df_all_num = xxtrain.select_dtypes(include = ['int64','float64'])\n",
    "skew_features = df_all_num.apply(lambda x: skew(x)).sort_values(ascending = False)\n",
    "high_skew = skew_features[skew_features > 0.5]\n",
    "skew_index = high_skew.index\n",
    "skewness = pd.DataFrame({'Skew': high_skew})\n",
    "skew_features"
   ]
  },
  {
   "cell_type": "markdown",
   "id": "39ee7ffe",
   "metadata": {},
   "source": [
    "### Removing Skewness (Test set)"
   ]
  },
  {
   "cell_type": "code",
   "execution_count": 267,
   "id": "ffe748ef",
   "metadata": {},
   "outputs": [
    {
     "data": {
      "text/plain": [
       "surge_multiplier    8.065760\n",
       "distance           -0.111603\n",
       "minutes            -0.212184\n",
       "hour               -1.848065\n",
       "dtype: float64"
      ]
     },
     "execution_count": 267,
     "metadata": {},
     "output_type": "execute_result"
    }
   ],
   "source": [
    "df_all_num = xxtest.select_dtypes(include = ['int64','float64'])\n",
    "skew_features = df_all_num.apply(lambda x: skew(x)).sort_values(ascending = False)\n",
    "high_skew = skew_features[skew_features > 0.5]\n",
    "skew_index = high_skew.index\n",
    "skewness = pd.DataFrame({'Skew': high_skew})\n",
    "skew_features"
   ]
  },
  {
   "cell_type": "code",
   "execution_count": 268,
   "id": "b50e2471",
   "metadata": {},
   "outputs": [],
   "source": [
    "# Removing \n",
    "\n",
    "for i in skew_index:\n",
    "    xxtest[i] = boxcox1p(xxtest[i], boxcox_normmax(xxtest[i] + 1.002))"
   ]
  },
  {
   "cell_type": "code",
   "execution_count": 269,
   "id": "dcdf6206",
   "metadata": {},
   "outputs": [
    {
     "data": {
      "text/plain": [
       "surge_multiplier    5.282941\n",
       "distance           -0.111603\n",
       "minutes            -0.212184\n",
       "hour               -1.848065\n",
       "dtype: float64"
      ]
     },
     "execution_count": 269,
     "metadata": {},
     "output_type": "execute_result"
    }
   ],
   "source": [
    "df_all_num = xxtest.select_dtypes(include = ['int64','float64'])\n",
    "skew_features = df_all_num.apply(lambda x: skew(x)).sort_values(ascending = False)\n",
    "high_skew = skew_features[skew_features > 0.5]\n",
    "skew_index = high_skew.index\n",
    "skewness = pd.DataFrame({'Skew': high_skew})\n",
    "skew_features"
   ]
  },
  {
   "cell_type": "markdown",
   "id": "e9976b52",
   "metadata": {},
   "source": [
    "### Features Transformation\n",
    "\n",
    "Dummy variable"
   ]
  },
  {
   "cell_type": "code",
   "execution_count": 273,
   "id": "41926bb5",
   "metadata": {},
   "outputs": [],
   "source": [
    "xxtrain = pd.get_dummies(xxtrain)\n",
    "xxtest = pd.get_dummies(xxtest)"
   ]
  },
  {
   "cell_type": "code",
   "execution_count": 274,
   "id": "ae4ac610",
   "metadata": {},
   "outputs": [
    {
     "data": {
      "text/html": [
       "<div>\n",
       "<style scoped>\n",
       "    .dataframe tbody tr th:only-of-type {\n",
       "        vertical-align: middle;\n",
       "    }\n",
       "\n",
       "    .dataframe tbody tr th {\n",
       "        vertical-align: top;\n",
       "    }\n",
       "\n",
       "    .dataframe thead th {\n",
       "        text-align: right;\n",
       "    }\n",
       "</style>\n",
       "<table border=\"1\" class=\"dataframe\">\n",
       "  <thead>\n",
       "    <tr style=\"text-align: right;\">\n",
       "      <th></th>\n",
       "      <th>distance</th>\n",
       "      <th>surge_multiplier</th>\n",
       "      <th>fare</th>\n",
       "      <th>hour</th>\n",
       "      <th>minutes</th>\n",
       "      <th>cab_provider_Lyft</th>\n",
       "      <th>cab_provider_Uber</th>\n",
       "      <th>source_Back Bay</th>\n",
       "      <th>source_Beacon Hill</th>\n",
       "      <th>source_Boston University</th>\n",
       "      <th>...</th>\n",
       "      <th>cab_type_Lux</th>\n",
       "      <th>cab_type_Lux Black</th>\n",
       "      <th>cab_type_Lux Black XL</th>\n",
       "      <th>cab_type_Lyft</th>\n",
       "      <th>cab_type_Lyft XL</th>\n",
       "      <th>cab_type_Shared</th>\n",
       "      <th>cab_type_UberPool</th>\n",
       "      <th>cab_type_UberX</th>\n",
       "      <th>cab_type_UberXL</th>\n",
       "      <th>cab_type_WAV</th>\n",
       "    </tr>\n",
       "  </thead>\n",
       "  <tbody>\n",
       "    <tr>\n",
       "      <th>93641</th>\n",
       "      <td>0.815365</td>\n",
       "      <td>0.172382</td>\n",
       "      <td>3.881564</td>\n",
       "      <td>22</td>\n",
       "      <td>3</td>\n",
       "      <td>1</td>\n",
       "      <td>0</td>\n",
       "      <td>0</td>\n",
       "      <td>0</td>\n",
       "      <td>0</td>\n",
       "      <td>...</td>\n",
       "      <td>0</td>\n",
       "      <td>0</td>\n",
       "      <td>1</td>\n",
       "      <td>0</td>\n",
       "      <td>0</td>\n",
       "      <td>0</td>\n",
       "      <td>0</td>\n",
       "      <td>0</td>\n",
       "      <td>0</td>\n",
       "      <td>0</td>\n",
       "    </tr>\n",
       "    <tr>\n",
       "      <th>80544</th>\n",
       "      <td>1.378766</td>\n",
       "      <td>0.172579</td>\n",
       "      <td>3.663562</td>\n",
       "      <td>17</td>\n",
       "      <td>30</td>\n",
       "      <td>1</td>\n",
       "      <td>0</td>\n",
       "      <td>0</td>\n",
       "      <td>0</td>\n",
       "      <td>0</td>\n",
       "      <td>...</td>\n",
       "      <td>1</td>\n",
       "      <td>0</td>\n",
       "      <td>0</td>\n",
       "      <td>0</td>\n",
       "      <td>0</td>\n",
       "      <td>0</td>\n",
       "      <td>0</td>\n",
       "      <td>0</td>\n",
       "      <td>0</td>\n",
       "      <td>0</td>\n",
       "    </tr>\n",
       "    <tr>\n",
       "      <th>91567</th>\n",
       "      <td>1.124930</td>\n",
       "      <td>0.172382</td>\n",
       "      <td>3.157000</td>\n",
       "      <td>21</td>\n",
       "      <td>21</td>\n",
       "      <td>1</td>\n",
       "      <td>0</td>\n",
       "      <td>0</td>\n",
       "      <td>1</td>\n",
       "      <td>0</td>\n",
       "      <td>...</td>\n",
       "      <td>0</td>\n",
       "      <td>0</td>\n",
       "      <td>0</td>\n",
       "      <td>0</td>\n",
       "      <td>1</td>\n",
       "      <td>0</td>\n",
       "      <td>0</td>\n",
       "      <td>0</td>\n",
       "      <td>0</td>\n",
       "      <td>0</td>\n",
       "    </tr>\n",
       "    <tr>\n",
       "      <th>86053</th>\n",
       "      <td>1.843719</td>\n",
       "      <td>0.171293</td>\n",
       "      <td>3.839452</td>\n",
       "      <td>19</td>\n",
       "      <td>27</td>\n",
       "      <td>1</td>\n",
       "      <td>0</td>\n",
       "      <td>0</td>\n",
       "      <td>0</td>\n",
       "      <td>0</td>\n",
       "      <td>...</td>\n",
       "      <td>0</td>\n",
       "      <td>1</td>\n",
       "      <td>0</td>\n",
       "      <td>0</td>\n",
       "      <td>0</td>\n",
       "      <td>0</td>\n",
       "      <td>0</td>\n",
       "      <td>0</td>\n",
       "      <td>0</td>\n",
       "      <td>0</td>\n",
       "    </tr>\n",
       "    <tr>\n",
       "      <th>52369</th>\n",
       "      <td>1.386294</td>\n",
       "      <td>0.172756</td>\n",
       "      <td>3.676301</td>\n",
       "      <td>7</td>\n",
       "      <td>42</td>\n",
       "      <td>1</td>\n",
       "      <td>0</td>\n",
       "      <td>1</td>\n",
       "      <td>0</td>\n",
       "      <td>0</td>\n",
       "      <td>...</td>\n",
       "      <td>0</td>\n",
       "      <td>0</td>\n",
       "      <td>0</td>\n",
       "      <td>0</td>\n",
       "      <td>1</td>\n",
       "      <td>0</td>\n",
       "      <td>0</td>\n",
       "      <td>0</td>\n",
       "      <td>0</td>\n",
       "      <td>0</td>\n",
       "    </tr>\n",
       "    <tr>\n",
       "      <th>...</th>\n",
       "      <td>...</td>\n",
       "      <td>...</td>\n",
       "      <td>...</td>\n",
       "      <td>...</td>\n",
       "      <td>...</td>\n",
       "      <td>...</td>\n",
       "      <td>...</td>\n",
       "      <td>...</td>\n",
       "      <td>...</td>\n",
       "      <td>...</td>\n",
       "      <td>...</td>\n",
       "      <td>...</td>\n",
       "      <td>...</td>\n",
       "      <td>...</td>\n",
       "      <td>...</td>\n",
       "      <td>...</td>\n",
       "      <td>...</td>\n",
       "      <td>...</td>\n",
       "      <td>...</td>\n",
       "      <td>...</td>\n",
       "      <td>...</td>\n",
       "    </tr>\n",
       "    <tr>\n",
       "      <th>28424</th>\n",
       "      <td>2.135349</td>\n",
       "      <td>0.169743</td>\n",
       "      <td>2.970414</td>\n",
       "      <td>23</td>\n",
       "      <td>45</td>\n",
       "      <td>0</td>\n",
       "      <td>1</td>\n",
       "      <td>0</td>\n",
       "      <td>0</td>\n",
       "      <td>0</td>\n",
       "      <td>...</td>\n",
       "      <td>0</td>\n",
       "      <td>0</td>\n",
       "      <td>0</td>\n",
       "      <td>0</td>\n",
       "      <td>0</td>\n",
       "      <td>0</td>\n",
       "      <td>0</td>\n",
       "      <td>0</td>\n",
       "      <td>0</td>\n",
       "      <td>1</td>\n",
       "    </tr>\n",
       "    <tr>\n",
       "      <th>88954</th>\n",
       "      <td>1.396245</td>\n",
       "      <td>0.169743</td>\n",
       "      <td>3.555348</td>\n",
       "      <td>20</td>\n",
       "      <td>27</td>\n",
       "      <td>1</td>\n",
       "      <td>0</td>\n",
       "      <td>0</td>\n",
       "      <td>0</td>\n",
       "      <td>1</td>\n",
       "      <td>...</td>\n",
       "      <td>0</td>\n",
       "      <td>0</td>\n",
       "      <td>1</td>\n",
       "      <td>0</td>\n",
       "      <td>0</td>\n",
       "      <td>0</td>\n",
       "      <td>0</td>\n",
       "      <td>0</td>\n",
       "      <td>0</td>\n",
       "      <td>0</td>\n",
       "    </tr>\n",
       "    <tr>\n",
       "      <th>99309</th>\n",
       "      <td>1.297463</td>\n",
       "      <td>0.169743</td>\n",
       "      <td>2.251292</td>\n",
       "      <td>0</td>\n",
       "      <td>3</td>\n",
       "      <td>0</td>\n",
       "      <td>1</td>\n",
       "      <td>0</td>\n",
       "      <td>0</td>\n",
       "      <td>0</td>\n",
       "      <td>...</td>\n",
       "      <td>0</td>\n",
       "      <td>0</td>\n",
       "      <td>0</td>\n",
       "      <td>0</td>\n",
       "      <td>0</td>\n",
       "      <td>0</td>\n",
       "      <td>1</td>\n",
       "      <td>0</td>\n",
       "      <td>0</td>\n",
       "      <td>0</td>\n",
       "    </tr>\n",
       "    <tr>\n",
       "      <th>82732</th>\n",
       "      <td>1.743969</td>\n",
       "      <td>0.169743</td>\n",
       "      <td>3.511545</td>\n",
       "      <td>18</td>\n",
       "      <td>18</td>\n",
       "      <td>0</td>\n",
       "      <td>1</td>\n",
       "      <td>0</td>\n",
       "      <td>0</td>\n",
       "      <td>1</td>\n",
       "      <td>...</td>\n",
       "      <td>0</td>\n",
       "      <td>0</td>\n",
       "      <td>0</td>\n",
       "      <td>0</td>\n",
       "      <td>0</td>\n",
       "      <td>0</td>\n",
       "      <td>0</td>\n",
       "      <td>0</td>\n",
       "      <td>0</td>\n",
       "      <td>0</td>\n",
       "    </tr>\n",
       "    <tr>\n",
       "      <th>89780</th>\n",
       "      <td>0.908259</td>\n",
       "      <td>0.169743</td>\n",
       "      <td>2.674149</td>\n",
       "      <td>20</td>\n",
       "      <td>42</td>\n",
       "      <td>1</td>\n",
       "      <td>0</td>\n",
       "      <td>0</td>\n",
       "      <td>0</td>\n",
       "      <td>0</td>\n",
       "      <td>...</td>\n",
       "      <td>1</td>\n",
       "      <td>0</td>\n",
       "      <td>0</td>\n",
       "      <td>0</td>\n",
       "      <td>0</td>\n",
       "      <td>0</td>\n",
       "      <td>0</td>\n",
       "      <td>0</td>\n",
       "      <td>0</td>\n",
       "      <td>0</td>\n",
       "    </tr>\n",
       "  </tbody>\n",
       "</table>\n",
       "<p>18245 rows × 43 columns</p>\n",
       "</div>"
      ],
      "text/plain": [
       "       distance  surge_multiplier      fare  hour  minutes  cab_provider_Lyft  \\\n",
       "93641  0.815365          0.172382  3.881564    22        3                  1   \n",
       "80544  1.378766          0.172579  3.663562    17       30                  1   \n",
       "91567  1.124930          0.172382  3.157000    21       21                  1   \n",
       "86053  1.843719          0.171293  3.839452    19       27                  1   \n",
       "52369  1.386294          0.172756  3.676301     7       42                  1   \n",
       "...         ...               ...       ...   ...      ...                ...   \n",
       "28424  2.135349          0.169743  2.970414    23       45                  0   \n",
       "88954  1.396245          0.169743  3.555348    20       27                  1   \n",
       "99309  1.297463          0.169743  2.251292     0        3                  0   \n",
       "82732  1.743969          0.169743  3.511545    18       18                  0   \n",
       "89780  0.908259          0.169743  2.674149    20       42                  1   \n",
       "\n",
       "       cab_provider_Uber  source_Back Bay  source_Beacon Hill  \\\n",
       "93641                  0                0                   0   \n",
       "80544                  0                0                   0   \n",
       "91567                  0                0                   1   \n",
       "86053                  0                0                   0   \n",
       "52369                  0                1                   0   \n",
       "...                  ...              ...                 ...   \n",
       "28424                  1                0                   0   \n",
       "88954                  0                0                   0   \n",
       "99309                  1                0                   0   \n",
       "82732                  1                0                   0   \n",
       "89780                  0                0                   0   \n",
       "\n",
       "       source_Boston University  ...  cab_type_Lux  cab_type_Lux Black  \\\n",
       "93641                         0  ...             0                   0   \n",
       "80544                         0  ...             1                   0   \n",
       "91567                         0  ...             0                   0   \n",
       "86053                         0  ...             0                   1   \n",
       "52369                         0  ...             0                   0   \n",
       "...                         ...  ...           ...                 ...   \n",
       "28424                         0  ...             0                   0   \n",
       "88954                         1  ...             0                   0   \n",
       "99309                         0  ...             0                   0   \n",
       "82732                         1  ...             0                   0   \n",
       "89780                         0  ...             1                   0   \n",
       "\n",
       "       cab_type_Lux Black XL  cab_type_Lyft  cab_type_Lyft XL  \\\n",
       "93641                      1              0                 0   \n",
       "80544                      0              0                 0   \n",
       "91567                      0              0                 1   \n",
       "86053                      0              0                 0   \n",
       "52369                      0              0                 1   \n",
       "...                      ...            ...               ...   \n",
       "28424                      0              0                 0   \n",
       "88954                      1              0                 0   \n",
       "99309                      0              0                 0   \n",
       "82732                      0              0                 0   \n",
       "89780                      0              0                 0   \n",
       "\n",
       "       cab_type_Shared  cab_type_UberPool  cab_type_UberX  cab_type_UberXL  \\\n",
       "93641                0                  0               0                0   \n",
       "80544                0                  0               0                0   \n",
       "91567                0                  0               0                0   \n",
       "86053                0                  0               0                0   \n",
       "52369                0                  0               0                0   \n",
       "...                ...                ...             ...              ...   \n",
       "28424                0                  0               0                0   \n",
       "88954                0                  0               0                0   \n",
       "99309                0                  1               0                0   \n",
       "82732                0                  0               0                0   \n",
       "89780                0                  0               0                0   \n",
       "\n",
       "       cab_type_WAV  \n",
       "93641             0  \n",
       "80544             0  \n",
       "91567             0  \n",
       "86053             0  \n",
       "52369             0  \n",
       "...             ...  \n",
       "28424             1  \n",
       "88954             0  \n",
       "99309             0  \n",
       "82732             0  \n",
       "89780             0  \n",
       "\n",
       "[18245 rows x 43 columns]"
      ]
     },
     "execution_count": 274,
     "metadata": {},
     "output_type": "execute_result"
    }
   ],
   "source": [
    "xxtrain"
   ]
  },
  {
   "cell_type": "code",
   "execution_count": 275,
   "id": "88689132",
   "metadata": {},
   "outputs": [
    {
     "data": {
      "text/plain": [
       "((25000, 42), (18245, 43))"
      ]
     },
     "execution_count": 275,
     "metadata": {},
     "output_type": "execute_result"
    }
   ],
   "source": [
    "xxtest.shape, xxtrain.shape"
   ]
  },
  {
   "cell_type": "code",
   "execution_count": 276,
   "id": "b80641d3",
   "metadata": {},
   "outputs": [],
   "source": [
    "X = xxtrain.drop('fare', axis = 1)\n",
    "y = xxtrain['fare']"
   ]
  },
  {
   "cell_type": "code",
   "execution_count": 277,
   "id": "f2417ec0",
   "metadata": {},
   "outputs": [
    {
     "data": {
      "text/plain": [
       "((18245, 42), (25000, 42))"
      ]
     },
     "execution_count": 277,
     "metadata": {},
     "output_type": "execute_result"
    }
   ],
   "source": [
    "X.shape, xxtest.shape"
   ]
  },
  {
   "cell_type": "markdown",
   "id": "d93c182a",
   "metadata": {},
   "source": [
    "### Redundant Feature"
   ]
  },
  {
   "cell_type": "code",
   "execution_count": 279,
   "id": "493cf00d",
   "metadata": {},
   "outputs": [],
   "source": [
    "def redundant_features(df):\n",
    "    redundant = []\n",
    "    for i in df.columns:\n",
    "        counts = df[i].value_counts()\n",
    "        count_max = counts.iloc[0]\n",
    "        if count_max / len(df) * 100 > 99.94:\n",
    "            redundant.append(i)\n",
    "    \n",
    "    redundant = list(redundant)\n",
    "    return redundant\n",
    "\n",
    "\n",
    "redundant_features = redundant_features(X)\n",
    "\n",
    "X = X.drop(redundant_features, axis = 1)"
   ]
  },
  {
   "cell_type": "code",
   "execution_count": 280,
   "id": "cb6efabe",
   "metadata": {},
   "outputs": [
    {
     "data": {
      "text/plain": [
       "(18245, 42)"
      ]
     },
     "execution_count": 280,
     "metadata": {},
     "output_type": "execute_result"
    }
   ],
   "source": [
    "X.shape"
   ]
  },
  {
   "cell_type": "markdown",
   "id": "3736d17f",
   "metadata": {},
   "source": [
    "### Cross Validation"
   ]
  },
  {
   "cell_type": "code",
   "execution_count": 292,
   "id": "063e846d",
   "metadata": {},
   "outputs": [],
   "source": [
    "from sklearn.model_selection import GridSearchCV,KFold,RandomizedSearchCV,StratifiedKFold,cross_val_score\n",
    "from sklearn.metrics import r2_score\n"
   ]
  },
  {
   "cell_type": "code",
   "execution_count": 284,
   "id": "a4ba708e",
   "metadata": {},
   "outputs": [],
   "source": [
    "kfold = KFold(n_splits = 11, random_state = 42, shuffle = True)"
   ]
  },
  {
   "cell_type": "code",
   "execution_count": 321,
   "id": "c19316e8",
   "metadata": {},
   "outputs": [],
   "source": [
    "## Error function to compute error\n",
    "\n",
    "def rmsle(y, y_pred):\n",
    "    return np.sqrt(mean_squared_error(y, y_pred))\n",
    "\n",
    "\n",
    "def cv_rmse(model, X=X):\n",
    "    rmse = np.sqrt(-cross_val_score(model, X, y, \n",
    "                                    scoring=\"neg_mean_squared_error\", \n",
    "                                    cv=kfold))\n",
    "    return (rmse)"
   ]
  },
  {
   "cell_type": "code",
   "execution_count": 322,
   "id": "68d70303",
   "metadata": {},
   "outputs": [],
   "source": [
    "# Splitting data"
   ]
  },
  {
   "cell_type": "code",
   "execution_count": 323,
   "id": "5477c0e1",
   "metadata": {},
   "outputs": [],
   "source": [
    "from sklearn.model_selection import train_test_split"
   ]
  },
  {
   "cell_type": "code",
   "execution_count": 324,
   "id": "55814272",
   "metadata": {},
   "outputs": [],
   "source": [
    "X_train, X_test, y_train, y_test = train_test_split(X, y, test_size = 0.3, random_state = 42)"
   ]
  },
  {
   "cell_type": "markdown",
   "id": "d27169fa",
   "metadata": {},
   "source": [
    "### Models"
   ]
  },
  {
   "cell_type": "code",
   "execution_count": 325,
   "id": "b2154575",
   "metadata": {},
   "outputs": [],
   "source": [
    "from sklearn.preprocessing import StandardScaler,MinMaxScaler,PolynomialFeatures,RobustScaler\n",
    "\n",
    "from sklearn.linear_model import LinearRegression,Lasso,Ridge,ElasticNet\n",
    "from sklearn.linear_model import LassoCV,RidgeCV,ElasticNetCV\n",
    "from sklearn.feature_selection import RFE\n",
    "from sklearn.model_selection import GridSearchCV,KFold,RandomizedSearchCV,StratifiedKFold,cross_val_score\n",
    "\n",
    "from sklearn.pipeline import make_pipeline\n",
    "from sklearn.metrics import mean_squared_error\n",
    "from sklearn.svm import SVR\n",
    "from sklearn.ensemble import GradientBoostingRegressor\n",
    "from xgboost import XGBRFRegressor,XGBRegressor\n",
    "from lightgbm import LGBMRegressor\n",
    "from mlxtend.regressor import StackingCVRegressor\n",
    "from sklearn.ensemble import RandomForestRegressor,AdaBoostRegressor,BaggingRegressor,ExtraTreesRegressor"
   ]
  },
  {
   "cell_type": "markdown",
   "id": "8da4417d",
   "metadata": {},
   "source": [
    "## Ridge (L2 regularization)"
   ]
  },
  {
   "cell_type": "code",
   "execution_count": 326,
   "id": "8c5bf858",
   "metadata": {},
   "outputs": [
    {
     "data": {
      "text/plain": [
       "GridSearchCV(cv=KFold(n_splits=11, random_state=42, shuffle=True),\n",
       "             estimator=Ridge(),\n",
       "             param_grid={'alpha': [5, 8, 10, 10.1, 10.2, 10.3, 10.35, 10.36, 11,\n",
       "                                   12, 15]},\n",
       "             scoring='neg_mean_squared_error')"
      ]
     },
     "execution_count": 326,
     "metadata": {},
     "output_type": "execute_result"
    }
   ],
   "source": [
    "ridge= Ridge()\n",
    "params= {'alpha': [5,8,10,10.1,10.2,10.3,10.35,10.36,11,12,15]}\n",
    "scaler=RobustScaler()\n",
    "X_train=scaler.fit_transform(X_train)\n",
    "X_test=scaler.transform(X_test)\n",
    "grid_ridge=GridSearchCV(ridge, param_grid=params,\n",
    "                        cv=kfold,\n",
    "                       scoring='neg_mean_squared_error')\n",
    "grid_ridge.fit(X_train,y_train)"
   ]
  },
  {
   "cell_type": "code",
   "execution_count": 327,
   "id": "87cd263b",
   "metadata": {},
   "outputs": [
    {
     "name": "stdout",
     "output_type": "stream",
     "text": [
      "The best alpha value found is: 5 with score: -0.02972818666879081\n",
      "RMSE train =  0.17193996330544045\n",
      "RMSE test =  0.17178925627354422\n"
     ]
    }
   ],
   "source": [
    "alpha = grid_ridge.best_params_\n",
    "ridge_score = grid_ridge.best_score_\n",
    "print(\"The best alpha value found is:\",alpha['alpha'],'with score:',ridge_score)\n",
    "\n",
    "ridge_alpha=Ridge(alpha=alpha['alpha'])\n",
    "ridge_alpha.fit(X_train,y_train)\n",
    "y_pred_train=ridge_alpha.predict(X_train)\n",
    "y_pred_test=ridge_alpha.predict(X_test)\n",
    "\n",
    "print('RMSE train = ',rmsle(y_train,y_pred_train))\n",
    "print('RMSE test = ',rmsle(y_test,y_pred_test))"
   ]
  },
  {
   "cell_type": "code",
   "execution_count": 328,
   "id": "8eff458b",
   "metadata": {},
   "outputs": [
    {
     "name": "stdout",
     "output_type": "stream",
     "text": [
      "[0.1758723  0.17069739 0.16886067 0.16939454 0.1692964  0.17878538\n",
      " 0.18386448 0.17758092 0.17128782 0.16577056 0.1624431 ]\n",
      "ridge RMSE: 0.1722 (0.0059)\n"
     ]
    }
   ],
   "source": [
    "scores={}\n",
    "alphas_ridge = [15, 15.1, 15.2, 15.3, 15.4, 15.5] #Best value of alpha parmaters for Ridge regression\n",
    "ridge = make_pipeline(RobustScaler(), RidgeCV(alphas=alphas_ridge, cv=kfold))\n",
    "\n",
    "score = cv_rmse(ridge)\n",
    "print(score)\n",
    "print(\"ridge RMSE: {:.4f} ({:.4f})\".format(score.mean(), score.std()))\n",
    "scores['ridge'] = (score.mean(), score.std())"
   ]
  },
  {
   "cell_type": "markdown",
   "id": "f40744ba",
   "metadata": {},
   "source": [
    "### Lasso (L1 Regularization)"
   ]
  },
  {
   "cell_type": "code",
   "execution_count": 329,
   "id": "4d014b4e",
   "metadata": {},
   "outputs": [
    {
     "name": "stdout",
     "output_type": "stream",
     "text": [
      "[0.17594551 0.17053752 0.16885747 0.16940236 0.16926531 0.17858273\n",
      " 0.18392262 0.17756263 0.17126726 0.16567355 0.16239522]\n",
      "lasso RMSE: 0.1721 (0.0060)\n"
     ]
    }
   ],
   "source": [
    "alphas_lasso = [0.0001, 0.0002, 0.0003, 0.0004, 0.0005, 0.0006, 0.0007, 0.0008] #Best value of alpha parmaters for lasso\n",
    "lasso = make_pipeline(RobustScaler(), LassoCV(alphas=alphas_lasso, cv=kfold))\n",
    "score = cv_rmse(lasso)\n",
    "print(score)\n",
    "print(\"lasso RMSE: {:.4f} ({:.4f})\".format(score.mean(), score.std()))\n",
    "scores['lasso'] = (score.mean(), score.std())"
   ]
  },
  {
   "cell_type": "markdown",
   "id": "b006a83b",
   "metadata": {},
   "source": [
    "### Elastic Net Regression"
   ]
  },
  {
   "cell_type": "code",
   "execution_count": 330,
   "id": "d01d5d33",
   "metadata": {},
   "outputs": [
    {
     "name": "stdout",
     "output_type": "stream",
     "text": [
      "[0.17590445 0.17048746 0.16880504 0.1693633  0.16921703 0.17855388\n",
      " 0.18390598 0.17752191 0.17120446 0.16561936 0.16235147]\n",
      "Elasticnet RMSE: 0.1721 (0.0060)\n"
     ]
    }
   ],
   "source": [
    "alpha_elnet= [0.0001, 0.0002, 0.0003, 0.0004, 0.0005, 0.0006, 0.0007]\n",
    "l1ratio_elnet = [0.8, 0.85, 0.9, 0.95, 0.99, 1]\n",
    "elasticnet = make_pipeline(RobustScaler(), ElasticNetCV(max_iter=1000000, alphas=alpha_elnet, \\\n",
    "                                                        cv=kfold, l1_ratio=l1ratio_elnet))\n",
    "score=cv_rmse(elasticnet)\n",
    "print(score)\n",
    "print(\"Elasticnet RMSE: {:.4f} ({:.4f})\".format(score.mean(), score.std()))\n",
    "scores['elasticnet'] = (score.mean(), score.std())"
   ]
  },
  {
   "cell_type": "markdown",
   "id": "cd03b429",
   "metadata": {},
   "source": [
    "### Support Vector Regressor (SVR)"
   ]
  },
  {
   "cell_type": "code",
   "execution_count": 331,
   "id": "af6aded4",
   "metadata": {},
   "outputs": [
    {
     "name": "stdout",
     "output_type": "stream",
     "text": [
      "[0.18026161 0.1783896  0.17383203 0.17378737 0.17619615 0.1856729\n",
      " 0.18952198 0.18606524 0.17769897 0.17052832 0.1671547 ]\n",
      "SVR RMSE: 0.1781 (0.0066)\n"
     ]
    }
   ],
   "source": [
    "svr = make_pipeline(RobustScaler(), SVR(C= 19, epsilon= 0.008, gamma=0.00015))\n",
    "score=cv_rmse(svr)\n",
    "print(score)\n",
    "print(\"SVR RMSE: {:.4f} ({:.4f})\".format(score.mean(), score.std()))\n",
    "scores['svr'] = (score.mean(), score.std())"
   ]
  },
  {
   "cell_type": "markdown",
   "id": "82da8040",
   "metadata": {},
   "source": [
    "### Gradient Boosting Regressor"
   ]
  },
  {
   "cell_type": "code",
   "execution_count": 332,
   "id": "a1b514b9",
   "metadata": {},
   "outputs": [
    {
     "name": "stdout",
     "output_type": "stream",
     "text": [
      "[0.11616348 0.1028699  0.1002268  0.11050632 0.10527966 0.11454988\n",
      " 0.11399516 0.10785051 0.11099576 0.1081117  0.09648018]\n",
      "GBR RMSE: 0.1079 (0.0059)\n"
     ]
    }
   ],
   "source": [
    "gbr= GradientBoostingRegressor(n_estimators=6000,learning_rate=0.01,max_depth=3,\\\n",
    "                              min_samples_leaf=15,max_features='sqrt',min_samples_split=10,loss='huber',\\\n",
    "                              random_state=42)\n",
    "score=cv_rmse(gbr)\n",
    "print(score)\n",
    "print(\"GBR RMSE: {:.4f} ({:.4f})\".format(score.mean(), score.std()))\n",
    "scores['gbr'] = (score.mean(), score.std())"
   ]
  },
  {
   "cell_type": "markdown",
   "id": "79e10fbe",
   "metadata": {},
   "source": [
    "### LGBM Regressor"
   ]
  },
  {
   "cell_type": "code",
   "execution_count": 333,
   "id": "ac0bc8ff",
   "metadata": {},
   "outputs": [
    {
     "name": "stdout",
     "output_type": "stream",
     "text": [
      "[LightGBM] [Warning] feature_fraction is set=0.2, colsample_bytree=1.0 will be ignored. Current value: feature_fraction=0.2\n",
      "[LightGBM] [Warning] bagging_fraction is set=0.75, subsample=1.0 will be ignored. Current value: bagging_fraction=0.75\n",
      "[LightGBM] [Warning] bagging_freq is set=5, subsample_freq=0 will be ignored. Current value: bagging_freq=5\n",
      "[LightGBM] [Warning] feature_fraction is set=0.2, colsample_bytree=1.0 will be ignored. Current value: feature_fraction=0.2\n",
      "[LightGBM] [Warning] bagging_fraction is set=0.75, subsample=1.0 will be ignored. Current value: bagging_fraction=0.75\n",
      "[LightGBM] [Warning] bagging_freq is set=5, subsample_freq=0 will be ignored. Current value: bagging_freq=5\n",
      "[LightGBM] [Warning] feature_fraction is set=0.2, colsample_bytree=1.0 will be ignored. Current value: feature_fraction=0.2\n",
      "[LightGBM] [Warning] bagging_fraction is set=0.75, subsample=1.0 will be ignored. Current value: bagging_fraction=0.75\n",
      "[LightGBM] [Warning] bagging_freq is set=5, subsample_freq=0 will be ignored. Current value: bagging_freq=5\n",
      "[LightGBM] [Warning] feature_fraction is set=0.2, colsample_bytree=1.0 will be ignored. Current value: feature_fraction=0.2\n",
      "[LightGBM] [Warning] bagging_fraction is set=0.75, subsample=1.0 will be ignored. Current value: bagging_fraction=0.75\n",
      "[LightGBM] [Warning] bagging_freq is set=5, subsample_freq=0 will be ignored. Current value: bagging_freq=5\n",
      "[LightGBM] [Warning] feature_fraction is set=0.2, colsample_bytree=1.0 will be ignored. Current value: feature_fraction=0.2\n",
      "[LightGBM] [Warning] bagging_fraction is set=0.75, subsample=1.0 will be ignored. Current value: bagging_fraction=0.75\n",
      "[LightGBM] [Warning] bagging_freq is set=5, subsample_freq=0 will be ignored. Current value: bagging_freq=5\n",
      "[LightGBM] [Warning] feature_fraction is set=0.2, colsample_bytree=1.0 will be ignored. Current value: feature_fraction=0.2\n",
      "[LightGBM] [Warning] bagging_fraction is set=0.75, subsample=1.0 will be ignored. Current value: bagging_fraction=0.75\n",
      "[LightGBM] [Warning] bagging_freq is set=5, subsample_freq=0 will be ignored. Current value: bagging_freq=5\n",
      "[LightGBM] [Warning] feature_fraction is set=0.2, colsample_bytree=1.0 will be ignored. Current value: feature_fraction=0.2\n",
      "[LightGBM] [Warning] bagging_fraction is set=0.75, subsample=1.0 will be ignored. Current value: bagging_fraction=0.75\n",
      "[LightGBM] [Warning] bagging_freq is set=5, subsample_freq=0 will be ignored. Current value: bagging_freq=5\n",
      "[LightGBM] [Warning] feature_fraction is set=0.2, colsample_bytree=1.0 will be ignored. Current value: feature_fraction=0.2\n",
      "[LightGBM] [Warning] bagging_fraction is set=0.75, subsample=1.0 will be ignored. Current value: bagging_fraction=0.75\n",
      "[LightGBM] [Warning] bagging_freq is set=5, subsample_freq=0 will be ignored. Current value: bagging_freq=5\n",
      "[LightGBM] [Warning] feature_fraction is set=0.2, colsample_bytree=1.0 will be ignored. Current value: feature_fraction=0.2\n",
      "[LightGBM] [Warning] bagging_fraction is set=0.75, subsample=1.0 will be ignored. Current value: bagging_fraction=0.75\n",
      "[LightGBM] [Warning] bagging_freq is set=5, subsample_freq=0 will be ignored. Current value: bagging_freq=5\n",
      "[LightGBM] [Warning] feature_fraction is set=0.2, colsample_bytree=1.0 will be ignored. Current value: feature_fraction=0.2\n",
      "[LightGBM] [Warning] bagging_fraction is set=0.75, subsample=1.0 will be ignored. Current value: bagging_fraction=0.75\n",
      "[LightGBM] [Warning] bagging_freq is set=5, subsample_freq=0 will be ignored. Current value: bagging_freq=5\n",
      "[LightGBM] [Warning] feature_fraction is set=0.2, colsample_bytree=1.0 will be ignored. Current value: feature_fraction=0.2\n",
      "[LightGBM] [Warning] bagging_fraction is set=0.75, subsample=1.0 will be ignored. Current value: bagging_fraction=0.75\n",
      "[LightGBM] [Warning] bagging_freq is set=5, subsample_freq=0 will be ignored. Current value: bagging_freq=5\n",
      "[0.11707511 0.10443202 0.10257373 0.11256845 0.10656579 0.11562739\n",
      " 0.11515368 0.10886088 0.11219301 0.10935504 0.09941425]\n",
      "LGBM RMSE: 0.1094 (0.0055)\n"
     ]
    }
   ],
   "source": [
    "lgbm =  LGBMRegressor(objective='regression', num_leaves=4,learning_rate=0.01, n_estimators=6000,\n",
    "                                       max_bin=200, bagging_fraction=0.75,bagging_freq=5, bagging_seed=7,\n",
    "                                       feature_fraction=0.2,feature_fraction_seed=7,verbose=-1)\n",
    "score=cv_rmse(lgbm)\n",
    "print(score)\n",
    "print(\"LGBM RMSE: {:.4f} ({:.4f})\".format(score.mean(), score.std()))\n",
    "scores['lgbm'] = (score.mean(), score.std())"
   ]
  },
  {
   "cell_type": "markdown",
   "id": "2e1954e8",
   "metadata": {},
   "source": [
    "### XGBoost Regressor"
   ]
  },
  {
   "cell_type": "code",
   "execution_count": 334,
   "id": "a31dab96",
   "metadata": {},
   "outputs": [
    {
     "name": "stdout",
     "output_type": "stream",
     "text": [
      "[0.11498787 0.10144748 0.099644   0.11007124 0.10410144 0.11247535\n",
      " 0.11242381 0.10681635 0.10981324 0.10793224 0.09632165]\n",
      "XGBOOST RMSE: 0.1069 (0.0056)\n"
     ]
    }
   ],
   "source": [
    "xgb = XGBRegressor(learning_rate=0.01,n_estimators=3460, max_depth=3, min_child_weight=0, gamma=0, subsample=0.7,\n",
    "                                     colsample_bytree=0.7, objective='reg:squarederror', nthread=-1,\n",
    "                                     scale_pos_weight=1, seed=27, reg_alpha=0.00006)\n",
    "score=cv_rmse(xgb)\n",
    "print(score)\n",
    "print(\"XGBOOST RMSE: {:.4f} ({:.4f})\".format(score.mean(), score.std()))\n",
    "scores['xgb'] = (score.mean(), score.std())"
   ]
  },
  {
   "cell_type": "markdown",
   "id": "1c352464",
   "metadata": {},
   "source": [
    "### Bagging Regressor"
   ]
  },
  {
   "cell_type": "code",
   "execution_count": 335,
   "id": "6a9844b5",
   "metadata": {},
   "outputs": [
    {
     "name": "stdout",
     "output_type": "stream",
     "text": [
      "[0.12518284 0.11227871 0.11249712 0.12481292 0.11999014 0.12251102\n",
      " 0.11910857 0.12150896 0.12283105 0.11941803 0.10812884]\n",
      "XGBOOST RMSE: 0.1189 (0.0053)\n"
     ]
    }
   ],
   "source": [
    "etr = ExtraTreesRegressor(n_estimators=60,random_state=42)\n",
    "score=cv_rmse(etr)\n",
    "print(score)\n",
    "print(\"XGBOOST RMSE: {:.4f} ({:.4f})\".format(score.mean(), score.std()))\n",
    "scores['etr'] = (score.mean(), score.std())"
   ]
  },
  {
   "cell_type": "markdown",
   "id": "fb8791d8",
   "metadata": {},
   "source": [
    "### Stacking Regressor"
   ]
  },
  {
   "cell_type": "code",
   "execution_count": 336,
   "id": "5aeab0ea",
   "metadata": {},
   "outputs": [],
   "source": [
    "stack_reg = StackingCVRegressor(regressors=(ridge, lasso, elasticnet, gbr, xgb, lgbm),\n",
    "                                meta_regressor=xgb,\n",
    "                                use_features_in_secondary=True)"
   ]
  },
  {
   "cell_type": "markdown",
   "id": "d7e11434",
   "metadata": {},
   "source": [
    "### Fitting Models on Train Set"
   ]
  },
  {
   "cell_type": "code",
   "execution_count": 337,
   "id": "850a9cf8",
   "metadata": {},
   "outputs": [],
   "source": [
    "lasso_final= lasso.fit(X,y)\n"
   ]
  },
  {
   "cell_type": "code",
   "execution_count": 338,
   "id": "4910b7ad",
   "metadata": {},
   "outputs": [],
   "source": [
    "ridge_final=ridge.fit(X,y)\n"
   ]
  },
  {
   "cell_type": "code",
   "execution_count": 339,
   "id": "420becae",
   "metadata": {},
   "outputs": [],
   "source": [
    "elasticnet_final=elasticnet.fit(X,y)\n"
   ]
  },
  {
   "cell_type": "code",
   "execution_count": 340,
   "id": "83cfbe9d",
   "metadata": {},
   "outputs": [],
   "source": [
    "svr_final=svr.fit(X,y)\n"
   ]
  },
  {
   "cell_type": "code",
   "execution_count": 341,
   "id": "51a714d5",
   "metadata": {},
   "outputs": [],
   "source": [
    "gbr_final=gbr.fit(X,y)\n"
   ]
  },
  {
   "cell_type": "code",
   "execution_count": 342,
   "id": "d4adfea6",
   "metadata": {},
   "outputs": [
    {
     "name": "stdout",
     "output_type": "stream",
     "text": [
      "[LightGBM] [Warning] feature_fraction is set=0.2, colsample_bytree=1.0 will be ignored. Current value: feature_fraction=0.2\n",
      "[LightGBM] [Warning] bagging_fraction is set=0.75, subsample=1.0 will be ignored. Current value: bagging_fraction=0.75\n",
      "[LightGBM] [Warning] bagging_freq is set=5, subsample_freq=0 will be ignored. Current value: bagging_freq=5\n"
     ]
    }
   ],
   "source": [
    "lgbm_final=lgbm.fit(X,y)\n"
   ]
  },
  {
   "cell_type": "code",
   "execution_count": 343,
   "id": "d5aab8c3",
   "metadata": {},
   "outputs": [],
   "source": [
    "xgb_final=xgb.fit(X,y)\n"
   ]
  },
  {
   "cell_type": "code",
   "execution_count": 344,
   "id": "3dacf7f4",
   "metadata": {},
   "outputs": [
    {
     "name": "stdout",
     "output_type": "stream",
     "text": [
      "[LightGBM] [Warning] feature_fraction is set=0.2, colsample_bytree=1.0 will be ignored. Current value: feature_fraction=0.2\n",
      "[LightGBM] [Warning] bagging_fraction is set=0.75, subsample=1.0 will be ignored. Current value: bagging_fraction=0.75\n",
      "[LightGBM] [Warning] bagging_freq is set=5, subsample_freq=0 will be ignored. Current value: bagging_freq=5\n",
      "[LightGBM] [Warning] feature_fraction is set=0.2, colsample_bytree=1.0 will be ignored. Current value: feature_fraction=0.2\n",
      "[LightGBM] [Warning] bagging_fraction is set=0.75, subsample=1.0 will be ignored. Current value: bagging_fraction=0.75\n",
      "[LightGBM] [Warning] bagging_freq is set=5, subsample_freq=0 will be ignored. Current value: bagging_freq=5\n",
      "[LightGBM] [Warning] feature_fraction is set=0.2, colsample_bytree=1.0 will be ignored. Current value: feature_fraction=0.2\n",
      "[LightGBM] [Warning] bagging_fraction is set=0.75, subsample=1.0 will be ignored. Current value: bagging_fraction=0.75\n",
      "[LightGBM] [Warning] bagging_freq is set=5, subsample_freq=0 will be ignored. Current value: bagging_freq=5\n",
      "[LightGBM] [Warning] feature_fraction is set=0.2, colsample_bytree=1.0 will be ignored. Current value: feature_fraction=0.2\n",
      "[LightGBM] [Warning] bagging_fraction is set=0.75, subsample=1.0 will be ignored. Current value: bagging_fraction=0.75\n",
      "[LightGBM] [Warning] bagging_freq is set=5, subsample_freq=0 will be ignored. Current value: bagging_freq=5\n",
      "[LightGBM] [Warning] feature_fraction is set=0.2, colsample_bytree=1.0 will be ignored. Current value: feature_fraction=0.2\n",
      "[LightGBM] [Warning] bagging_fraction is set=0.75, subsample=1.0 will be ignored. Current value: bagging_fraction=0.75\n",
      "[LightGBM] [Warning] bagging_freq is set=5, subsample_freq=0 will be ignored. Current value: bagging_freq=5\n"
     ]
    }
   ],
   "source": [
    "stack_reg_final=stack_reg.fit(X,y)\n"
   ]
  },
  {
   "cell_type": "markdown",
   "id": "d503131f",
   "metadata": {},
   "source": [
    "### Blending"
   ]
  },
  {
   "cell_type": "code",
   "execution_count": 345,
   "id": "7dcafdb8",
   "metadata": {},
   "outputs": [],
   "source": [
    "def blend_models_predict(X):\n",
    "    return ((0.025* elasticnet_final.predict(X)) + \\\n",
    "            (0.025 * lasso_final.predict(X)) + \\\n",
    "            (0.025 * ridge_final.predict(X)) + \\\n",
    "            (0.025* svr_final.predict(X)) + \\\n",
    "            (0.62 * gbr_final.predict(X)) + \\\n",
    "            (0.03 * xgb_final.predict(X)) + \\\n",
    "            (0.03 * lgbm_final.predict(X)) + \\\n",
    "            (0.22 * stack_reg_final.predict(np.array(X))))"
   ]
  },
  {
   "cell_type": "code",
   "execution_count": 346,
   "id": "264a8161",
   "metadata": {},
   "outputs": [
    {
     "name": "stdout",
     "output_type": "stream",
     "text": [
      "RMSLE score on train data:\n",
      "0.10493178787705719\n"
     ]
    }
   ],
   "source": [
    "print('RMSLE score on train data:')\n",
    "blended_score=rmsle(y, blend_models_predict(X))\n",
    "print(blended_score)\n",
    "scores['blended'] = (blended_score, 0)"
   ]
  },
  {
   "cell_type": "code",
   "execution_count": 347,
   "id": "7585c30f",
   "metadata": {},
   "outputs": [
    {
     "data": {
      "image/png": "[encoded data removed]",
      "text/plain": [
       "<Figure size 1440x576 with 1 Axes>"
      ]
     },
     "metadata": {
      "needs_background": "light"
     },
     "output_type": "display_data"
    }
   ],
   "source": [
    "# Plot the predictions for each model\n",
    "#sns.set_style(\"white\")\n",
    "fig = plt.figure(figsize=(20, 8))\n",
    "\n",
    "ax = sns.pointplot(x=list(scores.keys()), y=[score for score, _ in scores.values()], markers=['o'], linestyles=['-'])\n",
    "for i, score in enumerate(scores.values()):\n",
    "    ax.text(i, score[0] + 0.002, '{:.6f}'.format(score[0]), horizontalalignment='left', size='large', color='black', weight='semibold')\n",
    "\n",
    "plt.ylabel('Score (RMSE)', size=20, labelpad=12.5)\n",
    "plt.xlabel('Model', size=20, labelpad=12.5)\n",
    "plt.tick_params(axis='x', labelsize=13.5)\n",
    "plt.tick_params(axis='y', labelsize=12.5)\n",
    "\n",
    "plt.title('Scores of Models', size=20)\n",
    "\n",
    "plt.show()"
   ]
  },
  {
   "cell_type": "code",
   "execution_count": null,
   "id": "2cc86e4d",
   "metadata": {},
   "outputs": [],
   "source": []
  }
 ],
 "metadata": {
  "kernelspec": {
   "display_name": "Python 3",
   "language": "python",
   "name": "python3"
  },
  "language_info": {
   "codemirror_mode": {
    "name": "ipython",
    "version": 3
   },
   "file_extension": ".py",
   "mimetype": "text/x-python",
   "name": "python",
   "nbconvert_exporter": "python",
   "pygments_lexer": "ipython3",
   "version": "3.8.5"
  }
 },
 "nbformat": 4,
 "nbformat_minor": 5
}
