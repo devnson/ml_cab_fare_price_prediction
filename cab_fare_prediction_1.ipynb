{
 "cells": [
  {
   "cell_type": "markdown",
   "id": "dca6eb8d",
   "metadata": {},
   "source": [
    "# 1. Data Observation"
   ]
  },
  {
   "cell_type": "code",
   "execution_count": 5,
   "id": "055b1889",
   "metadata": {},
   "outputs": [],
   "source": [
    "import pandas as pd\n",
    "import numpy as np\n",
    "import matplotlib.pyplot as plt\n",
    "import seaborn as sns"
   ]
  },
  {
   "cell_type": "code",
   "execution_count": 6,
   "id": "9b1ec78f",
   "metadata": {},
   "outputs": [],
   "source": [
    "path = \"E:/Hackathon/CabFarePrediction/\""
   ]
  },
  {
   "cell_type": "code",
   "execution_count": 7,
   "id": "5bed73e0",
   "metadata": {},
   "outputs": [],
   "source": [
    "train = pd.read_csv(path+'TRAIN.CSV')\n",
    "test = pd.read_csv(path + 'TEST.CSV')"
   ]
  },
  {
   "cell_type": "code",
   "execution_count": 8,
   "id": "07f3dc0a",
   "metadata": {},
   "outputs": [
    {
     "data": {
      "text/html": [
       "<div>\n",
       "<style scoped>\n",
       "    .dataframe tbody tr th:only-of-type {\n",
       "        vertical-align: middle;\n",
       "    }\n",
       "\n",
       "    .dataframe tbody tr th {\n",
       "        vertical-align: top;\n",
       "    }\n",
       "\n",
       "    .dataframe thead th {\n",
       "        text-align: right;\n",
       "    }\n",
       "</style>\n",
       "<table border=\"1\" class=\"dataframe\">\n",
       "  <thead>\n",
       "    <tr style=\"text-align: right;\">\n",
       "      <th></th>\n",
       "      <th>index</th>\n",
       "      <th>time_stamp</th>\n",
       "      <th>cab_provider</th>\n",
       "      <th>source</th>\n",
       "      <th>destination</th>\n",
       "      <th>distance</th>\n",
       "      <th>surge_multiplier</th>\n",
       "      <th>cab_type</th>\n",
       "      <th>fare</th>\n",
       "    </tr>\n",
       "  </thead>\n",
       "  <tbody>\n",
       "    <tr>\n",
       "      <th>0</th>\n",
       "      <td>0</td>\n",
       "      <td>1543203646318</td>\n",
       "      <td>Lyft</td>\n",
       "      <td>Boston University</td>\n",
       "      <td>Theatre District</td>\n",
       "      <td>3.03</td>\n",
       "      <td>1.0</td>\n",
       "      <td>Lux Black XL</td>\n",
       "      <td>34.0</td>\n",
       "    </tr>\n",
       "    <tr>\n",
       "      <th>1</th>\n",
       "      <td>1</td>\n",
       "      <td>1543203646319</td>\n",
       "      <td>Uber</td>\n",
       "      <td>South Station</td>\n",
       "      <td>Theatre District</td>\n",
       "      <td>1.30</td>\n",
       "      <td>1.0</td>\n",
       "      <td>Black</td>\n",
       "      <td>18.5</td>\n",
       "    </tr>\n",
       "    <tr>\n",
       "      <th>2</th>\n",
       "      <td>2</td>\n",
       "      <td>1543203646320</td>\n",
       "      <td>Uber</td>\n",
       "      <td>Theatre District</td>\n",
       "      <td>Fenway</td>\n",
       "      <td>2.71</td>\n",
       "      <td>1.0</td>\n",
       "      <td>UberX</td>\n",
       "      <td>19.5</td>\n",
       "    </tr>\n",
       "    <tr>\n",
       "      <th>3</th>\n",
       "      <td>3</td>\n",
       "      <td>1543203646320</td>\n",
       "      <td>Lyft</td>\n",
       "      <td>Northeastern University</td>\n",
       "      <td>Beacon Hill</td>\n",
       "      <td>2.43</td>\n",
       "      <td>1.0</td>\n",
       "      <td>Lyft</td>\n",
       "      <td>10.5</td>\n",
       "    </tr>\n",
       "    <tr>\n",
       "      <th>4</th>\n",
       "      <td>4</td>\n",
       "      <td>1543203646320</td>\n",
       "      <td>Uber</td>\n",
       "      <td>Theatre District</td>\n",
       "      <td>Fenway</td>\n",
       "      <td>2.71</td>\n",
       "      <td>1.0</td>\n",
       "      <td>UberXL</td>\n",
       "      <td>32.0</td>\n",
       "    </tr>\n",
       "  </tbody>\n",
       "</table>\n",
       "</div>"
      ],
      "text/plain": [
       "   index     time_stamp cab_provider                   source  \\\n",
       "0      0  1543203646318         Lyft        Boston University   \n",
       "1      1  1543203646319         Uber            South Station   \n",
       "2      2  1543203646320         Uber         Theatre District   \n",
       "3      3  1543203646320         Lyft  Northeastern University   \n",
       "4      4  1543203646320         Uber         Theatre District   \n",
       "\n",
       "        destination  distance  surge_multiplier      cab_type  fare  \n",
       "0  Theatre District      3.03               1.0  Lux Black XL  34.0  \n",
       "1  Theatre District      1.30               1.0         Black  18.5  \n",
       "2            Fenway      2.71               1.0         UberX  19.5  \n",
       "3       Beacon Hill      2.43               1.0          Lyft  10.5  \n",
       "4            Fenway      2.71               1.0        UberXL  32.0  "
      ]
     },
     "execution_count": 8,
     "metadata": {},
     "output_type": "execute_result"
    }
   ],
   "source": [
    "train.head()"
   ]
  },
  {
   "cell_type": "code",
   "execution_count": 9,
   "id": "ec1adaf5",
   "metadata": {},
   "outputs": [
    {
     "data": {
      "text/plain": [
       "((100000, 9), (25000, 8))"
      ]
     },
     "execution_count": 9,
     "metadata": {},
     "output_type": "execute_result"
    }
   ],
   "source": [
    "train.shape, test.shape"
   ]
  },
  {
   "cell_type": "code",
   "execution_count": 10,
   "id": "f3bb5759",
   "metadata": {},
   "outputs": [
    {
     "data": {
      "text/html": [
       "<div>\n",
       "<style scoped>\n",
       "    .dataframe tbody tr th:only-of-type {\n",
       "        vertical-align: middle;\n",
       "    }\n",
       "\n",
       "    .dataframe tbody tr th {\n",
       "        vertical-align: top;\n",
       "    }\n",
       "\n",
       "    .dataframe thead th {\n",
       "        text-align: right;\n",
       "    }\n",
       "</style>\n",
       "<table border=\"1\" class=\"dataframe\">\n",
       "  <thead>\n",
       "    <tr style=\"text-align: right;\">\n",
       "      <th></th>\n",
       "      <th>index</th>\n",
       "      <th>time_stamp</th>\n",
       "      <th>cab_provider</th>\n",
       "      <th>source</th>\n",
       "      <th>destination</th>\n",
       "      <th>distance</th>\n",
       "      <th>surge_multiplier</th>\n",
       "      <th>cab_type</th>\n",
       "    </tr>\n",
       "  </thead>\n",
       "  <tbody>\n",
       "    <tr>\n",
       "      <th>0</th>\n",
       "      <td>0</td>\n",
       "      <td>1543364124206</td>\n",
       "      <td>Lyft</td>\n",
       "      <td>Theatre District</td>\n",
       "      <td>South Station</td>\n",
       "      <td>0.59</td>\n",
       "      <td>1.0</td>\n",
       "      <td>Lux</td>\n",
       "    </tr>\n",
       "    <tr>\n",
       "      <th>1</th>\n",
       "      <td>1</td>\n",
       "      <td>1543364124206</td>\n",
       "      <td>Lyft</td>\n",
       "      <td>Theatre District</td>\n",
       "      <td>South Station</td>\n",
       "      <td>0.59</td>\n",
       "      <td>1.0</td>\n",
       "      <td>Lux Black XL</td>\n",
       "    </tr>\n",
       "    <tr>\n",
       "      <th>2</th>\n",
       "      <td>2</td>\n",
       "      <td>1543364124206</td>\n",
       "      <td>Uber</td>\n",
       "      <td>Financial District</td>\n",
       "      <td>Fenway</td>\n",
       "      <td>6.83</td>\n",
       "      <td>1.0</td>\n",
       "      <td>UberX</td>\n",
       "    </tr>\n",
       "    <tr>\n",
       "      <th>3</th>\n",
       "      <td>3</td>\n",
       "      <td>1543364124206</td>\n",
       "      <td>Uber</td>\n",
       "      <td>Beacon Hill</td>\n",
       "      <td>Haymarket Square</td>\n",
       "      <td>1.35</td>\n",
       "      <td>1.0</td>\n",
       "      <td>UberXL</td>\n",
       "    </tr>\n",
       "    <tr>\n",
       "      <th>4</th>\n",
       "      <td>4</td>\n",
       "      <td>1543364124206</td>\n",
       "      <td>Lyft</td>\n",
       "      <td>Theatre District</td>\n",
       "      <td>South Station</td>\n",
       "      <td>0.59</td>\n",
       "      <td>1.0</td>\n",
       "      <td>Lyft XL</td>\n",
       "    </tr>\n",
       "  </tbody>\n",
       "</table>\n",
       "</div>"
      ],
      "text/plain": [
       "   index     time_stamp cab_provider              source       destination  \\\n",
       "0      0  1543364124206         Lyft    Theatre District     South Station   \n",
       "1      1  1543364124206         Lyft    Theatre District     South Station   \n",
       "2      2  1543364124206         Uber  Financial District            Fenway   \n",
       "3      3  1543364124206         Uber         Beacon Hill  Haymarket Square   \n",
       "4      4  1543364124206         Lyft    Theatre District     South Station   \n",
       "\n",
       "   distance  surge_multiplier      cab_type  \n",
       "0      0.59               1.0           Lux  \n",
       "1      0.59               1.0  Lux Black XL  \n",
       "2      6.83               1.0         UberX  \n",
       "3      1.35               1.0        UberXL  \n",
       "4      0.59               1.0       Lyft XL  "
      ]
     },
     "execution_count": 10,
     "metadata": {},
     "output_type": "execute_result"
    }
   ],
   "source": [
    "test.head()"
   ]
  },
  {
   "cell_type": "code",
   "execution_count": 11,
   "id": "07ff3b52",
   "metadata": {},
   "outputs": [
    {
     "data": {
      "text/plain": [
       "Black           8744\n",
       "Black SUV       8712\n",
       "UberXL          8676\n",
       "UberX           8588\n",
       "WAV             8585\n",
       "UberPool        8558\n",
       "Lyft XL         8115\n",
       "Lux Black XL    8065\n",
       "Lux             8060\n",
       "Shared          7998\n",
       "Lyft            7957\n",
       "Lux Black       7942\n",
       "Name: cab_type, dtype: int64"
      ]
     },
     "execution_count": 11,
     "metadata": {},
     "output_type": "execute_result"
    }
   ],
   "source": [
    "train['cab_type'].value_counts()"
   ]
  },
  {
   "cell_type": "code",
   "execution_count": 12,
   "id": "260dca2e",
   "metadata": {},
   "outputs": [
    {
     "data": {
      "text/plain": [
       "Uber    51863\n",
       "Lyft    48137\n",
       "Name: cab_provider, dtype: int64"
      ]
     },
     "execution_count": 12,
     "metadata": {},
     "output_type": "execute_result"
    }
   ],
   "source": [
    "train['cab_provider'].value_counts()"
   ]
  },
  {
   "cell_type": "code",
   "execution_count": 13,
   "id": "71bf9d5b",
   "metadata": {},
   "outputs": [
    {
     "data": {
      "text/plain": [
       "(7.5, 0.02)"
      ]
     },
     "execution_count": 13,
     "metadata": {},
     "output_type": "execute_result"
    }
   ],
   "source": [
    "train['distance'].max(), train['distance'].min()"
   ]
  },
  {
   "cell_type": "code",
   "execution_count": 14,
   "id": "364792bc",
   "metadata": {},
   "outputs": [
    {
     "data": {
      "text/plain": [
       "1.00    96753\n",
       "1.25     1715\n",
       "1.50      764\n",
       "1.75      403\n",
       "2.00      337\n",
       "2.50       23\n",
       "3.00        5\n",
       "Name: surge_multiplier, dtype: int64"
      ]
     },
     "execution_count": 14,
     "metadata": {},
     "output_type": "execute_result"
    }
   ],
   "source": [
    "train['surge_multiplier'].value_counts()"
   ]
  },
  {
   "cell_type": "markdown",
   "id": "6c4c644a",
   "metadata": {},
   "source": [
    "The private rideshare service says it uses an algorithm based on classic supply and demand: When demand for cars goes up, prices go up to decrease demand and to encourage more drivers to get on the road, increasing supply.\n",
    "\n",
    "` Price = Normal Price * Surge_multiplier `"
   ]
  },
  {
   "cell_type": "markdown",
   "id": "84211472",
   "metadata": {},
   "source": [
    "# Exploratory Data Analaysis"
   ]
  },
  {
   "cell_type": "markdown",
   "id": "06fe33f9",
   "metadata": {},
   "source": [
    "## Missing values"
   ]
  },
  {
   "cell_type": "code",
   "execution_count": 15,
   "id": "5d63ad0b",
   "metadata": {},
   "outputs": [
    {
     "data": {
      "text/plain": [
       "index               0\n",
       "time_stamp          0\n",
       "cab_provider        0\n",
       "source              0\n",
       "destination         0\n",
       "distance            0\n",
       "surge_multiplier    0\n",
       "cab_type            0\n",
       "fare                0\n",
       "dtype: int64"
      ]
     },
     "execution_count": 15,
     "metadata": {},
     "output_type": "execute_result"
    }
   ],
   "source": [
    "train.isnull().sum()"
   ]
  },
  {
   "cell_type": "code",
   "execution_count": 16,
   "id": "196abd3a",
   "metadata": {},
   "outputs": [
    {
     "data": {
      "text/plain": [
       "index               0\n",
       "time_stamp          0\n",
       "cab_provider        0\n",
       "source              0\n",
       "destination         0\n",
       "distance            0\n",
       "surge_multiplier    0\n",
       "cab_type            0\n",
       "dtype: int64"
      ]
     },
     "execution_count": 16,
     "metadata": {},
     "output_type": "execute_result"
    }
   ],
   "source": [
    "test.isnull().sum()"
   ]
  },
  {
   "cell_type": "markdown",
   "id": "acc7b3b6",
   "metadata": {},
   "source": [
    "## Univariate Analysis (Target)"
   ]
  },
  {
   "cell_type": "code",
   "execution_count": 17,
   "id": "62b6eb01",
   "metadata": {},
   "outputs": [
    {
     "data": {
      "text/plain": [
       "0        34.0\n",
       "1        18.5\n",
       "2        19.5\n",
       "3        10.5\n",
       "4        32.0\n",
       "         ... \n",
       "99995    12.0\n",
       "99996    26.0\n",
       "99997    16.0\n",
       "99998     7.0\n",
       "99999     7.0\n",
       "Name: fare, Length: 100000, dtype: float64"
      ]
     },
     "execution_count": 17,
     "metadata": {},
     "output_type": "execute_result"
    }
   ],
   "source": [
    "train['fare']"
   ]
  },
  {
   "cell_type": "code",
   "execution_count": 18,
   "id": "c6b0ed5e",
   "metadata": {},
   "outputs": [
    {
     "data": {
      "image/png": "[encoded data removed]",
      "text/plain": [
       "<Figure size 864x432 with 1 Axes>"
      ]
     },
     "metadata": {
      "needs_background": "light"
     },
     "output_type": "display_data"
    }
   ],
   "source": [
    "sns.displot(x = 'fare', data = train, aspect = 2, height = 6, kde = True);"
   ]
  },
  {
   "cell_type": "code",
   "execution_count": 19,
   "id": "3bdb1dd2",
   "metadata": {},
   "outputs": [
    {
     "data": {
      "image/png": "[encoded data removed]",
      "text/plain": [
       "<Figure size 576x432 with 1 Axes>"
      ]
     },
     "metadata": {
      "needs_background": "light"
     },
     "output_type": "display_data"
    }
   ],
   "source": [
    "plt.figure(figsize = (8,6))\n",
    "sns.boxplot(x = 'fare', data = train);"
   ]
  },
  {
   "cell_type": "code",
   "execution_count": 20,
   "id": "e8cbcfc0",
   "metadata": {},
   "outputs": [
    {
     "name": "stdout",
     "output_type": "stream",
     "text": [
      "Skewness: 1.039652\n",
      "Kurtosis: 1.149118\n"
     ]
    }
   ],
   "source": [
    "# Skew and kurt\n",
    "\n",
    "print(\"Skewness: %f\" % train['fare'].skew())\n",
    "print(\"Kurtosis: %f\" % train['fare'].kurt())"
   ]
  },
  {
   "cell_type": "code",
   "execution_count": 21,
   "id": "998eb9c7",
   "metadata": {},
   "outputs": [],
   "source": [
    "xtrain = train.copy()\n",
    "xtest = test.copy()"
   ]
  },
  {
   "cell_type": "code",
   "execution_count": 22,
   "id": "857447b2",
   "metadata": {},
   "outputs": [],
   "source": [
    "# Let's apply Log(1+x) on Fare\n",
    "\n",
    "xtrain['fare'] = np.log1p(xtrain['fare'])"
   ]
  },
  {
   "cell_type": "code",
   "execution_count": 23,
   "id": "20a10cc3",
   "metadata": {},
   "outputs": [
    {
     "data": {
      "image/png": "[encoded data removed]",
      "text/plain": [
       "<Figure size 864x432 with 1 Axes>"
      ]
     },
     "metadata": {
      "needs_background": "light"
     },
     "output_type": "display_data"
    }
   ],
   "source": [
    "sns.displot(x = 'fare', data = xtrain, aspect = 2, height = 6, kde = True);"
   ]
  },
  {
   "cell_type": "code",
   "execution_count": 24,
   "id": "878198d7",
   "metadata": {},
   "outputs": [
    {
     "data": {
      "image/png": "[encoded data removed]",
      "text/plain": [
       "<Figure size 576x432 with 1 Axes>"
      ]
     },
     "metadata": {
      "needs_background": "light"
     },
     "output_type": "display_data"
    }
   ],
   "source": [
    "plt.figure(figsize = (8,6))\n",
    "sns.boxplot(x = 'fare', data = xtrain);"
   ]
  },
  {
   "cell_type": "markdown",
   "id": "ae3e7ef0",
   "metadata": {},
   "source": [
    "## Independent Variable Analysis"
   ]
  },
  {
   "cell_type": "code",
   "execution_count": 25,
   "id": "6901c9fe",
   "metadata": {},
   "outputs": [
    {
     "name": "stdout",
     "output_type": "stream",
     "text": [
      "<class 'pandas.core.frame.DataFrame'>\n",
      "RangeIndex: 100000 entries, 0 to 99999\n",
      "Data columns (total 9 columns):\n",
      " #   Column            Non-Null Count   Dtype  \n",
      "---  ------            --------------   -----  \n",
      " 0   index             100000 non-null  int64  \n",
      " 1   time_stamp        100000 non-null  int64  \n",
      " 2   cab_provider      100000 non-null  object \n",
      " 3   source            100000 non-null  object \n",
      " 4   destination       100000 non-null  object \n",
      " 5   distance          100000 non-null  float64\n",
      " 6   surge_multiplier  100000 non-null  float64\n",
      " 7   cab_type          100000 non-null  object \n",
      " 8   fare              100000 non-null  float64\n",
      "dtypes: float64(3), int64(2), object(4)\n",
      "memory usage: 6.9+ MB\n"
     ]
    }
   ],
   "source": [
    "xtrain.info()"
   ]
  },
  {
   "cell_type": "markdown",
   "id": "28307b09",
   "metadata": {},
   "source": [
    "### Cab Provider"
   ]
  },
  {
   "cell_type": "code",
   "execution_count": 26,
   "id": "dd2c4173",
   "metadata": {},
   "outputs": [
    {
     "data": {
      "image/png": "[encoded data removed]",
      "text/plain": [
       "<Figure size 576x432 with 1 Axes>"
      ]
     },
     "metadata": {
      "needs_background": "light"
     },
     "output_type": "display_data"
    }
   ],
   "source": [
    "plt.figure(figsize = (8,6))\n",
    "sns.countplot(x = 'cab_provider', data = train);"
   ]
  },
  {
   "cell_type": "code",
   "execution_count": 27,
   "id": "1d9d7196",
   "metadata": {},
   "outputs": [
    {
     "data": {
      "image/png": "[encoded data removed]",
      "text/plain": [
       "<Figure size 576x432 with 1 Axes>"
      ]
     },
     "metadata": {
      "needs_background": "light"
     },
     "output_type": "display_data"
    }
   ],
   "source": [
    "# The cab provider with \"Fare\"\n",
    "\n",
    "plt.figure(figsize = (8,6))\n",
    "sns.barplot(x = 'cab_provider', y = 'fare', data = train);"
   ]
  },
  {
   "cell_type": "code",
   "execution_count": 28,
   "id": "03834c19",
   "metadata": {},
   "outputs": [
    {
     "data": {
      "image/png": "[encoded data removed]",
      "text/plain": [
       "<Figure size 576x432 with 1 Axes>"
      ]
     },
     "metadata": {
      "needs_background": "light"
     },
     "output_type": "display_data"
    }
   ],
   "source": [
    "# The cab provider with \"distance\"\n",
    "\n",
    "plt.figure(figsize = (8,6))\n",
    "sns.barplot(x = 'cab_provider', y = 'distance', data = train);"
   ]
  },
  {
   "cell_type": "code",
   "execution_count": 29,
   "id": "e1c0dbda",
   "metadata": {},
   "outputs": [
    {
     "data": {
      "image/png": "[encoded data removed]",
      "text/plain": [
       "<Figure size 576x432 with 1 Axes>"
      ]
     },
     "metadata": {
      "needs_background": "light"
     },
     "output_type": "display_data"
    }
   ],
   "source": [
    "#\n",
    "\n",
    "plt.figure(figsize = (8,6))\n",
    "sns.countplot(y = 'source', data = train);"
   ]
  },
  {
   "cell_type": "markdown",
   "id": "ae628c04",
   "metadata": {},
   "source": [
    "### Fare vs Distance"
   ]
  },
  {
   "cell_type": "code",
   "execution_count": 30,
   "id": "f90c3fbf",
   "metadata": {},
   "outputs": [
    {
     "data": {
      "image/png": "[encoded data removed]",
      "text/plain": [
       "<Figure size 576x432 with 1 Axes>"
      ]
     },
     "metadata": {
      "needs_background": "light"
     },
     "output_type": "display_data"
    }
   ],
   "source": [
    "plt.figure(figsize = (8,6))\n",
    "sns.lineplot(x = 'distance', y = 'fare', data = train);"
   ]
  },
  {
   "cell_type": "markdown",
   "id": "70df198d",
   "metadata": {},
   "source": [
    "### Surge multiplier"
   ]
  },
  {
   "cell_type": "code",
   "execution_count": 31,
   "id": "19a531d2",
   "metadata": {},
   "outputs": [
    {
     "data": {
      "image/png": "[encoded data removed]",
      "text/plain": [
       "<Figure size 576x432 with 1 Axes>"
      ]
     },
     "metadata": {
      "needs_background": "light"
     },
     "output_type": "display_data"
    }
   ],
   "source": [
    "plt.figure(figsize = (8,6))\n",
    "sns.countplot(x = 'surge_multiplier', data = train);"
   ]
  },
  {
   "cell_type": "code",
   "execution_count": 32,
   "id": "3aeba566",
   "metadata": {},
   "outputs": [
    {
     "data": {
      "image/png": "[encoded data removed]",
      "text/plain": [
       "<Figure size 576x432 with 1 Axes>"
      ]
     },
     "metadata": {
      "needs_background": "light"
     },
     "output_type": "display_data"
    }
   ],
   "source": [
    "# Surge Multiplier and Price\n",
    "\n",
    "plt.figure(figsize = (8,6))\n",
    "sns.barplot(x = 'surge_multiplier', y = 'fare', data = train);"
   ]
  },
  {
   "cell_type": "code",
   "execution_count": 33,
   "id": "d0db5b49",
   "metadata": {},
   "outputs": [
    {
     "data": {
      "image/png": "[encoded data removed]",
      "text/plain": [
       "<Figure size 576x432 with 1 Axes>"
      ]
     },
     "metadata": {
      "needs_background": "light"
     },
     "output_type": "display_data"
    }
   ],
   "source": [
    "# Surge Multiplier and Distance\n",
    "\n",
    "plt.figure(figsize = (8,6))\n",
    "sns.barplot(x = 'surge_multiplier', y = 'distance', data = train);"
   ]
  },
  {
   "cell_type": "markdown",
   "id": "2c361e6f",
   "metadata": {},
   "source": [
    "### Cab Type\n",
    "\n",
    "https://www.uber.com/gb/en/ride/ride-options/\n",
    "\n",
    "https://www.lyft.com/rider"
   ]
  },
  {
   "cell_type": "code",
   "execution_count": 34,
   "id": "14c1e014",
   "metadata": {},
   "outputs": [
    {
     "data": {
      "image/png": "[encoded data removed]",
      "text/plain": [
       "<Figure size 576x432 with 1 Axes>"
      ]
     },
     "metadata": {
      "needs_background": "light"
     },
     "output_type": "display_data"
    }
   ],
   "source": [
    "plt.figure(figsize = (8,6))\n",
    "sns.countplot(y = 'cab_type', data = train);"
   ]
  },
  {
   "cell_type": "code",
   "execution_count": 35,
   "id": "94e023c7",
   "metadata": {},
   "outputs": [
    {
     "data": {
      "image/png": "[encoded data removed]",
      "text/plain": [
       "<Figure size 576x432 with 1 Axes>"
      ]
     },
     "metadata": {
      "needs_background": "light"
     },
     "output_type": "display_data"
    }
   ],
   "source": [
    "# Cab Type and Price\n",
    "\n",
    "plt.figure(figsize = (8,6))\n",
    "sns.barplot(y = 'cab_type', x = 'fare', data = train);"
   ]
  },
  {
   "cell_type": "code",
   "execution_count": 36,
   "id": "91487a65",
   "metadata": {},
   "outputs": [
    {
     "data": {
      "image/png": "[encoded data removed]",
      "text/plain": [
       "<Figure size 576x432 with 1 Axes>"
      ]
     },
     "metadata": {
      "needs_background": "light"
     },
     "output_type": "display_data"
    }
   ],
   "source": [
    "# Cab Type and Distance\n",
    "\n",
    "plt.figure(figsize = (8,6))\n",
    "sns.barplot(y = 'cab_type', x = 'distance', data = train);"
   ]
  },
  {
   "cell_type": "code",
   "execution_count": 37,
   "id": "38450fb9",
   "metadata": {
    "scrolled": true
   },
   "outputs": [
    {
     "data": {
      "image/png": "[encoded data removed]",
      "text/plain": [
       "<Figure size 720x3600 with 1 Axes>"
      ]
     },
     "metadata": {
      "needs_background": "light"
     },
     "output_type": "display_data"
    }
   ],
   "source": [
    "#\n",
    "\n",
    "plt.figure(figsize = (10,50))\n",
    "sns.barplot(x = 'fare', y = 'source', hue = 'destination', data = train);"
   ]
  },
  {
   "cell_type": "markdown",
   "id": "1180bb27",
   "metadata": {},
   "source": [
    "### Extract Day Date and Time from TimeStamp"
   ]
  },
  {
   "cell_type": "code",
   "execution_count": 38,
   "id": "b04dedc9",
   "metadata": {},
   "outputs": [],
   "source": [
    "xtrain['date_time'] = pd.to_datetime(xtrain['time_stamp'] / 1000, unit = 's')"
   ]
  },
  {
   "cell_type": "code",
   "execution_count": 39,
   "id": "eadce6e6",
   "metadata": {},
   "outputs": [],
   "source": [
    "xtrain['hour'] = xtrain['date_time'].dt.hour"
   ]
  },
  {
   "cell_type": "code",
   "execution_count": 40,
   "id": "62c5b3a5",
   "metadata": {},
   "outputs": [],
   "source": [
    "xtest['date_time'] = pd.to_datetime(xtest['time_stamp'] / 1000, unit = 's')"
   ]
  },
  {
   "cell_type": "code",
   "execution_count": 41,
   "id": "2679ffff",
   "metadata": {},
   "outputs": [],
   "source": [
    "xtest['hour'] = xtest['date_time'].dt.hour"
   ]
  },
  {
   "cell_type": "markdown",
   "id": "0ff9346a",
   "metadata": {},
   "source": [
    "## Corrleation\n",
    "\n",
    "Let's encode all the features and check the correlation"
   ]
  },
  {
   "cell_type": "code",
   "execution_count": 42,
   "id": "4ad8dfe4",
   "metadata": {},
   "outputs": [],
   "source": [
    "labeldf = xtrain.copy()"
   ]
  },
  {
   "cell_type": "code",
   "execution_count": 43,
   "id": "a7e41dc7",
   "metadata": {},
   "outputs": [],
   "source": [
    "from sklearn import preprocessing"
   ]
  },
  {
   "cell_type": "code",
   "execution_count": 44,
   "id": "3c4a922c",
   "metadata": {},
   "outputs": [],
   "source": [
    "label_encoder = preprocessing.LabelEncoder()"
   ]
  },
  {
   "cell_type": "code",
   "execution_count": 45,
   "id": "cc18c22c",
   "metadata": {},
   "outputs": [],
   "source": [
    "for i in labeldf:\n",
    "    if labeldf[i].dtypes == 'object':\n",
    "        labeldf[i] = label_encoder.fit_transform(labeldf[i])"
   ]
  },
  {
   "cell_type": "code",
   "execution_count": 46,
   "id": "2291a7f7",
   "metadata": {},
   "outputs": [
    {
     "data": {
      "text/html": [
       "<div>\n",
       "<style scoped>\n",
       "    .dataframe tbody tr th:only-of-type {\n",
       "        vertical-align: middle;\n",
       "    }\n",
       "\n",
       "    .dataframe tbody tr th {\n",
       "        vertical-align: top;\n",
       "    }\n",
       "\n",
       "    .dataframe thead th {\n",
       "        text-align: right;\n",
       "    }\n",
       "</style>\n",
       "<table border=\"1\" class=\"dataframe\">\n",
       "  <thead>\n",
       "    <tr style=\"text-align: right;\">\n",
       "      <th></th>\n",
       "      <th>index</th>\n",
       "      <th>time_stamp</th>\n",
       "      <th>cab_provider</th>\n",
       "      <th>source</th>\n",
       "      <th>destination</th>\n",
       "      <th>distance</th>\n",
       "      <th>surge_multiplier</th>\n",
       "      <th>cab_type</th>\n",
       "      <th>fare</th>\n",
       "      <th>date_time</th>\n",
       "      <th>hour</th>\n",
       "    </tr>\n",
       "  </thead>\n",
       "  <tbody>\n",
       "    <tr>\n",
       "      <th>0</th>\n",
       "      <td>0</td>\n",
       "      <td>1543203646318</td>\n",
       "      <td>0</td>\n",
       "      <td>2</td>\n",
       "      <td>10</td>\n",
       "      <td>3.03</td>\n",
       "      <td>1.0</td>\n",
       "      <td>4</td>\n",
       "      <td>3.555348</td>\n",
       "      <td>2018-11-26 03:40:46.318000128</td>\n",
       "      <td>3</td>\n",
       "    </tr>\n",
       "    <tr>\n",
       "      <th>1</th>\n",
       "      <td>1</td>\n",
       "      <td>1543203646319</td>\n",
       "      <td>1</td>\n",
       "      <td>9</td>\n",
       "      <td>10</td>\n",
       "      <td>1.30</td>\n",
       "      <td>1.0</td>\n",
       "      <td>0</td>\n",
       "      <td>2.970414</td>\n",
       "      <td>2018-11-26 03:40:46.319000064</td>\n",
       "      <td>3</td>\n",
       "    </tr>\n",
       "    <tr>\n",
       "      <th>2</th>\n",
       "      <td>2</td>\n",
       "      <td>1543203646320</td>\n",
       "      <td>1</td>\n",
       "      <td>10</td>\n",
       "      <td>3</td>\n",
       "      <td>2.71</td>\n",
       "      <td>1.0</td>\n",
       "      <td>9</td>\n",
       "      <td>3.020425</td>\n",
       "      <td>2018-11-26 03:40:46.320000000</td>\n",
       "      <td>3</td>\n",
       "    </tr>\n",
       "    <tr>\n",
       "      <th>3</th>\n",
       "      <td>3</td>\n",
       "      <td>1543203646320</td>\n",
       "      <td>0</td>\n",
       "      <td>8</td>\n",
       "      <td>1</td>\n",
       "      <td>2.43</td>\n",
       "      <td>1.0</td>\n",
       "      <td>5</td>\n",
       "      <td>2.442347</td>\n",
       "      <td>2018-11-26 03:40:46.320000000</td>\n",
       "      <td>3</td>\n",
       "    </tr>\n",
       "  </tbody>\n",
       "</table>\n",
       "</div>"
      ],
      "text/plain": [
       "   index     time_stamp  cab_provider  source  destination  distance  \\\n",
       "0      0  1543203646318             0       2           10      3.03   \n",
       "1      1  1543203646319             1       9           10      1.30   \n",
       "2      2  1543203646320             1      10            3      2.71   \n",
       "3      3  1543203646320             0       8            1      2.43   \n",
       "\n",
       "   surge_multiplier  cab_type      fare                     date_time  hour  \n",
       "0               1.0         4  3.555348 2018-11-26 03:40:46.318000128     3  \n",
       "1               1.0         0  2.970414 2018-11-26 03:40:46.319000064     3  \n",
       "2               1.0         9  3.020425 2018-11-26 03:40:46.320000000     3  \n",
       "3               1.0         5  2.442347 2018-11-26 03:40:46.320000000     3  "
      ]
     },
     "execution_count": 46,
     "metadata": {},
     "output_type": "execute_result"
    }
   ],
   "source": [
    "labeldf.head(4)"
   ]
  },
  {
   "cell_type": "code",
   "execution_count": 47,
   "id": "f1242424",
   "metadata": {},
   "outputs": [
    {
     "data": {
      "image/png": "[encoded data removed]",
      "text/plain": [
       "<Figure size 720x576 with 2 Axes>"
      ]
     },
     "metadata": {
      "needs_background": "light"
     },
     "output_type": "display_data"
    }
   ],
   "source": [
    "corrmat = labeldf.corr()\n",
    "plt.figure(figsize = (10,8))\n",
    "sns.heatmap(corrmat, vmax = .8, annot = True);"
   ]
  },
  {
   "cell_type": "code",
   "execution_count": 48,
   "id": "5e7fd042",
   "metadata": {},
   "outputs": [],
   "source": [
    "xtrain.drop('index', inplace = True, axis =1)\n",
    "xtrain.drop('time_stamp', inplace = True, axis = 1)\n",
    "xtrain.drop('date_time', inplace = True, axis = 1)"
   ]
  },
  {
   "cell_type": "code",
   "execution_count": 49,
   "id": "38771c2f",
   "metadata": {},
   "outputs": [],
   "source": [
    "xtest.drop('index', inplace = True, axis =1)\n",
    "xtest.drop('time_stamp', inplace = True, axis = 1)\n",
    "xtest.drop('date_time', inplace = True, axis = 1)"
   ]
  },
  {
   "cell_type": "markdown",
   "id": "49f7dbc0",
   "metadata": {},
   "source": [
    "## Fix skewed Features"
   ]
  },
  {
   "cell_type": "code",
   "execution_count": 50,
   "id": "b0eda0eb",
   "metadata": {},
   "outputs": [],
   "source": [
    "# Fetch all numerical features\n",
    "\n",
    "numeric_dtypes = ['int16', 'int32', 'int64', 'float16', 'float32', 'float64']\n",
    "numeric = []\n",
    "for i in xtrain.columns:\n",
    "    if xtrain[i].dtype in numeric_dtypes:\n",
    "        numeric.append(i)"
   ]
  },
  {
   "cell_type": "code",
   "execution_count": 51,
   "id": "b29cacb7",
   "metadata": {},
   "outputs": [
    {
     "data": {
      "image/png": "[encoded data removed]",
      "text/plain": [
       "<Figure size 576x504 with 1 Axes>"
      ]
     },
     "metadata": {},
     "output_type": "display_data"
    }
   ],
   "source": [
    "# Create box plots for all numeric features\n",
    "\n",
    "sns.set_style('white')\n",
    "f, ax = plt.subplots(figsize = (8,7))\n",
    "ax.set_xscale('log')\n",
    "ax = sns.boxplot(data = xtrain[numeric], orient = \"h\", palette = 'Set1')\n",
    "ax.xaxis.grid(False)\n",
    "ax.set(ylabel = \"Feature names\")\n",
    "ax.set(xlabel = \"Numeric values\")\n",
    "ax.set(title = \"Numeric Distribution of Features\")\n",
    "sns.despine(trim = True, left = True)"
   ]
  },
  {
   "cell_type": "markdown",
   "id": "reliable-equation",
   "metadata": {},
   "source": [
    "### Balancing Dataset"
   ]
  },
  {
   "cell_type": "code",
   "execution_count": 52,
   "id": "69dcff94",
   "metadata": {},
   "outputs": [
    {
     "data": {
      "text/plain": [
       "1.00    96753\n",
       "1.25     1715\n",
       "1.50      764\n",
       "1.75      403\n",
       "2.00      337\n",
       "2.50       23\n",
       "3.00        5\n",
       "Name: surge_multiplier, dtype: int64"
      ]
     },
     "execution_count": 52,
     "metadata": {},
     "output_type": "execute_result"
    }
   ],
   "source": [
    "# surge_multiplier\n",
    "\n",
    "xtrain['surge_multiplier'].value_counts()"
   ]
  },
  {
   "cell_type": "code",
   "execution_count": 53,
   "id": "unnecessary-lending",
   "metadata": {},
   "outputs": [],
   "source": [
    "xfilter = xtrain[xtrain['surge_multiplier'] == 1.00][:2500]"
   ]
  },
  {
   "cell_type": "code",
   "execution_count": 54,
   "id": "intellectual-nurse",
   "metadata": {},
   "outputs": [],
   "source": [
    "xtrain = xtrain[xtrain['surge_multiplier'] != 1.00]"
   ]
  },
  {
   "cell_type": "code",
   "execution_count": 55,
   "id": "light-adelaide",
   "metadata": {},
   "outputs": [
    {
     "data": {
      "text/plain": [
       "1.25    1715\n",
       "1.50     764\n",
       "1.75     403\n",
       "2.00     337\n",
       "2.50      23\n",
       "3.00       5\n",
       "Name: surge_multiplier, dtype: int64"
      ]
     },
     "execution_count": 55,
     "metadata": {},
     "output_type": "execute_result"
    }
   ],
   "source": [
    "xtrain['surge_multiplier'].value_counts()"
   ]
  },
  {
   "cell_type": "code",
   "execution_count": 56,
   "id": "worthy-oregon",
   "metadata": {},
   "outputs": [],
   "source": [
    "xtrain = pd.concat([xtrain, xfilter])"
   ]
  },
  {
   "cell_type": "code",
   "execution_count": 57,
   "id": "neural-elements",
   "metadata": {},
   "outputs": [
    {
     "data": {
      "text/plain": [
       "1.00    2500\n",
       "1.25    1715\n",
       "1.50     764\n",
       "1.75     403\n",
       "2.00     337\n",
       "2.50      23\n",
       "3.00       5\n",
       "Name: surge_multiplier, dtype: int64"
      ]
     },
     "execution_count": 57,
     "metadata": {},
     "output_type": "execute_result"
    }
   ],
   "source": [
    "xtrain['surge_multiplier'].value_counts()"
   ]
  },
  {
   "cell_type": "code",
   "execution_count": 58,
   "id": "decimal-franklin",
   "metadata": {},
   "outputs": [],
   "source": [
    "xtrain = xtrain[xtrain['surge_multiplier'] != 3.00]\n",
    "xtrain = xtrain[xtrain['surge_multiplier'] != 2.50]\n"
   ]
  },
  {
   "cell_type": "code",
   "execution_count": 59,
   "id": "mechanical-colors",
   "metadata": {},
   "outputs": [
    {
     "data": {
      "text/plain": [
       "1.00    2500\n",
       "1.25    1715\n",
       "1.50     764\n",
       "1.75     403\n",
       "2.00     337\n",
       "Name: surge_multiplier, dtype: int64"
      ]
     },
     "execution_count": 59,
     "metadata": {},
     "output_type": "execute_result"
    }
   ],
   "source": [
    "xtrain['surge_multiplier'].value_counts()"
   ]
  },
  {
   "cell_type": "code",
   "execution_count": 60,
   "id": "seeing-reaction",
   "metadata": {},
   "outputs": [
    {
     "data": {
      "text/plain": [
       "(5719, 8)"
      ]
     },
     "execution_count": 60,
     "metadata": {},
     "output_type": "execute_result"
    }
   ],
   "source": [
    "xtrain.shape"
   ]
  },
  {
   "cell_type": "code",
   "execution_count": 61,
   "id": "1df5c426",
   "metadata": {},
   "outputs": [
    {
     "data": {
      "image/png": "[encoded data removed]",
      "text/plain": [
       "<Figure size 720x576 with 2 Axes>"
      ]
     },
     "metadata": {},
     "output_type": "display_data"
    }
   ],
   "source": [
    "# Correlation\n",
    "\n",
    "\n",
    "corrmat = xtrain.corr()\n",
    "plt.figure(figsize = (10,8))\n",
    "sns.heatmap(corrmat, vmax = .8, annot = True);"
   ]
  },
  {
   "cell_type": "code",
   "execution_count": 62,
   "id": "0a99c396",
   "metadata": {},
   "outputs": [],
   "source": [
    "from scipy.stats import skew, norm\n",
    "from scipy.special import boxcox1p\n",
    "from scipy.stats import boxcox_normmax"
   ]
  },
  {
   "cell_type": "code",
   "execution_count": 63,
   "id": "529b7e4b",
   "metadata": {},
   "outputs": [
    {
     "name": "stdout",
     "output_type": "stream",
     "text": [
      "There are 3 numerical features with Skew > 0.5 :\n"
     ]
    },
    {
     "data": {
      "text/plain": [
       "surge_multiplier    1.102396\n",
       "hour                0.856791\n",
       "distance            0.516078\n",
       "fare               -0.118377\n",
       "dtype: float64"
      ]
     },
     "execution_count": 63,
     "metadata": {},
     "output_type": "execute_result"
    }
   ],
   "source": [
    "# Find skewed numerical features\n",
    "\n",
    "skew_features = xtrain[numeric].apply(lambda x: skew(x)).sort_values(ascending = False)\n",
    "\n",
    "high_skew = skew_features[skew_features > 0.5]\n",
    "skew_index = high_skew.index\n",
    "\n",
    "print(\"There are {} numerical features with Skew > 0.5 :\".format(high_skew.shape[0]))\n",
    "skewness = pd.DataFrame({'Skew': high_skew})\n",
    "skew_features.head(10)"
   ]
  },
  {
   "cell_type": "code",
   "execution_count": 64,
   "id": "cb568d3c",
   "metadata": {},
   "outputs": [],
   "source": [
    "xxtrain = xtrain.copy()"
   ]
  },
  {
   "cell_type": "code",
   "execution_count": 65,
   "id": "67dc52fe",
   "metadata": {},
   "outputs": [],
   "source": [
    "# Normalize skewed features\n",
    "\n",
    "xxtrain[\"distance\"] = boxcox1p(xxtrain[\"distance\"], boxcox_normmax(xxtrain[\"distance\"] + 1))\n",
    "xxtrain[\"hour\"] = boxcox1p(xxtrain[\"hour\"], boxcox_normmax(xxtrain[\"hour\"] + 1))\n",
    "\n",
    "xtest['distance'] = boxcox1p(xtest['distance'], boxcox_normmax(xtest['distance'] + 1))\n",
    "xtest['hour'] = boxcox1p(xtest['hour'], boxcox_normmax(xtest['hour'] + 1))"
   ]
  },
  {
   "cell_type": "code",
   "execution_count": 66,
   "id": "f128d204",
   "metadata": {},
   "outputs": [
    {
     "name": "stdout",
     "output_type": "stream",
     "text": [
      "There are 1 numerical features with Skew > 0.5 :\n"
     ]
    },
    {
     "data": {
      "text/plain": [
       "surge_multiplier    1.102396\n",
       "distance            0.014082\n",
       "hour               -0.006454\n",
       "fare               -0.118377\n",
       "dtype: float64"
      ]
     },
     "execution_count": 66,
     "metadata": {},
     "output_type": "execute_result"
    }
   ],
   "source": [
    "# Find skewed numerical features\n",
    "\n",
    "skew_features = xxtrain[numeric].apply(lambda x: skew(x)).sort_values(ascending = False)\n",
    "\n",
    "high_skew = skew_features[skew_features > 0.5]\n",
    "skew_index = high_skew.index\n",
    "\n",
    "print(\"There are {} numerical features with Skew > 0.5 :\".format(high_skew.shape[0]))\n",
    "skewness = pd.DataFrame({'Skew': high_skew})\n",
    "skew_features.head(10)"
   ]
  },
  {
   "cell_type": "code",
   "execution_count": 67,
   "id": "04b60f73",
   "metadata": {},
   "outputs": [
    {
     "data": {
      "image/png": "[encoded data removed]",
      "text/plain": [
       "<Figure size 576x504 with 1 Axes>"
      ]
     },
     "metadata": {},
     "output_type": "display_data"
    }
   ],
   "source": [
    "# Create box plots for all numeric features\n",
    "\n",
    "sns.set_style('white')\n",
    "f, ax = plt.subplots(figsize = (8,7))\n",
    "ax.set_xscale('log')\n",
    "ax = sns.boxplot(data = xxtrain[numeric], orient = \"h\", palette = 'Set1')\n",
    "ax.xaxis.grid(False)\n",
    "ax.set(ylabel = \"Feature names\")\n",
    "ax.set(xlabel = \"Numeric values\")\n",
    "ax.set(title = \"Numeric Distribution of Features\")\n",
    "sns.despine(trim = True, left = True)"
   ]
  },
  {
   "cell_type": "code",
   "execution_count": 68,
   "id": "7675d38b",
   "metadata": {},
   "outputs": [
    {
     "data": {
      "image/png": "[encoded data removed]",
      "text/plain": [
       "<Figure size 576x432 with 1 Axes>"
      ]
     },
     "metadata": {},
     "output_type": "display_data"
    }
   ],
   "source": [
    "# Distance\n",
    "\n",
    "plt.figure(figsize = (8,6))\n",
    "sns.boxplot(x = 'distance', data = xxtrain);"
   ]
  },
  {
   "cell_type": "markdown",
   "id": "ddeefad9",
   "metadata": {},
   "source": [
    "## Encode Categorical Features"
   ]
  },
  {
   "cell_type": "code",
   "execution_count": 69,
   "id": "c3968604",
   "metadata": {},
   "outputs": [],
   "source": [
    "xxtrain = pd.get_dummies(xxtrain).reset_index(drop = True)\n",
    "xtest = pd.get_dummies(xtest).reset_index(drop = True)"
   ]
  },
  {
   "cell_type": "code",
   "execution_count": 70,
   "id": "96333650",
   "metadata": {},
   "outputs": [
    {
     "data": {
      "text/html": [
       "<div>\n",
       "<style scoped>\n",
       "    .dataframe tbody tr th:only-of-type {\n",
       "        vertical-align: middle;\n",
       "    }\n",
       "\n",
       "    .dataframe tbody tr th {\n",
       "        vertical-align: top;\n",
       "    }\n",
       "\n",
       "    .dataframe thead th {\n",
       "        text-align: right;\n",
       "    }\n",
       "</style>\n",
       "<table border=\"1\" class=\"dataframe\">\n",
       "  <thead>\n",
       "    <tr style=\"text-align: right;\">\n",
       "      <th></th>\n",
       "      <th>distance</th>\n",
       "      <th>surge_multiplier</th>\n",
       "      <th>fare</th>\n",
       "      <th>hour</th>\n",
       "      <th>cab_provider_Lyft</th>\n",
       "      <th>cab_provider_Uber</th>\n",
       "      <th>source_Back Bay</th>\n",
       "      <th>source_Beacon Hill</th>\n",
       "      <th>source_Boston University</th>\n",
       "      <th>source_Fenway</th>\n",
       "      <th>...</th>\n",
       "      <th>cab_type_Lux</th>\n",
       "      <th>cab_type_Lux Black</th>\n",
       "      <th>cab_type_Lux Black XL</th>\n",
       "      <th>cab_type_Lyft</th>\n",
       "      <th>cab_type_Lyft XL</th>\n",
       "      <th>cab_type_Shared</th>\n",
       "      <th>cab_type_UberPool</th>\n",
       "      <th>cab_type_UberX</th>\n",
       "      <th>cab_type_UberXL</th>\n",
       "      <th>cab_type_WAV</th>\n",
       "    </tr>\n",
       "  </thead>\n",
       "  <tbody>\n",
       "    <tr>\n",
       "      <th>0</th>\n",
       "      <td>2.323822</td>\n",
       "      <td>1.75</td>\n",
       "      <td>3.881564</td>\n",
       "      <td>1.635315</td>\n",
       "      <td>1</td>\n",
       "      <td>0</td>\n",
       "      <td>0</td>\n",
       "      <td>0</td>\n",
       "      <td>1</td>\n",
       "      <td>0</td>\n",
       "      <td>...</td>\n",
       "      <td>1</td>\n",
       "      <td>0</td>\n",
       "      <td>0</td>\n",
       "      <td>0</td>\n",
       "      <td>0</td>\n",
       "      <td>0</td>\n",
       "      <td>0</td>\n",
       "      <td>0</td>\n",
       "      <td>0</td>\n",
       "      <td>0</td>\n",
       "    </tr>\n",
       "    <tr>\n",
       "      <th>1</th>\n",
       "      <td>2.323822</td>\n",
       "      <td>1.75</td>\n",
       "      <td>4.151040</td>\n",
       "      <td>1.635315</td>\n",
       "      <td>1</td>\n",
       "      <td>0</td>\n",
       "      <td>0</td>\n",
       "      <td>0</td>\n",
       "      <td>1</td>\n",
       "      <td>0</td>\n",
       "      <td>...</td>\n",
       "      <td>0</td>\n",
       "      <td>1</td>\n",
       "      <td>0</td>\n",
       "      <td>0</td>\n",
       "      <td>0</td>\n",
       "      <td>0</td>\n",
       "      <td>0</td>\n",
       "      <td>0</td>\n",
       "      <td>0</td>\n",
       "      <td>0</td>\n",
       "    </tr>\n",
       "    <tr>\n",
       "      <th>2</th>\n",
       "      <td>1.530202</td>\n",
       "      <td>1.25</td>\n",
       "      <td>3.020425</td>\n",
       "      <td>1.635315</td>\n",
       "      <td>1</td>\n",
       "      <td>0</td>\n",
       "      <td>0</td>\n",
       "      <td>0</td>\n",
       "      <td>0</td>\n",
       "      <td>1</td>\n",
       "      <td>...</td>\n",
       "      <td>0</td>\n",
       "      <td>0</td>\n",
       "      <td>0</td>\n",
       "      <td>0</td>\n",
       "      <td>1</td>\n",
       "      <td>0</td>\n",
       "      <td>0</td>\n",
       "      <td>0</td>\n",
       "      <td>0</td>\n",
       "      <td>0</td>\n",
       "    </tr>\n",
       "    <tr>\n",
       "      <th>3</th>\n",
       "      <td>1.168230</td>\n",
       "      <td>1.75</td>\n",
       "      <td>3.295837</td>\n",
       "      <td>1.635315</td>\n",
       "      <td>1</td>\n",
       "      <td>0</td>\n",
       "      <td>1</td>\n",
       "      <td>0</td>\n",
       "      <td>0</td>\n",
       "      <td>0</td>\n",
       "      <td>...</td>\n",
       "      <td>1</td>\n",
       "      <td>0</td>\n",
       "      <td>0</td>\n",
       "      <td>0</td>\n",
       "      <td>0</td>\n",
       "      <td>0</td>\n",
       "      <td>0</td>\n",
       "      <td>0</td>\n",
       "      <td>0</td>\n",
       "      <td>0</td>\n",
       "    </tr>\n",
       "    <tr>\n",
       "      <th>4</th>\n",
       "      <td>1.662334</td>\n",
       "      <td>1.25</td>\n",
       "      <td>3.157000</td>\n",
       "      <td>1.951272</td>\n",
       "      <td>1</td>\n",
       "      <td>0</td>\n",
       "      <td>0</td>\n",
       "      <td>0</td>\n",
       "      <td>1</td>\n",
       "      <td>0</td>\n",
       "      <td>...</td>\n",
       "      <td>1</td>\n",
       "      <td>0</td>\n",
       "      <td>0</td>\n",
       "      <td>0</td>\n",
       "      <td>0</td>\n",
       "      <td>0</td>\n",
       "      <td>0</td>\n",
       "      <td>0</td>\n",
       "      <td>0</td>\n",
       "      <td>0</td>\n",
       "    </tr>\n",
       "    <tr>\n",
       "      <th>...</th>\n",
       "      <td>...</td>\n",
       "      <td>...</td>\n",
       "      <td>...</td>\n",
       "      <td>...</td>\n",
       "      <td>...</td>\n",
       "      <td>...</td>\n",
       "      <td>...</td>\n",
       "      <td>...</td>\n",
       "      <td>...</td>\n",
       "      <td>...</td>\n",
       "      <td>...</td>\n",
       "      <td>...</td>\n",
       "      <td>...</td>\n",
       "      <td>...</td>\n",
       "      <td>...</td>\n",
       "      <td>...</td>\n",
       "      <td>...</td>\n",
       "      <td>...</td>\n",
       "      <td>...</td>\n",
       "      <td>...</td>\n",
       "      <td>...</td>\n",
       "    </tr>\n",
       "    <tr>\n",
       "      <th>5714</th>\n",
       "      <td>1.998818</td>\n",
       "      <td>1.00</td>\n",
       "      <td>3.157000</td>\n",
       "      <td>2.672792</td>\n",
       "      <td>1</td>\n",
       "      <td>0</td>\n",
       "      <td>0</td>\n",
       "      <td>0</td>\n",
       "      <td>1</td>\n",
       "      <td>0</td>\n",
       "      <td>...</td>\n",
       "      <td>1</td>\n",
       "      <td>0</td>\n",
       "      <td>0</td>\n",
       "      <td>0</td>\n",
       "      <td>0</td>\n",
       "      <td>0</td>\n",
       "      <td>0</td>\n",
       "      <td>0</td>\n",
       "      <td>0</td>\n",
       "      <td>0</td>\n",
       "    </tr>\n",
       "    <tr>\n",
       "      <th>5715</th>\n",
       "      <td>1.679421</td>\n",
       "      <td>1.00</td>\n",
       "      <td>3.449988</td>\n",
       "      <td>2.672792</td>\n",
       "      <td>0</td>\n",
       "      <td>1</td>\n",
       "      <td>1</td>\n",
       "      <td>0</td>\n",
       "      <td>0</td>\n",
       "      <td>0</td>\n",
       "      <td>...</td>\n",
       "      <td>0</td>\n",
       "      <td>0</td>\n",
       "      <td>0</td>\n",
       "      <td>0</td>\n",
       "      <td>0</td>\n",
       "      <td>0</td>\n",
       "      <td>0</td>\n",
       "      <td>0</td>\n",
       "      <td>0</td>\n",
       "      <td>0</td>\n",
       "    </tr>\n",
       "    <tr>\n",
       "      <th>5716</th>\n",
       "      <td>1.679421</td>\n",
       "      <td>1.00</td>\n",
       "      <td>3.178054</td>\n",
       "      <td>2.672792</td>\n",
       "      <td>0</td>\n",
       "      <td>1</td>\n",
       "      <td>1</td>\n",
       "      <td>0</td>\n",
       "      <td>0</td>\n",
       "      <td>0</td>\n",
       "      <td>...</td>\n",
       "      <td>0</td>\n",
       "      <td>0</td>\n",
       "      <td>0</td>\n",
       "      <td>0</td>\n",
       "      <td>0</td>\n",
       "      <td>0</td>\n",
       "      <td>0</td>\n",
       "      <td>0</td>\n",
       "      <td>0</td>\n",
       "      <td>0</td>\n",
       "    </tr>\n",
       "    <tr>\n",
       "      <th>5717</th>\n",
       "      <td>1.493700</td>\n",
       "      <td>1.00</td>\n",
       "      <td>2.708050</td>\n",
       "      <td>2.672792</td>\n",
       "      <td>0</td>\n",
       "      <td>1</td>\n",
       "      <td>0</td>\n",
       "      <td>1</td>\n",
       "      <td>0</td>\n",
       "      <td>0</td>\n",
       "      <td>...</td>\n",
       "      <td>0</td>\n",
       "      <td>0</td>\n",
       "      <td>0</td>\n",
       "      <td>0</td>\n",
       "      <td>0</td>\n",
       "      <td>0</td>\n",
       "      <td>0</td>\n",
       "      <td>0</td>\n",
       "      <td>1</td>\n",
       "      <td>0</td>\n",
       "    </tr>\n",
       "    <tr>\n",
       "      <th>5718</th>\n",
       "      <td>1.679421</td>\n",
       "      <td>1.00</td>\n",
       "      <td>2.442347</td>\n",
       "      <td>2.672792</td>\n",
       "      <td>0</td>\n",
       "      <td>1</td>\n",
       "      <td>1</td>\n",
       "      <td>0</td>\n",
       "      <td>0</td>\n",
       "      <td>0</td>\n",
       "      <td>...</td>\n",
       "      <td>0</td>\n",
       "      <td>0</td>\n",
       "      <td>0</td>\n",
       "      <td>0</td>\n",
       "      <td>0</td>\n",
       "      <td>0</td>\n",
       "      <td>0</td>\n",
       "      <td>0</td>\n",
       "      <td>0</td>\n",
       "      <td>1</td>\n",
       "    </tr>\n",
       "  </tbody>\n",
       "</table>\n",
       "<p>5719 rows × 42 columns</p>\n",
       "</div>"
      ],
      "text/plain": [
       "      distance  surge_multiplier      fare      hour  cab_provider_Lyft  \\\n",
       "0     2.323822              1.75  3.881564  1.635315                  1   \n",
       "1     2.323822              1.75  4.151040  1.635315                  1   \n",
       "2     1.530202              1.25  3.020425  1.635315                  1   \n",
       "3     1.168230              1.75  3.295837  1.635315                  1   \n",
       "4     1.662334              1.25  3.157000  1.951272                  1   \n",
       "...        ...               ...       ...       ...                ...   \n",
       "5714  1.998818              1.00  3.157000  2.672792                  1   \n",
       "5715  1.679421              1.00  3.449988  2.672792                  0   \n",
       "5716  1.679421              1.00  3.178054  2.672792                  0   \n",
       "5717  1.493700              1.00  2.708050  2.672792                  0   \n",
       "5718  1.679421              1.00  2.442347  2.672792                  0   \n",
       "\n",
       "      cab_provider_Uber  source_Back Bay  source_Beacon Hill  \\\n",
       "0                     0                0                   0   \n",
       "1                     0                0                   0   \n",
       "2                     0                0                   0   \n",
       "3                     0                1                   0   \n",
       "4                     0                0                   0   \n",
       "...                 ...              ...                 ...   \n",
       "5714                  0                0                   0   \n",
       "5715                  1                1                   0   \n",
       "5716                  1                1                   0   \n",
       "5717                  1                0                   1   \n",
       "5718                  1                1                   0   \n",
       "\n",
       "      source_Boston University  source_Fenway  ...  cab_type_Lux  \\\n",
       "0                            1              0  ...             1   \n",
       "1                            1              0  ...             0   \n",
       "2                            0              1  ...             0   \n",
       "3                            0              0  ...             1   \n",
       "4                            1              0  ...             1   \n",
       "...                        ...            ...  ...           ...   \n",
       "5714                         1              0  ...             1   \n",
       "5715                         0              0  ...             0   \n",
       "5716                         0              0  ...             0   \n",
       "5717                         0              0  ...             0   \n",
       "5718                         0              0  ...             0   \n",
       "\n",
       "      cab_type_Lux Black  cab_type_Lux Black XL  cab_type_Lyft  \\\n",
       "0                      0                      0              0   \n",
       "1                      1                      0              0   \n",
       "2                      0                      0              0   \n",
       "3                      0                      0              0   \n",
       "4                      0                      0              0   \n",
       "...                  ...                    ...            ...   \n",
       "5714                   0                      0              0   \n",
       "5715                   0                      0              0   \n",
       "5716                   0                      0              0   \n",
       "5717                   0                      0              0   \n",
       "5718                   0                      0              0   \n",
       "\n",
       "      cab_type_Lyft XL  cab_type_Shared  cab_type_UberPool  cab_type_UberX  \\\n",
       "0                    0                0                  0               0   \n",
       "1                    0                0                  0               0   \n",
       "2                    1                0                  0               0   \n",
       "3                    0                0                  0               0   \n",
       "4                    0                0                  0               0   \n",
       "...                ...              ...                ...             ...   \n",
       "5714                 0                0                  0               0   \n",
       "5715                 0                0                  0               0   \n",
       "5716                 0                0                  0               0   \n",
       "5717                 0                0                  0               0   \n",
       "5718                 0                0                  0               0   \n",
       "\n",
       "      cab_type_UberXL  cab_type_WAV  \n",
       "0                   0             0  \n",
       "1                   0             0  \n",
       "2                   0             0  \n",
       "3                   0             0  \n",
       "4                   0             0  \n",
       "...               ...           ...  \n",
       "5714                0             0  \n",
       "5715                0             0  \n",
       "5716                0             0  \n",
       "5717                1             0  \n",
       "5718                0             1  \n",
       "\n",
       "[5719 rows x 42 columns]"
      ]
     },
     "execution_count": 70,
     "metadata": {},
     "output_type": "execute_result"
    }
   ],
   "source": [
    "xxtrain"
   ]
  },
  {
   "cell_type": "code",
   "execution_count": 71,
   "id": "da9db16a",
   "metadata": {},
   "outputs": [
    {
     "data": {
      "text/html": [
       "<div>\n",
       "<style scoped>\n",
       "    .dataframe tbody tr th:only-of-type {\n",
       "        vertical-align: middle;\n",
       "    }\n",
       "\n",
       "    .dataframe tbody tr th {\n",
       "        vertical-align: top;\n",
       "    }\n",
       "\n",
       "    .dataframe thead th {\n",
       "        text-align: right;\n",
       "    }\n",
       "</style>\n",
       "<table border=\"1\" class=\"dataframe\">\n",
       "  <thead>\n",
       "    <tr style=\"text-align: right;\">\n",
       "      <th></th>\n",
       "      <th>distance</th>\n",
       "      <th>surge_multiplier</th>\n",
       "      <th>hour</th>\n",
       "      <th>cab_provider_Lyft</th>\n",
       "      <th>cab_provider_Uber</th>\n",
       "      <th>source_Back Bay</th>\n",
       "      <th>source_Beacon Hill</th>\n",
       "      <th>source_Boston University</th>\n",
       "      <th>source_Fenway</th>\n",
       "      <th>source_Financial District</th>\n",
       "      <th>...</th>\n",
       "      <th>cab_type_Lux</th>\n",
       "      <th>cab_type_Lux Black</th>\n",
       "      <th>cab_type_Lux Black XL</th>\n",
       "      <th>cab_type_Lyft</th>\n",
       "      <th>cab_type_Lyft XL</th>\n",
       "      <th>cab_type_Shared</th>\n",
       "      <th>cab_type_UberPool</th>\n",
       "      <th>cab_type_UberX</th>\n",
       "      <th>cab_type_UberXL</th>\n",
       "      <th>cab_type_WAV</th>\n",
       "    </tr>\n",
       "  </thead>\n",
       "  <tbody>\n",
       "    <tr>\n",
       "      <th>0</th>\n",
       "      <td>0.481668</td>\n",
       "      <td>1.0</td>\n",
       "      <td>0.000000</td>\n",
       "      <td>1</td>\n",
       "      <td>0</td>\n",
       "      <td>0</td>\n",
       "      <td>0</td>\n",
       "      <td>0</td>\n",
       "      <td>0</td>\n",
       "      <td>0</td>\n",
       "      <td>...</td>\n",
       "      <td>1</td>\n",
       "      <td>0</td>\n",
       "      <td>0</td>\n",
       "      <td>0</td>\n",
       "      <td>0</td>\n",
       "      <td>0</td>\n",
       "      <td>0</td>\n",
       "      <td>0</td>\n",
       "      <td>0</td>\n",
       "      <td>0</td>\n",
       "    </tr>\n",
       "    <tr>\n",
       "      <th>1</th>\n",
       "      <td>0.481668</td>\n",
       "      <td>1.0</td>\n",
       "      <td>0.000000</td>\n",
       "      <td>1</td>\n",
       "      <td>0</td>\n",
       "      <td>0</td>\n",
       "      <td>0</td>\n",
       "      <td>0</td>\n",
       "      <td>0</td>\n",
       "      <td>0</td>\n",
       "      <td>...</td>\n",
       "      <td>0</td>\n",
       "      <td>0</td>\n",
       "      <td>1</td>\n",
       "      <td>0</td>\n",
       "      <td>0</td>\n",
       "      <td>0</td>\n",
       "      <td>0</td>\n",
       "      <td>0</td>\n",
       "      <td>0</td>\n",
       "      <td>0</td>\n",
       "    </tr>\n",
       "    <tr>\n",
       "      <th>2</th>\n",
       "      <td>2.444188</td>\n",
       "      <td>1.0</td>\n",
       "      <td>0.000000</td>\n",
       "      <td>0</td>\n",
       "      <td>1</td>\n",
       "      <td>0</td>\n",
       "      <td>0</td>\n",
       "      <td>0</td>\n",
       "      <td>0</td>\n",
       "      <td>1</td>\n",
       "      <td>...</td>\n",
       "      <td>0</td>\n",
       "      <td>0</td>\n",
       "      <td>0</td>\n",
       "      <td>0</td>\n",
       "      <td>0</td>\n",
       "      <td>0</td>\n",
       "      <td>0</td>\n",
       "      <td>1</td>\n",
       "      <td>0</td>\n",
       "      <td>0</td>\n",
       "    </tr>\n",
       "    <tr>\n",
       "      <th>3</th>\n",
       "      <td>0.916622</td>\n",
       "      <td>1.0</td>\n",
       "      <td>0.000000</td>\n",
       "      <td>0</td>\n",
       "      <td>1</td>\n",
       "      <td>0</td>\n",
       "      <td>1</td>\n",
       "      <td>0</td>\n",
       "      <td>0</td>\n",
       "      <td>0</td>\n",
       "      <td>...</td>\n",
       "      <td>0</td>\n",
       "      <td>0</td>\n",
       "      <td>0</td>\n",
       "      <td>0</td>\n",
       "      <td>0</td>\n",
       "      <td>0</td>\n",
       "      <td>0</td>\n",
       "      <td>0</td>\n",
       "      <td>1</td>\n",
       "      <td>0</td>\n",
       "    </tr>\n",
       "    <tr>\n",
       "      <th>4</th>\n",
       "      <td>0.481668</td>\n",
       "      <td>1.0</td>\n",
       "      <td>0.000000</td>\n",
       "      <td>1</td>\n",
       "      <td>0</td>\n",
       "      <td>0</td>\n",
       "      <td>0</td>\n",
       "      <td>0</td>\n",
       "      <td>0</td>\n",
       "      <td>0</td>\n",
       "      <td>...</td>\n",
       "      <td>0</td>\n",
       "      <td>0</td>\n",
       "      <td>0</td>\n",
       "      <td>0</td>\n",
       "      <td>1</td>\n",
       "      <td>0</td>\n",
       "      <td>0</td>\n",
       "      <td>0</td>\n",
       "      <td>0</td>\n",
       "      <td>0</td>\n",
       "    </tr>\n",
       "    <tr>\n",
       "      <th>...</th>\n",
       "      <td>...</td>\n",
       "      <td>...</td>\n",
       "      <td>...</td>\n",
       "      <td>...</td>\n",
       "      <td>...</td>\n",
       "      <td>...</td>\n",
       "      <td>...</td>\n",
       "      <td>...</td>\n",
       "      <td>...</td>\n",
       "      <td>...</td>\n",
       "      <td>...</td>\n",
       "      <td>...</td>\n",
       "      <td>...</td>\n",
       "      <td>...</td>\n",
       "      <td>...</td>\n",
       "      <td>...</td>\n",
       "      <td>...</td>\n",
       "      <td>...</td>\n",
       "      <td>...</td>\n",
       "      <td>...</td>\n",
       "      <td>...</td>\n",
       "    </tr>\n",
       "    <tr>\n",
       "      <th>24995</th>\n",
       "      <td>1.570573</td>\n",
       "      <td>1.0</td>\n",
       "      <td>6109.768034</td>\n",
       "      <td>0</td>\n",
       "      <td>1</td>\n",
       "      <td>0</td>\n",
       "      <td>0</td>\n",
       "      <td>0</td>\n",
       "      <td>0</td>\n",
       "      <td>0</td>\n",
       "      <td>...</td>\n",
       "      <td>0</td>\n",
       "      <td>0</td>\n",
       "      <td>0</td>\n",
       "      <td>0</td>\n",
       "      <td>0</td>\n",
       "      <td>0</td>\n",
       "      <td>1</td>\n",
       "      <td>0</td>\n",
       "      <td>0</td>\n",
       "      <td>0</td>\n",
       "    </tr>\n",
       "    <tr>\n",
       "      <th>24996</th>\n",
       "      <td>1.570573</td>\n",
       "      <td>1.0</td>\n",
       "      <td>6109.768034</td>\n",
       "      <td>0</td>\n",
       "      <td>1</td>\n",
       "      <td>0</td>\n",
       "      <td>0</td>\n",
       "      <td>0</td>\n",
       "      <td>0</td>\n",
       "      <td>0</td>\n",
       "      <td>...</td>\n",
       "      <td>0</td>\n",
       "      <td>0</td>\n",
       "      <td>0</td>\n",
       "      <td>0</td>\n",
       "      <td>0</td>\n",
       "      <td>0</td>\n",
       "      <td>0</td>\n",
       "      <td>0</td>\n",
       "      <td>0</td>\n",
       "      <td>1</td>\n",
       "    </tr>\n",
       "    <tr>\n",
       "      <th>24997</th>\n",
       "      <td>1.570573</td>\n",
       "      <td>1.0</td>\n",
       "      <td>6109.768034</td>\n",
       "      <td>0</td>\n",
       "      <td>1</td>\n",
       "      <td>0</td>\n",
       "      <td>0</td>\n",
       "      <td>0</td>\n",
       "      <td>0</td>\n",
       "      <td>0</td>\n",
       "      <td>...</td>\n",
       "      <td>0</td>\n",
       "      <td>0</td>\n",
       "      <td>0</td>\n",
       "      <td>0</td>\n",
       "      <td>0</td>\n",
       "      <td>0</td>\n",
       "      <td>0</td>\n",
       "      <td>0</td>\n",
       "      <td>0</td>\n",
       "      <td>0</td>\n",
       "    </tr>\n",
       "    <tr>\n",
       "      <th>24998</th>\n",
       "      <td>1.542412</td>\n",
       "      <td>1.0</td>\n",
       "      <td>6109.768034</td>\n",
       "      <td>1</td>\n",
       "      <td>0</td>\n",
       "      <td>0</td>\n",
       "      <td>0</td>\n",
       "      <td>1</td>\n",
       "      <td>0</td>\n",
       "      <td>0</td>\n",
       "      <td>...</td>\n",
       "      <td>0</td>\n",
       "      <td>0</td>\n",
       "      <td>0</td>\n",
       "      <td>0</td>\n",
       "      <td>0</td>\n",
       "      <td>1</td>\n",
       "      <td>0</td>\n",
       "      <td>0</td>\n",
       "      <td>0</td>\n",
       "      <td>0</td>\n",
       "    </tr>\n",
       "    <tr>\n",
       "      <th>24999</th>\n",
       "      <td>1.542412</td>\n",
       "      <td>1.0</td>\n",
       "      <td>6109.768034</td>\n",
       "      <td>1</td>\n",
       "      <td>0</td>\n",
       "      <td>0</td>\n",
       "      <td>0</td>\n",
       "      <td>1</td>\n",
       "      <td>0</td>\n",
       "      <td>0</td>\n",
       "      <td>...</td>\n",
       "      <td>1</td>\n",
       "      <td>0</td>\n",
       "      <td>0</td>\n",
       "      <td>0</td>\n",
       "      <td>0</td>\n",
       "      <td>0</td>\n",
       "      <td>0</td>\n",
       "      <td>0</td>\n",
       "      <td>0</td>\n",
       "      <td>0</td>\n",
       "    </tr>\n",
       "  </tbody>\n",
       "</table>\n",
       "<p>25000 rows × 41 columns</p>\n",
       "</div>"
      ],
      "text/plain": [
       "       distance  surge_multiplier         hour  cab_provider_Lyft  \\\n",
       "0      0.481668               1.0     0.000000                  1   \n",
       "1      0.481668               1.0     0.000000                  1   \n",
       "2      2.444188               1.0     0.000000                  0   \n",
       "3      0.916622               1.0     0.000000                  0   \n",
       "4      0.481668               1.0     0.000000                  1   \n",
       "...         ...               ...          ...                ...   \n",
       "24995  1.570573               1.0  6109.768034                  0   \n",
       "24996  1.570573               1.0  6109.768034                  0   \n",
       "24997  1.570573               1.0  6109.768034                  0   \n",
       "24998  1.542412               1.0  6109.768034                  1   \n",
       "24999  1.542412               1.0  6109.768034                  1   \n",
       "\n",
       "       cab_provider_Uber  source_Back Bay  source_Beacon Hill  \\\n",
       "0                      0                0                   0   \n",
       "1                      0                0                   0   \n",
       "2                      1                0                   0   \n",
       "3                      1                0                   1   \n",
       "4                      0                0                   0   \n",
       "...                  ...              ...                 ...   \n",
       "24995                  1                0                   0   \n",
       "24996                  1                0                   0   \n",
       "24997                  1                0                   0   \n",
       "24998                  0                0                   0   \n",
       "24999                  0                0                   0   \n",
       "\n",
       "       source_Boston University  source_Fenway  source_Financial District  \\\n",
       "0                             0              0                          0   \n",
       "1                             0              0                          0   \n",
       "2                             0              0                          1   \n",
       "3                             0              0                          0   \n",
       "4                             0              0                          0   \n",
       "...                         ...            ...                        ...   \n",
       "24995                         0              0                          0   \n",
       "24996                         0              0                          0   \n",
       "24997                         0              0                          0   \n",
       "24998                         1              0                          0   \n",
       "24999                         1              0                          0   \n",
       "\n",
       "       ...  cab_type_Lux  cab_type_Lux Black  cab_type_Lux Black XL  \\\n",
       "0      ...             1                   0                      0   \n",
       "1      ...             0                   0                      1   \n",
       "2      ...             0                   0                      0   \n",
       "3      ...             0                   0                      0   \n",
       "4      ...             0                   0                      0   \n",
       "...    ...           ...                 ...                    ...   \n",
       "24995  ...             0                   0                      0   \n",
       "24996  ...             0                   0                      0   \n",
       "24997  ...             0                   0                      0   \n",
       "24998  ...             0                   0                      0   \n",
       "24999  ...             1                   0                      0   \n",
       "\n",
       "       cab_type_Lyft  cab_type_Lyft XL  cab_type_Shared  cab_type_UberPool  \\\n",
       "0                  0                 0                0                  0   \n",
       "1                  0                 0                0                  0   \n",
       "2                  0                 0                0                  0   \n",
       "3                  0                 0                0                  0   \n",
       "4                  0                 1                0                  0   \n",
       "...              ...               ...              ...                ...   \n",
       "24995              0                 0                0                  1   \n",
       "24996              0                 0                0                  0   \n",
       "24997              0                 0                0                  0   \n",
       "24998              0                 0                1                  0   \n",
       "24999              0                 0                0                  0   \n",
       "\n",
       "       cab_type_UberX  cab_type_UberXL  cab_type_WAV  \n",
       "0                   0                0             0  \n",
       "1                   0                0             0  \n",
       "2                   1                0             0  \n",
       "3                   0                1             0  \n",
       "4                   0                0             0  \n",
       "...               ...              ...           ...  \n",
       "24995               0                0             0  \n",
       "24996               0                0             1  \n",
       "24997               0                0             0  \n",
       "24998               0                0             0  \n",
       "24999               0                0             0  \n",
       "\n",
       "[25000 rows x 41 columns]"
      ]
     },
     "execution_count": 71,
     "metadata": {},
     "output_type": "execute_result"
    }
   ],
   "source": [
    "xtest"
   ]
  },
  {
   "cell_type": "markdown",
   "id": "56033b38",
   "metadata": {},
   "source": [
    "# Models , Evaluation Metrics and Tuning"
   ]
  },
  {
   "cell_type": "markdown",
   "id": "869f4b8d",
   "metadata": {},
   "source": [
    "## Training and test sets"
   ]
  },
  {
   "cell_type": "code",
   "execution_count": 72,
   "id": "e3cf6629",
   "metadata": {},
   "outputs": [],
   "source": [
    "from sklearn.model_selection import train_test_split\n",
    "from sklearn.preprocessing import StandardScaler\n"
   ]
  },
  {
   "cell_type": "code",
   "execution_count": 73,
   "id": "b70c84bc",
   "metadata": {},
   "outputs": [],
   "source": [
    "extrain = xxtrain.copy()\n",
    "extrain = extrain.sample(frac = 1)\n",
    "extrain = extrain.iloc[:25000]"
   ]
  },
  {
   "cell_type": "code",
   "execution_count": 74,
   "id": "b24a6e35",
   "metadata": {},
   "outputs": [],
   "source": [
    "X = extrain.drop('fare', axis = 1)\n",
    "y = extrain['fare']\n",
    "\n",
    "# test data\n",
    "\n",
    "tX = xtest.copy()"
   ]
  },
  {
   "cell_type": "code",
   "execution_count": 75,
   "id": "454ecd0b",
   "metadata": {},
   "outputs": [],
   "source": [
    "scaler = StandardScaler()"
   ]
  },
  {
   "cell_type": "markdown",
   "id": "under-davis",
   "metadata": {},
   "source": [
    "**Scaling Training Data**"
   ]
  },
  {
   "cell_type": "code",
   "execution_count": 76,
   "id": "desperate-indonesian",
   "metadata": {},
   "outputs": [
    {
     "data": {
      "text/html": [
       "<div>\n",
       "<style scoped>\n",
       "    .dataframe tbody tr th:only-of-type {\n",
       "        vertical-align: middle;\n",
       "    }\n",
       "\n",
       "    .dataframe tbody tr th {\n",
       "        vertical-align: top;\n",
       "    }\n",
       "\n",
       "    .dataframe thead th {\n",
       "        text-align: right;\n",
       "    }\n",
       "</style>\n",
       "<table border=\"1\" class=\"dataframe\">\n",
       "  <thead>\n",
       "    <tr style=\"text-align: right;\">\n",
       "      <th></th>\n",
       "      <th>distance</th>\n",
       "      <th>surge_multiplier</th>\n",
       "      <th>hour</th>\n",
       "      <th>cab_provider_Lyft</th>\n",
       "      <th>cab_provider_Uber</th>\n",
       "      <th>source_Back Bay</th>\n",
       "      <th>source_Beacon Hill</th>\n",
       "      <th>source_Boston University</th>\n",
       "      <th>source_Fenway</th>\n",
       "      <th>source_Financial District</th>\n",
       "      <th>...</th>\n",
       "      <th>cab_type_Lux</th>\n",
       "      <th>cab_type_Lux Black</th>\n",
       "      <th>cab_type_Lux Black XL</th>\n",
       "      <th>cab_type_Lyft</th>\n",
       "      <th>cab_type_Lyft XL</th>\n",
       "      <th>cab_type_Shared</th>\n",
       "      <th>cab_type_UberPool</th>\n",
       "      <th>cab_type_UberX</th>\n",
       "      <th>cab_type_UberXL</th>\n",
       "      <th>cab_type_WAV</th>\n",
       "    </tr>\n",
       "  </thead>\n",
       "  <tbody>\n",
       "    <tr>\n",
       "      <th>4621</th>\n",
       "      <td>0.829369</td>\n",
       "      <td>1.00</td>\n",
       "      <td>2.459737</td>\n",
       "      <td>1</td>\n",
       "      <td>0</td>\n",
       "      <td>0</td>\n",
       "      <td>0</td>\n",
       "      <td>0</td>\n",
       "      <td>0</td>\n",
       "      <td>0</td>\n",
       "      <td>...</td>\n",
       "      <td>0</td>\n",
       "      <td>0</td>\n",
       "      <td>0</td>\n",
       "      <td>0</td>\n",
       "      <td>1</td>\n",
       "      <td>0</td>\n",
       "      <td>0</td>\n",
       "      <td>0</td>\n",
       "      <td>0</td>\n",
       "      <td>0</td>\n",
       "    </tr>\n",
       "    <tr>\n",
       "      <th>2113</th>\n",
       "      <td>1.525670</td>\n",
       "      <td>1.25</td>\n",
       "      <td>3.505551</td>\n",
       "      <td>1</td>\n",
       "      <td>0</td>\n",
       "      <td>0</td>\n",
       "      <td>0</td>\n",
       "      <td>0</td>\n",
       "      <td>1</td>\n",
       "      <td>0</td>\n",
       "      <td>...</td>\n",
       "      <td>1</td>\n",
       "      <td>0</td>\n",
       "      <td>0</td>\n",
       "      <td>0</td>\n",
       "      <td>0</td>\n",
       "      <td>0</td>\n",
       "      <td>0</td>\n",
       "      <td>0</td>\n",
       "      <td>0</td>\n",
       "      <td>0</td>\n",
       "    </tr>\n",
       "    <tr>\n",
       "      <th>662</th>\n",
       "      <td>1.512021</td>\n",
       "      <td>1.25</td>\n",
       "      <td>4.425609</td>\n",
       "      <td>1</td>\n",
       "      <td>0</td>\n",
       "      <td>0</td>\n",
       "      <td>1</td>\n",
       "      <td>0</td>\n",
       "      <td>0</td>\n",
       "      <td>0</td>\n",
       "      <td>...</td>\n",
       "      <td>0</td>\n",
       "      <td>0</td>\n",
       "      <td>0</td>\n",
       "      <td>0</td>\n",
       "      <td>1</td>\n",
       "      <td>0</td>\n",
       "      <td>0</td>\n",
       "      <td>0</td>\n",
       "      <td>0</td>\n",
       "      <td>0</td>\n",
       "    </tr>\n",
       "    <tr>\n",
       "      <th>3897</th>\n",
       "      <td>0.816843</td>\n",
       "      <td>1.00</td>\n",
       "      <td>2.221856</td>\n",
       "      <td>1</td>\n",
       "      <td>0</td>\n",
       "      <td>0</td>\n",
       "      <td>0</td>\n",
       "      <td>0</td>\n",
       "      <td>0</td>\n",
       "      <td>0</td>\n",
       "      <td>...</td>\n",
       "      <td>0</td>\n",
       "      <td>0</td>\n",
       "      <td>0</td>\n",
       "      <td>1</td>\n",
       "      <td>0</td>\n",
       "      <td>0</td>\n",
       "      <td>0</td>\n",
       "      <td>0</td>\n",
       "      <td>0</td>\n",
       "      <td>0</td>\n",
       "    </tr>\n",
       "    <tr>\n",
       "      <th>4234</th>\n",
       "      <td>1.241307</td>\n",
       "      <td>1.00</td>\n",
       "      <td>2.221856</td>\n",
       "      <td>0</td>\n",
       "      <td>1</td>\n",
       "      <td>0</td>\n",
       "      <td>0</td>\n",
       "      <td>0</td>\n",
       "      <td>0</td>\n",
       "      <td>0</td>\n",
       "      <td>...</td>\n",
       "      <td>0</td>\n",
       "      <td>0</td>\n",
       "      <td>0</td>\n",
       "      <td>0</td>\n",
       "      <td>0</td>\n",
       "      <td>0</td>\n",
       "      <td>0</td>\n",
       "      <td>0</td>\n",
       "      <td>1</td>\n",
       "      <td>0</td>\n",
       "    </tr>\n",
       "    <tr>\n",
       "      <th>...</th>\n",
       "      <td>...</td>\n",
       "      <td>...</td>\n",
       "      <td>...</td>\n",
       "      <td>...</td>\n",
       "      <td>...</td>\n",
       "      <td>...</td>\n",
       "      <td>...</td>\n",
       "      <td>...</td>\n",
       "      <td>...</td>\n",
       "      <td>...</td>\n",
       "      <td>...</td>\n",
       "      <td>...</td>\n",
       "      <td>...</td>\n",
       "      <td>...</td>\n",
       "      <td>...</td>\n",
       "      <td>...</td>\n",
       "      <td>...</td>\n",
       "      <td>...</td>\n",
       "      <td>...</td>\n",
       "      <td>...</td>\n",
       "      <td>...</td>\n",
       "    </tr>\n",
       "    <tr>\n",
       "      <th>4159</th>\n",
       "      <td>1.623447</td>\n",
       "      <td>1.00</td>\n",
       "      <td>2.221856</td>\n",
       "      <td>0</td>\n",
       "      <td>1</td>\n",
       "      <td>0</td>\n",
       "      <td>0</td>\n",
       "      <td>0</td>\n",
       "      <td>0</td>\n",
       "      <td>0</td>\n",
       "      <td>...</td>\n",
       "      <td>0</td>\n",
       "      <td>0</td>\n",
       "      <td>0</td>\n",
       "      <td>0</td>\n",
       "      <td>0</td>\n",
       "      <td>0</td>\n",
       "      <td>1</td>\n",
       "      <td>0</td>\n",
       "      <td>0</td>\n",
       "      <td>0</td>\n",
       "    </tr>\n",
       "    <tr>\n",
       "      <th>4111</th>\n",
       "      <td>1.447262</td>\n",
       "      <td>1.00</td>\n",
       "      <td>2.221856</td>\n",
       "      <td>0</td>\n",
       "      <td>1</td>\n",
       "      <td>0</td>\n",
       "      <td>0</td>\n",
       "      <td>0</td>\n",
       "      <td>0</td>\n",
       "      <td>0</td>\n",
       "      <td>...</td>\n",
       "      <td>0</td>\n",
       "      <td>0</td>\n",
       "      <td>0</td>\n",
       "      <td>0</td>\n",
       "      <td>0</td>\n",
       "      <td>0</td>\n",
       "      <td>0</td>\n",
       "      <td>1</td>\n",
       "      <td>0</td>\n",
       "      <td>0</td>\n",
       "    </tr>\n",
       "    <tr>\n",
       "      <th>5100</th>\n",
       "      <td>1.346612</td>\n",
       "      <td>1.00</td>\n",
       "      <td>2.459737</td>\n",
       "      <td>1</td>\n",
       "      <td>0</td>\n",
       "      <td>0</td>\n",
       "      <td>0</td>\n",
       "      <td>0</td>\n",
       "      <td>0</td>\n",
       "      <td>0</td>\n",
       "      <td>...</td>\n",
       "      <td>0</td>\n",
       "      <td>0</td>\n",
       "      <td>0</td>\n",
       "      <td>1</td>\n",
       "      <td>0</td>\n",
       "      <td>0</td>\n",
       "      <td>0</td>\n",
       "      <td>0</td>\n",
       "      <td>0</td>\n",
       "      <td>0</td>\n",
       "    </tr>\n",
       "    <tr>\n",
       "      <th>5277</th>\n",
       "      <td>1.399881</td>\n",
       "      <td>1.00</td>\n",
       "      <td>2.459737</td>\n",
       "      <td>0</td>\n",
       "      <td>1</td>\n",
       "      <td>0</td>\n",
       "      <td>0</td>\n",
       "      <td>0</td>\n",
       "      <td>0</td>\n",
       "      <td>0</td>\n",
       "      <td>...</td>\n",
       "      <td>0</td>\n",
       "      <td>0</td>\n",
       "      <td>0</td>\n",
       "      <td>0</td>\n",
       "      <td>0</td>\n",
       "      <td>0</td>\n",
       "      <td>1</td>\n",
       "      <td>0</td>\n",
       "      <td>0</td>\n",
       "      <td>0</td>\n",
       "    </tr>\n",
       "    <tr>\n",
       "      <th>1222</th>\n",
       "      <td>1.076063</td>\n",
       "      <td>1.25</td>\n",
       "      <td>1.635315</td>\n",
       "      <td>1</td>\n",
       "      <td>0</td>\n",
       "      <td>0</td>\n",
       "      <td>0</td>\n",
       "      <td>1</td>\n",
       "      <td>0</td>\n",
       "      <td>0</td>\n",
       "      <td>...</td>\n",
       "      <td>0</td>\n",
       "      <td>0</td>\n",
       "      <td>0</td>\n",
       "      <td>0</td>\n",
       "      <td>1</td>\n",
       "      <td>0</td>\n",
       "      <td>0</td>\n",
       "      <td>0</td>\n",
       "      <td>0</td>\n",
       "      <td>0</td>\n",
       "    </tr>\n",
       "  </tbody>\n",
       "</table>\n",
       "<p>5719 rows × 41 columns</p>\n",
       "</div>"
      ],
      "text/plain": [
       "      distance  surge_multiplier      hour  cab_provider_Lyft  \\\n",
       "4621  0.829369              1.00  2.459737                  1   \n",
       "2113  1.525670              1.25  3.505551                  1   \n",
       "662   1.512021              1.25  4.425609                  1   \n",
       "3897  0.816843              1.00  2.221856                  1   \n",
       "4234  1.241307              1.00  2.221856                  0   \n",
       "...        ...               ...       ...                ...   \n",
       "4159  1.623447              1.00  2.221856                  0   \n",
       "4111  1.447262              1.00  2.221856                  0   \n",
       "5100  1.346612              1.00  2.459737                  1   \n",
       "5277  1.399881              1.00  2.459737                  0   \n",
       "1222  1.076063              1.25  1.635315                  1   \n",
       "\n",
       "      cab_provider_Uber  source_Back Bay  source_Beacon Hill  \\\n",
       "4621                  0                0                   0   \n",
       "2113                  0                0                   0   \n",
       "662                   0                0                   1   \n",
       "3897                  0                0                   0   \n",
       "4234                  1                0                   0   \n",
       "...                 ...              ...                 ...   \n",
       "4159                  1                0                   0   \n",
       "4111                  1                0                   0   \n",
       "5100                  0                0                   0   \n",
       "5277                  1                0                   0   \n",
       "1222                  0                0                   0   \n",
       "\n",
       "      source_Boston University  source_Fenway  source_Financial District  ...  \\\n",
       "4621                         0              0                          0  ...   \n",
       "2113                         0              1                          0  ...   \n",
       "662                          0              0                          0  ...   \n",
       "3897                         0              0                          0  ...   \n",
       "4234                         0              0                          0  ...   \n",
       "...                        ...            ...                        ...  ...   \n",
       "4159                         0              0                          0  ...   \n",
       "4111                         0              0                          0  ...   \n",
       "5100                         0              0                          0  ...   \n",
       "5277                         0              0                          0  ...   \n",
       "1222                         1              0                          0  ...   \n",
       "\n",
       "      cab_type_Lux  cab_type_Lux Black  cab_type_Lux Black XL  cab_type_Lyft  \\\n",
       "4621             0                   0                      0              0   \n",
       "2113             1                   0                      0              0   \n",
       "662              0                   0                      0              0   \n",
       "3897             0                   0                      0              1   \n",
       "4234             0                   0                      0              0   \n",
       "...            ...                 ...                    ...            ...   \n",
       "4159             0                   0                      0              0   \n",
       "4111             0                   0                      0              0   \n",
       "5100             0                   0                      0              1   \n",
       "5277             0                   0                      0              0   \n",
       "1222             0                   0                      0              0   \n",
       "\n",
       "      cab_type_Lyft XL  cab_type_Shared  cab_type_UberPool  cab_type_UberX  \\\n",
       "4621                 1                0                  0               0   \n",
       "2113                 0                0                  0               0   \n",
       "662                  1                0                  0               0   \n",
       "3897                 0                0                  0               0   \n",
       "4234                 0                0                  0               0   \n",
       "...                ...              ...                ...             ...   \n",
       "4159                 0                0                  1               0   \n",
       "4111                 0                0                  0               1   \n",
       "5100                 0                0                  0               0   \n",
       "5277                 0                0                  1               0   \n",
       "1222                 1                0                  0               0   \n",
       "\n",
       "      cab_type_UberXL  cab_type_WAV  \n",
       "4621                0             0  \n",
       "2113                0             0  \n",
       "662                 0             0  \n",
       "3897                0             0  \n",
       "4234                1             0  \n",
       "...               ...           ...  \n",
       "4159                0             0  \n",
       "4111                0             0  \n",
       "5100                0             0  \n",
       "5277                0             0  \n",
       "1222                0             0  \n",
       "\n",
       "[5719 rows x 41 columns]"
      ]
     },
     "execution_count": 76,
     "metadata": {},
     "output_type": "execute_result"
    }
   ],
   "source": [
    "X"
   ]
  },
  {
   "cell_type": "code",
   "execution_count": 77,
   "id": "5e115701",
   "metadata": {},
   "outputs": [],
   "source": [
    "X[['distance','hour']] = scaler.fit_transform(X[['distance','hour']])"
   ]
  },
  {
   "cell_type": "code",
   "execution_count": 78,
   "id": "619a0d2d",
   "metadata": {},
   "outputs": [
    {
     "data": {
      "text/html": [
       "<div>\n",
       "<style scoped>\n",
       "    .dataframe tbody tr th:only-of-type {\n",
       "        vertical-align: middle;\n",
       "    }\n",
       "\n",
       "    .dataframe tbody tr th {\n",
       "        vertical-align: top;\n",
       "    }\n",
       "\n",
       "    .dataframe thead th {\n",
       "        text-align: right;\n",
       "    }\n",
       "</style>\n",
       "<table border=\"1\" class=\"dataframe\">\n",
       "  <thead>\n",
       "    <tr style=\"text-align: right;\">\n",
       "      <th></th>\n",
       "      <th>distance</th>\n",
       "      <th>surge_multiplier</th>\n",
       "      <th>hour</th>\n",
       "      <th>cab_provider_Lyft</th>\n",
       "      <th>cab_provider_Uber</th>\n",
       "      <th>source_Back Bay</th>\n",
       "      <th>source_Beacon Hill</th>\n",
       "      <th>source_Boston University</th>\n",
       "      <th>source_Fenway</th>\n",
       "      <th>source_Financial District</th>\n",
       "      <th>...</th>\n",
       "      <th>cab_type_Lux</th>\n",
       "      <th>cab_type_Lux Black</th>\n",
       "      <th>cab_type_Lux Black XL</th>\n",
       "      <th>cab_type_Lyft</th>\n",
       "      <th>cab_type_Lyft XL</th>\n",
       "      <th>cab_type_Shared</th>\n",
       "      <th>cab_type_UberPool</th>\n",
       "      <th>cab_type_UberX</th>\n",
       "      <th>cab_type_UberXL</th>\n",
       "      <th>cab_type_WAV</th>\n",
       "    </tr>\n",
       "  </thead>\n",
       "  <tbody>\n",
       "    <tr>\n",
       "      <th>4621</th>\n",
       "      <td>-1.129223</td>\n",
       "      <td>1.00</td>\n",
       "      <td>-0.385158</td>\n",
       "      <td>1</td>\n",
       "      <td>0</td>\n",
       "      <td>0</td>\n",
       "      <td>0</td>\n",
       "      <td>0</td>\n",
       "      <td>0</td>\n",
       "      <td>0</td>\n",
       "      <td>...</td>\n",
       "      <td>0</td>\n",
       "      <td>0</td>\n",
       "      <td>0</td>\n",
       "      <td>0</td>\n",
       "      <td>1</td>\n",
       "      <td>0</td>\n",
       "      <td>0</td>\n",
       "      <td>0</td>\n",
       "      <td>0</td>\n",
       "      <td>0</td>\n",
       "    </tr>\n",
       "    <tr>\n",
       "      <th>2113</th>\n",
       "      <td>0.246909</td>\n",
       "      <td>1.25</td>\n",
       "      <td>0.620223</td>\n",
       "      <td>1</td>\n",
       "      <td>0</td>\n",
       "      <td>0</td>\n",
       "      <td>0</td>\n",
       "      <td>0</td>\n",
       "      <td>1</td>\n",
       "      <td>0</td>\n",
       "      <td>...</td>\n",
       "      <td>1</td>\n",
       "      <td>0</td>\n",
       "      <td>0</td>\n",
       "      <td>0</td>\n",
       "      <td>0</td>\n",
       "      <td>0</td>\n",
       "      <td>0</td>\n",
       "      <td>0</td>\n",
       "      <td>0</td>\n",
       "      <td>0</td>\n",
       "    </tr>\n",
       "    <tr>\n",
       "      <th>662</th>\n",
       "      <td>0.219935</td>\n",
       "      <td>1.25</td>\n",
       "      <td>1.504710</td>\n",
       "      <td>1</td>\n",
       "      <td>0</td>\n",
       "      <td>0</td>\n",
       "      <td>1</td>\n",
       "      <td>0</td>\n",
       "      <td>0</td>\n",
       "      <td>0</td>\n",
       "      <td>...</td>\n",
       "      <td>0</td>\n",
       "      <td>0</td>\n",
       "      <td>0</td>\n",
       "      <td>0</td>\n",
       "      <td>1</td>\n",
       "      <td>0</td>\n",
       "      <td>0</td>\n",
       "      <td>0</td>\n",
       "      <td>0</td>\n",
       "      <td>0</td>\n",
       "    </tr>\n",
       "    <tr>\n",
       "      <th>3897</th>\n",
       "      <td>-1.153979</td>\n",
       "      <td>1.00</td>\n",
       "      <td>-0.613842</td>\n",
       "      <td>1</td>\n",
       "      <td>0</td>\n",
       "      <td>0</td>\n",
       "      <td>0</td>\n",
       "      <td>0</td>\n",
       "      <td>0</td>\n",
       "      <td>0</td>\n",
       "      <td>...</td>\n",
       "      <td>0</td>\n",
       "      <td>0</td>\n",
       "      <td>0</td>\n",
       "      <td>1</td>\n",
       "      <td>0</td>\n",
       "      <td>0</td>\n",
       "      <td>0</td>\n",
       "      <td>0</td>\n",
       "      <td>0</td>\n",
       "      <td>0</td>\n",
       "    </tr>\n",
       "    <tr>\n",
       "      <th>4234</th>\n",
       "      <td>-0.315091</td>\n",
       "      <td>1.00</td>\n",
       "      <td>-0.613842</td>\n",
       "      <td>0</td>\n",
       "      <td>1</td>\n",
       "      <td>0</td>\n",
       "      <td>0</td>\n",
       "      <td>0</td>\n",
       "      <td>0</td>\n",
       "      <td>0</td>\n",
       "      <td>...</td>\n",
       "      <td>0</td>\n",
       "      <td>0</td>\n",
       "      <td>0</td>\n",
       "      <td>0</td>\n",
       "      <td>0</td>\n",
       "      <td>0</td>\n",
       "      <td>0</td>\n",
       "      <td>0</td>\n",
       "      <td>1</td>\n",
       "      <td>0</td>\n",
       "    </tr>\n",
       "    <tr>\n",
       "      <th>...</th>\n",
       "      <td>...</td>\n",
       "      <td>...</td>\n",
       "      <td>...</td>\n",
       "      <td>...</td>\n",
       "      <td>...</td>\n",
       "      <td>...</td>\n",
       "      <td>...</td>\n",
       "      <td>...</td>\n",
       "      <td>...</td>\n",
       "      <td>...</td>\n",
       "      <td>...</td>\n",
       "      <td>...</td>\n",
       "      <td>...</td>\n",
       "      <td>...</td>\n",
       "      <td>...</td>\n",
       "      <td>...</td>\n",
       "      <td>...</td>\n",
       "      <td>...</td>\n",
       "      <td>...</td>\n",
       "      <td>...</td>\n",
       "      <td>...</td>\n",
       "    </tr>\n",
       "    <tr>\n",
       "      <th>4159</th>\n",
       "      <td>0.440151</td>\n",
       "      <td>1.00</td>\n",
       "      <td>-0.613842</td>\n",
       "      <td>0</td>\n",
       "      <td>1</td>\n",
       "      <td>0</td>\n",
       "      <td>0</td>\n",
       "      <td>0</td>\n",
       "      <td>0</td>\n",
       "      <td>0</td>\n",
       "      <td>...</td>\n",
       "      <td>0</td>\n",
       "      <td>0</td>\n",
       "      <td>0</td>\n",
       "      <td>0</td>\n",
       "      <td>0</td>\n",
       "      <td>0</td>\n",
       "      <td>1</td>\n",
       "      <td>0</td>\n",
       "      <td>0</td>\n",
       "      <td>0</td>\n",
       "    </tr>\n",
       "    <tr>\n",
       "      <th>4111</th>\n",
       "      <td>0.091949</td>\n",
       "      <td>1.00</td>\n",
       "      <td>-0.613842</td>\n",
       "      <td>0</td>\n",
       "      <td>1</td>\n",
       "      <td>0</td>\n",
       "      <td>0</td>\n",
       "      <td>0</td>\n",
       "      <td>0</td>\n",
       "      <td>0</td>\n",
       "      <td>...</td>\n",
       "      <td>0</td>\n",
       "      <td>0</td>\n",
       "      <td>0</td>\n",
       "      <td>0</td>\n",
       "      <td>0</td>\n",
       "      <td>0</td>\n",
       "      <td>0</td>\n",
       "      <td>1</td>\n",
       "      <td>0</td>\n",
       "      <td>0</td>\n",
       "    </tr>\n",
       "    <tr>\n",
       "      <th>5100</th>\n",
       "      <td>-0.106970</td>\n",
       "      <td>1.00</td>\n",
       "      <td>-0.385158</td>\n",
       "      <td>1</td>\n",
       "      <td>0</td>\n",
       "      <td>0</td>\n",
       "      <td>0</td>\n",
       "      <td>0</td>\n",
       "      <td>0</td>\n",
       "      <td>0</td>\n",
       "      <td>...</td>\n",
       "      <td>0</td>\n",
       "      <td>0</td>\n",
       "      <td>0</td>\n",
       "      <td>1</td>\n",
       "      <td>0</td>\n",
       "      <td>0</td>\n",
       "      <td>0</td>\n",
       "      <td>0</td>\n",
       "      <td>0</td>\n",
       "      <td>0</td>\n",
       "    </tr>\n",
       "    <tr>\n",
       "      <th>5277</th>\n",
       "      <td>-0.001693</td>\n",
       "      <td>1.00</td>\n",
       "      <td>-0.385158</td>\n",
       "      <td>0</td>\n",
       "      <td>1</td>\n",
       "      <td>0</td>\n",
       "      <td>0</td>\n",
       "      <td>0</td>\n",
       "      <td>0</td>\n",
       "      <td>0</td>\n",
       "      <td>...</td>\n",
       "      <td>0</td>\n",
       "      <td>0</td>\n",
       "      <td>0</td>\n",
       "      <td>0</td>\n",
       "      <td>0</td>\n",
       "      <td>0</td>\n",
       "      <td>1</td>\n",
       "      <td>0</td>\n",
       "      <td>0</td>\n",
       "      <td>0</td>\n",
       "    </tr>\n",
       "    <tr>\n",
       "      <th>1222</th>\n",
       "      <td>-0.641670</td>\n",
       "      <td>1.25</td>\n",
       "      <td>-1.177706</td>\n",
       "      <td>1</td>\n",
       "      <td>0</td>\n",
       "      <td>0</td>\n",
       "      <td>0</td>\n",
       "      <td>1</td>\n",
       "      <td>0</td>\n",
       "      <td>0</td>\n",
       "      <td>...</td>\n",
       "      <td>0</td>\n",
       "      <td>0</td>\n",
       "      <td>0</td>\n",
       "      <td>0</td>\n",
       "      <td>1</td>\n",
       "      <td>0</td>\n",
       "      <td>0</td>\n",
       "      <td>0</td>\n",
       "      <td>0</td>\n",
       "      <td>0</td>\n",
       "    </tr>\n",
       "  </tbody>\n",
       "</table>\n",
       "<p>5719 rows × 41 columns</p>\n",
       "</div>"
      ],
      "text/plain": [
       "      distance  surge_multiplier      hour  cab_provider_Lyft  \\\n",
       "4621 -1.129223              1.00 -0.385158                  1   \n",
       "2113  0.246909              1.25  0.620223                  1   \n",
       "662   0.219935              1.25  1.504710                  1   \n",
       "3897 -1.153979              1.00 -0.613842                  1   \n",
       "4234 -0.315091              1.00 -0.613842                  0   \n",
       "...        ...               ...       ...                ...   \n",
       "4159  0.440151              1.00 -0.613842                  0   \n",
       "4111  0.091949              1.00 -0.613842                  0   \n",
       "5100 -0.106970              1.00 -0.385158                  1   \n",
       "5277 -0.001693              1.00 -0.385158                  0   \n",
       "1222 -0.641670              1.25 -1.177706                  1   \n",
       "\n",
       "      cab_provider_Uber  source_Back Bay  source_Beacon Hill  \\\n",
       "4621                  0                0                   0   \n",
       "2113                  0                0                   0   \n",
       "662                   0                0                   1   \n",
       "3897                  0                0                   0   \n",
       "4234                  1                0                   0   \n",
       "...                 ...              ...                 ...   \n",
       "4159                  1                0                   0   \n",
       "4111                  1                0                   0   \n",
       "5100                  0                0                   0   \n",
       "5277                  1                0                   0   \n",
       "1222                  0                0                   0   \n",
       "\n",
       "      source_Boston University  source_Fenway  source_Financial District  ...  \\\n",
       "4621                         0              0                          0  ...   \n",
       "2113                         0              1                          0  ...   \n",
       "662                          0              0                          0  ...   \n",
       "3897                         0              0                          0  ...   \n",
       "4234                         0              0                          0  ...   \n",
       "...                        ...            ...                        ...  ...   \n",
       "4159                         0              0                          0  ...   \n",
       "4111                         0              0                          0  ...   \n",
       "5100                         0              0                          0  ...   \n",
       "5277                         0              0                          0  ...   \n",
       "1222                         1              0                          0  ...   \n",
       "\n",
       "      cab_type_Lux  cab_type_Lux Black  cab_type_Lux Black XL  cab_type_Lyft  \\\n",
       "4621             0                   0                      0              0   \n",
       "2113             1                   0                      0              0   \n",
       "662              0                   0                      0              0   \n",
       "3897             0                   0                      0              1   \n",
       "4234             0                   0                      0              0   \n",
       "...            ...                 ...                    ...            ...   \n",
       "4159             0                   0                      0              0   \n",
       "4111             0                   0                      0              0   \n",
       "5100             0                   0                      0              1   \n",
       "5277             0                   0                      0              0   \n",
       "1222             0                   0                      0              0   \n",
       "\n",
       "      cab_type_Lyft XL  cab_type_Shared  cab_type_UberPool  cab_type_UberX  \\\n",
       "4621                 1                0                  0               0   \n",
       "2113                 0                0                  0               0   \n",
       "662                  1                0                  0               0   \n",
       "3897                 0                0                  0               0   \n",
       "4234                 0                0                  0               0   \n",
       "...                ...              ...                ...             ...   \n",
       "4159                 0                0                  1               0   \n",
       "4111                 0                0                  0               1   \n",
       "5100                 0                0                  0               0   \n",
       "5277                 0                0                  1               0   \n",
       "1222                 1                0                  0               0   \n",
       "\n",
       "      cab_type_UberXL  cab_type_WAV  \n",
       "4621                0             0  \n",
       "2113                0             0  \n",
       "662                 0             0  \n",
       "3897                0             0  \n",
       "4234                1             0  \n",
       "...               ...           ...  \n",
       "4159                0             0  \n",
       "4111                0             0  \n",
       "5100                0             0  \n",
       "5277                0             0  \n",
       "1222                0             0  \n",
       "\n",
       "[5719 rows x 41 columns]"
      ]
     },
     "execution_count": 78,
     "metadata": {},
     "output_type": "execute_result"
    }
   ],
   "source": [
    "X"
   ]
  },
  {
   "cell_type": "code",
   "execution_count": 79,
   "id": "arbitrary-combine",
   "metadata": {},
   "outputs": [],
   "source": [
    "scaler = StandardScaler()"
   ]
  },
  {
   "cell_type": "markdown",
   "id": "broadband-arthur",
   "metadata": {},
   "source": [
    "**Scaling Testing Data**"
   ]
  },
  {
   "cell_type": "code",
   "execution_count": 80,
   "id": "synthetic-botswana",
   "metadata": {},
   "outputs": [
    {
     "data": {
      "text/html": [
       "<div>\n",
       "<style scoped>\n",
       "    .dataframe tbody tr th:only-of-type {\n",
       "        vertical-align: middle;\n",
       "    }\n",
       "\n",
       "    .dataframe tbody tr th {\n",
       "        vertical-align: top;\n",
       "    }\n",
       "\n",
       "    .dataframe thead th {\n",
       "        text-align: right;\n",
       "    }\n",
       "</style>\n",
       "<table border=\"1\" class=\"dataframe\">\n",
       "  <thead>\n",
       "    <tr style=\"text-align: right;\">\n",
       "      <th></th>\n",
       "      <th>distance</th>\n",
       "      <th>surge_multiplier</th>\n",
       "      <th>hour</th>\n",
       "      <th>cab_provider_Lyft</th>\n",
       "      <th>cab_provider_Uber</th>\n",
       "      <th>source_Back Bay</th>\n",
       "      <th>source_Beacon Hill</th>\n",
       "      <th>source_Boston University</th>\n",
       "      <th>source_Fenway</th>\n",
       "      <th>source_Financial District</th>\n",
       "      <th>...</th>\n",
       "      <th>cab_type_Lux</th>\n",
       "      <th>cab_type_Lux Black</th>\n",
       "      <th>cab_type_Lux Black XL</th>\n",
       "      <th>cab_type_Lyft</th>\n",
       "      <th>cab_type_Lyft XL</th>\n",
       "      <th>cab_type_Shared</th>\n",
       "      <th>cab_type_UberPool</th>\n",
       "      <th>cab_type_UberX</th>\n",
       "      <th>cab_type_UberXL</th>\n",
       "      <th>cab_type_WAV</th>\n",
       "    </tr>\n",
       "  </thead>\n",
       "  <tbody>\n",
       "    <tr>\n",
       "      <th>0</th>\n",
       "      <td>0.481668</td>\n",
       "      <td>1.0</td>\n",
       "      <td>0.000000</td>\n",
       "      <td>1</td>\n",
       "      <td>0</td>\n",
       "      <td>0</td>\n",
       "      <td>0</td>\n",
       "      <td>0</td>\n",
       "      <td>0</td>\n",
       "      <td>0</td>\n",
       "      <td>...</td>\n",
       "      <td>1</td>\n",
       "      <td>0</td>\n",
       "      <td>0</td>\n",
       "      <td>0</td>\n",
       "      <td>0</td>\n",
       "      <td>0</td>\n",
       "      <td>0</td>\n",
       "      <td>0</td>\n",
       "      <td>0</td>\n",
       "      <td>0</td>\n",
       "    </tr>\n",
       "    <tr>\n",
       "      <th>1</th>\n",
       "      <td>0.481668</td>\n",
       "      <td>1.0</td>\n",
       "      <td>0.000000</td>\n",
       "      <td>1</td>\n",
       "      <td>0</td>\n",
       "      <td>0</td>\n",
       "      <td>0</td>\n",
       "      <td>0</td>\n",
       "      <td>0</td>\n",
       "      <td>0</td>\n",
       "      <td>...</td>\n",
       "      <td>0</td>\n",
       "      <td>0</td>\n",
       "      <td>1</td>\n",
       "      <td>0</td>\n",
       "      <td>0</td>\n",
       "      <td>0</td>\n",
       "      <td>0</td>\n",
       "      <td>0</td>\n",
       "      <td>0</td>\n",
       "      <td>0</td>\n",
       "    </tr>\n",
       "    <tr>\n",
       "      <th>2</th>\n",
       "      <td>2.444188</td>\n",
       "      <td>1.0</td>\n",
       "      <td>0.000000</td>\n",
       "      <td>0</td>\n",
       "      <td>1</td>\n",
       "      <td>0</td>\n",
       "      <td>0</td>\n",
       "      <td>0</td>\n",
       "      <td>0</td>\n",
       "      <td>1</td>\n",
       "      <td>...</td>\n",
       "      <td>0</td>\n",
       "      <td>0</td>\n",
       "      <td>0</td>\n",
       "      <td>0</td>\n",
       "      <td>0</td>\n",
       "      <td>0</td>\n",
       "      <td>0</td>\n",
       "      <td>1</td>\n",
       "      <td>0</td>\n",
       "      <td>0</td>\n",
       "    </tr>\n",
       "    <tr>\n",
       "      <th>3</th>\n",
       "      <td>0.916622</td>\n",
       "      <td>1.0</td>\n",
       "      <td>0.000000</td>\n",
       "      <td>0</td>\n",
       "      <td>1</td>\n",
       "      <td>0</td>\n",
       "      <td>1</td>\n",
       "      <td>0</td>\n",
       "      <td>0</td>\n",
       "      <td>0</td>\n",
       "      <td>...</td>\n",
       "      <td>0</td>\n",
       "      <td>0</td>\n",
       "      <td>0</td>\n",
       "      <td>0</td>\n",
       "      <td>0</td>\n",
       "      <td>0</td>\n",
       "      <td>0</td>\n",
       "      <td>0</td>\n",
       "      <td>1</td>\n",
       "      <td>0</td>\n",
       "    </tr>\n",
       "    <tr>\n",
       "      <th>4</th>\n",
       "      <td>0.481668</td>\n",
       "      <td>1.0</td>\n",
       "      <td>0.000000</td>\n",
       "      <td>1</td>\n",
       "      <td>0</td>\n",
       "      <td>0</td>\n",
       "      <td>0</td>\n",
       "      <td>0</td>\n",
       "      <td>0</td>\n",
       "      <td>0</td>\n",
       "      <td>...</td>\n",
       "      <td>0</td>\n",
       "      <td>0</td>\n",
       "      <td>0</td>\n",
       "      <td>0</td>\n",
       "      <td>1</td>\n",
       "      <td>0</td>\n",
       "      <td>0</td>\n",
       "      <td>0</td>\n",
       "      <td>0</td>\n",
       "      <td>0</td>\n",
       "    </tr>\n",
       "    <tr>\n",
       "      <th>...</th>\n",
       "      <td>...</td>\n",
       "      <td>...</td>\n",
       "      <td>...</td>\n",
       "      <td>...</td>\n",
       "      <td>...</td>\n",
       "      <td>...</td>\n",
       "      <td>...</td>\n",
       "      <td>...</td>\n",
       "      <td>...</td>\n",
       "      <td>...</td>\n",
       "      <td>...</td>\n",
       "      <td>...</td>\n",
       "      <td>...</td>\n",
       "      <td>...</td>\n",
       "      <td>...</td>\n",
       "      <td>...</td>\n",
       "      <td>...</td>\n",
       "      <td>...</td>\n",
       "      <td>...</td>\n",
       "      <td>...</td>\n",
       "      <td>...</td>\n",
       "    </tr>\n",
       "    <tr>\n",
       "      <th>24995</th>\n",
       "      <td>1.570573</td>\n",
       "      <td>1.0</td>\n",
       "      <td>6109.768034</td>\n",
       "      <td>0</td>\n",
       "      <td>1</td>\n",
       "      <td>0</td>\n",
       "      <td>0</td>\n",
       "      <td>0</td>\n",
       "      <td>0</td>\n",
       "      <td>0</td>\n",
       "      <td>...</td>\n",
       "      <td>0</td>\n",
       "      <td>0</td>\n",
       "      <td>0</td>\n",
       "      <td>0</td>\n",
       "      <td>0</td>\n",
       "      <td>0</td>\n",
       "      <td>1</td>\n",
       "      <td>0</td>\n",
       "      <td>0</td>\n",
       "      <td>0</td>\n",
       "    </tr>\n",
       "    <tr>\n",
       "      <th>24996</th>\n",
       "      <td>1.570573</td>\n",
       "      <td>1.0</td>\n",
       "      <td>6109.768034</td>\n",
       "      <td>0</td>\n",
       "      <td>1</td>\n",
       "      <td>0</td>\n",
       "      <td>0</td>\n",
       "      <td>0</td>\n",
       "      <td>0</td>\n",
       "      <td>0</td>\n",
       "      <td>...</td>\n",
       "      <td>0</td>\n",
       "      <td>0</td>\n",
       "      <td>0</td>\n",
       "      <td>0</td>\n",
       "      <td>0</td>\n",
       "      <td>0</td>\n",
       "      <td>0</td>\n",
       "      <td>0</td>\n",
       "      <td>0</td>\n",
       "      <td>1</td>\n",
       "    </tr>\n",
       "    <tr>\n",
       "      <th>24997</th>\n",
       "      <td>1.570573</td>\n",
       "      <td>1.0</td>\n",
       "      <td>6109.768034</td>\n",
       "      <td>0</td>\n",
       "      <td>1</td>\n",
       "      <td>0</td>\n",
       "      <td>0</td>\n",
       "      <td>0</td>\n",
       "      <td>0</td>\n",
       "      <td>0</td>\n",
       "      <td>...</td>\n",
       "      <td>0</td>\n",
       "      <td>0</td>\n",
       "      <td>0</td>\n",
       "      <td>0</td>\n",
       "      <td>0</td>\n",
       "      <td>0</td>\n",
       "      <td>0</td>\n",
       "      <td>0</td>\n",
       "      <td>0</td>\n",
       "      <td>0</td>\n",
       "    </tr>\n",
       "    <tr>\n",
       "      <th>24998</th>\n",
       "      <td>1.542412</td>\n",
       "      <td>1.0</td>\n",
       "      <td>6109.768034</td>\n",
       "      <td>1</td>\n",
       "      <td>0</td>\n",
       "      <td>0</td>\n",
       "      <td>0</td>\n",
       "      <td>1</td>\n",
       "      <td>0</td>\n",
       "      <td>0</td>\n",
       "      <td>...</td>\n",
       "      <td>0</td>\n",
       "      <td>0</td>\n",
       "      <td>0</td>\n",
       "      <td>0</td>\n",
       "      <td>0</td>\n",
       "      <td>1</td>\n",
       "      <td>0</td>\n",
       "      <td>0</td>\n",
       "      <td>0</td>\n",
       "      <td>0</td>\n",
       "    </tr>\n",
       "    <tr>\n",
       "      <th>24999</th>\n",
       "      <td>1.542412</td>\n",
       "      <td>1.0</td>\n",
       "      <td>6109.768034</td>\n",
       "      <td>1</td>\n",
       "      <td>0</td>\n",
       "      <td>0</td>\n",
       "      <td>0</td>\n",
       "      <td>1</td>\n",
       "      <td>0</td>\n",
       "      <td>0</td>\n",
       "      <td>...</td>\n",
       "      <td>1</td>\n",
       "      <td>0</td>\n",
       "      <td>0</td>\n",
       "      <td>0</td>\n",
       "      <td>0</td>\n",
       "      <td>0</td>\n",
       "      <td>0</td>\n",
       "      <td>0</td>\n",
       "      <td>0</td>\n",
       "      <td>0</td>\n",
       "    </tr>\n",
       "  </tbody>\n",
       "</table>\n",
       "<p>25000 rows × 41 columns</p>\n",
       "</div>"
      ],
      "text/plain": [
       "       distance  surge_multiplier         hour  cab_provider_Lyft  \\\n",
       "0      0.481668               1.0     0.000000                  1   \n",
       "1      0.481668               1.0     0.000000                  1   \n",
       "2      2.444188               1.0     0.000000                  0   \n",
       "3      0.916622               1.0     0.000000                  0   \n",
       "4      0.481668               1.0     0.000000                  1   \n",
       "...         ...               ...          ...                ...   \n",
       "24995  1.570573               1.0  6109.768034                  0   \n",
       "24996  1.570573               1.0  6109.768034                  0   \n",
       "24997  1.570573               1.0  6109.768034                  0   \n",
       "24998  1.542412               1.0  6109.768034                  1   \n",
       "24999  1.542412               1.0  6109.768034                  1   \n",
       "\n",
       "       cab_provider_Uber  source_Back Bay  source_Beacon Hill  \\\n",
       "0                      0                0                   0   \n",
       "1                      0                0                   0   \n",
       "2                      1                0                   0   \n",
       "3                      1                0                   1   \n",
       "4                      0                0                   0   \n",
       "...                  ...              ...                 ...   \n",
       "24995                  1                0                   0   \n",
       "24996                  1                0                   0   \n",
       "24997                  1                0                   0   \n",
       "24998                  0                0                   0   \n",
       "24999                  0                0                   0   \n",
       "\n",
       "       source_Boston University  source_Fenway  source_Financial District  \\\n",
       "0                             0              0                          0   \n",
       "1                             0              0                          0   \n",
       "2                             0              0                          1   \n",
       "3                             0              0                          0   \n",
       "4                             0              0                          0   \n",
       "...                         ...            ...                        ...   \n",
       "24995                         0              0                          0   \n",
       "24996                         0              0                          0   \n",
       "24997                         0              0                          0   \n",
       "24998                         1              0                          0   \n",
       "24999                         1              0                          0   \n",
       "\n",
       "       ...  cab_type_Lux  cab_type_Lux Black  cab_type_Lux Black XL  \\\n",
       "0      ...             1                   0                      0   \n",
       "1      ...             0                   0                      1   \n",
       "2      ...             0                   0                      0   \n",
       "3      ...             0                   0                      0   \n",
       "4      ...             0                   0                      0   \n",
       "...    ...           ...                 ...                    ...   \n",
       "24995  ...             0                   0                      0   \n",
       "24996  ...             0                   0                      0   \n",
       "24997  ...             0                   0                      0   \n",
       "24998  ...             0                   0                      0   \n",
       "24999  ...             1                   0                      0   \n",
       "\n",
       "       cab_type_Lyft  cab_type_Lyft XL  cab_type_Shared  cab_type_UberPool  \\\n",
       "0                  0                 0                0                  0   \n",
       "1                  0                 0                0                  0   \n",
       "2                  0                 0                0                  0   \n",
       "3                  0                 0                0                  0   \n",
       "4                  0                 1                0                  0   \n",
       "...              ...               ...              ...                ...   \n",
       "24995              0                 0                0                  1   \n",
       "24996              0                 0                0                  0   \n",
       "24997              0                 0                0                  0   \n",
       "24998              0                 0                1                  0   \n",
       "24999              0                 0                0                  0   \n",
       "\n",
       "       cab_type_UberX  cab_type_UberXL  cab_type_WAV  \n",
       "0                   0                0             0  \n",
       "1                   0                0             0  \n",
       "2                   1                0             0  \n",
       "3                   0                1             0  \n",
       "4                   0                0             0  \n",
       "...               ...              ...           ...  \n",
       "24995               0                0             0  \n",
       "24996               0                0             1  \n",
       "24997               0                0             0  \n",
       "24998               0                0             0  \n",
       "24999               0                0             0  \n",
       "\n",
       "[25000 rows x 41 columns]"
      ]
     },
     "execution_count": 80,
     "metadata": {},
     "output_type": "execute_result"
    }
   ],
   "source": [
    "tX"
   ]
  },
  {
   "cell_type": "code",
   "execution_count": 81,
   "id": "altered-subsection",
   "metadata": {},
   "outputs": [],
   "source": [
    "tX[['distance','hour']] = scaler.fit_transform(tX[['distance','hour']])"
   ]
  },
  {
   "cell_type": "code",
   "execution_count": 83,
   "id": "suffering-theme",
   "metadata": {},
   "outputs": [
    {
     "data": {
      "text/html": [
       "<div>\n",
       "<style scoped>\n",
       "    .dataframe tbody tr th:only-of-type {\n",
       "        vertical-align: middle;\n",
       "    }\n",
       "\n",
       "    .dataframe tbody tr th {\n",
       "        vertical-align: top;\n",
       "    }\n",
       "\n",
       "    .dataframe thead th {\n",
       "        text-align: right;\n",
       "    }\n",
       "</style>\n",
       "<table border=\"1\" class=\"dataframe\">\n",
       "  <thead>\n",
       "    <tr style=\"text-align: right;\">\n",
       "      <th></th>\n",
       "      <th>distance</th>\n",
       "      <th>surge_multiplier</th>\n",
       "      <th>hour</th>\n",
       "      <th>cab_provider_Lyft</th>\n",
       "      <th>cab_provider_Uber</th>\n",
       "      <th>source_Back Bay</th>\n",
       "      <th>source_Beacon Hill</th>\n",
       "      <th>source_Boston University</th>\n",
       "      <th>source_Fenway</th>\n",
       "      <th>source_Financial District</th>\n",
       "      <th>...</th>\n",
       "      <th>cab_type_Lux</th>\n",
       "      <th>cab_type_Lux Black</th>\n",
       "      <th>cab_type_Lux Black XL</th>\n",
       "      <th>cab_type_Lyft</th>\n",
       "      <th>cab_type_Lyft XL</th>\n",
       "      <th>cab_type_Shared</th>\n",
       "      <th>cab_type_UberPool</th>\n",
       "      <th>cab_type_UberX</th>\n",
       "      <th>cab_type_UberXL</th>\n",
       "      <th>cab_type_WAV</th>\n",
       "    </tr>\n",
       "  </thead>\n",
       "  <tbody>\n",
       "    <tr>\n",
       "      <th>0</th>\n",
       "      <td>-1.723543</td>\n",
       "      <td>1.0</td>\n",
       "      <td>-1.765259</td>\n",
       "      <td>1</td>\n",
       "      <td>0</td>\n",
       "      <td>0</td>\n",
       "      <td>0</td>\n",
       "      <td>0</td>\n",
       "      <td>0</td>\n",
       "      <td>0</td>\n",
       "      <td>...</td>\n",
       "      <td>1</td>\n",
       "      <td>0</td>\n",
       "      <td>0</td>\n",
       "      <td>0</td>\n",
       "      <td>0</td>\n",
       "      <td>0</td>\n",
       "      <td>0</td>\n",
       "      <td>0</td>\n",
       "      <td>0</td>\n",
       "      <td>0</td>\n",
       "    </tr>\n",
       "    <tr>\n",
       "      <th>1</th>\n",
       "      <td>-1.723543</td>\n",
       "      <td>1.0</td>\n",
       "      <td>-1.765259</td>\n",
       "      <td>1</td>\n",
       "      <td>0</td>\n",
       "      <td>0</td>\n",
       "      <td>0</td>\n",
       "      <td>0</td>\n",
       "      <td>0</td>\n",
       "      <td>0</td>\n",
       "      <td>...</td>\n",
       "      <td>0</td>\n",
       "      <td>0</td>\n",
       "      <td>1</td>\n",
       "      <td>0</td>\n",
       "      <td>0</td>\n",
       "      <td>0</td>\n",
       "      <td>0</td>\n",
       "      <td>0</td>\n",
       "      <td>0</td>\n",
       "      <td>0</td>\n",
       "    </tr>\n",
       "    <tr>\n",
       "      <th>2</th>\n",
       "      <td>2.919424</td>\n",
       "      <td>1.0</td>\n",
       "      <td>-1.765259</td>\n",
       "      <td>0</td>\n",
       "      <td>1</td>\n",
       "      <td>0</td>\n",
       "      <td>0</td>\n",
       "      <td>0</td>\n",
       "      <td>0</td>\n",
       "      <td>1</td>\n",
       "      <td>...</td>\n",
       "      <td>0</td>\n",
       "      <td>0</td>\n",
       "      <td>0</td>\n",
       "      <td>0</td>\n",
       "      <td>0</td>\n",
       "      <td>0</td>\n",
       "      <td>0</td>\n",
       "      <td>1</td>\n",
       "      <td>0</td>\n",
       "      <td>0</td>\n",
       "    </tr>\n",
       "    <tr>\n",
       "      <th>3</th>\n",
       "      <td>-0.694521</td>\n",
       "      <td>1.0</td>\n",
       "      <td>-1.765259</td>\n",
       "      <td>0</td>\n",
       "      <td>1</td>\n",
       "      <td>0</td>\n",
       "      <td>1</td>\n",
       "      <td>0</td>\n",
       "      <td>0</td>\n",
       "      <td>0</td>\n",
       "      <td>...</td>\n",
       "      <td>0</td>\n",
       "      <td>0</td>\n",
       "      <td>0</td>\n",
       "      <td>0</td>\n",
       "      <td>0</td>\n",
       "      <td>0</td>\n",
       "      <td>0</td>\n",
       "      <td>0</td>\n",
       "      <td>1</td>\n",
       "      <td>0</td>\n",
       "    </tr>\n",
       "    <tr>\n",
       "      <th>4</th>\n",
       "      <td>-1.723543</td>\n",
       "      <td>1.0</td>\n",
       "      <td>-1.765259</td>\n",
       "      <td>1</td>\n",
       "      <td>0</td>\n",
       "      <td>0</td>\n",
       "      <td>0</td>\n",
       "      <td>0</td>\n",
       "      <td>0</td>\n",
       "      <td>0</td>\n",
       "      <td>...</td>\n",
       "      <td>0</td>\n",
       "      <td>0</td>\n",
       "      <td>0</td>\n",
       "      <td>0</td>\n",
       "      <td>1</td>\n",
       "      <td>0</td>\n",
       "      <td>0</td>\n",
       "      <td>0</td>\n",
       "      <td>0</td>\n",
       "      <td>0</td>\n",
       "    </tr>\n",
       "    <tr>\n",
       "      <th>...</th>\n",
       "      <td>...</td>\n",
       "      <td>...</td>\n",
       "      <td>...</td>\n",
       "      <td>...</td>\n",
       "      <td>...</td>\n",
       "      <td>...</td>\n",
       "      <td>...</td>\n",
       "      <td>...</td>\n",
       "      <td>...</td>\n",
       "      <td>...</td>\n",
       "      <td>...</td>\n",
       "      <td>...</td>\n",
       "      <td>...</td>\n",
       "      <td>...</td>\n",
       "      <td>...</td>\n",
       "      <td>...</td>\n",
       "      <td>...</td>\n",
       "      <td>...</td>\n",
       "      <td>...</td>\n",
       "      <td>...</td>\n",
       "      <td>...</td>\n",
       "    </tr>\n",
       "    <tr>\n",
       "      <th>24995</th>\n",
       "      <td>0.852610</td>\n",
       "      <td>1.0</td>\n",
       "      <td>2.409603</td>\n",
       "      <td>0</td>\n",
       "      <td>1</td>\n",
       "      <td>0</td>\n",
       "      <td>0</td>\n",
       "      <td>0</td>\n",
       "      <td>0</td>\n",
       "      <td>0</td>\n",
       "      <td>...</td>\n",
       "      <td>0</td>\n",
       "      <td>0</td>\n",
       "      <td>0</td>\n",
       "      <td>0</td>\n",
       "      <td>0</td>\n",
       "      <td>0</td>\n",
       "      <td>1</td>\n",
       "      <td>0</td>\n",
       "      <td>0</td>\n",
       "      <td>0</td>\n",
       "    </tr>\n",
       "    <tr>\n",
       "      <th>24996</th>\n",
       "      <td>0.852610</td>\n",
       "      <td>1.0</td>\n",
       "      <td>2.409603</td>\n",
       "      <td>0</td>\n",
       "      <td>1</td>\n",
       "      <td>0</td>\n",
       "      <td>0</td>\n",
       "      <td>0</td>\n",
       "      <td>0</td>\n",
       "      <td>0</td>\n",
       "      <td>...</td>\n",
       "      <td>0</td>\n",
       "      <td>0</td>\n",
       "      <td>0</td>\n",
       "      <td>0</td>\n",
       "      <td>0</td>\n",
       "      <td>0</td>\n",
       "      <td>0</td>\n",
       "      <td>0</td>\n",
       "      <td>0</td>\n",
       "      <td>1</td>\n",
       "    </tr>\n",
       "    <tr>\n",
       "      <th>24997</th>\n",
       "      <td>0.852610</td>\n",
       "      <td>1.0</td>\n",
       "      <td>2.409603</td>\n",
       "      <td>0</td>\n",
       "      <td>1</td>\n",
       "      <td>0</td>\n",
       "      <td>0</td>\n",
       "      <td>0</td>\n",
       "      <td>0</td>\n",
       "      <td>0</td>\n",
       "      <td>...</td>\n",
       "      <td>0</td>\n",
       "      <td>0</td>\n",
       "      <td>0</td>\n",
       "      <td>0</td>\n",
       "      <td>0</td>\n",
       "      <td>0</td>\n",
       "      <td>0</td>\n",
       "      <td>0</td>\n",
       "      <td>0</td>\n",
       "      <td>0</td>\n",
       "    </tr>\n",
       "    <tr>\n",
       "      <th>24998</th>\n",
       "      <td>0.785986</td>\n",
       "      <td>1.0</td>\n",
       "      <td>2.409603</td>\n",
       "      <td>1</td>\n",
       "      <td>0</td>\n",
       "      <td>0</td>\n",
       "      <td>0</td>\n",
       "      <td>1</td>\n",
       "      <td>0</td>\n",
       "      <td>0</td>\n",
       "      <td>...</td>\n",
       "      <td>0</td>\n",
       "      <td>0</td>\n",
       "      <td>0</td>\n",
       "      <td>0</td>\n",
       "      <td>0</td>\n",
       "      <td>1</td>\n",
       "      <td>0</td>\n",
       "      <td>0</td>\n",
       "      <td>0</td>\n",
       "      <td>0</td>\n",
       "    </tr>\n",
       "    <tr>\n",
       "      <th>24999</th>\n",
       "      <td>0.785986</td>\n",
       "      <td>1.0</td>\n",
       "      <td>2.409603</td>\n",
       "      <td>1</td>\n",
       "      <td>0</td>\n",
       "      <td>0</td>\n",
       "      <td>0</td>\n",
       "      <td>1</td>\n",
       "      <td>0</td>\n",
       "      <td>0</td>\n",
       "      <td>...</td>\n",
       "      <td>1</td>\n",
       "      <td>0</td>\n",
       "      <td>0</td>\n",
       "      <td>0</td>\n",
       "      <td>0</td>\n",
       "      <td>0</td>\n",
       "      <td>0</td>\n",
       "      <td>0</td>\n",
       "      <td>0</td>\n",
       "      <td>0</td>\n",
       "    </tr>\n",
       "  </tbody>\n",
       "</table>\n",
       "<p>25000 rows × 41 columns</p>\n",
       "</div>"
      ],
      "text/plain": [
       "       distance  surge_multiplier      hour  cab_provider_Lyft  \\\n",
       "0     -1.723543               1.0 -1.765259                  1   \n",
       "1     -1.723543               1.0 -1.765259                  1   \n",
       "2      2.919424               1.0 -1.765259                  0   \n",
       "3     -0.694521               1.0 -1.765259                  0   \n",
       "4     -1.723543               1.0 -1.765259                  1   \n",
       "...         ...               ...       ...                ...   \n",
       "24995  0.852610               1.0  2.409603                  0   \n",
       "24996  0.852610               1.0  2.409603                  0   \n",
       "24997  0.852610               1.0  2.409603                  0   \n",
       "24998  0.785986               1.0  2.409603                  1   \n",
       "24999  0.785986               1.0  2.409603                  1   \n",
       "\n",
       "       cab_provider_Uber  source_Back Bay  source_Beacon Hill  \\\n",
       "0                      0                0                   0   \n",
       "1                      0                0                   0   \n",
       "2                      1                0                   0   \n",
       "3                      1                0                   1   \n",
       "4                      0                0                   0   \n",
       "...                  ...              ...                 ...   \n",
       "24995                  1                0                   0   \n",
       "24996                  1                0                   0   \n",
       "24997                  1                0                   0   \n",
       "24998                  0                0                   0   \n",
       "24999                  0                0                   0   \n",
       "\n",
       "       source_Boston University  source_Fenway  source_Financial District  \\\n",
       "0                             0              0                          0   \n",
       "1                             0              0                          0   \n",
       "2                             0              0                          1   \n",
       "3                             0              0                          0   \n",
       "4                             0              0                          0   \n",
       "...                         ...            ...                        ...   \n",
       "24995                         0              0                          0   \n",
       "24996                         0              0                          0   \n",
       "24997                         0              0                          0   \n",
       "24998                         1              0                          0   \n",
       "24999                         1              0                          0   \n",
       "\n",
       "       ...  cab_type_Lux  cab_type_Lux Black  cab_type_Lux Black XL  \\\n",
       "0      ...             1                   0                      0   \n",
       "1      ...             0                   0                      1   \n",
       "2      ...             0                   0                      0   \n",
       "3      ...             0                   0                      0   \n",
       "4      ...             0                   0                      0   \n",
       "...    ...           ...                 ...                    ...   \n",
       "24995  ...             0                   0                      0   \n",
       "24996  ...             0                   0                      0   \n",
       "24997  ...             0                   0                      0   \n",
       "24998  ...             0                   0                      0   \n",
       "24999  ...             1                   0                      0   \n",
       "\n",
       "       cab_type_Lyft  cab_type_Lyft XL  cab_type_Shared  cab_type_UberPool  \\\n",
       "0                  0                 0                0                  0   \n",
       "1                  0                 0                0                  0   \n",
       "2                  0                 0                0                  0   \n",
       "3                  0                 0                0                  0   \n",
       "4                  0                 1                0                  0   \n",
       "...              ...               ...              ...                ...   \n",
       "24995              0                 0                0                  1   \n",
       "24996              0                 0                0                  0   \n",
       "24997              0                 0                0                  0   \n",
       "24998              0                 0                1                  0   \n",
       "24999              0                 0                0                  0   \n",
       "\n",
       "       cab_type_UberX  cab_type_UberXL  cab_type_WAV  \n",
       "0                   0                0             0  \n",
       "1                   0                0             0  \n",
       "2                   1                0             0  \n",
       "3                   0                1             0  \n",
       "4                   0                0             0  \n",
       "...               ...              ...           ...  \n",
       "24995               0                0             0  \n",
       "24996               0                0             1  \n",
       "24997               0                0             0  \n",
       "24998               0                0             0  \n",
       "24999               0                0             0  \n",
       "\n",
       "[25000 rows x 41 columns]"
      ]
     },
     "execution_count": 83,
     "metadata": {},
     "output_type": "execute_result"
    }
   ],
   "source": [
    "tX"
   ]
  },
  {
   "cell_type": "code",
   "execution_count": 3,
   "id": "bored-chemistry",
   "metadata": {},
   "outputs": [
    {
     "ename": "NameError",
     "evalue": "name 'X' is not defined",
     "output_type": "error",
     "traceback": [
      "\u001b[1;31m---------------------------------------------------------------------------\u001b[0m",
      "\u001b[1;31mNameError\u001b[0m                                 Traceback (most recent call last)",
      "\u001b[1;32m<ipython-input-3-13ba66b1a2f7>\u001b[0m in \u001b[0;36m<module>\u001b[1;34m\u001b[0m\n\u001b[0;32m      5\u001b[0m \u001b[1;31m#Assigning scoring paramter to 'neg_mean_squared_error' beacause 'mean_squared_error' is not\u001b[0m\u001b[1;33m\u001b[0m\u001b[1;33m\u001b[0m\u001b[1;33m\u001b[0m\u001b[0m\n\u001b[0;32m      6\u001b[0m \u001b[1;31m# available inside cross_val_score method\u001b[0m\u001b[1;33m\u001b[0m\u001b[1;33m\u001b[0m\u001b[1;33m\u001b[0m\u001b[0m\n\u001b[1;32m----> 7\u001b[1;33m \u001b[1;32mdef\u001b[0m \u001b[0mcv_rmse\u001b[0m\u001b[1;33m(\u001b[0m\u001b[0mmodel\u001b[0m\u001b[1;33m,\u001b[0m \u001b[0mX\u001b[0m\u001b[1;33m=\u001b[0m\u001b[0mX\u001b[0m\u001b[1;33m)\u001b[0m\u001b[1;33m:\u001b[0m\u001b[1;33m\u001b[0m\u001b[1;33m\u001b[0m\u001b[0m\n\u001b[0m\u001b[0;32m      8\u001b[0m     \u001b[0mrmse\u001b[0m \u001b[1;33m=\u001b[0m \u001b[0mnp\u001b[0m\u001b[1;33m.\u001b[0m\u001b[0msqrt\u001b[0m\u001b[1;33m(\u001b[0m\u001b[1;33m-\u001b[0m\u001b[0mcross_val_score\u001b[0m\u001b[1;33m(\u001b[0m\u001b[0mmodel\u001b[0m\u001b[1;33m,\u001b[0m \u001b[0mX\u001b[0m\u001b[1;33m,\u001b[0m \u001b[0my\u001b[0m\u001b[1;33m,\u001b[0m \u001b[0mscoring\u001b[0m\u001b[1;33m=\u001b[0m\u001b[1;34m\"neg_mean_squared_error\"\u001b[0m\u001b[1;33m,\u001b[0m \u001b[0mcv\u001b[0m\u001b[1;33m=\u001b[0m\u001b[0mkfold\u001b[0m\u001b[1;33m)\u001b[0m\u001b[1;33m)\u001b[0m\u001b[1;33m\u001b[0m\u001b[1;33m\u001b[0m\u001b[0m\n\u001b[0;32m      9\u001b[0m     \u001b[1;32mreturn\u001b[0m \u001b[1;33m(\u001b[0m\u001b[0mrmse\u001b[0m\u001b[1;33m)\u001b[0m\u001b[1;33m\u001b[0m\u001b[1;33m\u001b[0m\u001b[0m\n",
      "\u001b[1;31mNameError\u001b[0m: name 'X' is not defined"
     ]
    }
   ],
   "source": [
    "# Error function to compute error\n",
    "def rmsle(y, y_pred):\n",
    "    return np.sqrt(mean_squared_error(y, y_pred))\n",
    "\n",
    "#Assigning scoring paramter to 'neg_mean_squared_error' beacause 'mean_squared_error' is not \n",
    "# available inside cross_val_score method\n",
    "def cv_rmse(model, X=X):\n",
    "    rmse = np.sqrt(-cross_val_score(model, X, y, scoring=\"neg_mean_squared_error\", cv=kfold))\n",
    "    return (rmse)"
   ]
  },
  {
   "cell_type": "code",
   "execution_count": 84,
   "id": "395b9b67",
   "metadata": {},
   "outputs": [],
   "source": [
    "X_train, X_test, y_train, y_test = train_test_split(X, y, test_size = 0.2, random_state = 42)"
   ]
  },
  {
   "cell_type": "markdown",
   "id": "9387357c",
   "metadata": {},
   "source": [
    "## Setup cross validation and define error metrics"
   ]
  },
  {
   "cell_type": "code",
   "execution_count": 85,
   "id": "688a4e53",
   "metadata": {},
   "outputs": [],
   "source": [
    "from sklearn.model_selection import GridSearchCV\n",
    "from sklearn.model_selection import KFold, cross_val_score\n",
    "from sklearn.metrics import mean_squared_error\n",
    "from sklearn.preprocessing import OneHotEncoder\n",
    "from sklearn.preprocessing import LabelEncoder\n",
    "from sklearn.pipeline import make_pipeline\n",
    "from sklearn.preprocessing import scale\n",
    "from sklearn.preprocessing import StandardScaler\n",
    "from sklearn.preprocessing import RobustScaler\n",
    "from sklearn.decomposition import PCA"
   ]
  },
  {
   "cell_type": "code",
   "execution_count": 86,
   "id": "b360a762",
   "metadata": {},
   "outputs": [],
   "source": [
    "# Setup cross validation folds\n",
    "\n",
    "kf = KFold(n_splits = 11, random_state = 42, shuffle = True)"
   ]
  },
  {
   "cell_type": "markdown",
   "id": "ed0a00b1",
   "metadata": {},
   "source": [
    "### Setup models"
   ]
  },
  {
   "cell_type": "code",
   "execution_count": 108,
   "id": "f3497e9d",
   "metadata": {},
   "outputs": [],
   "source": [
    "# Models\n",
    "from sklearn.ensemble import RandomForestRegressor, GradientBoostingRegressor, AdaBoostRegressor, BaggingRegressor\n",
    "from sklearn.kernel_ridge import KernelRidge\n",
    "from sklearn.linear_model import Ridge, RidgeCV\n",
    "from sklearn.linear_model import ElasticNet, ElasticNetCV\n",
    "from sklearn.svm import SVR\n",
    "#from mlxtend.regressor import StackingCVRegressor\n",
    "#import lightgbm as lgb\n",
    "#from lightgbm import LGBMRegressor\n",
    "from xgboost import XGBRegressor\n",
    "from sklearn.linear_model import LinearRegression\n",
    "\n",
    "from sklearn.metrics import r2_score, mean_squared_error, mean_absolute_error\n"
   ]
  },
  {
   "cell_type": "markdown",
   "id": "cbf07d79",
   "metadata": {},
   "source": [
    "#### Linear Regression"
   ]
  },
  {
   "cell_type": "code",
   "execution_count": 495,
   "id": "04179cb2",
   "metadata": {},
   "outputs": [],
   "source": [
    "model = LinearRegression()"
   ]
  },
  {
   "cell_type": "code",
   "execution_count": 496,
   "id": "6bb6e112",
   "metadata": {},
   "outputs": [
    {
     "data": {
      "text/plain": [
       "LinearRegression()"
      ]
     },
     "execution_count": 496,
     "metadata": {},
     "output_type": "execute_result"
    }
   ],
   "source": [
    "model.fit(X_train, y_train)"
   ]
  },
  {
   "cell_type": "code",
   "execution_count": 497,
   "id": "5731ddf5",
   "metadata": {},
   "outputs": [
    {
     "name": "stdout",
     "output_type": "stream",
     "text": [
      "Test R^2 Score: 0.96210\n"
     ]
    }
   ],
   "source": [
    "print(\"Test R^2 Score: {:.5f}\".format(model.score(X_test, y_test)))"
   ]
  },
  {
   "cell_type": "markdown",
   "id": "b7a68587",
   "metadata": {},
   "source": [
    "#### Light GBM"
   ]
  },
  {
   "cell_type": "code",
   "execution_count": 498,
   "id": "d5b137c2",
   "metadata": {},
   "outputs": [],
   "source": [
    "# Light Gradient Boosting Regressor\n",
    "\n",
    "lightgbm = LGBMRegressor()\n",
    "\n",
    "param_grid = {\n",
    "    'n_estimators': [400, 700, 1000],\n",
    "    'colsample_bytree': [0.7, 0.8],\n",
    "    'max_depth': [15,20,25],\n",
    "    'num_leaves': [50, 100, 200],\n",
    "    'reg_alpha': [1.1, 1.2, 1.3],\n",
    "    'reg_lambda': [1.1, 1.2, 1.3],\n",
    "    'min_split_gain': [0.3, 0.4],\n",
    "    'subsample': [0.7, 0.8, 0.9],\n",
    "    'subsample_freq': [20]\n",
    "}\n",
    "\n",
    "gbm = GridSearchCV(lightgbm, \n",
    "                   param_grid, \n",
    "                   cv = 2, \n",
    "                   n_jobs = 5,\n",
    "                   verbose = True)\n"
   ]
  },
  {
   "cell_type": "code",
   "execution_count": 499,
   "id": "dd6d6d86",
   "metadata": {},
   "outputs": [
    {
     "name": "stdout",
     "output_type": "stream",
     "text": [
      "Fitting 2 folds for each of 2916 candidates, totalling 5832 fits\n"
     ]
    },
    {
     "data": {
      "text/plain": [
       "GridSearchCV(cv=2, estimator=LGBMRegressor(), n_jobs=5,\n",
       "             param_grid={'colsample_bytree': [0.7, 0.8],\n",
       "                         'max_depth': [15, 20, 25],\n",
       "                         'min_split_gain': [0.3, 0.4],\n",
       "                         'n_estimators': [400, 700, 1000],\n",
       "                         'num_leaves': [50, 100, 200],\n",
       "                         'reg_alpha': [1.1, 1.2, 1.3],\n",
       "                         'reg_lambda': [1.1, 1.2, 1.3],\n",
       "                         'subsample': [0.7, 0.8, 0.9], 'subsample_freq': [20]},\n",
       "             verbose=True)"
      ]
     },
     "execution_count": 499,
     "metadata": {},
     "output_type": "execute_result"
    }
   ],
   "source": [
    "gbm.fit(X_train, y_train)"
   ]
  },
  {
   "cell_type": "code",
   "execution_count": 500,
   "id": "d8ff23b6",
   "metadata": {},
   "outputs": [
    {
     "name": "stdout",
     "output_type": "stream",
     "text": [
      "0.9589831917546432\n"
     ]
    }
   ],
   "source": [
    "print(gbm.best_score_)"
   ]
  },
  {
   "cell_type": "code",
   "execution_count": 501,
   "id": "596b2b68",
   "metadata": {},
   "outputs": [
    {
     "name": "stdout",
     "output_type": "stream",
     "text": [
      "{'colsample_bytree': 0.7, 'max_depth': 15, 'min_split_gain': 0.3, 'n_estimators': 400, 'num_leaves': 50, 'reg_alpha': 1.1, 'reg_lambda': 1.1, 'subsample': 0.9, 'subsample_freq': 20}\n"
     ]
    }
   ],
   "source": [
    "print(gbm.best_params_)"
   ]
  },
  {
   "cell_type": "markdown",
   "id": "5003eda4",
   "metadata": {},
   "source": [
    "#### XGBoost"
   ]
  },
  {
   "cell_type": "code",
   "execution_count": 520,
   "id": "innovative-receipt",
   "metadata": {},
   "outputs": [],
   "source": [
    "from xgboost import XGBRegressor"
   ]
  },
  {
   "cell_type": "code",
   "execution_count": 521,
   "id": "b788afb9",
   "metadata": {},
   "outputs": [],
   "source": [
    "# XGBoost Regressor\n",
    "xgboost = XGBRegressor()\n",
    "\n",
    "param_grid = {'nthread':[4], #when use hyperthread, xgboost may become slower\n",
    "              'objective':['reg:linear'],\n",
    "              'learning_rate': [.03, 0.05, .07], #so called `eta` value\n",
    "              'max_depth': [5, 6, 7],\n",
    "              'min_child_weight': [4],\n",
    "              'silent': [1],\n",
    "              'subsample': [0.7],\n",
    "              'colsample_bytree': [0.7],\n",
    "              'n_estimators': [500]}\n",
    "\n",
    "xgb = GridSearchCV(xgboost, \n",
    "                   param_grid, \n",
    "                   cv = 2, \n",
    "                   n_jobs = 5, \n",
    "                   verbose = True)"
   ]
  },
  {
   "cell_type": "code",
   "execution_count": 522,
   "id": "2dff8a31",
   "metadata": {},
   "outputs": [
    {
     "name": "stdout",
     "output_type": "stream",
     "text": [
      "Fitting 2 folds for each of 9 candidates, totalling 18 fits\n",
      "[16:23:40] WARNING: C:/Users/Administrator/workspace/xgboost-win64_release_1.3.0/src/objective/regression_obj.cu:170: reg:linear is now deprecated in favor of reg:squarederror.\n",
      "[16:23:40] WARNING: C:/Users/Administrator/workspace/xgboost-win64_release_1.3.0/src/learner.cc:541: \n",
      "Parameters: { silent } might not be used.\n",
      "\n",
      "  This may not be accurate due to some parameters are only used in language bindings but\n",
      "  passed down to XGBoost core.  Or some parameters are not used but slip through this\n",
      "  verification. Please open an issue if you find above cases.\n",
      "\n",
      "\n"
     ]
    },
    {
     "data": {
      "text/plain": [
       "GridSearchCV(cv=2,\n",
       "             estimator=XGBRegressor(base_score=None, booster=None,\n",
       "                                    colsample_bylevel=None,\n",
       "                                    colsample_bynode=None,\n",
       "                                    colsample_bytree=None, gamma=None,\n",
       "                                    gpu_id=None, importance_type='gain',\n",
       "                                    interaction_constraints=None,\n",
       "                                    learning_rate=None, max_delta_step=None,\n",
       "                                    max_depth=None, min_child_weight=None,\n",
       "                                    missing=nan, monotone_constraints=None,\n",
       "                                    n_estimators=100, n_jobs=...\n",
       "                                    reg_alpha=None, reg_lambda=None,\n",
       "                                    scale_pos_weight=None, subsample=None,\n",
       "                                    tree_method=None, validate_parameters=None,\n",
       "                                    verbosity=None),\n",
       "             n_jobs=5,\n",
       "             param_grid={'colsample_bytree': [0.7],\n",
       "                         'learning_rate': [0.03, 0.05, 0.07],\n",
       "                         'max_depth': [5, 6, 7], 'min_child_weight': [4],\n",
       "                         'n_estimators': [500], 'nthread': [4],\n",
       "                         'objective': ['reg:linear'], 'silent': [1],\n",
       "                         'subsample': [0.7]},\n",
       "             verbose=True)"
      ]
     },
     "execution_count": 522,
     "metadata": {},
     "output_type": "execute_result"
    }
   ],
   "source": [
    "xgb.fit(X_train, y_train)"
   ]
  },
  {
   "cell_type": "code",
   "execution_count": 523,
   "id": "fffa7d26",
   "metadata": {},
   "outputs": [
    {
     "name": "stdout",
     "output_type": "stream",
     "text": [
      "0.9709217570814643\n"
     ]
    }
   ],
   "source": [
    "print(xgb.best_score_)"
   ]
  },
  {
   "cell_type": "code",
   "execution_count": 524,
   "id": "surprised-corner",
   "metadata": {},
   "outputs": [
    {
     "name": "stdout",
     "output_type": "stream",
     "text": [
      "{'colsample_bytree': 0.7, 'learning_rate': 0.03, 'max_depth': 6, 'min_child_weight': 4, 'n_estimators': 500, 'nthread': 4, 'objective': 'reg:linear', 'silent': 1, 'subsample': 0.7}\n"
     ]
    }
   ],
   "source": [
    "print(xgb.best_params_)"
   ]
  },
  {
   "cell_type": "code",
   "execution_count": 525,
   "id": "sapphire-leonard",
   "metadata": {},
   "outputs": [],
   "source": [
    "params = {'colsample_bytree': 0.7, \n",
    "             'learning_rate': 0.03, \n",
    "             'max_depth': 6, \n",
    "             'min_child_weight': 4, \n",
    "             'n_estimators': 500, \n",
    "             'nthread': 4, \n",
    "             'objective': \n",
    "             'reg:linear', \n",
    "             'silent': 1, \n",
    "             'subsample': 0.7}\n",
    "\n",
    "xgboost = XGBRegressor(**params)"
   ]
  },
  {
   "cell_type": "code",
   "execution_count": 526,
   "id": "unique-treasurer",
   "metadata": {},
   "outputs": [
    {
     "name": "stdout",
     "output_type": "stream",
     "text": [
      "[16:24:32] WARNING: C:/Users/Administrator/workspace/xgboost-win64_release_1.3.0/src/objective/regression_obj.cu:170: reg:linear is now deprecated in favor of reg:squarederror.\n",
      "[16:24:32] WARNING: C:/Users/Administrator/workspace/xgboost-win64_release_1.3.0/src/learner.cc:541: \n",
      "Parameters: { silent } might not be used.\n",
      "\n",
      "  This may not be accurate due to some parameters are only used in language bindings but\n",
      "  passed down to XGBoost core.  Or some parameters are not used but slip through this\n",
      "  verification. Please open an issue if you find above cases.\n",
      "\n",
      "\n"
     ]
    },
    {
     "data": {
      "text/plain": [
       "XGBRegressor(base_score=0.5, booster='gbtree', colsample_bylevel=1,\n",
       "             colsample_bynode=1, colsample_bytree=0.7, gamma=0, gpu_id=-1,\n",
       "             importance_type='gain', interaction_constraints='',\n",
       "             learning_rate=0.03, max_delta_step=0, max_depth=6,\n",
       "             min_child_weight=4, missing=nan, monotone_constraints='()',\n",
       "             n_estimators=500, n_jobs=4, nthread=4, num_parallel_tree=1,\n",
       "             objective='reg:linear', random_state=0, reg_alpha=0, reg_lambda=1,\n",
       "             scale_pos_weight=1, silent=1, subsample=0.7, tree_method='exact',\n",
       "             validate_parameters=1, verbosity=None)"
      ]
     },
     "execution_count": 526,
     "metadata": {},
     "output_type": "execute_result"
    }
   ],
   "source": [
    "xgboost.fit(X_train, y_train)"
   ]
  },
  {
   "cell_type": "code",
   "execution_count": 527,
   "id": "physical-latex",
   "metadata": {},
   "outputs": [],
   "source": [
    "xgb_pred = xgboost.predict(X_test)"
   ]
  },
  {
   "cell_type": "code",
   "execution_count": 528,
   "id": "unlike-extra",
   "metadata": {},
   "outputs": [
    {
     "data": {
      "text/plain": [
       "0.9723611427457733"
      ]
     },
     "execution_count": 528,
     "metadata": {},
     "output_type": "execute_result"
    }
   ],
   "source": [
    "r2_score(y_test, xgb_pred)"
   ]
  },
  {
   "cell_type": "code",
   "execution_count": 529,
   "id": "southwest-bermuda",
   "metadata": {},
   "outputs": [
    {
     "name": "stdout",
     "output_type": "stream",
     "text": [
      "[16:24:42] WARNING: C:/Users/Administrator/workspace/xgboost-win64_release_1.3.0/src/objective/regression_obj.cu:170: reg:linear is now deprecated in favor of reg:squarederror.\n",
      "[16:24:42] WARNING: C:/Users/Administrator/workspace/xgboost-win64_release_1.3.0/src/learner.cc:541: \n",
      "Parameters: { silent } might not be used.\n",
      "\n",
      "  This may not be accurate due to some parameters are only used in language bindings but\n",
      "  passed down to XGBoost core.  Or some parameters are not used but slip through this\n",
      "  verification. Please open an issue if you find above cases.\n",
      "\n",
      "\n",
      "[16:24:43] WARNING: C:/Users/Administrator/workspace/xgboost-win64_release_1.3.0/src/objective/regression_obj.cu:170: reg:linear is now deprecated in favor of reg:squarederror.\n",
      "[16:24:43] WARNING: C:/Users/Administrator/workspace/xgboost-win64_release_1.3.0/src/learner.cc:541: \n",
      "Parameters: { silent } might not be used.\n",
      "\n",
      "  This may not be accurate due to some parameters are only used in language bindings but\n",
      "  passed down to XGBoost core.  Or some parameters are not used but slip through this\n",
      "  verification. Please open an issue if you find above cases.\n",
      "\n",
      "\n",
      "[16:24:44] WARNING: C:/Users/Administrator/workspace/xgboost-win64_release_1.3.0/src/objective/regression_obj.cu:170: reg:linear is now deprecated in favor of reg:squarederror.\n",
      "[16:24:44] WARNING: C:/Users/Administrator/workspace/xgboost-win64_release_1.3.0/src/learner.cc:541: \n",
      "Parameters: { silent } might not be used.\n",
      "\n",
      "  This may not be accurate due to some parameters are only used in language bindings but\n",
      "  passed down to XGBoost core.  Or some parameters are not used but slip through this\n",
      "  verification. Please open an issue if you find above cases.\n",
      "\n",
      "\n",
      "[0.97175337 0.97079366 0.97391117]\n"
     ]
    }
   ],
   "source": [
    "print(cross_val_score(xgboost, X_train, y_train, cv = 3))"
   ]
  },
  {
   "cell_type": "code",
   "execution_count": null,
   "id": "changing-processing",
   "metadata": {},
   "outputs": [],
   "source": []
  },
  {
   "cell_type": "code",
   "execution_count": null,
   "id": "direct-friendship",
   "metadata": {},
   "outputs": [],
   "source": []
  },
  {
   "cell_type": "code",
   "execution_count": null,
   "id": "supported-television",
   "metadata": {},
   "outputs": [],
   "source": []
  },
  {
   "cell_type": "code",
   "execution_count": null,
   "id": "designing-snowboard",
   "metadata": {},
   "outputs": [],
   "source": []
  },
  {
   "cell_type": "markdown",
   "id": "b09121d7",
   "metadata": {},
   "source": [
    "### Ridge Regressor"
   ]
  },
  {
   "cell_type": "code",
   "execution_count": 517,
   "id": "5d05a835",
   "metadata": {},
   "outputs": [],
   "source": [
    "# Ridge Regressor\n",
    "alphas = np.array([1,0.1,0.01,0.001,0.0001,0])\n",
    "\n",
    "ridge_reg = Ridge()\n",
    "\n",
    "ridge = GridSearchCV(ridge_reg, \n",
    "                     param_grid = dict(alpha= alphas), \n",
    "                     cv = 2, \n",
    "                     n_jobs = 5, \n",
    "                     verbose = True)"
   ]
  },
  {
   "cell_type": "code",
   "execution_count": 518,
   "id": "469c8ca0",
   "metadata": {},
   "outputs": [
    {
     "name": "stdout",
     "output_type": "stream",
     "text": [
      "Fitting 2 folds for each of 6 candidates, totalling 12 fits\n"
     ]
    },
    {
     "data": {
      "text/plain": [
       "GridSearchCV(cv=2, estimator=Ridge(), n_jobs=5,\n",
       "             param_grid={'alpha': array([1.e+00, 1.e-01, 1.e-02, 1.e-03, 1.e-04, 0.e+00])},\n",
       "             verbose=True)"
      ]
     },
     "execution_count": 518,
     "metadata": {},
     "output_type": "execute_result"
    }
   ],
   "source": [
    "ridge.fit(X_train, y_train)"
   ]
  },
  {
   "cell_type": "code",
   "execution_count": 519,
   "id": "fcfa56a2",
   "metadata": {},
   "outputs": [
    {
     "name": "stdout",
     "output_type": "stream",
     "text": [
      "0.9628680056443626\n"
     ]
    }
   ],
   "source": [
    "print(ridge.best_score_)"
   ]
  },
  {
   "cell_type": "markdown",
   "id": "ecf56203",
   "metadata": {},
   "source": [
    "### Support Vector Regressor"
   ]
  },
  {
   "cell_type": "code",
   "execution_count": 812,
   "id": "e8ba3488",
   "metadata": {},
   "outputs": [],
   "source": [
    "# SVR\n",
    "\n",
    "param_grid={\n",
    "    \n",
    "        'C': [0.1, 1, 100, 1000],\n",
    "        \n",
    "        'epsilon': [0.0001, 0.0005, 0.001, 0.005, 0.01, 0.05, 0.1, 0.5, 1, 5, 10],\n",
    "        \n",
    "        'gamma': [0.0001, 0.001, 0.005, 0.1, 1, 3, 5]\n",
    "        \n",
    "    }\n",
    "    \n",
    "\n",
    "svr = SVR(kernel = 'rbf')\n",
    "\n",
    "svr_gcv = GridSearchCV(svr,\n",
    "                      param_grid,\n",
    "                      cv = 2, \n",
    "                      scoring = 'neg_mean_squared_error',\n",
    "                      verbose = 0, \n",
    "                      n_jobs = 5)"
   ]
  },
  {
   "cell_type": "code",
   "execution_count": null,
   "id": "f30bf823",
   "metadata": {},
   "outputs": [],
   "source": [
    "svr_gcv.fit(X_train, y_train)"
   ]
  },
  {
   "cell_type": "code",
   "execution_count": null,
   "id": "877ea5f6",
   "metadata": {},
   "outputs": [],
   "source": [
    "print(svr_gcv.best_score_)"
   ]
  },
  {
   "cell_type": "markdown",
   "id": "eb3f91ea",
   "metadata": {},
   "source": [
    "### Gradient Boosting Regressor"
   ]
  },
  {
   "cell_type": "code",
   "execution_count": 502,
   "id": "e5426ad4",
   "metadata": {},
   "outputs": [],
   "source": [
    "# GBR\n",
    "\n",
    "params = {\n",
    "    'loss': ['ls', 'lad','huber','quantile'],\n",
    "    'learning_rate': [0.1, 0.2,0.3],\n",
    "    'max_depth': [3,5,6]\n",
    "} \n",
    "\n",
    "gbr_model = GradientBoostingRegressor()\n",
    "\n",
    "gbr = GridSearchCV(gbr_model,\n",
    "                  params,\n",
    "                  cv = 2,\n",
    "                  verbose = True,\n",
    "                  n_jobs = 5)\n"
   ]
  },
  {
   "cell_type": "code",
   "execution_count": 503,
   "id": "05c74e98",
   "metadata": {},
   "outputs": [
    {
     "name": "stdout",
     "output_type": "stream",
     "text": [
      "Fitting 2 folds for each of 36 candidates, totalling 72 fits\n"
     ]
    },
    {
     "data": {
      "text/plain": [
       "GridSearchCV(cv=2, estimator=GradientBoostingRegressor(), n_jobs=5,\n",
       "             param_grid={'learning_rate': [0.1, 0.2, 0.3],\n",
       "                         'loss': ['ls', 'lad', 'huber', 'quantile'],\n",
       "                         'max_depth': [3, 5, 6]},\n",
       "             verbose=True)"
      ]
     },
     "execution_count": 503,
     "metadata": {},
     "output_type": "execute_result"
    }
   ],
   "source": [
    "gbr.fit(X_train, y_train)"
   ]
  },
  {
   "cell_type": "code",
   "execution_count": 504,
   "id": "90f10cec",
   "metadata": {},
   "outputs": [
    {
     "name": "stdout",
     "output_type": "stream",
     "text": [
      "0.9683345400510917\n"
     ]
    }
   ],
   "source": [
    "print(gbr.best_score_)"
   ]
  },
  {
   "cell_type": "code",
   "execution_count": 505,
   "id": "1bbb4276",
   "metadata": {},
   "outputs": [
    {
     "name": "stdout",
     "output_type": "stream",
     "text": [
      "{'learning_rate': 0.2, 'loss': 'huber', 'max_depth': 3}\n"
     ]
    }
   ],
   "source": [
    "print(gbr.best_params_)"
   ]
  },
  {
   "cell_type": "code",
   "execution_count": 506,
   "id": "bf35ed57",
   "metadata": {},
   "outputs": [
    {
     "data": {
      "text/plain": [
       "GradientBoostingRegressor(learning_rate=0.2, loss='huber')"
      ]
     },
     "execution_count": 506,
     "metadata": {},
     "output_type": "execute_result"
    }
   ],
   "source": [
    "params = {'learning_rate': 0.2, 'loss': 'huber', 'max_depth': 3}\n",
    "\n",
    "gbr_cv = GradientBoostingRegressor(**params)\n",
    "\n",
    "gbr_cv.fit(X_train, y_train)"
   ]
  },
  {
   "cell_type": "code",
   "execution_count": 507,
   "id": "44d0c2ab",
   "metadata": {},
   "outputs": [],
   "source": [
    "gbr_pred = gbr_cv.predict(X_test)"
   ]
  },
  {
   "cell_type": "code",
   "execution_count": 508,
   "id": "efc72c40",
   "metadata": {},
   "outputs": [
    {
     "data": {
      "text/plain": [
       "0.9679917284334992"
      ]
     },
     "execution_count": 508,
     "metadata": {},
     "output_type": "execute_result"
    }
   ],
   "source": [
    "r2_score(y_test, gbr_pred)"
   ]
  },
  {
   "cell_type": "code",
   "execution_count": 509,
   "id": "bb3ebe4c",
   "metadata": {},
   "outputs": [
    {
     "name": "stdout",
     "output_type": "stream",
     "text": [
      "[0.96999934 0.96621598 0.97073648]\n"
     ]
    }
   ],
   "source": [
    "print(cross_val_score(gbr_cv, X_train, y_train, cv = 3))"
   ]
  },
  {
   "cell_type": "code",
   "execution_count": 268,
   "id": "recovered-roman",
   "metadata": {
    "scrolled": true
   },
   "outputs": [
    {
     "name": "stdout",
     "output_type": "stream",
     "text": [
      "R2 Score: 0.9704370713710249\n",
      "Mean Squarred Error: 0.009364988023557952\n",
      "RMSE: 0.09677286822016774\n",
      "Mean Absolute Error : 0.06752220095216618\n"
     ]
    }
   ],
   "source": [
    "print(\"R2 Score:\", r2_score(y_test, gbr_pred))\n",
    "print(\"Mean Squarred Error:\", mean_squared_error(y_test, gbr_pred))\n",
    "print(\"RMSE:\", math.sqrt(mean_squared_error(y_test, gbr_pred)))\n",
    "print(\"Mean Absolute Error : \" + str(mean_absolute_error(y_test,gbr_pred)))"
   ]
  },
  {
   "cell_type": "markdown",
   "id": "tribal-drove",
   "metadata": {},
   "source": [
    "**GBR with balanced dataset**\n",
    "\n",
    "- R2 Score: 0.9704435818146127\n",
    "- Mean Squarred Error: 0.009362925635660182\n",
    "- RMSE: 0.09676221181670137\n",
    "- Mean Absolute Error : 0.06750763991137315"
   ]
  },
  {
   "cell_type": "code",
   "execution_count": 251,
   "id": "hindu-admission",
   "metadata": {},
   "outputs": [
    {
     "data": {
      "text/html": [
       "<div>\n",
       "<style scoped>\n",
       "    .dataframe tbody tr th:only-of-type {\n",
       "        vertical-align: middle;\n",
       "    }\n",
       "\n",
       "    .dataframe tbody tr th {\n",
       "        vertical-align: top;\n",
       "    }\n",
       "\n",
       "    .dataframe thead th {\n",
       "        text-align: right;\n",
       "    }\n",
       "</style>\n",
       "<table border=\"1\" class=\"dataframe\">\n",
       "  <thead>\n",
       "    <tr style=\"text-align: right;\">\n",
       "      <th></th>\n",
       "      <th>distance</th>\n",
       "      <th>surge_multiplier</th>\n",
       "      <th>day</th>\n",
       "      <th>hour</th>\n",
       "      <th>cab_provider_Lyft</th>\n",
       "      <th>cab_provider_Uber</th>\n",
       "      <th>source_Back Bay</th>\n",
       "      <th>source_Beacon Hill</th>\n",
       "      <th>source_Boston University</th>\n",
       "      <th>source_Fenway</th>\n",
       "      <th>...</th>\n",
       "      <th>cab_type_Lux</th>\n",
       "      <th>cab_type_Lux Black</th>\n",
       "      <th>cab_type_Lux Black XL</th>\n",
       "      <th>cab_type_Lyft</th>\n",
       "      <th>cab_type_Lyft XL</th>\n",
       "      <th>cab_type_Shared</th>\n",
       "      <th>cab_type_UberPool</th>\n",
       "      <th>cab_type_UberX</th>\n",
       "      <th>cab_type_UberXL</th>\n",
       "      <th>cab_type_WAV</th>\n",
       "    </tr>\n",
       "  </thead>\n",
       "  <tbody>\n",
       "    <tr>\n",
       "      <th>1081</th>\n",
       "      <td>-1.770419</td>\n",
       "      <td>0.710570</td>\n",
       "      <td>1.047777</td>\n",
       "      <td>-1.192691</td>\n",
       "      <td>1</td>\n",
       "      <td>0</td>\n",
       "      <td>0</td>\n",
       "      <td>0</td>\n",
       "      <td>0</td>\n",
       "      <td>0</td>\n",
       "      <td>...</td>\n",
       "      <td>0</td>\n",
       "      <td>0</td>\n",
       "      <td>1</td>\n",
       "      <td>0</td>\n",
       "      <td>0</td>\n",
       "      <td>0</td>\n",
       "      <td>0</td>\n",
       "      <td>0</td>\n",
       "      <td>0</td>\n",
       "      <td>0</td>\n",
       "    </tr>\n",
       "    <tr>\n",
       "      <th>3801</th>\n",
       "      <td>-0.927076</td>\n",
       "      <td>-0.972465</td>\n",
       "      <td>-0.926244</td>\n",
       "      <td>-0.733151</td>\n",
       "      <td>0</td>\n",
       "      <td>1</td>\n",
       "      <td>0</td>\n",
       "      <td>0</td>\n",
       "      <td>0</td>\n",
       "      <td>0</td>\n",
       "      <td>...</td>\n",
       "      <td>0</td>\n",
       "      <td>0</td>\n",
       "      <td>0</td>\n",
       "      <td>0</td>\n",
       "      <td>0</td>\n",
       "      <td>0</td>\n",
       "      <td>0</td>\n",
       "      <td>0</td>\n",
       "      <td>1</td>\n",
       "      <td>0</td>\n",
       "    </tr>\n",
       "    <tr>\n",
       "      <th>363</th>\n",
       "      <td>-0.054040</td>\n",
       "      <td>-0.130947</td>\n",
       "      <td>-0.926244</td>\n",
       "      <td>0.492287</td>\n",
       "      <td>1</td>\n",
       "      <td>0</td>\n",
       "      <td>0</td>\n",
       "      <td>0</td>\n",
       "      <td>0</td>\n",
       "      <td>0</td>\n",
       "      <td>...</td>\n",
       "      <td>0</td>\n",
       "      <td>0</td>\n",
       "      <td>0</td>\n",
       "      <td>1</td>\n",
       "      <td>0</td>\n",
       "      <td>0</td>\n",
       "      <td>0</td>\n",
       "      <td>0</td>\n",
       "      <td>0</td>\n",
       "      <td>0</td>\n",
       "    </tr>\n",
       "    <tr>\n",
       "      <th>4483</th>\n",
       "      <td>-1.146167</td>\n",
       "      <td>-0.972465</td>\n",
       "      <td>-0.926244</td>\n",
       "      <td>-0.579971</td>\n",
       "      <td>1</td>\n",
       "      <td>0</td>\n",
       "      <td>0</td>\n",
       "      <td>0</td>\n",
       "      <td>0</td>\n",
       "      <td>0</td>\n",
       "      <td>...</td>\n",
       "      <td>0</td>\n",
       "      <td>0</td>\n",
       "      <td>0</td>\n",
       "      <td>1</td>\n",
       "      <td>0</td>\n",
       "      <td>0</td>\n",
       "      <td>0</td>\n",
       "      <td>0</td>\n",
       "      <td>0</td>\n",
       "      <td>0</td>\n",
       "    </tr>\n",
       "    <tr>\n",
       "      <th>4486</th>\n",
       "      <td>1.839855</td>\n",
       "      <td>-0.972465</td>\n",
       "      <td>-0.926244</td>\n",
       "      <td>-0.579971</td>\n",
       "      <td>0</td>\n",
       "      <td>1</td>\n",
       "      <td>0</td>\n",
       "      <td>0</td>\n",
       "      <td>0</td>\n",
       "      <td>0</td>\n",
       "      <td>...</td>\n",
       "      <td>0</td>\n",
       "      <td>0</td>\n",
       "      <td>0</td>\n",
       "      <td>0</td>\n",
       "      <td>0</td>\n",
       "      <td>0</td>\n",
       "      <td>0</td>\n",
       "      <td>0</td>\n",
       "      <td>0</td>\n",
       "      <td>0</td>\n",
       "    </tr>\n",
       "    <tr>\n",
       "      <th>...</th>\n",
       "      <td>...</td>\n",
       "      <td>...</td>\n",
       "      <td>...</td>\n",
       "      <td>...</td>\n",
       "      <td>...</td>\n",
       "      <td>...</td>\n",
       "      <td>...</td>\n",
       "      <td>...</td>\n",
       "      <td>...</td>\n",
       "      <td>...</td>\n",
       "      <td>...</td>\n",
       "      <td>...</td>\n",
       "      <td>...</td>\n",
       "      <td>...</td>\n",
       "      <td>...</td>\n",
       "      <td>...</td>\n",
       "      <td>...</td>\n",
       "      <td>...</td>\n",
       "      <td>...</td>\n",
       "      <td>...</td>\n",
       "      <td>...</td>\n",
       "    </tr>\n",
       "    <tr>\n",
       "      <th>142</th>\n",
       "      <td>-0.719310</td>\n",
       "      <td>-0.130947</td>\n",
       "      <td>-0.926244</td>\n",
       "      <td>-0.120432</td>\n",
       "      <td>1</td>\n",
       "      <td>0</td>\n",
       "      <td>1</td>\n",
       "      <td>0</td>\n",
       "      <td>0</td>\n",
       "      <td>0</td>\n",
       "      <td>...</td>\n",
       "      <td>0</td>\n",
       "      <td>0</td>\n",
       "      <td>1</td>\n",
       "      <td>0</td>\n",
       "      <td>0</td>\n",
       "      <td>0</td>\n",
       "      <td>0</td>\n",
       "      <td>0</td>\n",
       "      <td>0</td>\n",
       "      <td>0</td>\n",
       "    </tr>\n",
       "    <tr>\n",
       "      <th>84</th>\n",
       "      <td>-0.564661</td>\n",
       "      <td>0.710570</td>\n",
       "      <td>-0.926244</td>\n",
       "      <td>-0.579971</td>\n",
       "      <td>1</td>\n",
       "      <td>0</td>\n",
       "      <td>0</td>\n",
       "      <td>0</td>\n",
       "      <td>1</td>\n",
       "      <td>0</td>\n",
       "      <td>...</td>\n",
       "      <td>0</td>\n",
       "      <td>1</td>\n",
       "      <td>0</td>\n",
       "      <td>0</td>\n",
       "      <td>0</td>\n",
       "      <td>0</td>\n",
       "      <td>0</td>\n",
       "      <td>0</td>\n",
       "      <td>0</td>\n",
       "      <td>0</td>\n",
       "    </tr>\n",
       "    <tr>\n",
       "      <th>3074</th>\n",
       "      <td>-0.394609</td>\n",
       "      <td>-0.130947</td>\n",
       "      <td>1.047777</td>\n",
       "      <td>1.870906</td>\n",
       "      <td>1</td>\n",
       "      <td>0</td>\n",
       "      <td>0</td>\n",
       "      <td>0</td>\n",
       "      <td>0</td>\n",
       "      <td>0</td>\n",
       "      <td>...</td>\n",
       "      <td>0</td>\n",
       "      <td>1</td>\n",
       "      <td>0</td>\n",
       "      <td>0</td>\n",
       "      <td>0</td>\n",
       "      <td>0</td>\n",
       "      <td>0</td>\n",
       "      <td>0</td>\n",
       "      <td>0</td>\n",
       "      <td>0</td>\n",
       "    </tr>\n",
       "    <tr>\n",
       "      <th>3573</th>\n",
       "      <td>-0.102500</td>\n",
       "      <td>-0.972465</td>\n",
       "      <td>-0.926244</td>\n",
       "      <td>-0.886331</td>\n",
       "      <td>1</td>\n",
       "      <td>0</td>\n",
       "      <td>0</td>\n",
       "      <td>0</td>\n",
       "      <td>0</td>\n",
       "      <td>0</td>\n",
       "      <td>...</td>\n",
       "      <td>1</td>\n",
       "      <td>0</td>\n",
       "      <td>0</td>\n",
       "      <td>0</td>\n",
       "      <td>0</td>\n",
       "      <td>0</td>\n",
       "      <td>0</td>\n",
       "      <td>0</td>\n",
       "      <td>0</td>\n",
       "      <td>0</td>\n",
       "    </tr>\n",
       "    <tr>\n",
       "      <th>2705</th>\n",
       "      <td>-0.630238</td>\n",
       "      <td>0.710570</td>\n",
       "      <td>1.047777</td>\n",
       "      <td>1.411366</td>\n",
       "      <td>1</td>\n",
       "      <td>0</td>\n",
       "      <td>0</td>\n",
       "      <td>0</td>\n",
       "      <td>1</td>\n",
       "      <td>0</td>\n",
       "      <td>...</td>\n",
       "      <td>0</td>\n",
       "      <td>1</td>\n",
       "      <td>0</td>\n",
       "      <td>0</td>\n",
       "      <td>0</td>\n",
       "      <td>0</td>\n",
       "      <td>0</td>\n",
       "      <td>0</td>\n",
       "      <td>0</td>\n",
       "      <td>0</td>\n",
       "    </tr>\n",
       "  </tbody>\n",
       "</table>\n",
       "<p>1004 rows × 42 columns</p>\n",
       "</div>"
      ],
      "text/plain": [
       "      distance  surge_multiplier       day      hour  cab_provider_Lyft  \\\n",
       "1081 -1.770419          0.710570  1.047777 -1.192691                  1   \n",
       "3801 -0.927076         -0.972465 -0.926244 -0.733151                  0   \n",
       "363  -0.054040         -0.130947 -0.926244  0.492287                  1   \n",
       "4483 -1.146167         -0.972465 -0.926244 -0.579971                  1   \n",
       "4486  1.839855         -0.972465 -0.926244 -0.579971                  0   \n",
       "...        ...               ...       ...       ...                ...   \n",
       "142  -0.719310         -0.130947 -0.926244 -0.120432                  1   \n",
       "84   -0.564661          0.710570 -0.926244 -0.579971                  1   \n",
       "3074 -0.394609         -0.130947  1.047777  1.870906                  1   \n",
       "3573 -0.102500         -0.972465 -0.926244 -0.886331                  1   \n",
       "2705 -0.630238          0.710570  1.047777  1.411366                  1   \n",
       "\n",
       "      cab_provider_Uber  source_Back Bay  source_Beacon Hill  \\\n",
       "1081                  0                0                   0   \n",
       "3801                  1                0                   0   \n",
       "363                   0                0                   0   \n",
       "4483                  0                0                   0   \n",
       "4486                  1                0                   0   \n",
       "...                 ...              ...                 ...   \n",
       "142                   0                1                   0   \n",
       "84                    0                0                   0   \n",
       "3074                  0                0                   0   \n",
       "3573                  0                0                   0   \n",
       "2705                  0                0                   0   \n",
       "\n",
       "      source_Boston University  source_Fenway  ...  cab_type_Lux  \\\n",
       "1081                         0              0  ...             0   \n",
       "3801                         0              0  ...             0   \n",
       "363                          0              0  ...             0   \n",
       "4483                         0              0  ...             0   \n",
       "4486                         0              0  ...             0   \n",
       "...                        ...            ...  ...           ...   \n",
       "142                          0              0  ...             0   \n",
       "84                           1              0  ...             0   \n",
       "3074                         0              0  ...             0   \n",
       "3573                         0              0  ...             1   \n",
       "2705                         1              0  ...             0   \n",
       "\n",
       "      cab_type_Lux Black  cab_type_Lux Black XL  cab_type_Lyft  \\\n",
       "1081                   0                      1              0   \n",
       "3801                   0                      0              0   \n",
       "363                    0                      0              1   \n",
       "4483                   0                      0              1   \n",
       "4486                   0                      0              0   \n",
       "...                  ...                    ...            ...   \n",
       "142                    0                      1              0   \n",
       "84                     1                      0              0   \n",
       "3074                   1                      0              0   \n",
       "3573                   0                      0              0   \n",
       "2705                   1                      0              0   \n",
       "\n",
       "      cab_type_Lyft XL  cab_type_Shared  cab_type_UberPool  cab_type_UberX  \\\n",
       "1081                 0                0                  0               0   \n",
       "3801                 0                0                  0               0   \n",
       "363                  0                0                  0               0   \n",
       "4483                 0                0                  0               0   \n",
       "4486                 0                0                  0               0   \n",
       "...                ...              ...                ...             ...   \n",
       "142                  0                0                  0               0   \n",
       "84                   0                0                  0               0   \n",
       "3074                 0                0                  0               0   \n",
       "3573                 0                0                  0               0   \n",
       "2705                 0                0                  0               0   \n",
       "\n",
       "      cab_type_UberXL  cab_type_WAV  \n",
       "1081                0             0  \n",
       "3801                1             0  \n",
       "363                 0             0  \n",
       "4483                0             0  \n",
       "4486                0             0  \n",
       "...               ...           ...  \n",
       "142                 0             0  \n",
       "84                  0             0  \n",
       "3074                0             0  \n",
       "3573                0             0  \n",
       "2705                0             0  \n",
       "\n",
       "[1004 rows x 42 columns]"
      ]
     },
     "execution_count": 251,
     "metadata": {},
     "output_type": "execute_result"
    }
   ],
   "source": [
    "X_test"
   ]
  },
  {
   "cell_type": "markdown",
   "id": "spectacular-recognition",
   "metadata": {},
   "source": [
    "## RandomForest"
   ]
  },
  {
   "cell_type": "code",
   "execution_count": 233,
   "id": "de61b537",
   "metadata": {
    "scrolled": true
   },
   "outputs": [
    {
     "name": "stdout",
     "output_type": "stream",
     "text": [
      "RMSE: 0.09676221181670137\n"
     ]
    }
   ],
   "source": [
    "from sklearn.metrics import mean_squared_error\n",
    "import math\n",
    "\n",
    "\n",
    "print(\"RMSE:\", math.sqrt(mean_squared_error(y_test, gbr_pred)))"
   ]
  },
  {
   "cell_type": "code",
   "execution_count": 221,
   "id": "5a59f67d",
   "metadata": {},
   "outputs": [],
   "source": [
    "### RandomForestRegressor\n",
    "\n",
    "# Random Forest Regressor\n",
    "\n",
    "para_grids = {\n",
    "            \"n_estimators\" : [10,50,100],\n",
    "            \"max_features\" : [\"auto\", \"log2\", \"sqrt\"],\n",
    "            \"min_samples_split\":[2,4,8],\n",
    "            \"bootstrap\"    : [True, False]\n",
    "        }\n",
    "\n",
    "rf = RandomForestRegressor()\n",
    "\n",
    "rf_cv = GridSearchCV(rf,\n",
    "                    para_grids,\n",
    "                    n_jobs = 5,\n",
    "                    cv = 2)"
   ]
  },
  {
   "cell_type": "code",
   "execution_count": 222,
   "id": "954f0429",
   "metadata": {},
   "outputs": [
    {
     "data": {
      "text/plain": [
       "GridSearchCV(cv=2, estimator=RandomForestRegressor(), n_jobs=5,\n",
       "             param_grid={'bootstrap': [True, False],\n",
       "                         'max_features': ['auto', 'log2', 'sqrt'],\n",
       "                         'min_samples_split': [2, 4, 8],\n",
       "                         'n_estimators': [10, 50, 100]})"
      ]
     },
     "execution_count": 222,
     "metadata": {},
     "output_type": "execute_result"
    }
   ],
   "source": [
    "rf_cv.fit(X_train,y_train)"
   ]
  },
  {
   "cell_type": "code",
   "execution_count": 223,
   "id": "444169fc",
   "metadata": {},
   "outputs": [
    {
     "name": "stdout",
     "output_type": "stream",
     "text": [
      "0.9674121854122588\n"
     ]
    }
   ],
   "source": [
    "print(rf_cv.best_score_)"
   ]
  },
  {
   "cell_type": "markdown",
   "id": "partial-geography",
   "metadata": {},
   "source": [
    "### Neural Network"
   ]
  },
  {
   "cell_type": "code",
   "execution_count": 90,
   "id": "productive-testimony",
   "metadata": {},
   "outputs": [
    {
     "data": {
      "text/plain": [
       "(4575, 41)"
      ]
     },
     "execution_count": 90,
     "metadata": {},
     "output_type": "execute_result"
    }
   ],
   "source": [
    "X_train.shape"
   ]
  },
  {
   "cell_type": "code",
   "execution_count": 137,
   "id": "rocky-puppy",
   "metadata": {},
   "outputs": [
    {
     "name": "stdout",
     "output_type": "stream",
     "text": [
      "Collecting wandb\n",
      "  Downloading wandb-0.10.30-py2.py3-none-any.whl (1.8 MB)\n",
      "Collecting shortuuid>=0.5.0\n",
      "  Downloading shortuuid-1.0.1-py3-none-any.whl (7.5 kB)\n",
      "Collecting promise<3,>=2.0\n",
      "  Using cached promise-2.3.tar.gz (19 kB)\n",
      "Requirement already satisfied: python-dateutil>=2.6.1 in c:\\users\\basto\\anaconda3\\envs\\tfgpu\\lib\\site-packages (from wandb) (2.8.1)\n",
      "Collecting GitPython>=1.0.0\n",
      "  Downloading GitPython-3.1.17-py3-none-any.whl (166 kB)\n",
      "Requirement already satisfied: six>=1.13.0 in c:\\users\\basto\\anaconda3\\envs\\tfgpu\\lib\\site-packages (from wandb) (1.15.0)\n",
      "Collecting sentry-sdk>=0.4.0\n",
      "  Downloading sentry_sdk-1.1.0-py2.py3-none-any.whl (131 kB)\n",
      "Collecting docker-pycreds>=0.4.0\n",
      "  Downloading docker_pycreds-0.4.0-py2.py3-none-any.whl (9.0 kB)\n",
      "Requirement already satisfied: PyYAML in c:\\users\\basto\\anaconda3\\envs\\tfgpu\\lib\\site-packages (from wandb) (5.4.1)\n",
      "Collecting Click>=7.0\n",
      "  Downloading click-8.0.1-py3-none-any.whl (97 kB)\n",
      "Collecting pathtools\n",
      "  Downloading pathtools-0.1.2.tar.gz (11 kB)\n",
      "Collecting configparser>=3.8.1\n",
      "  Downloading configparser-5.0.2-py3-none-any.whl (19 kB)\n",
      "Requirement already satisfied: protobuf>=3.12.0 in c:\\users\\basto\\anaconda3\\envs\\tfgpu\\lib\\site-packages (from wandb) (3.14.0)\n",
      "Requirement already satisfied: requests<3,>=2.0.0 in c:\\users\\basto\\anaconda3\\envs\\tfgpu\\lib\\site-packages (from wandb) (2.25.1)\n",
      "Collecting subprocess32>=3.5.3\n",
      "  Downloading subprocess32-3.5.4.tar.gz (97 kB)\n",
      "Collecting psutil>=5.0.0\n",
      "  Downloading psutil-5.8.0-cp38-cp38-win_amd64.whl (245 kB)\n",
      "Requirement already satisfied: colorama in c:\\users\\basto\\anaconda3\\envs\\tfgpu\\lib\\site-packages (from Click>=7.0->wandb) (0.4.4)\n",
      "Collecting gitdb<5,>=4.0.1\n",
      "  Downloading gitdb-4.0.7-py3-none-any.whl (63 kB)\n",
      "Collecting smmap<5,>=3.0.1\n",
      "  Downloading smmap-4.0.0-py2.py3-none-any.whl (24 kB)\n",
      "Requirement already satisfied: idna<3,>=2.5 in c:\\users\\basto\\anaconda3\\envs\\tfgpu\\lib\\site-packages (from requests<3,>=2.0.0->wandb) (2.10)\n",
      "Requirement already satisfied: certifi>=2017.4.17 in c:\\users\\basto\\anaconda3\\envs\\tfgpu\\lib\\site-packages (from requests<3,>=2.0.0->wandb) (2020.6.20)\n",
      "Requirement already satisfied: chardet<5,>=3.0.2 in c:\\users\\basto\\anaconda3\\envs\\tfgpu\\lib\\site-packages (from requests<3,>=2.0.0->wandb) (4.0.0)\n",
      "Requirement already satisfied: urllib3<1.27,>=1.21.1 in c:\\users\\basto\\anaconda3\\envs\\tfgpu\\lib\\site-packages (from requests<3,>=2.0.0->wandb) (1.26.3)\n",
      "Building wheels for collected packages: promise, subprocess32, pathtools\n",
      "  Building wheel for promise (setup.py): started\n",
      "  Building wheel for promise (setup.py): finished with status 'done'\n",
      "  Created wheel for promise: filename=promise-2.3-py3-none-any.whl size=21494 sha256=7b8f64c4479fe3ddefa801e7889a0e783a8cf4797bae6f829bfa9e9e3b9165dd\n",
      "  Stored in directory: c:\\users\\basto\\appdata\\local\\pip\\cache\\wheels\\54\\aa\\01\\724885182f93150035a2a91bce34a12877e8067a97baaf5dc8\n",
      "  Building wheel for subprocess32 (setup.py): started\n",
      "  Building wheel for subprocess32 (setup.py): finished with status 'done'\n",
      "  Created wheel for subprocess32: filename=subprocess32-3.5.4-py3-none-any.whl size=6488 sha256=5730a752868eb7980aebc762995a65a20bbab0b7f884db7f78e530c61a6dc8cb\n",
      "  Stored in directory: c:\\users\\basto\\appdata\\local\\pip\\cache\\wheels\\9f\\69\\d1\\50b39b308a87998eaf5c1d9095e5a5bd2ad98501e2b7936d36\n",
      "  Building wheel for pathtools (setup.py): started\n",
      "  Building wheel for pathtools (setup.py): finished with status 'done'\n",
      "  Created wheel for pathtools: filename=pathtools-0.1.2-py3-none-any.whl size=8784 sha256=74571007aabfd2406378a1e4c470b13a16869e82dd6f0602d9d05ad91f2341a6\n",
      "  Stored in directory: c:\\users\\basto\\appdata\\local\\pip\\cache\\wheels\\4c\\8e\\7e\\72fbc243e1aeecae64a96875432e70d4e92f3d2d18123be004\n",
      "Successfully built promise subprocess32 pathtools\n",
      "Installing collected packages: smmap, gitdb, subprocess32, shortuuid, sentry-sdk, psutil, promise, pathtools, GitPython, docker-pycreds, configparser, Click, wandb\n",
      "Successfully installed Click-8.0.1 GitPython-3.1.17 configparser-5.0.2 docker-pycreds-0.4.0 gitdb-4.0.7 pathtools-0.1.2 promise-2.3 psutil-5.8.0 sentry-sdk-1.1.0 shortuuid-1.0.1 smmap-4.0.0 subprocess32-3.5.4 wandb-0.10.30\n"
     ]
    },
    {
     "name": "stderr",
     "output_type": "stream",
     "text": [
      "WARNING: You are using pip version 21.0.1; however, version 21.1.2 is available.\n",
      "You should consider upgrading via the 'c:\\users\\basto\\anaconda3\\envs\\tfgpu\\python.exe -m pip install --upgrade pip' command.\n"
     ]
    }
   ],
   "source": [
    "!pip install wandb"
   ]
  },
  {
   "cell_type": "code",
   "execution_count": 138,
   "id": "adolescent-inspector",
   "metadata": {},
   "outputs": [],
   "source": [
    "\n",
    "from tensorflow.keras.layers import Input, Dense, Activation,Dropout\n",
    "from tensorflow.keras.models import Model\n",
    "from wandb.keras import WandbCallback"
   ]
  },
  {
   "cell_type": "code",
   "execution_count": 139,
   "id": "incoming-estimate",
   "metadata": {
    "scrolled": false
   },
   "outputs": [],
   "source": [
    "# Initialising the NN\n",
    "\n",
    "model = Sequential()\n",
    "\n",
    "input_layer = Input(shape=(X.shape[1],))\n",
    "dense_layer_1 = Dense(100, activation='relu')(input_layer)\n",
    "dense_layer_2 = Dense(50, activation='relu')(dense_layer_1)\n",
    "dense_layer_3 = Dense(25, activation='relu')(dense_layer_2)\n",
    "output = Dense(1)(dense_layer_3)\n",
    "\n",
    "model = Model(inputs=input_layer, outputs=output)\n",
    "model.compile(loss=\"mean_squared_error\" , optimizer=\"adam\", metrics=[\"mean_squared_error\"])\n"
   ]
  },
  {
   "cell_type": "code",
   "execution_count": 142,
   "id": "operational-fetish",
   "metadata": {},
   "outputs": [
    {
     "ename": "ValueError",
     "evalue": "in user code:\n\n    C:\\Users\\basto\\anaconda3\\envs\\tfgpu\\lib\\site-packages\\tensorflow\\python\\keras\\engine\\training.py:805 train_function  *\n        return step_function(self, iterator)\n    C:\\Users\\basto\\anaconda3\\envs\\tfgpu\\lib\\site-packages\\tensorflow\\python\\keras\\engine\\training.py:795 step_function  **\n        outputs = model.distribute_strategy.run(run_step, args=(data,))\n    C:\\Users\\basto\\anaconda3\\envs\\tfgpu\\lib\\site-packages\\tensorflow\\python\\distribute\\distribute_lib.py:1259 run\n        return self._extended.call_for_each_replica(fn, args=args, kwargs=kwargs)\n    C:\\Users\\basto\\anaconda3\\envs\\tfgpu\\lib\\site-packages\\tensorflow\\python\\distribute\\distribute_lib.py:2730 call_for_each_replica\n        return self._call_for_each_replica(fn, args, kwargs)\n    C:\\Users\\basto\\anaconda3\\envs\\tfgpu\\lib\\site-packages\\tensorflow\\python\\distribute\\distribute_lib.py:3417 _call_for_each_replica\n        return fn(*args, **kwargs)\n    C:\\Users\\basto\\anaconda3\\envs\\tfgpu\\lib\\site-packages\\tensorflow\\python\\keras\\engine\\training.py:788 run_step  **\n        outputs = model.train_step(data)\n    C:\\Users\\basto\\anaconda3\\envs\\tfgpu\\lib\\site-packages\\tensorflow\\python\\keras\\engine\\training.py:754 train_step\n        y_pred = self(x, training=True)\n    C:\\Users\\basto\\anaconda3\\envs\\tfgpu\\lib\\site-packages\\tensorflow\\python\\keras\\engine\\base_layer.py:998 __call__\n        input_spec.assert_input_compatibility(self.input_spec, inputs, self.name)\n    C:\\Users\\basto\\anaconda3\\envs\\tfgpu\\lib\\site-packages\\tensorflow\\python\\keras\\engine\\input_spec.py:255 assert_input_compatibility\n        raise ValueError(\n\n    ValueError: Input 0 of layer sequential_16 is incompatible with the layer: expected axis -1 of input shape to have value 378 but received input with shape (None, 41)\n",
     "output_type": "error",
     "traceback": [
      "\u001b[1;31m---------------------------------------------------------------------------\u001b[0m",
      "\u001b[1;31mValueError\u001b[0m                                Traceback (most recent call last)",
      "\u001b[1;32m<ipython-input-142-d81c56c95646>\u001b[0m in \u001b[0;36m<module>\u001b[1;34m\u001b[0m\n\u001b[0;32m      7\u001b[0m \u001b[0mmodel\u001b[0m\u001b[1;33m.\u001b[0m\u001b[0mcompile\u001b[0m\u001b[1;33m(\u001b[0m\u001b[0mloss\u001b[0m\u001b[1;33m=\u001b[0m\u001b[1;34m'mean_squared_error'\u001b[0m\u001b[1;33m,\u001b[0m \u001b[0moptimizer\u001b[0m\u001b[1;33m=\u001b[0m\u001b[0mkeras\u001b[0m\u001b[1;33m.\u001b[0m\u001b[0moptimizers\u001b[0m\u001b[1;33m.\u001b[0m\u001b[0mAdadelta\u001b[0m\u001b[1;33m(\u001b[0m\u001b[1;33m)\u001b[0m\u001b[1;33m)\u001b[0m\u001b[1;33m\u001b[0m\u001b[1;33m\u001b[0m\u001b[0m\n\u001b[0;32m      8\u001b[0m \u001b[1;33m\u001b[0m\u001b[0m\n\u001b[1;32m----> 9\u001b[1;33m \u001b[0mmodel\u001b[0m\u001b[1;33m.\u001b[0m\u001b[0mfit\u001b[0m\u001b[1;33m(\u001b[0m\u001b[0mX_train\u001b[0m\u001b[1;33m,\u001b[0m \u001b[0my_train\u001b[0m\u001b[1;33m,\u001b[0m \u001b[0mepochs\u001b[0m\u001b[1;33m=\u001b[0m\u001b[1;36m20\u001b[0m\u001b[1;33m,\u001b[0m \u001b[0mbatch_size\u001b[0m\u001b[1;33m=\u001b[0m\u001b[1;36m10\u001b[0m\u001b[1;33m,\u001b[0m \u001b[0mverbose\u001b[0m\u001b[1;33m=\u001b[0m\u001b[1;36m0\u001b[0m\u001b[1;33m)\u001b[0m\u001b[1;33m\u001b[0m\u001b[1;33m\u001b[0m\u001b[0m\n\u001b[0m",
      "\u001b[1;32m~\\anaconda3\\envs\\tfgpu\\lib\\site-packages\\wandb\\integration\\keras\\keras.py\u001b[0m in \u001b[0;36mnew_v2\u001b[1;34m(*args, **kwargs)\u001b[0m\n\u001b[0;32m    122\u001b[0m             \u001b[1;32mfor\u001b[0m \u001b[0mcbk\u001b[0m \u001b[1;32min\u001b[0m \u001b[0mcbks\u001b[0m\u001b[1;33m:\u001b[0m\u001b[1;33m\u001b[0m\u001b[1;33m\u001b[0m\u001b[0m\n\u001b[0;32m    123\u001b[0m                 \u001b[0mset_wandb_attrs\u001b[0m\u001b[1;33m(\u001b[0m\u001b[0mcbk\u001b[0m\u001b[1;33m,\u001b[0m \u001b[0mval_data\u001b[0m\u001b[1;33m)\u001b[0m\u001b[1;33m\u001b[0m\u001b[1;33m\u001b[0m\u001b[0m\n\u001b[1;32m--> 124\u001b[1;33m         \u001b[1;32mreturn\u001b[0m \u001b[0mold_v2\u001b[0m\u001b[1;33m(\u001b[0m\u001b[1;33m*\u001b[0m\u001b[0margs\u001b[0m\u001b[1;33m,\u001b[0m \u001b[1;33m**\u001b[0m\u001b[0mkwargs\u001b[0m\u001b[1;33m)\u001b[0m\u001b[1;33m\u001b[0m\u001b[1;33m\u001b[0m\u001b[0m\n\u001b[0m\u001b[0;32m    125\u001b[0m \u001b[1;33m\u001b[0m\u001b[0m\n\u001b[0;32m    126\u001b[0m     \u001b[0mtraining_arrays\u001b[0m\u001b[1;33m.\u001b[0m\u001b[0morig_fit_loop\u001b[0m \u001b[1;33m=\u001b[0m \u001b[0mold_arrays\u001b[0m\u001b[1;33m\u001b[0m\u001b[1;33m\u001b[0m\u001b[0m\n",
      "\u001b[1;32m~\\anaconda3\\envs\\tfgpu\\lib\\site-packages\\tensorflow\\python\\keras\\engine\\training.py\u001b[0m in \u001b[0;36mfit\u001b[1;34m(self, x, y, batch_size, epochs, verbose, callbacks, validation_split, validation_data, shuffle, class_weight, sample_weight, initial_epoch, steps_per_epoch, validation_steps, validation_batch_size, validation_freq, max_queue_size, workers, use_multiprocessing)\u001b[0m\n\u001b[0;32m   1098\u001b[0m                 _r=1):\n\u001b[0;32m   1099\u001b[0m               \u001b[0mcallbacks\u001b[0m\u001b[1;33m.\u001b[0m\u001b[0mon_train_batch_begin\u001b[0m\u001b[1;33m(\u001b[0m\u001b[0mstep\u001b[0m\u001b[1;33m)\u001b[0m\u001b[1;33m\u001b[0m\u001b[1;33m\u001b[0m\u001b[0m\n\u001b[1;32m-> 1100\u001b[1;33m               \u001b[0mtmp_logs\u001b[0m \u001b[1;33m=\u001b[0m \u001b[0mself\u001b[0m\u001b[1;33m.\u001b[0m\u001b[0mtrain_function\u001b[0m\u001b[1;33m(\u001b[0m\u001b[0miterator\u001b[0m\u001b[1;33m)\u001b[0m\u001b[1;33m\u001b[0m\u001b[1;33m\u001b[0m\u001b[0m\n\u001b[0m\u001b[0;32m   1101\u001b[0m               \u001b[1;32mif\u001b[0m \u001b[0mdata_handler\u001b[0m\u001b[1;33m.\u001b[0m\u001b[0mshould_sync\u001b[0m\u001b[1;33m:\u001b[0m\u001b[1;33m\u001b[0m\u001b[1;33m\u001b[0m\u001b[0m\n\u001b[0;32m   1102\u001b[0m                 \u001b[0mcontext\u001b[0m\u001b[1;33m.\u001b[0m\u001b[0masync_wait\u001b[0m\u001b[1;33m(\u001b[0m\u001b[1;33m)\u001b[0m\u001b[1;33m\u001b[0m\u001b[1;33m\u001b[0m\u001b[0m\n",
      "\u001b[1;32m~\\anaconda3\\envs\\tfgpu\\lib\\site-packages\\tensorflow\\python\\eager\\def_function.py\u001b[0m in \u001b[0;36m__call__\u001b[1;34m(self, *args, **kwds)\u001b[0m\n\u001b[0;32m    826\u001b[0m     \u001b[0mtracing_count\u001b[0m \u001b[1;33m=\u001b[0m \u001b[0mself\u001b[0m\u001b[1;33m.\u001b[0m\u001b[0mexperimental_get_tracing_count\u001b[0m\u001b[1;33m(\u001b[0m\u001b[1;33m)\u001b[0m\u001b[1;33m\u001b[0m\u001b[1;33m\u001b[0m\u001b[0m\n\u001b[0;32m    827\u001b[0m     \u001b[1;32mwith\u001b[0m \u001b[0mtrace\u001b[0m\u001b[1;33m.\u001b[0m\u001b[0mTrace\u001b[0m\u001b[1;33m(\u001b[0m\u001b[0mself\u001b[0m\u001b[1;33m.\u001b[0m\u001b[0m_name\u001b[0m\u001b[1;33m)\u001b[0m \u001b[1;32mas\u001b[0m \u001b[0mtm\u001b[0m\u001b[1;33m:\u001b[0m\u001b[1;33m\u001b[0m\u001b[1;33m\u001b[0m\u001b[0m\n\u001b[1;32m--> 828\u001b[1;33m       \u001b[0mresult\u001b[0m \u001b[1;33m=\u001b[0m \u001b[0mself\u001b[0m\u001b[1;33m.\u001b[0m\u001b[0m_call\u001b[0m\u001b[1;33m(\u001b[0m\u001b[1;33m*\u001b[0m\u001b[0margs\u001b[0m\u001b[1;33m,\u001b[0m \u001b[1;33m**\u001b[0m\u001b[0mkwds\u001b[0m\u001b[1;33m)\u001b[0m\u001b[1;33m\u001b[0m\u001b[1;33m\u001b[0m\u001b[0m\n\u001b[0m\u001b[0;32m    829\u001b[0m       \u001b[0mcompiler\u001b[0m \u001b[1;33m=\u001b[0m \u001b[1;34m\"xla\"\u001b[0m \u001b[1;32mif\u001b[0m \u001b[0mself\u001b[0m\u001b[1;33m.\u001b[0m\u001b[0m_experimental_compile\u001b[0m \u001b[1;32melse\u001b[0m \u001b[1;34m\"nonXla\"\u001b[0m\u001b[1;33m\u001b[0m\u001b[1;33m\u001b[0m\u001b[0m\n\u001b[0;32m    830\u001b[0m       \u001b[0mnew_tracing_count\u001b[0m \u001b[1;33m=\u001b[0m \u001b[0mself\u001b[0m\u001b[1;33m.\u001b[0m\u001b[0mexperimental_get_tracing_count\u001b[0m\u001b[1;33m(\u001b[0m\u001b[1;33m)\u001b[0m\u001b[1;33m\u001b[0m\u001b[1;33m\u001b[0m\u001b[0m\n",
      "\u001b[1;32m~\\anaconda3\\envs\\tfgpu\\lib\\site-packages\\tensorflow\\python\\eager\\def_function.py\u001b[0m in \u001b[0;36m_call\u001b[1;34m(self, *args, **kwds)\u001b[0m\n\u001b[0;32m    869\u001b[0m       \u001b[1;31m# This is the first call of __call__, so we have to initialize.\u001b[0m\u001b[1;33m\u001b[0m\u001b[1;33m\u001b[0m\u001b[1;33m\u001b[0m\u001b[0m\n\u001b[0;32m    870\u001b[0m       \u001b[0minitializers\u001b[0m \u001b[1;33m=\u001b[0m \u001b[1;33m[\u001b[0m\u001b[1;33m]\u001b[0m\u001b[1;33m\u001b[0m\u001b[1;33m\u001b[0m\u001b[0m\n\u001b[1;32m--> 871\u001b[1;33m       \u001b[0mself\u001b[0m\u001b[1;33m.\u001b[0m\u001b[0m_initialize\u001b[0m\u001b[1;33m(\u001b[0m\u001b[0margs\u001b[0m\u001b[1;33m,\u001b[0m \u001b[0mkwds\u001b[0m\u001b[1;33m,\u001b[0m \u001b[0madd_initializers_to\u001b[0m\u001b[1;33m=\u001b[0m\u001b[0minitializers\u001b[0m\u001b[1;33m)\u001b[0m\u001b[1;33m\u001b[0m\u001b[1;33m\u001b[0m\u001b[0m\n\u001b[0m\u001b[0;32m    872\u001b[0m     \u001b[1;32mfinally\u001b[0m\u001b[1;33m:\u001b[0m\u001b[1;33m\u001b[0m\u001b[1;33m\u001b[0m\u001b[0m\n\u001b[0;32m    873\u001b[0m       \u001b[1;31m# At this point we know that the initialization is complete (or less\u001b[0m\u001b[1;33m\u001b[0m\u001b[1;33m\u001b[0m\u001b[1;33m\u001b[0m\u001b[0m\n",
      "\u001b[1;32m~\\anaconda3\\envs\\tfgpu\\lib\\site-packages\\tensorflow\\python\\eager\\def_function.py\u001b[0m in \u001b[0;36m_initialize\u001b[1;34m(self, args, kwds, add_initializers_to)\u001b[0m\n\u001b[0;32m    723\u001b[0m     \u001b[0mself\u001b[0m\u001b[1;33m.\u001b[0m\u001b[0m_graph_deleter\u001b[0m \u001b[1;33m=\u001b[0m \u001b[0mFunctionDeleter\u001b[0m\u001b[1;33m(\u001b[0m\u001b[0mself\u001b[0m\u001b[1;33m.\u001b[0m\u001b[0m_lifted_initializer_graph\u001b[0m\u001b[1;33m)\u001b[0m\u001b[1;33m\u001b[0m\u001b[1;33m\u001b[0m\u001b[0m\n\u001b[0;32m    724\u001b[0m     self._concrete_stateful_fn = (\n\u001b[1;32m--> 725\u001b[1;33m         self._stateful_fn._get_concrete_function_internal_garbage_collected(  # pylint: disable=protected-access\n\u001b[0m\u001b[0;32m    726\u001b[0m             *args, **kwds))\n\u001b[0;32m    727\u001b[0m \u001b[1;33m\u001b[0m\u001b[0m\n",
      "\u001b[1;32m~\\anaconda3\\envs\\tfgpu\\lib\\site-packages\\tensorflow\\python\\eager\\function.py\u001b[0m in \u001b[0;36m_get_concrete_function_internal_garbage_collected\u001b[1;34m(self, *args, **kwargs)\u001b[0m\n\u001b[0;32m   2967\u001b[0m       \u001b[0margs\u001b[0m\u001b[1;33m,\u001b[0m \u001b[0mkwargs\u001b[0m \u001b[1;33m=\u001b[0m \u001b[1;32mNone\u001b[0m\u001b[1;33m,\u001b[0m \u001b[1;32mNone\u001b[0m\u001b[1;33m\u001b[0m\u001b[1;33m\u001b[0m\u001b[0m\n\u001b[0;32m   2968\u001b[0m     \u001b[1;32mwith\u001b[0m \u001b[0mself\u001b[0m\u001b[1;33m.\u001b[0m\u001b[0m_lock\u001b[0m\u001b[1;33m:\u001b[0m\u001b[1;33m\u001b[0m\u001b[1;33m\u001b[0m\u001b[0m\n\u001b[1;32m-> 2969\u001b[1;33m       \u001b[0mgraph_function\u001b[0m\u001b[1;33m,\u001b[0m \u001b[0m_\u001b[0m \u001b[1;33m=\u001b[0m \u001b[0mself\u001b[0m\u001b[1;33m.\u001b[0m\u001b[0m_maybe_define_function\u001b[0m\u001b[1;33m(\u001b[0m\u001b[0margs\u001b[0m\u001b[1;33m,\u001b[0m \u001b[0mkwargs\u001b[0m\u001b[1;33m)\u001b[0m\u001b[1;33m\u001b[0m\u001b[1;33m\u001b[0m\u001b[0m\n\u001b[0m\u001b[0;32m   2970\u001b[0m     \u001b[1;32mreturn\u001b[0m \u001b[0mgraph_function\u001b[0m\u001b[1;33m\u001b[0m\u001b[1;33m\u001b[0m\u001b[0m\n\u001b[0;32m   2971\u001b[0m \u001b[1;33m\u001b[0m\u001b[0m\n",
      "\u001b[1;32m~\\anaconda3\\envs\\tfgpu\\lib\\site-packages\\tensorflow\\python\\eager\\function.py\u001b[0m in \u001b[0;36m_maybe_define_function\u001b[1;34m(self, args, kwargs)\u001b[0m\n\u001b[0;32m   3359\u001b[0m \u001b[1;33m\u001b[0m\u001b[0m\n\u001b[0;32m   3360\u001b[0m           \u001b[0mself\u001b[0m\u001b[1;33m.\u001b[0m\u001b[0m_function_cache\u001b[0m\u001b[1;33m.\u001b[0m\u001b[0mmissed\u001b[0m\u001b[1;33m.\u001b[0m\u001b[0madd\u001b[0m\u001b[1;33m(\u001b[0m\u001b[0mcall_context_key\u001b[0m\u001b[1;33m)\u001b[0m\u001b[1;33m\u001b[0m\u001b[1;33m\u001b[0m\u001b[0m\n\u001b[1;32m-> 3361\u001b[1;33m           \u001b[0mgraph_function\u001b[0m \u001b[1;33m=\u001b[0m \u001b[0mself\u001b[0m\u001b[1;33m.\u001b[0m\u001b[0m_create_graph_function\u001b[0m\u001b[1;33m(\u001b[0m\u001b[0margs\u001b[0m\u001b[1;33m,\u001b[0m \u001b[0mkwargs\u001b[0m\u001b[1;33m)\u001b[0m\u001b[1;33m\u001b[0m\u001b[1;33m\u001b[0m\u001b[0m\n\u001b[0m\u001b[0;32m   3362\u001b[0m           \u001b[0mself\u001b[0m\u001b[1;33m.\u001b[0m\u001b[0m_function_cache\u001b[0m\u001b[1;33m.\u001b[0m\u001b[0mprimary\u001b[0m\u001b[1;33m[\u001b[0m\u001b[0mcache_key\u001b[0m\u001b[1;33m]\u001b[0m \u001b[1;33m=\u001b[0m \u001b[0mgraph_function\u001b[0m\u001b[1;33m\u001b[0m\u001b[1;33m\u001b[0m\u001b[0m\n\u001b[0;32m   3363\u001b[0m \u001b[1;33m\u001b[0m\u001b[0m\n",
      "\u001b[1;32m~\\anaconda3\\envs\\tfgpu\\lib\\site-packages\\tensorflow\\python\\eager\\function.py\u001b[0m in \u001b[0;36m_create_graph_function\u001b[1;34m(self, args, kwargs, override_flat_arg_shapes)\u001b[0m\n\u001b[0;32m   3194\u001b[0m     \u001b[0marg_names\u001b[0m \u001b[1;33m=\u001b[0m \u001b[0mbase_arg_names\u001b[0m \u001b[1;33m+\u001b[0m \u001b[0mmissing_arg_names\u001b[0m\u001b[1;33m\u001b[0m\u001b[1;33m\u001b[0m\u001b[0m\n\u001b[0;32m   3195\u001b[0m     graph_function = ConcreteFunction(\n\u001b[1;32m-> 3196\u001b[1;33m         func_graph_module.func_graph_from_py_func(\n\u001b[0m\u001b[0;32m   3197\u001b[0m             \u001b[0mself\u001b[0m\u001b[1;33m.\u001b[0m\u001b[0m_name\u001b[0m\u001b[1;33m,\u001b[0m\u001b[1;33m\u001b[0m\u001b[1;33m\u001b[0m\u001b[0m\n\u001b[0;32m   3198\u001b[0m             \u001b[0mself\u001b[0m\u001b[1;33m.\u001b[0m\u001b[0m_python_function\u001b[0m\u001b[1;33m,\u001b[0m\u001b[1;33m\u001b[0m\u001b[1;33m\u001b[0m\u001b[0m\n",
      "\u001b[1;32m~\\anaconda3\\envs\\tfgpu\\lib\\site-packages\\tensorflow\\python\\framework\\func_graph.py\u001b[0m in \u001b[0;36mfunc_graph_from_py_func\u001b[1;34m(name, python_func, args, kwargs, signature, func_graph, autograph, autograph_options, add_control_dependencies, arg_names, op_return_value, collections, capture_by_value, override_flat_arg_shapes)\u001b[0m\n\u001b[0;32m    988\u001b[0m         \u001b[0m_\u001b[0m\u001b[1;33m,\u001b[0m \u001b[0moriginal_func\u001b[0m \u001b[1;33m=\u001b[0m \u001b[0mtf_decorator\u001b[0m\u001b[1;33m.\u001b[0m\u001b[0munwrap\u001b[0m\u001b[1;33m(\u001b[0m\u001b[0mpython_func\u001b[0m\u001b[1;33m)\u001b[0m\u001b[1;33m\u001b[0m\u001b[1;33m\u001b[0m\u001b[0m\n\u001b[0;32m    989\u001b[0m \u001b[1;33m\u001b[0m\u001b[0m\n\u001b[1;32m--> 990\u001b[1;33m       \u001b[0mfunc_outputs\u001b[0m \u001b[1;33m=\u001b[0m \u001b[0mpython_func\u001b[0m\u001b[1;33m(\u001b[0m\u001b[1;33m*\u001b[0m\u001b[0mfunc_args\u001b[0m\u001b[1;33m,\u001b[0m \u001b[1;33m**\u001b[0m\u001b[0mfunc_kwargs\u001b[0m\u001b[1;33m)\u001b[0m\u001b[1;33m\u001b[0m\u001b[1;33m\u001b[0m\u001b[0m\n\u001b[0m\u001b[0;32m    991\u001b[0m \u001b[1;33m\u001b[0m\u001b[0m\n\u001b[0;32m    992\u001b[0m       \u001b[1;31m# invariant: `func_outputs` contains only Tensors, CompositeTensors,\u001b[0m\u001b[1;33m\u001b[0m\u001b[1;33m\u001b[0m\u001b[1;33m\u001b[0m\u001b[0m\n",
      "\u001b[1;32m~\\anaconda3\\envs\\tfgpu\\lib\\site-packages\\tensorflow\\python\\eager\\def_function.py\u001b[0m in \u001b[0;36mwrapped_fn\u001b[1;34m(*args, **kwds)\u001b[0m\n\u001b[0;32m    632\u001b[0m             \u001b[0mxla_context\u001b[0m\u001b[1;33m.\u001b[0m\u001b[0mExit\u001b[0m\u001b[1;33m(\u001b[0m\u001b[1;33m)\u001b[0m\u001b[1;33m\u001b[0m\u001b[1;33m\u001b[0m\u001b[0m\n\u001b[0;32m    633\u001b[0m         \u001b[1;32melse\u001b[0m\u001b[1;33m:\u001b[0m\u001b[1;33m\u001b[0m\u001b[1;33m\u001b[0m\u001b[0m\n\u001b[1;32m--> 634\u001b[1;33m           \u001b[0mout\u001b[0m \u001b[1;33m=\u001b[0m \u001b[0mweak_wrapped_fn\u001b[0m\u001b[1;33m(\u001b[0m\u001b[1;33m)\u001b[0m\u001b[1;33m.\u001b[0m\u001b[0m__wrapped__\u001b[0m\u001b[1;33m(\u001b[0m\u001b[1;33m*\u001b[0m\u001b[0margs\u001b[0m\u001b[1;33m,\u001b[0m \u001b[1;33m**\u001b[0m\u001b[0mkwds\u001b[0m\u001b[1;33m)\u001b[0m\u001b[1;33m\u001b[0m\u001b[1;33m\u001b[0m\u001b[0m\n\u001b[0m\u001b[0;32m    635\u001b[0m         \u001b[1;32mreturn\u001b[0m \u001b[0mout\u001b[0m\u001b[1;33m\u001b[0m\u001b[1;33m\u001b[0m\u001b[0m\n\u001b[0;32m    636\u001b[0m \u001b[1;33m\u001b[0m\u001b[0m\n",
      "\u001b[1;32m~\\anaconda3\\envs\\tfgpu\\lib\\site-packages\\tensorflow\\python\\framework\\func_graph.py\u001b[0m in \u001b[0;36mwrapper\u001b[1;34m(*args, **kwargs)\u001b[0m\n\u001b[0;32m    975\u001b[0m           \u001b[1;32mexcept\u001b[0m \u001b[0mException\u001b[0m \u001b[1;32mas\u001b[0m \u001b[0me\u001b[0m\u001b[1;33m:\u001b[0m  \u001b[1;31m# pylint:disable=broad-except\u001b[0m\u001b[1;33m\u001b[0m\u001b[1;33m\u001b[0m\u001b[0m\n\u001b[0;32m    976\u001b[0m             \u001b[1;32mif\u001b[0m \u001b[0mhasattr\u001b[0m\u001b[1;33m(\u001b[0m\u001b[0me\u001b[0m\u001b[1;33m,\u001b[0m \u001b[1;34m\"ag_error_metadata\"\u001b[0m\u001b[1;33m)\u001b[0m\u001b[1;33m:\u001b[0m\u001b[1;33m\u001b[0m\u001b[1;33m\u001b[0m\u001b[0m\n\u001b[1;32m--> 977\u001b[1;33m               \u001b[1;32mraise\u001b[0m \u001b[0me\u001b[0m\u001b[1;33m.\u001b[0m\u001b[0mag_error_metadata\u001b[0m\u001b[1;33m.\u001b[0m\u001b[0mto_exception\u001b[0m\u001b[1;33m(\u001b[0m\u001b[0me\u001b[0m\u001b[1;33m)\u001b[0m\u001b[1;33m\u001b[0m\u001b[1;33m\u001b[0m\u001b[0m\n\u001b[0m\u001b[0;32m    978\u001b[0m             \u001b[1;32melse\u001b[0m\u001b[1;33m:\u001b[0m\u001b[1;33m\u001b[0m\u001b[1;33m\u001b[0m\u001b[0m\n\u001b[0;32m    979\u001b[0m               \u001b[1;32mraise\u001b[0m\u001b[1;33m\u001b[0m\u001b[1;33m\u001b[0m\u001b[0m\n",
      "\u001b[1;31mValueError\u001b[0m: in user code:\n\n    C:\\Users\\basto\\anaconda3\\envs\\tfgpu\\lib\\site-packages\\tensorflow\\python\\keras\\engine\\training.py:805 train_function  *\n        return step_function(self, iterator)\n    C:\\Users\\basto\\anaconda3\\envs\\tfgpu\\lib\\site-packages\\tensorflow\\python\\keras\\engine\\training.py:795 step_function  **\n        outputs = model.distribute_strategy.run(run_step, args=(data,))\n    C:\\Users\\basto\\anaconda3\\envs\\tfgpu\\lib\\site-packages\\tensorflow\\python\\distribute\\distribute_lib.py:1259 run\n        return self._extended.call_for_each_replica(fn, args=args, kwargs=kwargs)\n    C:\\Users\\basto\\anaconda3\\envs\\tfgpu\\lib\\site-packages\\tensorflow\\python\\distribute\\distribute_lib.py:2730 call_for_each_replica\n        return self._call_for_each_replica(fn, args, kwargs)\n    C:\\Users\\basto\\anaconda3\\envs\\tfgpu\\lib\\site-packages\\tensorflow\\python\\distribute\\distribute_lib.py:3417 _call_for_each_replica\n        return fn(*args, **kwargs)\n    C:\\Users\\basto\\anaconda3\\envs\\tfgpu\\lib\\site-packages\\tensorflow\\python\\keras\\engine\\training.py:788 run_step  **\n        outputs = model.train_step(data)\n    C:\\Users\\basto\\anaconda3\\envs\\tfgpu\\lib\\site-packages\\tensorflow\\python\\keras\\engine\\training.py:754 train_step\n        y_pred = self(x, training=True)\n    C:\\Users\\basto\\anaconda3\\envs\\tfgpu\\lib\\site-packages\\tensorflow\\python\\keras\\engine\\base_layer.py:998 __call__\n        input_spec.assert_input_compatibility(self.input_spec, inputs, self.name)\n    C:\\Users\\basto\\anaconda3\\envs\\tfgpu\\lib\\site-packages\\tensorflow\\python\\keras\\engine\\input_spec.py:255 assert_input_compatibility\n        raise ValueError(\n\n    ValueError: Input 0 of layer sequential_16 is incompatible with the layer: expected axis -1 of input shape to have value 378 but received input with shape (None, 41)\n"
     ]
    }
   ],
   "source": [
    "model = Sequential()\n",
    "model.add(Dense(50, input_dim=378, kernel_initializer='normal', activation='relu'))\n",
    "model.add(Dense(20, kernel_initializer='normal', activation='relu'))\n",
    "model.add(Dense(1, kernel_initializer='normal'))\n",
    "\n",
    "# Compile model\n",
    "model.compile(loss='mean_squared_error', optimizer=keras.optimizers.Adadelta())\n",
    "\n",
    "model.fit(X_train, y_train, epochs=20, batch_size=10, verbose=0)"
   ]
  },
  {
   "cell_type": "code",
   "execution_count": 130,
   "id": "understanding-asthma",
   "metadata": {},
   "outputs": [
    {
     "name": "stdout",
     "output_type": "stream",
     "text": [
      "0.0920322863060501\n",
      "0.1257858337706249\n"
     ]
    }
   ],
   "source": [
    "from sklearn.metrics import mean_squared_error\n",
    "from math import sqrt\n",
    "\n",
    "pred_train = model.predict(X_train)\n",
    "print(np.sqrt(mean_squared_error(y_train,pred_train)))\n",
    "\n",
    "pred = model.predict(X_test)\n",
    "print(np.sqrt(mean_squared_error(y_test,pred)))"
   ]
  },
  {
   "cell_type": "code",
   "execution_count": 132,
   "id": "reverse-advice",
   "metadata": {},
   "outputs": [
    {
     "data": {
      "text/plain": [
       "0.9636443601597512"
      ]
     },
     "execution_count": 132,
     "metadata": {},
     "output_type": "execute_result"
    }
   ],
   "source": [
    "r2_score(y_test, nn_pred)"
   ]
  },
  {
   "cell_type": "code",
   "execution_count": 119,
   "id": "acceptable-wright",
   "metadata": {
    "scrolled": true
   },
   "outputs": [
    {
     "ename": "TypeError",
     "evalue": "If no scoring is specified, the estimator passed should have a 'score' method. The estimator <tensorflow.python.keras.engine.sequential.Sequential object at 0x000001A4E3F15640> does not.",
     "output_type": "error",
     "traceback": [
      "\u001b[1;31m---------------------------------------------------------------------------\u001b[0m",
      "\u001b[1;31mTypeError\u001b[0m                                 Traceback (most recent call last)",
      "\u001b[1;32m<ipython-input-119-91ce3c2f14bd>\u001b[0m in \u001b[0;36m<module>\u001b[1;34m\u001b[0m\n\u001b[1;32m----> 1\u001b[1;33m \u001b[0mprint\u001b[0m\u001b[1;33m(\u001b[0m\u001b[0mcross_val_score\u001b[0m\u001b[1;33m(\u001b[0m\u001b[0mmodel\u001b[0m\u001b[1;33m,\u001b[0m \u001b[0mX_train\u001b[0m\u001b[1;33m,\u001b[0m \u001b[0my_train\u001b[0m\u001b[1;33m,\u001b[0m \u001b[0mcv\u001b[0m \u001b[1;33m=\u001b[0m \u001b[1;36m3\u001b[0m\u001b[1;33m)\u001b[0m\u001b[1;33m)\u001b[0m\u001b[1;33m\u001b[0m\u001b[1;33m\u001b[0m\u001b[0m\n\u001b[0m",
      "\u001b[1;32m~\\anaconda3\\envs\\tfgpu\\lib\\site-packages\\sklearn\\utils\\validation.py\u001b[0m in \u001b[0;36minner_f\u001b[1;34m(*args, **kwargs)\u001b[0m\n\u001b[0;32m     61\u001b[0m             \u001b[0mextra_args\u001b[0m \u001b[1;33m=\u001b[0m \u001b[0mlen\u001b[0m\u001b[1;33m(\u001b[0m\u001b[0margs\u001b[0m\u001b[1;33m)\u001b[0m \u001b[1;33m-\u001b[0m \u001b[0mlen\u001b[0m\u001b[1;33m(\u001b[0m\u001b[0mall_args\u001b[0m\u001b[1;33m)\u001b[0m\u001b[1;33m\u001b[0m\u001b[1;33m\u001b[0m\u001b[0m\n\u001b[0;32m     62\u001b[0m             \u001b[1;32mif\u001b[0m \u001b[0mextra_args\u001b[0m \u001b[1;33m<=\u001b[0m \u001b[1;36m0\u001b[0m\u001b[1;33m:\u001b[0m\u001b[1;33m\u001b[0m\u001b[1;33m\u001b[0m\u001b[0m\n\u001b[1;32m---> 63\u001b[1;33m                 \u001b[1;32mreturn\u001b[0m \u001b[0mf\u001b[0m\u001b[1;33m(\u001b[0m\u001b[1;33m*\u001b[0m\u001b[0margs\u001b[0m\u001b[1;33m,\u001b[0m \u001b[1;33m**\u001b[0m\u001b[0mkwargs\u001b[0m\u001b[1;33m)\u001b[0m\u001b[1;33m\u001b[0m\u001b[1;33m\u001b[0m\u001b[0m\n\u001b[0m\u001b[0;32m     64\u001b[0m \u001b[1;33m\u001b[0m\u001b[0m\n\u001b[0;32m     65\u001b[0m             \u001b[1;31m# extra_args > 0\u001b[0m\u001b[1;33m\u001b[0m\u001b[1;33m\u001b[0m\u001b[1;33m\u001b[0m\u001b[0m\n",
      "\u001b[1;32m~\\anaconda3\\envs\\tfgpu\\lib\\site-packages\\sklearn\\model_selection\\_validation.py\u001b[0m in \u001b[0;36mcross_val_score\u001b[1;34m(estimator, X, y, groups, scoring, cv, n_jobs, verbose, fit_params, pre_dispatch, error_score)\u001b[0m\n\u001b[0;32m    436\u001b[0m     \"\"\"\n\u001b[0;32m    437\u001b[0m     \u001b[1;31m# To ensure multimetric format is not supported\u001b[0m\u001b[1;33m\u001b[0m\u001b[1;33m\u001b[0m\u001b[1;33m\u001b[0m\u001b[0m\n\u001b[1;32m--> 438\u001b[1;33m     \u001b[0mscorer\u001b[0m \u001b[1;33m=\u001b[0m \u001b[0mcheck_scoring\u001b[0m\u001b[1;33m(\u001b[0m\u001b[0mestimator\u001b[0m\u001b[1;33m,\u001b[0m \u001b[0mscoring\u001b[0m\u001b[1;33m=\u001b[0m\u001b[0mscoring\u001b[0m\u001b[1;33m)\u001b[0m\u001b[1;33m\u001b[0m\u001b[1;33m\u001b[0m\u001b[0m\n\u001b[0m\u001b[0;32m    439\u001b[0m \u001b[1;33m\u001b[0m\u001b[0m\n\u001b[0;32m    440\u001b[0m     cv_results = cross_validate(estimator=estimator, X=X, y=y, groups=groups,\n",
      "\u001b[1;32m~\\anaconda3\\envs\\tfgpu\\lib\\site-packages\\sklearn\\utils\\validation.py\u001b[0m in \u001b[0;36minner_f\u001b[1;34m(*args, **kwargs)\u001b[0m\n\u001b[0;32m     61\u001b[0m             \u001b[0mextra_args\u001b[0m \u001b[1;33m=\u001b[0m \u001b[0mlen\u001b[0m\u001b[1;33m(\u001b[0m\u001b[0margs\u001b[0m\u001b[1;33m)\u001b[0m \u001b[1;33m-\u001b[0m \u001b[0mlen\u001b[0m\u001b[1;33m(\u001b[0m\u001b[0mall_args\u001b[0m\u001b[1;33m)\u001b[0m\u001b[1;33m\u001b[0m\u001b[1;33m\u001b[0m\u001b[0m\n\u001b[0;32m     62\u001b[0m             \u001b[1;32mif\u001b[0m \u001b[0mextra_args\u001b[0m \u001b[1;33m<=\u001b[0m \u001b[1;36m0\u001b[0m\u001b[1;33m:\u001b[0m\u001b[1;33m\u001b[0m\u001b[1;33m\u001b[0m\u001b[0m\n\u001b[1;32m---> 63\u001b[1;33m                 \u001b[1;32mreturn\u001b[0m \u001b[0mf\u001b[0m\u001b[1;33m(\u001b[0m\u001b[1;33m*\u001b[0m\u001b[0margs\u001b[0m\u001b[1;33m,\u001b[0m \u001b[1;33m**\u001b[0m\u001b[0mkwargs\u001b[0m\u001b[1;33m)\u001b[0m\u001b[1;33m\u001b[0m\u001b[1;33m\u001b[0m\u001b[0m\n\u001b[0m\u001b[0;32m     64\u001b[0m \u001b[1;33m\u001b[0m\u001b[0m\n\u001b[0;32m     65\u001b[0m             \u001b[1;31m# extra_args > 0\u001b[0m\u001b[1;33m\u001b[0m\u001b[1;33m\u001b[0m\u001b[1;33m\u001b[0m\u001b[0m\n",
      "\u001b[1;32m~\\anaconda3\\envs\\tfgpu\\lib\\site-packages\\sklearn\\metrics\\_scorer.py\u001b[0m in \u001b[0;36mcheck_scoring\u001b[1;34m(estimator, scoring, allow_none)\u001b[0m\n\u001b[0;32m    448\u001b[0m             \u001b[1;32mreturn\u001b[0m \u001b[1;32mNone\u001b[0m\u001b[1;33m\u001b[0m\u001b[1;33m\u001b[0m\u001b[0m\n\u001b[0;32m    449\u001b[0m         \u001b[1;32melse\u001b[0m\u001b[1;33m:\u001b[0m\u001b[1;33m\u001b[0m\u001b[1;33m\u001b[0m\u001b[0m\n\u001b[1;32m--> 450\u001b[1;33m             raise TypeError(\n\u001b[0m\u001b[0;32m    451\u001b[0m                 \u001b[1;34m\"If no scoring is specified, the estimator passed should \"\u001b[0m\u001b[1;33m\u001b[0m\u001b[1;33m\u001b[0m\u001b[0m\n\u001b[0;32m    452\u001b[0m                 \u001b[1;34m\"have a 'score' method. The estimator %r does not.\"\u001b[0m\u001b[1;33m\u001b[0m\u001b[1;33m\u001b[0m\u001b[0m\n",
      "\u001b[1;31mTypeError\u001b[0m: If no scoring is specified, the estimator passed should have a 'score' method. The estimator <tensorflow.python.keras.engine.sequential.Sequential object at 0x000001A4E3F15640> does not."
     ]
    }
   ],
   "source": [
    "print(cross_val_score(model, X_train, y_train, cv = 3))"
   ]
  },
  {
   "cell_type": "code",
   "execution_count": 268,
   "id": "classified-minister",
   "metadata": {},
   "outputs": [
    {
     "name": "stdout",
     "output_type": "stream",
     "text": [
      "R2 Score: 0.9704370713710249\n",
      "Mean Squarred Error: 0.009364988023557952\n",
      "RMSE: 0.09677286822016774\n",
      "Mean Absolute Error : 0.06752220095216618\n"
     ]
    }
   ],
   "source": [
    "print(\"R2 Score:\", r2_score(y_test, nn_pred))\n",
    "print(\"Mean Squarred Error:\", mean_squared_error(y_test, nn_pred))\n",
    "print(\"RMSE:\", math.sqrt(mean_squared_error(y_test, nn_pred)))\n",
    "print(\"Mean Absolute Error : \" + str(mean_absolute_error(y_test,nn_pred)))"
   ]
  },
  {
   "cell_type": "code",
   "execution_count": 2,
   "id": "radio-satisfaction",
   "metadata": {},
   "outputs": [
    {
     "ename": "SyntaxError",
     "evalue": "unexpected character after line continuation character (<ipython-input-2-74646f184a5d>, line 4)",
     "output_type": "error",
     "traceback": [
      "\u001b[1;36m  File \u001b[1;32m\"<ipython-input-2-74646f184a5d>\"\u001b[1;36m, line \u001b[1;32m4\u001b[0m\n\u001b[1;33m    return ((0.1 * ridge_model_full_data.predict(X)) + \\\\\u001b[0m\n\u001b[1;37m                                                         ^\u001b[0m\n\u001b[1;31mSyntaxError\u001b[0m\u001b[1;31m:\u001b[0m unexpected character after line continuation character\n"
     ]
    }
   ],
   "source": [
    "# get a list of base models\n",
    "\n",
    "def get_models():\n",
    "    models = list()\n",
    "    models.append(('lr', LinearRegression()))\n",
    "    models.append(('knn', KNeighborsRegressor()))\n",
    "    mode"
   ]
  },
  {
   "cell_type": "code",
   "execution_count": null,
   "id": "marked-warrant",
   "metadata": {},
   "outputs": [],
   "source": []
  },
  {
   "cell_type": "code",
   "execution_count": null,
   "id": "computational-sector",
   "metadata": {},
   "outputs": [],
   "source": []
  },
  {
   "cell_type": "code",
   "execution_count": null,
   "id": "corresponding-longitude",
   "metadata": {},
   "outputs": [],
   "source": []
  },
  {
   "cell_type": "code",
   "execution_count": null,
   "id": "recovered-characterization",
   "metadata": {},
   "outputs": [],
   "source": []
  },
  {
   "cell_type": "code",
   "execution_count": null,
   "id": "surprising-earthquake",
   "metadata": {},
   "outputs": [],
   "source": []
  },
  {
   "cell_type": "code",
   "execution_count": null,
   "id": "brave-cruise",
   "metadata": {},
   "outputs": [],
   "source": []
  },
  {
   "cell_type": "code",
   "execution_count": null,
   "id": "fitting-playing",
   "metadata": {},
   "outputs": [],
   "source": []
  },
  {
   "cell_type": "code",
   "execution_count": 189,
   "id": "1c9b0cf1",
   "metadata": {},
   "outputs": [],
   "source": [
    "## Submit predictions\n",
    "\n",
    "submission = pd.read_csv('sample_submission.csv')"
   ]
  },
  {
   "cell_type": "code",
   "execution_count": 190,
   "id": "0b6c4dc7",
   "metadata": {},
   "outputs": [
    {
     "data": {
      "text/html": [
       "<div>\n",
       "<style scoped>\n",
       "    .dataframe tbody tr th:only-of-type {\n",
       "        vertical-align: middle;\n",
       "    }\n",
       "\n",
       "    .dataframe tbody tr th {\n",
       "        vertical-align: top;\n",
       "    }\n",
       "\n",
       "    .dataframe thead th {\n",
       "        text-align: right;\n",
       "    }\n",
       "</style>\n",
       "<table border=\"1\" class=\"dataframe\">\n",
       "  <thead>\n",
       "    <tr style=\"text-align: right;\">\n",
       "      <th></th>\n",
       "      <th>index</th>\n",
       "      <th>fare</th>\n",
       "    </tr>\n",
       "  </thead>\n",
       "  <tbody>\n",
       "    <tr>\n",
       "      <th>0</th>\n",
       "      <td>0</td>\n",
       "      <td>11.0</td>\n",
       "    </tr>\n",
       "    <tr>\n",
       "      <th>1</th>\n",
       "      <td>1</td>\n",
       "      <td>26.0</td>\n",
       "    </tr>\n",
       "    <tr>\n",
       "      <th>2</th>\n",
       "      <td>2</td>\n",
       "      <td>18.5</td>\n",
       "    </tr>\n",
       "    <tr>\n",
       "      <th>3</th>\n",
       "      <td>3</td>\n",
       "      <td>11.5</td>\n",
       "    </tr>\n",
       "    <tr>\n",
       "      <th>4</th>\n",
       "      <td>4</td>\n",
       "      <td>9.0</td>\n",
       "    </tr>\n",
       "    <tr>\n",
       "      <th>5</th>\n",
       "      <td>5</td>\n",
       "      <td>10.5</td>\n",
       "    </tr>\n",
       "    <tr>\n",
       "      <th>6</th>\n",
       "      <td>6</td>\n",
       "      <td>7.0</td>\n",
       "    </tr>\n",
       "    <tr>\n",
       "      <th>7</th>\n",
       "      <td>7</td>\n",
       "      <td>7.0</td>\n",
       "    </tr>\n",
       "    <tr>\n",
       "      <th>8</th>\n",
       "      <td>8</td>\n",
       "      <td>26.0</td>\n",
       "    </tr>\n",
       "    <tr>\n",
       "      <th>9</th>\n",
       "      <td>9</td>\n",
       "      <td>5.0</td>\n",
       "    </tr>\n",
       "    <tr>\n",
       "      <th>10</th>\n",
       "      <td>10</td>\n",
       "      <td>32.5</td>\n",
       "    </tr>\n",
       "    <tr>\n",
       "      <th>11</th>\n",
       "      <td>11</td>\n",
       "      <td>19.5</td>\n",
       "    </tr>\n",
       "  </tbody>\n",
       "</table>\n",
       "</div>"
      ],
      "text/plain": [
       "    index  fare\n",
       "0       0  11.0\n",
       "1       1  26.0\n",
       "2       2  18.5\n",
       "3       3  11.5\n",
       "4       4   9.0\n",
       "5       5  10.5\n",
       "6       6   7.0\n",
       "7       7   7.0\n",
       "8       8  26.0\n",
       "9       9   5.0\n",
       "10     10  32.5\n",
       "11     11  19.5"
      ]
     },
     "execution_count": 190,
     "metadata": {},
     "output_type": "execute_result"
    }
   ],
   "source": [
    "submission"
   ]
  },
  {
   "cell_type": "code",
   "execution_count": 530,
   "id": "9f7c283a",
   "metadata": {},
   "outputs": [],
   "source": [
    "output = pd.DataFrame(columns = ['index','fare'])"
   ]
  },
  {
   "cell_type": "code",
   "execution_count": 531,
   "id": "660bb5c7",
   "metadata": {},
   "outputs": [],
   "source": [
    "output['index'] = test.index"
   ]
  },
  {
   "cell_type": "code",
   "execution_count": 532,
   "id": "1da4059f",
   "metadata": {},
   "outputs": [],
   "source": [
    "output['index'] = output['index'].astype('str')"
   ]
  },
  {
   "cell_type": "code",
   "execution_count": 533,
   "id": "87f5bcda",
   "metadata": {},
   "outputs": [],
   "source": [
    "output['fare'] = np.floor(np.expm1(xgboost.predict(tX)))"
   ]
  },
  {
   "cell_type": "code",
   "execution_count": 534,
   "id": "3b75ea36",
   "metadata": {},
   "outputs": [
    {
     "data": {
      "text/html": [
       "<div>\n",
       "<style scoped>\n",
       "    .dataframe tbody tr th:only-of-type {\n",
       "        vertical-align: middle;\n",
       "    }\n",
       "\n",
       "    .dataframe tbody tr th {\n",
       "        vertical-align: top;\n",
       "    }\n",
       "\n",
       "    .dataframe thead th {\n",
       "        text-align: right;\n",
       "    }\n",
       "</style>\n",
       "<table border=\"1\" class=\"dataframe\">\n",
       "  <thead>\n",
       "    <tr style=\"text-align: right;\">\n",
       "      <th></th>\n",
       "      <th>index</th>\n",
       "      <th>fare</th>\n",
       "    </tr>\n",
       "  </thead>\n",
       "  <tbody>\n",
       "    <tr>\n",
       "      <th>0</th>\n",
       "      <td>0</td>\n",
       "      <td>11.0</td>\n",
       "    </tr>\n",
       "    <tr>\n",
       "      <th>1</th>\n",
       "      <td>1</td>\n",
       "      <td>26.0</td>\n",
       "    </tr>\n",
       "    <tr>\n",
       "      <th>2</th>\n",
       "      <td>2</td>\n",
       "      <td>14.0</td>\n",
       "    </tr>\n",
       "    <tr>\n",
       "      <th>3</th>\n",
       "      <td>3</td>\n",
       "      <td>12.0</td>\n",
       "    </tr>\n",
       "    <tr>\n",
       "      <th>4</th>\n",
       "      <td>4</td>\n",
       "      <td>10.0</td>\n",
       "    </tr>\n",
       "    <tr>\n",
       "      <th>...</th>\n",
       "      <td>...</td>\n",
       "      <td>...</td>\n",
       "    </tr>\n",
       "    <tr>\n",
       "      <th>24995</th>\n",
       "      <td>24995</td>\n",
       "      <td>10.0</td>\n",
       "    </tr>\n",
       "    <tr>\n",
       "      <th>24996</th>\n",
       "      <td>24996</td>\n",
       "      <td>11.0</td>\n",
       "    </tr>\n",
       "    <tr>\n",
       "      <th>24997</th>\n",
       "      <td>24997</td>\n",
       "      <td>32.0</td>\n",
       "    </tr>\n",
       "    <tr>\n",
       "      <th>24998</th>\n",
       "      <td>24998</td>\n",
       "      <td>6.0</td>\n",
       "    </tr>\n",
       "    <tr>\n",
       "      <th>24999</th>\n",
       "      <td>24999</td>\n",
       "      <td>19.0</td>\n",
       "    </tr>\n",
       "  </tbody>\n",
       "</table>\n",
       "<p>25000 rows × 2 columns</p>\n",
       "</div>"
      ],
      "text/plain": [
       "       index  fare\n",
       "0          0  11.0\n",
       "1          1  26.0\n",
       "2          2  14.0\n",
       "3          3  12.0\n",
       "4          4  10.0\n",
       "...      ...   ...\n",
       "24995  24995  10.0\n",
       "24996  24996  11.0\n",
       "24997  24997  32.0\n",
       "24998  24998   6.0\n",
       "24999  24999  19.0\n",
       "\n",
       "[25000 rows x 2 columns]"
      ]
     },
     "execution_count": 534,
     "metadata": {},
     "output_type": "execute_result"
    }
   ],
   "source": [
    "output"
   ]
  },
  {
   "cell_type": "code",
   "execution_count": 535,
   "id": "3f006856",
   "metadata": {},
   "outputs": [],
   "source": [
    "output.to_csv('output5.csv', index = False)"
   ]
  },
  {
   "cell_type": "code",
   "execution_count": null,
   "id": "6b29433f",
   "metadata": {},
   "outputs": [],
   "source": []
  }
 ],
 "metadata": {
  "kernelspec": {
   "display_name": "tfgpu",
   "language": "python",
   "name": "tfgpu"
  },
  "language_info": {
   "codemirror_mode": {
    "name": "ipython",
    "version": 3
   },
   "file_extension": ".py",
   "mimetype": "text/x-python",
   "name": "python",
   "nbconvert_exporter": "python",
   "pygments_lexer": "ipython3",
   "version": "3.8.0"
  }
 },
 "nbformat": 4,
 "nbformat_minor": 5
}
