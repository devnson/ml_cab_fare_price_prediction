{
 "cells": [
  {
   "cell_type": "markdown",
   "id": "dca6eb8d",
   "metadata": {},
   "source": [
    "# 1. Data Observation"
   ]
  },
  {
   "cell_type": "code",
   "execution_count": 1,
   "id": "055b1889",
   "metadata": {},
   "outputs": [],
   "source": [
    "import pandas as pd\n",
    "import numpy as np\n",
    "import matplotlib.pyplot as plt\n",
    "import seaborn as sns"
   ]
  },
  {
   "cell_type": "code",
   "execution_count": 2,
   "id": "9b1ec78f",
   "metadata": {},
   "outputs": [],
   "source": [
    "path = \"E:/Hackathon/CabFarePrediction/\""
   ]
  },
  {
   "cell_type": "code",
   "execution_count": 3,
   "id": "5bed73e0",
   "metadata": {},
   "outputs": [],
   "source": [
    "train = pd.read_csv(path+'TRAIN.CSV')\n",
    "test = pd.read_csv(path + 'TEST.CSV')"
   ]
  },
  {
   "cell_type": "code",
   "execution_count": 4,
   "id": "07f3dc0a",
   "metadata": {},
   "outputs": [
    {
     "data": {
      "text/html": [
       "<div>\n",
       "<style scoped>\n",
       "    .dataframe tbody tr th:only-of-type {\n",
       "        vertical-align: middle;\n",
       "    }\n",
       "\n",
       "    .dataframe tbody tr th {\n",
       "        vertical-align: top;\n",
       "    }\n",
       "\n",
       "    .dataframe thead th {\n",
       "        text-align: right;\n",
       "    }\n",
       "</style>\n",
       "<table border=\"1\" class=\"dataframe\">\n",
       "  <thead>\n",
       "    <tr style=\"text-align: right;\">\n",
       "      <th></th>\n",
       "      <th>index</th>\n",
       "      <th>time_stamp</th>\n",
       "      <th>cab_provider</th>\n",
       "      <th>source</th>\n",
       "      <th>destination</th>\n",
       "      <th>distance</th>\n",
       "      <th>surge_multiplier</th>\n",
       "      <th>cab_type</th>\n",
       "      <th>fare</th>\n",
       "    </tr>\n",
       "  </thead>\n",
       "  <tbody>\n",
       "    <tr>\n",
       "      <th>0</th>\n",
       "      <td>0</td>\n",
       "      <td>1543203646318</td>\n",
       "      <td>Lyft</td>\n",
       "      <td>Boston University</td>\n",
       "      <td>Theatre District</td>\n",
       "      <td>3.03</td>\n",
       "      <td>1.0</td>\n",
       "      <td>Lux Black XL</td>\n",
       "      <td>34.0</td>\n",
       "    </tr>\n",
       "    <tr>\n",
       "      <th>1</th>\n",
       "      <td>1</td>\n",
       "      <td>1543203646319</td>\n",
       "      <td>Uber</td>\n",
       "      <td>South Station</td>\n",
       "      <td>Theatre District</td>\n",
       "      <td>1.30</td>\n",
       "      <td>1.0</td>\n",
       "      <td>Black</td>\n",
       "      <td>18.5</td>\n",
       "    </tr>\n",
       "    <tr>\n",
       "      <th>2</th>\n",
       "      <td>2</td>\n",
       "      <td>1543203646320</td>\n",
       "      <td>Uber</td>\n",
       "      <td>Theatre District</td>\n",
       "      <td>Fenway</td>\n",
       "      <td>2.71</td>\n",
       "      <td>1.0</td>\n",
       "      <td>UberX</td>\n",
       "      <td>19.5</td>\n",
       "    </tr>\n",
       "    <tr>\n",
       "      <th>3</th>\n",
       "      <td>3</td>\n",
       "      <td>1543203646320</td>\n",
       "      <td>Lyft</td>\n",
       "      <td>Northeastern University</td>\n",
       "      <td>Beacon Hill</td>\n",
       "      <td>2.43</td>\n",
       "      <td>1.0</td>\n",
       "      <td>Lyft</td>\n",
       "      <td>10.5</td>\n",
       "    </tr>\n",
       "    <tr>\n",
       "      <th>4</th>\n",
       "      <td>4</td>\n",
       "      <td>1543203646320</td>\n",
       "      <td>Uber</td>\n",
       "      <td>Theatre District</td>\n",
       "      <td>Fenway</td>\n",
       "      <td>2.71</td>\n",
       "      <td>1.0</td>\n",
       "      <td>UberXL</td>\n",
       "      <td>32.0</td>\n",
       "    </tr>\n",
       "  </tbody>\n",
       "</table>\n",
       "</div>"
      ],
      "text/plain": [
       "   index     time_stamp cab_provider                   source  \\\n",
       "0      0  1543203646318         Lyft        Boston University   \n",
       "1      1  1543203646319         Uber            South Station   \n",
       "2      2  1543203646320         Uber         Theatre District   \n",
       "3      3  1543203646320         Lyft  Northeastern University   \n",
       "4      4  1543203646320         Uber         Theatre District   \n",
       "\n",
       "        destination  distance  surge_multiplier      cab_type  fare  \n",
       "0  Theatre District      3.03               1.0  Lux Black XL  34.0  \n",
       "1  Theatre District      1.30               1.0         Black  18.5  \n",
       "2            Fenway      2.71               1.0         UberX  19.5  \n",
       "3       Beacon Hill      2.43               1.0          Lyft  10.5  \n",
       "4            Fenway      2.71               1.0        UberXL  32.0  "
      ]
     },
     "execution_count": 4,
     "metadata": {},
     "output_type": "execute_result"
    }
   ],
   "source": [
    "train.head()"
   ]
  },
  {
   "cell_type": "code",
   "execution_count": 5,
   "id": "ec1adaf5",
   "metadata": {},
   "outputs": [
    {
     "data": {
      "text/plain": [
       "((100000, 9), (25000, 8))"
      ]
     },
     "execution_count": 5,
     "metadata": {},
     "output_type": "execute_result"
    }
   ],
   "source": [
    "train.shape, test.shape"
   ]
  },
  {
   "cell_type": "code",
   "execution_count": 6,
   "id": "f3bb5759",
   "metadata": {},
   "outputs": [
    {
     "data": {
      "text/html": [
       "<div>\n",
       "<style scoped>\n",
       "    .dataframe tbody tr th:only-of-type {\n",
       "        vertical-align: middle;\n",
       "    }\n",
       "\n",
       "    .dataframe tbody tr th {\n",
       "        vertical-align: top;\n",
       "    }\n",
       "\n",
       "    .dataframe thead th {\n",
       "        text-align: right;\n",
       "    }\n",
       "</style>\n",
       "<table border=\"1\" class=\"dataframe\">\n",
       "  <thead>\n",
       "    <tr style=\"text-align: right;\">\n",
       "      <th></th>\n",
       "      <th>index</th>\n",
       "      <th>time_stamp</th>\n",
       "      <th>cab_provider</th>\n",
       "      <th>source</th>\n",
       "      <th>destination</th>\n",
       "      <th>distance</th>\n",
       "      <th>surge_multiplier</th>\n",
       "      <th>cab_type</th>\n",
       "    </tr>\n",
       "  </thead>\n",
       "  <tbody>\n",
       "    <tr>\n",
       "      <th>0</th>\n",
       "      <td>0</td>\n",
       "      <td>1543364124206</td>\n",
       "      <td>Lyft</td>\n",
       "      <td>Theatre District</td>\n",
       "      <td>South Station</td>\n",
       "      <td>0.59</td>\n",
       "      <td>1.0</td>\n",
       "      <td>Lux</td>\n",
       "    </tr>\n",
       "    <tr>\n",
       "      <th>1</th>\n",
       "      <td>1</td>\n",
       "      <td>1543364124206</td>\n",
       "      <td>Lyft</td>\n",
       "      <td>Theatre District</td>\n",
       "      <td>South Station</td>\n",
       "      <td>0.59</td>\n",
       "      <td>1.0</td>\n",
       "      <td>Lux Black XL</td>\n",
       "    </tr>\n",
       "    <tr>\n",
       "      <th>2</th>\n",
       "      <td>2</td>\n",
       "      <td>1543364124206</td>\n",
       "      <td>Uber</td>\n",
       "      <td>Financial District</td>\n",
       "      <td>Fenway</td>\n",
       "      <td>6.83</td>\n",
       "      <td>1.0</td>\n",
       "      <td>UberX</td>\n",
       "    </tr>\n",
       "    <tr>\n",
       "      <th>3</th>\n",
       "      <td>3</td>\n",
       "      <td>1543364124206</td>\n",
       "      <td>Uber</td>\n",
       "      <td>Beacon Hill</td>\n",
       "      <td>Haymarket Square</td>\n",
       "      <td>1.35</td>\n",
       "      <td>1.0</td>\n",
       "      <td>UberXL</td>\n",
       "    </tr>\n",
       "    <tr>\n",
       "      <th>4</th>\n",
       "      <td>4</td>\n",
       "      <td>1543364124206</td>\n",
       "      <td>Lyft</td>\n",
       "      <td>Theatre District</td>\n",
       "      <td>South Station</td>\n",
       "      <td>0.59</td>\n",
       "      <td>1.0</td>\n",
       "      <td>Lyft XL</td>\n",
       "    </tr>\n",
       "  </tbody>\n",
       "</table>\n",
       "</div>"
      ],
      "text/plain": [
       "   index     time_stamp cab_provider              source       destination  \\\n",
       "0      0  1543364124206         Lyft    Theatre District     South Station   \n",
       "1      1  1543364124206         Lyft    Theatre District     South Station   \n",
       "2      2  1543364124206         Uber  Financial District            Fenway   \n",
       "3      3  1543364124206         Uber         Beacon Hill  Haymarket Square   \n",
       "4      4  1543364124206         Lyft    Theatre District     South Station   \n",
       "\n",
       "   distance  surge_multiplier      cab_type  \n",
       "0      0.59               1.0           Lux  \n",
       "1      0.59               1.0  Lux Black XL  \n",
       "2      6.83               1.0         UberX  \n",
       "3      1.35               1.0        UberXL  \n",
       "4      0.59               1.0       Lyft XL  "
      ]
     },
     "execution_count": 6,
     "metadata": {},
     "output_type": "execute_result"
    }
   ],
   "source": [
    "test.head()"
   ]
  },
  {
   "cell_type": "code",
   "execution_count": 7,
   "id": "07ff3b52",
   "metadata": {},
   "outputs": [
    {
     "data": {
      "text/plain": [
       "Black           8744\n",
       "Black SUV       8712\n",
       "UberXL          8676\n",
       "UberX           8588\n",
       "WAV             8585\n",
       "UberPool        8558\n",
       "Lyft XL         8115\n",
       "Lux Black XL    8065\n",
       "Lux             8060\n",
       "Shared          7998\n",
       "Lyft            7957\n",
       "Lux Black       7942\n",
       "Name: cab_type, dtype: int64"
      ]
     },
     "execution_count": 7,
     "metadata": {},
     "output_type": "execute_result"
    }
   ],
   "source": [
    "train['cab_type'].value_counts()"
   ]
  },
  {
   "cell_type": "code",
   "execution_count": 8,
   "id": "260dca2e",
   "metadata": {},
   "outputs": [
    {
     "data": {
      "text/plain": [
       "Uber    51863\n",
       "Lyft    48137\n",
       "Name: cab_provider, dtype: int64"
      ]
     },
     "execution_count": 8,
     "metadata": {},
     "output_type": "execute_result"
    }
   ],
   "source": [
    "train['cab_provider'].value_counts()"
   ]
  },
  {
   "cell_type": "code",
   "execution_count": 9,
   "id": "71bf9d5b",
   "metadata": {},
   "outputs": [
    {
     "data": {
      "text/plain": [
       "(7.5, 0.02)"
      ]
     },
     "execution_count": 9,
     "metadata": {},
     "output_type": "execute_result"
    }
   ],
   "source": [
    "train['distance'].max(), train['distance'].min()"
   ]
  },
  {
   "cell_type": "code",
   "execution_count": 10,
   "id": "364792bc",
   "metadata": {},
   "outputs": [
    {
     "data": {
      "text/plain": [
       "1.00    96753\n",
       "1.25     1715\n",
       "1.50      764\n",
       "1.75      403\n",
       "2.00      337\n",
       "2.50       23\n",
       "3.00        5\n",
       "Name: surge_multiplier, dtype: int64"
      ]
     },
     "execution_count": 10,
     "metadata": {},
     "output_type": "execute_result"
    }
   ],
   "source": [
    "train['surge_multiplier'].value_counts()"
   ]
  },
  {
   "cell_type": "markdown",
   "id": "6c4c644a",
   "metadata": {},
   "source": [
    "The private rideshare service says it uses an algorithm based on classic supply and demand: When demand for cars goes up, prices go up to decrease demand and to encourage more drivers to get on the road, increasing supply.\n",
    "\n",
    "` Price = Normal Price * Surge_multiplier `"
   ]
  },
  {
   "cell_type": "markdown",
   "id": "84211472",
   "metadata": {},
   "source": [
    "# Exploratory Data Analaysis"
   ]
  },
  {
   "cell_type": "code",
   "execution_count": 11,
   "id": "3bdb1dd2",
   "metadata": {},
   "outputs": [
    {
     "data": {
      "image/png": "[encoded data removed]",
      "text/plain": [
       "<Figure size 576x432 with 1 Axes>"
      ]
     },
     "metadata": {
      "needs_background": "light"
     },
     "output_type": "display_data"
    }
   ],
   "source": [
    "plt.figure(figsize = (8,6))\n",
    "sns.boxplot(x = 'fare', data = train);"
   ]
  },
  {
   "cell_type": "code",
   "execution_count": 12,
   "id": "e8cbcfc0",
   "metadata": {},
   "outputs": [
    {
     "name": "stdout",
     "output_type": "stream",
     "text": [
      "Skewness: 1.039652\n",
      "Kurtosis: 1.149118\n"
     ]
    }
   ],
   "source": [
    "# Skew and kurt\n",
    "\n",
    "print(\"Skewness: %f\" % train['fare'].skew())\n",
    "print(\"Kurtosis: %f\" % train['fare'].kurt())"
   ]
  },
  {
   "cell_type": "code",
   "execution_count": 13,
   "id": "998eb9c7",
   "metadata": {},
   "outputs": [],
   "source": [
    "xtrain = train.copy()\n",
    "xtest = test.copy()"
   ]
  },
  {
   "cell_type": "code",
   "execution_count": 14,
   "id": "857447b2",
   "metadata": {},
   "outputs": [],
   "source": [
    "# Let's apply Log(1+x) on Fare\n",
    "\n",
    "xtrain['fare'] = np.log1p(xtrain['fare'])"
   ]
  },
  {
   "cell_type": "code",
   "execution_count": 15,
   "id": "20a10cc3",
   "metadata": {},
   "outputs": [
    {
     "data": {
      "image/png": "[encoded data removed]",
      "text/plain": [
       "<Figure size 864x432 with 1 Axes>"
      ]
     },
     "metadata": {
      "needs_background": "light"
     },
     "output_type": "display_data"
    }
   ],
   "source": [
    "sns.displot(x = 'fare', data = xtrain, aspect = 2, height = 6, kde = True);"
   ]
  },
  {
   "cell_type": "code",
   "execution_count": 16,
   "id": "878198d7",
   "metadata": {},
   "outputs": [
    {
     "data": {
      "image/png": "[encoded data removed]",
      "text/plain": [
       "<Figure size 576x432 with 1 Axes>"
      ]
     },
     "metadata": {
      "needs_background": "light"
     },
     "output_type": "display_data"
    }
   ],
   "source": [
    "plt.figure(figsize = (8,6))\n",
    "sns.boxplot(x = 'fare', data = xtrain);"
   ]
  },
  {
   "cell_type": "markdown",
   "id": "ae3e7ef0",
   "metadata": {},
   "source": [
    "## Independent Variable Analysis"
   ]
  },
  {
   "cell_type": "markdown",
   "id": "1180bb27",
   "metadata": {},
   "source": [
    "### Extract Day Date and Time from TimeStamp"
   ]
  },
  {
   "cell_type": "code",
   "execution_count": 17,
   "id": "b04dedc9",
   "metadata": {},
   "outputs": [],
   "source": [
    "xtrain['date_time'] = pd.to_datetime(xtrain['time_stamp'] / 1000, unit = 's')"
   ]
  },
  {
   "cell_type": "code",
   "execution_count": 18,
   "id": "eadce6e6",
   "metadata": {},
   "outputs": [],
   "source": [
    "xtrain['hour'] = xtrain['date_time'].dt.hour"
   ]
  },
  {
   "cell_type": "code",
   "execution_count": 19,
   "id": "62c5b3a5",
   "metadata": {},
   "outputs": [],
   "source": [
    "xtest['date_time'] = pd.to_datetime(xtest['time_stamp'] / 1000, unit = 's')"
   ]
  },
  {
   "cell_type": "code",
   "execution_count": 20,
   "id": "2679ffff",
   "metadata": {},
   "outputs": [],
   "source": [
    "xtest['hour'] = xtest['date_time'].dt.hour"
   ]
  },
  {
   "cell_type": "markdown",
   "id": "0ff9346a",
   "metadata": {},
   "source": [
    "## Corrleation\n",
    "\n",
    "Let's encode all the features and check the correlation"
   ]
  },
  {
   "cell_type": "code",
   "execution_count": 21,
   "id": "4ad8dfe4",
   "metadata": {},
   "outputs": [],
   "source": [
    "labeldf = xtrain.copy()"
   ]
  },
  {
   "cell_type": "code",
   "execution_count": 22,
   "id": "a7e41dc7",
   "metadata": {},
   "outputs": [],
   "source": [
    "from sklearn import preprocessing"
   ]
  },
  {
   "cell_type": "code",
   "execution_count": 23,
   "id": "3c4a922c",
   "metadata": {},
   "outputs": [],
   "source": [
    "label_encoder = preprocessing.LabelEncoder()"
   ]
  },
  {
   "cell_type": "code",
   "execution_count": 24,
   "id": "cc18c22c",
   "metadata": {},
   "outputs": [],
   "source": [
    "for i in labeldf:\n",
    "    if labeldf[i].dtypes == 'object':\n",
    "        labeldf[i] = label_encoder.fit_transform(labeldf[i])"
   ]
  },
  {
   "cell_type": "code",
   "execution_count": 25,
   "id": "2291a7f7",
   "metadata": {},
   "outputs": [
    {
     "data": {
      "text/html": [
       "<div>\n",
       "<style scoped>\n",
       "    .dataframe tbody tr th:only-of-type {\n",
       "        vertical-align: middle;\n",
       "    }\n",
       "\n",
       "    .dataframe tbody tr th {\n",
       "        vertical-align: top;\n",
       "    }\n",
       "\n",
       "    .dataframe thead th {\n",
       "        text-align: right;\n",
       "    }\n",
       "</style>\n",
       "<table border=\"1\" class=\"dataframe\">\n",
       "  <thead>\n",
       "    <tr style=\"text-align: right;\">\n",
       "      <th></th>\n",
       "      <th>index</th>\n",
       "      <th>time_stamp</th>\n",
       "      <th>cab_provider</th>\n",
       "      <th>source</th>\n",
       "      <th>destination</th>\n",
       "      <th>distance</th>\n",
       "      <th>surge_multiplier</th>\n",
       "      <th>cab_type</th>\n",
       "      <th>fare</th>\n",
       "      <th>date_time</th>\n",
       "      <th>hour</th>\n",
       "    </tr>\n",
       "  </thead>\n",
       "  <tbody>\n",
       "    <tr>\n",
       "      <th>0</th>\n",
       "      <td>0</td>\n",
       "      <td>1543203646318</td>\n",
       "      <td>0</td>\n",
       "      <td>2</td>\n",
       "      <td>10</td>\n",
       "      <td>3.03</td>\n",
       "      <td>1.0</td>\n",
       "      <td>4</td>\n",
       "      <td>3.555348</td>\n",
       "      <td>2018-11-26 03:40:46.318000128</td>\n",
       "      <td>3</td>\n",
       "    </tr>\n",
       "    <tr>\n",
       "      <th>1</th>\n",
       "      <td>1</td>\n",
       "      <td>1543203646319</td>\n",
       "      <td>1</td>\n",
       "      <td>9</td>\n",
       "      <td>10</td>\n",
       "      <td>1.30</td>\n",
       "      <td>1.0</td>\n",
       "      <td>0</td>\n",
       "      <td>2.970414</td>\n",
       "      <td>2018-11-26 03:40:46.319000064</td>\n",
       "      <td>3</td>\n",
       "    </tr>\n",
       "    <tr>\n",
       "      <th>2</th>\n",
       "      <td>2</td>\n",
       "      <td>1543203646320</td>\n",
       "      <td>1</td>\n",
       "      <td>10</td>\n",
       "      <td>3</td>\n",
       "      <td>2.71</td>\n",
       "      <td>1.0</td>\n",
       "      <td>9</td>\n",
       "      <td>3.020425</td>\n",
       "      <td>2018-11-26 03:40:46.320000000</td>\n",
       "      <td>3</td>\n",
       "    </tr>\n",
       "    <tr>\n",
       "      <th>3</th>\n",
       "      <td>3</td>\n",
       "      <td>1543203646320</td>\n",
       "      <td>0</td>\n",
       "      <td>8</td>\n",
       "      <td>1</td>\n",
       "      <td>2.43</td>\n",
       "      <td>1.0</td>\n",
       "      <td>5</td>\n",
       "      <td>2.442347</td>\n",
       "      <td>2018-11-26 03:40:46.320000000</td>\n",
       "      <td>3</td>\n",
       "    </tr>\n",
       "  </tbody>\n",
       "</table>\n",
       "</div>"
      ],
      "text/plain": [
       "   index     time_stamp  cab_provider  source  destination  distance  \\\n",
       "0      0  1543203646318             0       2           10      3.03   \n",
       "1      1  1543203646319             1       9           10      1.30   \n",
       "2      2  1543203646320             1      10            3      2.71   \n",
       "3      3  1543203646320             0       8            1      2.43   \n",
       "\n",
       "   surge_multiplier  cab_type      fare                     date_time  hour  \n",
       "0               1.0         4  3.555348 2018-11-26 03:40:46.318000128     3  \n",
       "1               1.0         0  2.970414 2018-11-26 03:40:46.319000064     3  \n",
       "2               1.0         9  3.020425 2018-11-26 03:40:46.320000000     3  \n",
       "3               1.0         5  2.442347 2018-11-26 03:40:46.320000000     3  "
      ]
     },
     "execution_count": 25,
     "metadata": {},
     "output_type": "execute_result"
    }
   ],
   "source": [
    "labeldf.head(4)"
   ]
  },
  {
   "cell_type": "code",
   "execution_count": 26,
   "id": "f1242424",
   "metadata": {},
   "outputs": [
    {
     "data": {
      "image/png": "[encoded data removed]",
      "text/plain": [
       "<Figure size 720x576 with 2 Axes>"
      ]
     },
     "metadata": {
      "needs_background": "light"
     },
     "output_type": "display_data"
    }
   ],
   "source": [
    "corrmat = labeldf.corr()\n",
    "plt.figure(figsize = (10,8))\n",
    "sns.heatmap(corrmat, vmax = .8, annot = True);"
   ]
  },
  {
   "cell_type": "code",
   "execution_count": 27,
   "id": "5e7fd042",
   "metadata": {},
   "outputs": [],
   "source": [
    "xtrain.drop('index', inplace = True, axis =1)\n",
    "xtrain.drop('time_stamp', inplace = True, axis = 1)\n",
    "xtrain.drop('date_time', inplace = True, axis = 1)"
   ]
  },
  {
   "cell_type": "code",
   "execution_count": 28,
   "id": "38771c2f",
   "metadata": {},
   "outputs": [],
   "source": [
    "xtest.drop('index', inplace = True, axis =1)\n",
    "xtest.drop('time_stamp', inplace = True, axis = 1)\n",
    "xtest.drop('date_time', inplace = True, axis = 1)"
   ]
  },
  {
   "cell_type": "markdown",
   "id": "49f7dbc0",
   "metadata": {},
   "source": [
    "## Fix skewed Features"
   ]
  },
  {
   "cell_type": "code",
   "execution_count": 29,
   "id": "b0eda0eb",
   "metadata": {},
   "outputs": [],
   "source": [
    "# Fetch all numerical features\n",
    "\n",
    "numeric_dtypes = ['int16', 'int32', 'int64', 'float16', 'float32', 'float64']\n",
    "numeric = []\n",
    "for i in xtrain.columns:\n",
    "    if xtrain[i].dtype in numeric_dtypes:\n",
    "        numeric.append(i)"
   ]
  },
  {
   "cell_type": "code",
   "execution_count": 30,
   "id": "b29cacb7",
   "metadata": {},
   "outputs": [
    {
     "data": {
      "image/png": "[encoded data removed]",
      "text/plain": [
       "<Figure size 576x504 with 1 Axes>"
      ]
     },
     "metadata": {},
     "output_type": "display_data"
    }
   ],
   "source": [
    "# Create box plots for all numeric features\n",
    "\n",
    "sns.set_style('white')\n",
    "f, ax = plt.subplots(figsize = (8,7))\n",
    "ax.set_xscale('log')\n",
    "ax = sns.boxplot(data = xtrain[numeric], orient = \"h\", palette = 'Set1')\n",
    "ax.xaxis.grid(False)\n",
    "ax.set(ylabel = \"Feature names\")\n",
    "ax.set(xlabel = \"Numeric values\")\n",
    "ax.set(title = \"Numeric Distribution of Features\")\n",
    "sns.despine(trim = True, left = True)"
   ]
  },
  {
   "cell_type": "markdown",
   "id": "reliable-equation",
   "metadata": {},
   "source": [
    "### Balancing Dataset"
   ]
  },
  {
   "cell_type": "code",
   "execution_count": 31,
   "id": "69dcff94",
   "metadata": {},
   "outputs": [
    {
     "data": {
      "text/plain": [
       "1.00    96753\n",
       "1.25     1715\n",
       "1.50      764\n",
       "1.75      403\n",
       "2.00      337\n",
       "2.50       23\n",
       "3.00        5\n",
       "Name: surge_multiplier, dtype: int64"
      ]
     },
     "execution_count": 31,
     "metadata": {},
     "output_type": "execute_result"
    }
   ],
   "source": [
    "# surge_multiplier\n",
    "\n",
    "xtrain['surge_multiplier'].value_counts()"
   ]
  },
  {
   "cell_type": "code",
   "execution_count": 32,
   "id": "unnecessary-lending",
   "metadata": {},
   "outputs": [],
   "source": [
    "xfilter = xtrain[xtrain['surge_multiplier'] == 1.00][:2500]"
   ]
  },
  {
   "cell_type": "code",
   "execution_count": 33,
   "id": "intellectual-nurse",
   "metadata": {},
   "outputs": [],
   "source": [
    "xtrain = xtrain[xtrain['surge_multiplier'] != 1.00]"
   ]
  },
  {
   "cell_type": "code",
   "execution_count": 34,
   "id": "light-adelaide",
   "metadata": {},
   "outputs": [
    {
     "data": {
      "text/plain": [
       "1.25    1715\n",
       "1.50     764\n",
       "1.75     403\n",
       "2.00     337\n",
       "2.50      23\n",
       "3.00       5\n",
       "Name: surge_multiplier, dtype: int64"
      ]
     },
     "execution_count": 34,
     "metadata": {},
     "output_type": "execute_result"
    }
   ],
   "source": [
    "xtrain['surge_multiplier'].value_counts()"
   ]
  },
  {
   "cell_type": "code",
   "execution_count": 35,
   "id": "worthy-oregon",
   "metadata": {},
   "outputs": [],
   "source": [
    "xtrain = pd.concat([xtrain, xfilter])"
   ]
  },
  {
   "cell_type": "code",
   "execution_count": 36,
   "id": "neural-elements",
   "metadata": {},
   "outputs": [
    {
     "data": {
      "text/plain": [
       "1.00    2500\n",
       "1.25    1715\n",
       "1.50     764\n",
       "1.75     403\n",
       "2.00     337\n",
       "2.50      23\n",
       "3.00       5\n",
       "Name: surge_multiplier, dtype: int64"
      ]
     },
     "execution_count": 36,
     "metadata": {},
     "output_type": "execute_result"
    }
   ],
   "source": [
    "xtrain['surge_multiplier'].value_counts()"
   ]
  },
  {
   "cell_type": "code",
   "execution_count": 37,
   "id": "decimal-franklin",
   "metadata": {},
   "outputs": [],
   "source": [
    "xtrain = xtrain[xtrain['surge_multiplier'] != 3.00]\n",
    "xtrain = xtrain[xtrain['surge_multiplier'] != 2.50]\n"
   ]
  },
  {
   "cell_type": "code",
   "execution_count": 38,
   "id": "mechanical-colors",
   "metadata": {},
   "outputs": [
    {
     "data": {
      "text/plain": [
       "1.00    2500\n",
       "1.25    1715\n",
       "1.50     764\n",
       "1.75     403\n",
       "2.00     337\n",
       "Name: surge_multiplier, dtype: int64"
      ]
     },
     "execution_count": 38,
     "metadata": {},
     "output_type": "execute_result"
    }
   ],
   "source": [
    "xtrain['surge_multiplier'].value_counts()"
   ]
  },
  {
   "cell_type": "code",
   "execution_count": 39,
   "id": "seeing-reaction",
   "metadata": {},
   "outputs": [
    {
     "data": {
      "text/plain": [
       "(5719, 8)"
      ]
     },
     "execution_count": 39,
     "metadata": {},
     "output_type": "execute_result"
    }
   ],
   "source": [
    "xtrain.shape"
   ]
  },
  {
   "cell_type": "code",
   "execution_count": 40,
   "id": "1df5c426",
   "metadata": {},
   "outputs": [
    {
     "data": {
      "image/png": "[encoded data removed]",
      "text/plain": [
       "<Figure size 720x576 with 2 Axes>"
      ]
     },
     "metadata": {},
     "output_type": "display_data"
    }
   ],
   "source": [
    "# Correlation\n",
    "\n",
    "\n",
    "corrmat = xtrain.corr()\n",
    "plt.figure(figsize = (10,8))\n",
    "sns.heatmap(corrmat, vmax = .8, annot = True);"
   ]
  },
  {
   "cell_type": "code",
   "execution_count": 41,
   "id": "0a99c396",
   "metadata": {},
   "outputs": [],
   "source": [
    "from scipy.stats import skew, norm\n",
    "from scipy.special import boxcox1p\n",
    "from scipy.stats import boxcox_normmax"
   ]
  },
  {
   "cell_type": "code",
   "execution_count": 42,
   "id": "529b7e4b",
   "metadata": {},
   "outputs": [
    {
     "name": "stdout",
     "output_type": "stream",
     "text": [
      "There are 3 numerical features with Skew > 0.5 :\n"
     ]
    },
    {
     "data": {
      "text/plain": [
       "surge_multiplier    1.102396\n",
       "hour                0.856791\n",
       "distance            0.516078\n",
       "fare               -0.118377\n",
       "dtype: float64"
      ]
     },
     "execution_count": 42,
     "metadata": {},
     "output_type": "execute_result"
    }
   ],
   "source": [
    "# Find skewed numerical features\n",
    "\n",
    "skew_features = xtrain[numeric].apply(lambda x: skew(x)).sort_values(ascending = False)\n",
    "\n",
    "high_skew = skew_features[skew_features > 0.5]\n",
    "skew_index = high_skew.index\n",
    "\n",
    "print(\"There are {} numerical features with Skew > 0.5 :\".format(high_skew.shape[0]))\n",
    "skewness = pd.DataFrame({'Skew': high_skew})\n",
    "skew_features.head(10)"
   ]
  },
  {
   "cell_type": "code",
   "execution_count": 43,
   "id": "cb568d3c",
   "metadata": {},
   "outputs": [],
   "source": [
    "xxtrain = xtrain.copy()"
   ]
  },
  {
   "cell_type": "code",
   "execution_count": 44,
   "id": "67dc52fe",
   "metadata": {},
   "outputs": [],
   "source": [
    "# Normalize skewed features\n",
    "\n",
    "xxtrain[\"distance\"] = boxcox1p(xxtrain[\"distance\"], boxcox_normmax(xxtrain[\"distance\"] + 1))\n",
    "xxtrain[\"hour\"] = boxcox1p(xxtrain[\"hour\"], boxcox_normmax(xxtrain[\"hour\"] + 1))\n",
    "\n",
    "xtest['distance'] = boxcox1p(xtest['distance'], boxcox_normmax(xtest['distance'] + 1))\n",
    "xtest['hour'] = boxcox1p(xtest['hour'], boxcox_normmax(xtest['hour'] + 1))"
   ]
  },
  {
   "cell_type": "code",
   "execution_count": 45,
   "id": "f128d204",
   "metadata": {},
   "outputs": [
    {
     "name": "stdout",
     "output_type": "stream",
     "text": [
      "There are 1 numerical features with Skew > 0.5 :\n"
     ]
    },
    {
     "data": {
      "text/plain": [
       "surge_multiplier    1.102396\n",
       "distance            0.014082\n",
       "hour               -0.006454\n",
       "fare               -0.118377\n",
       "dtype: float64"
      ]
     },
     "execution_count": 45,
     "metadata": {},
     "output_type": "execute_result"
    }
   ],
   "source": [
    "# Find skewed numerical features\n",
    "\n",
    "skew_features = xxtrain[numeric].apply(lambda x: skew(x)).sort_values(ascending = False)\n",
    "\n",
    "high_skew = skew_features[skew_features > 0.5]\n",
    "skew_index = high_skew.index\n",
    "\n",
    "print(\"There are {} numerical features with Skew > 0.5 :\".format(high_skew.shape[0]))\n",
    "skewness = pd.DataFrame({'Skew': high_skew})\n",
    "skew_features.head(10)"
   ]
  },
  {
   "cell_type": "code",
   "execution_count": 46,
   "id": "04b60f73",
   "metadata": {},
   "outputs": [
    {
     "data": {
      "image/png": "[encoded data removed]",
      "text/plain": [
       "<Figure size 576x504 with 1 Axes>"
      ]
     },
     "metadata": {},
     "output_type": "display_data"
    }
   ],
   "source": [
    "# Create box plots for all numeric features\n",
    "\n",
    "sns.set_style('white')\n",
    "f, ax = plt.subplots(figsize = (8,7))\n",
    "ax.set_xscale('log')\n",
    "ax = sns.boxplot(data = xxtrain[numeric], orient = \"h\", palette = 'Set1')\n",
    "ax.xaxis.grid(False)\n",
    "ax.set(ylabel = \"Feature names\")\n",
    "ax.set(xlabel = \"Numeric values\")\n",
    "ax.set(title = \"Numeric Distribution of Features\")\n",
    "sns.despine(trim = True, left = True)"
   ]
  },
  {
   "cell_type": "code",
   "execution_count": 47,
   "id": "7675d38b",
   "metadata": {},
   "outputs": [
    {
     "data": {
      "image/png": "[encoded data removed]",
      "text/plain": [
       "<Figure size 576x432 with 1 Axes>"
      ]
     },
     "metadata": {},
     "output_type": "display_data"
    }
   ],
   "source": [
    "# Distance\n",
    "\n",
    "plt.figure(figsize = (8,6))\n",
    "sns.boxplot(x = 'distance', data = xxtrain);"
   ]
  },
  {
   "cell_type": "markdown",
   "id": "ddeefad9",
   "metadata": {},
   "source": [
    "## Encode Categorical Features"
   ]
  },
  {
   "cell_type": "code",
   "execution_count": 48,
   "id": "c3968604",
   "metadata": {},
   "outputs": [],
   "source": [
    "xxtrain = pd.get_dummies(xxtrain).reset_index(drop = True)\n",
    "xtest = pd.get_dummies(xtest).reset_index(drop = True)"
   ]
  },
  {
   "cell_type": "code",
   "execution_count": 49,
   "id": "96333650",
   "metadata": {},
   "outputs": [
    {
     "data": {
      "text/html": [
       "<div>\n",
       "<style scoped>\n",
       "    .dataframe tbody tr th:only-of-type {\n",
       "        vertical-align: middle;\n",
       "    }\n",
       "\n",
       "    .dataframe tbody tr th {\n",
       "        vertical-align: top;\n",
       "    }\n",
       "\n",
       "    .dataframe thead th {\n",
       "        text-align: right;\n",
       "    }\n",
       "</style>\n",
       "<table border=\"1\" class=\"dataframe\">\n",
       "  <thead>\n",
       "    <tr style=\"text-align: right;\">\n",
       "      <th></th>\n",
       "      <th>distance</th>\n",
       "      <th>surge_multiplier</th>\n",
       "      <th>fare</th>\n",
       "      <th>hour</th>\n",
       "      <th>cab_provider_Lyft</th>\n",
       "      <th>cab_provider_Uber</th>\n",
       "      <th>source_Back Bay</th>\n",
       "      <th>source_Beacon Hill</th>\n",
       "      <th>source_Boston University</th>\n",
       "      <th>source_Fenway</th>\n",
       "      <th>...</th>\n",
       "      <th>cab_type_Lux</th>\n",
       "      <th>cab_type_Lux Black</th>\n",
       "      <th>cab_type_Lux Black XL</th>\n",
       "      <th>cab_type_Lyft</th>\n",
       "      <th>cab_type_Lyft XL</th>\n",
       "      <th>cab_type_Shared</th>\n",
       "      <th>cab_type_UberPool</th>\n",
       "      <th>cab_type_UberX</th>\n",
       "      <th>cab_type_UberXL</th>\n",
       "      <th>cab_type_WAV</th>\n",
       "    </tr>\n",
       "  </thead>\n",
       "  <tbody>\n",
       "    <tr>\n",
       "      <th>0</th>\n",
       "      <td>2.323822</td>\n",
       "      <td>1.75</td>\n",
       "      <td>3.881564</td>\n",
       "      <td>1.635315</td>\n",
       "      <td>1</td>\n",
       "      <td>0</td>\n",
       "      <td>0</td>\n",
       "      <td>0</td>\n",
       "      <td>1</td>\n",
       "      <td>0</td>\n",
       "      <td>...</td>\n",
       "      <td>1</td>\n",
       "      <td>0</td>\n",
       "      <td>0</td>\n",
       "      <td>0</td>\n",
       "      <td>0</td>\n",
       "      <td>0</td>\n",
       "      <td>0</td>\n",
       "      <td>0</td>\n",
       "      <td>0</td>\n",
       "      <td>0</td>\n",
       "    </tr>\n",
       "    <tr>\n",
       "      <th>1</th>\n",
       "      <td>2.323822</td>\n",
       "      <td>1.75</td>\n",
       "      <td>4.151040</td>\n",
       "      <td>1.635315</td>\n",
       "      <td>1</td>\n",
       "      <td>0</td>\n",
       "      <td>0</td>\n",
       "      <td>0</td>\n",
       "      <td>1</td>\n",
       "      <td>0</td>\n",
       "      <td>...</td>\n",
       "      <td>0</td>\n",
       "      <td>1</td>\n",
       "      <td>0</td>\n",
       "      <td>0</td>\n",
       "      <td>0</td>\n",
       "      <td>0</td>\n",
       "      <td>0</td>\n",
       "      <td>0</td>\n",
       "      <td>0</td>\n",
       "      <td>0</td>\n",
       "    </tr>\n",
       "    <tr>\n",
       "      <th>2</th>\n",
       "      <td>1.530202</td>\n",
       "      <td>1.25</td>\n",
       "      <td>3.020425</td>\n",
       "      <td>1.635315</td>\n",
       "      <td>1</td>\n",
       "      <td>0</td>\n",
       "      <td>0</td>\n",
       "      <td>0</td>\n",
       "      <td>0</td>\n",
       "      <td>1</td>\n",
       "      <td>...</td>\n",
       "      <td>0</td>\n",
       "      <td>0</td>\n",
       "      <td>0</td>\n",
       "      <td>0</td>\n",
       "      <td>1</td>\n",
       "      <td>0</td>\n",
       "      <td>0</td>\n",
       "      <td>0</td>\n",
       "      <td>0</td>\n",
       "      <td>0</td>\n",
       "    </tr>\n",
       "    <tr>\n",
       "      <th>3</th>\n",
       "      <td>1.168230</td>\n",
       "      <td>1.75</td>\n",
       "      <td>3.295837</td>\n",
       "      <td>1.635315</td>\n",
       "      <td>1</td>\n",
       "      <td>0</td>\n",
       "      <td>1</td>\n",
       "      <td>0</td>\n",
       "      <td>0</td>\n",
       "      <td>0</td>\n",
       "      <td>...</td>\n",
       "      <td>1</td>\n",
       "      <td>0</td>\n",
       "      <td>0</td>\n",
       "      <td>0</td>\n",
       "      <td>0</td>\n",
       "      <td>0</td>\n",
       "      <td>0</td>\n",
       "      <td>0</td>\n",
       "      <td>0</td>\n",
       "      <td>0</td>\n",
       "    </tr>\n",
       "    <tr>\n",
       "      <th>4</th>\n",
       "      <td>1.662334</td>\n",
       "      <td>1.25</td>\n",
       "      <td>3.157000</td>\n",
       "      <td>1.951272</td>\n",
       "      <td>1</td>\n",
       "      <td>0</td>\n",
       "      <td>0</td>\n",
       "      <td>0</td>\n",
       "      <td>1</td>\n",
       "      <td>0</td>\n",
       "      <td>...</td>\n",
       "      <td>1</td>\n",
       "      <td>0</td>\n",
       "      <td>0</td>\n",
       "      <td>0</td>\n",
       "      <td>0</td>\n",
       "      <td>0</td>\n",
       "      <td>0</td>\n",
       "      <td>0</td>\n",
       "      <td>0</td>\n",
       "      <td>0</td>\n",
       "    </tr>\n",
       "    <tr>\n",
       "      <th>...</th>\n",
       "      <td>...</td>\n",
       "      <td>...</td>\n",
       "      <td>...</td>\n",
       "      <td>...</td>\n",
       "      <td>...</td>\n",
       "      <td>...</td>\n",
       "      <td>...</td>\n",
       "      <td>...</td>\n",
       "      <td>...</td>\n",
       "      <td>...</td>\n",
       "      <td>...</td>\n",
       "      <td>...</td>\n",
       "      <td>...</td>\n",
       "      <td>...</td>\n",
       "      <td>...</td>\n",
       "      <td>...</td>\n",
       "      <td>...</td>\n",
       "      <td>...</td>\n",
       "      <td>...</td>\n",
       "      <td>...</td>\n",
       "      <td>...</td>\n",
       "    </tr>\n",
       "    <tr>\n",
       "      <th>5714</th>\n",
       "      <td>1.998818</td>\n",
       "      <td>1.00</td>\n",
       "      <td>3.157000</td>\n",
       "      <td>2.672792</td>\n",
       "      <td>1</td>\n",
       "      <td>0</td>\n",
       "      <td>0</td>\n",
       "      <td>0</td>\n",
       "      <td>1</td>\n",
       "      <td>0</td>\n",
       "      <td>...</td>\n",
       "      <td>1</td>\n",
       "      <td>0</td>\n",
       "      <td>0</td>\n",
       "      <td>0</td>\n",
       "      <td>0</td>\n",
       "      <td>0</td>\n",
       "      <td>0</td>\n",
       "      <td>0</td>\n",
       "      <td>0</td>\n",
       "      <td>0</td>\n",
       "    </tr>\n",
       "    <tr>\n",
       "      <th>5715</th>\n",
       "      <td>1.679421</td>\n",
       "      <td>1.00</td>\n",
       "      <td>3.449988</td>\n",
       "      <td>2.672792</td>\n",
       "      <td>0</td>\n",
       "      <td>1</td>\n",
       "      <td>1</td>\n",
       "      <td>0</td>\n",
       "      <td>0</td>\n",
       "      <td>0</td>\n",
       "      <td>...</td>\n",
       "      <td>0</td>\n",
       "      <td>0</td>\n",
       "      <td>0</td>\n",
       "      <td>0</td>\n",
       "      <td>0</td>\n",
       "      <td>0</td>\n",
       "      <td>0</td>\n",
       "      <td>0</td>\n",
       "      <td>0</td>\n",
       "      <td>0</td>\n",
       "    </tr>\n",
       "    <tr>\n",
       "      <th>5716</th>\n",
       "      <td>1.679421</td>\n",
       "      <td>1.00</td>\n",
       "      <td>3.178054</td>\n",
       "      <td>2.672792</td>\n",
       "      <td>0</td>\n",
       "      <td>1</td>\n",
       "      <td>1</td>\n",
       "      <td>0</td>\n",
       "      <td>0</td>\n",
       "      <td>0</td>\n",
       "      <td>...</td>\n",
       "      <td>0</td>\n",
       "      <td>0</td>\n",
       "      <td>0</td>\n",
       "      <td>0</td>\n",
       "      <td>0</td>\n",
       "      <td>0</td>\n",
       "      <td>0</td>\n",
       "      <td>0</td>\n",
       "      <td>0</td>\n",
       "      <td>0</td>\n",
       "    </tr>\n",
       "    <tr>\n",
       "      <th>5717</th>\n",
       "      <td>1.493700</td>\n",
       "      <td>1.00</td>\n",
       "      <td>2.708050</td>\n",
       "      <td>2.672792</td>\n",
       "      <td>0</td>\n",
       "      <td>1</td>\n",
       "      <td>0</td>\n",
       "      <td>1</td>\n",
       "      <td>0</td>\n",
       "      <td>0</td>\n",
       "      <td>...</td>\n",
       "      <td>0</td>\n",
       "      <td>0</td>\n",
       "      <td>0</td>\n",
       "      <td>0</td>\n",
       "      <td>0</td>\n",
       "      <td>0</td>\n",
       "      <td>0</td>\n",
       "      <td>0</td>\n",
       "      <td>1</td>\n",
       "      <td>0</td>\n",
       "    </tr>\n",
       "    <tr>\n",
       "      <th>5718</th>\n",
       "      <td>1.679421</td>\n",
       "      <td>1.00</td>\n",
       "      <td>2.442347</td>\n",
       "      <td>2.672792</td>\n",
       "      <td>0</td>\n",
       "      <td>1</td>\n",
       "      <td>1</td>\n",
       "      <td>0</td>\n",
       "      <td>0</td>\n",
       "      <td>0</td>\n",
       "      <td>...</td>\n",
       "      <td>0</td>\n",
       "      <td>0</td>\n",
       "      <td>0</td>\n",
       "      <td>0</td>\n",
       "      <td>0</td>\n",
       "      <td>0</td>\n",
       "      <td>0</td>\n",
       "      <td>0</td>\n",
       "      <td>0</td>\n",
       "      <td>1</td>\n",
       "    </tr>\n",
       "  </tbody>\n",
       "</table>\n",
       "<p>5719 rows × 42 columns</p>\n",
       "</div>"
      ],
      "text/plain": [
       "      distance  surge_multiplier      fare      hour  cab_provider_Lyft  \\\n",
       "0     2.323822              1.75  3.881564  1.635315                  1   \n",
       "1     2.323822              1.75  4.151040  1.635315                  1   \n",
       "2     1.530202              1.25  3.020425  1.635315                  1   \n",
       "3     1.168230              1.75  3.295837  1.635315                  1   \n",
       "4     1.662334              1.25  3.157000  1.951272                  1   \n",
       "...        ...               ...       ...       ...                ...   \n",
       "5714  1.998818              1.00  3.157000  2.672792                  1   \n",
       "5715  1.679421              1.00  3.449988  2.672792                  0   \n",
       "5716  1.679421              1.00  3.178054  2.672792                  0   \n",
       "5717  1.493700              1.00  2.708050  2.672792                  0   \n",
       "5718  1.679421              1.00  2.442347  2.672792                  0   \n",
       "\n",
       "      cab_provider_Uber  source_Back Bay  source_Beacon Hill  \\\n",
       "0                     0                0                   0   \n",
       "1                     0                0                   0   \n",
       "2                     0                0                   0   \n",
       "3                     0                1                   0   \n",
       "4                     0                0                   0   \n",
       "...                 ...              ...                 ...   \n",
       "5714                  0                0                   0   \n",
       "5715                  1                1                   0   \n",
       "5716                  1                1                   0   \n",
       "5717                  1                0                   1   \n",
       "5718                  1                1                   0   \n",
       "\n",
       "      source_Boston University  source_Fenway  ...  cab_type_Lux  \\\n",
       "0                            1              0  ...             1   \n",
       "1                            1              0  ...             0   \n",
       "2                            0              1  ...             0   \n",
       "3                            0              0  ...             1   \n",
       "4                            1              0  ...             1   \n",
       "...                        ...            ...  ...           ...   \n",
       "5714                         1              0  ...             1   \n",
       "5715                         0              0  ...             0   \n",
       "5716                         0              0  ...             0   \n",
       "5717                         0              0  ...             0   \n",
       "5718                         0              0  ...             0   \n",
       "\n",
       "      cab_type_Lux Black  cab_type_Lux Black XL  cab_type_Lyft  \\\n",
       "0                      0                      0              0   \n",
       "1                      1                      0              0   \n",
       "2                      0                      0              0   \n",
       "3                      0                      0              0   \n",
       "4                      0                      0              0   \n",
       "...                  ...                    ...            ...   \n",
       "5714                   0                      0              0   \n",
       "5715                   0                      0              0   \n",
       "5716                   0                      0              0   \n",
       "5717                   0                      0              0   \n",
       "5718                   0                      0              0   \n",
       "\n",
       "      cab_type_Lyft XL  cab_type_Shared  cab_type_UberPool  cab_type_UberX  \\\n",
       "0                    0                0                  0               0   \n",
       "1                    0                0                  0               0   \n",
       "2                    1                0                  0               0   \n",
       "3                    0                0                  0               0   \n",
       "4                    0                0                  0               0   \n",
       "...                ...              ...                ...             ...   \n",
       "5714                 0                0                  0               0   \n",
       "5715                 0                0                  0               0   \n",
       "5716                 0                0                  0               0   \n",
       "5717                 0                0                  0               0   \n",
       "5718                 0                0                  0               0   \n",
       "\n",
       "      cab_type_UberXL  cab_type_WAV  \n",
       "0                   0             0  \n",
       "1                   0             0  \n",
       "2                   0             0  \n",
       "3                   0             0  \n",
       "4                   0             0  \n",
       "...               ...           ...  \n",
       "5714                0             0  \n",
       "5715                0             0  \n",
       "5716                0             0  \n",
       "5717                1             0  \n",
       "5718                0             1  \n",
       "\n",
       "[5719 rows x 42 columns]"
      ]
     },
     "execution_count": 49,
     "metadata": {},
     "output_type": "execute_result"
    }
   ],
   "source": [
    "xxtrain"
   ]
  },
  {
   "cell_type": "code",
   "execution_count": 50,
   "id": "da9db16a",
   "metadata": {},
   "outputs": [
    {
     "data": {
      "text/html": [
       "<div>\n",
       "<style scoped>\n",
       "    .dataframe tbody tr th:only-of-type {\n",
       "        vertical-align: middle;\n",
       "    }\n",
       "\n",
       "    .dataframe tbody tr th {\n",
       "        vertical-align: top;\n",
       "    }\n",
       "\n",
       "    .dataframe thead th {\n",
       "        text-align: right;\n",
       "    }\n",
       "</style>\n",
       "<table border=\"1\" class=\"dataframe\">\n",
       "  <thead>\n",
       "    <tr style=\"text-align: right;\">\n",
       "      <th></th>\n",
       "      <th>distance</th>\n",
       "      <th>surge_multiplier</th>\n",
       "      <th>hour</th>\n",
       "      <th>cab_provider_Lyft</th>\n",
       "      <th>cab_provider_Uber</th>\n",
       "      <th>source_Back Bay</th>\n",
       "      <th>source_Beacon Hill</th>\n",
       "      <th>source_Boston University</th>\n",
       "      <th>source_Fenway</th>\n",
       "      <th>source_Financial District</th>\n",
       "      <th>...</th>\n",
       "      <th>cab_type_Lux</th>\n",
       "      <th>cab_type_Lux Black</th>\n",
       "      <th>cab_type_Lux Black XL</th>\n",
       "      <th>cab_type_Lyft</th>\n",
       "      <th>cab_type_Lyft XL</th>\n",
       "      <th>cab_type_Shared</th>\n",
       "      <th>cab_type_UberPool</th>\n",
       "      <th>cab_type_UberX</th>\n",
       "      <th>cab_type_UberXL</th>\n",
       "      <th>cab_type_WAV</th>\n",
       "    </tr>\n",
       "  </thead>\n",
       "  <tbody>\n",
       "    <tr>\n",
       "      <th>0</th>\n",
       "      <td>0.481668</td>\n",
       "      <td>1.0</td>\n",
       "      <td>0.000000</td>\n",
       "      <td>1</td>\n",
       "      <td>0</td>\n",
       "      <td>0</td>\n",
       "      <td>0</td>\n",
       "      <td>0</td>\n",
       "      <td>0</td>\n",
       "      <td>0</td>\n",
       "      <td>...</td>\n",
       "      <td>1</td>\n",
       "      <td>0</td>\n",
       "      <td>0</td>\n",
       "      <td>0</td>\n",
       "      <td>0</td>\n",
       "      <td>0</td>\n",
       "      <td>0</td>\n",
       "      <td>0</td>\n",
       "      <td>0</td>\n",
       "      <td>0</td>\n",
       "    </tr>\n",
       "    <tr>\n",
       "      <th>1</th>\n",
       "      <td>0.481668</td>\n",
       "      <td>1.0</td>\n",
       "      <td>0.000000</td>\n",
       "      <td>1</td>\n",
       "      <td>0</td>\n",
       "      <td>0</td>\n",
       "      <td>0</td>\n",
       "      <td>0</td>\n",
       "      <td>0</td>\n",
       "      <td>0</td>\n",
       "      <td>...</td>\n",
       "      <td>0</td>\n",
       "      <td>0</td>\n",
       "      <td>1</td>\n",
       "      <td>0</td>\n",
       "      <td>0</td>\n",
       "      <td>0</td>\n",
       "      <td>0</td>\n",
       "      <td>0</td>\n",
       "      <td>0</td>\n",
       "      <td>0</td>\n",
       "    </tr>\n",
       "    <tr>\n",
       "      <th>2</th>\n",
       "      <td>2.444188</td>\n",
       "      <td>1.0</td>\n",
       "      <td>0.000000</td>\n",
       "      <td>0</td>\n",
       "      <td>1</td>\n",
       "      <td>0</td>\n",
       "      <td>0</td>\n",
       "      <td>0</td>\n",
       "      <td>0</td>\n",
       "      <td>1</td>\n",
       "      <td>...</td>\n",
       "      <td>0</td>\n",
       "      <td>0</td>\n",
       "      <td>0</td>\n",
       "      <td>0</td>\n",
       "      <td>0</td>\n",
       "      <td>0</td>\n",
       "      <td>0</td>\n",
       "      <td>1</td>\n",
       "      <td>0</td>\n",
       "      <td>0</td>\n",
       "    </tr>\n",
       "    <tr>\n",
       "      <th>3</th>\n",
       "      <td>0.916622</td>\n",
       "      <td>1.0</td>\n",
       "      <td>0.000000</td>\n",
       "      <td>0</td>\n",
       "      <td>1</td>\n",
       "      <td>0</td>\n",
       "      <td>1</td>\n",
       "      <td>0</td>\n",
       "      <td>0</td>\n",
       "      <td>0</td>\n",
       "      <td>...</td>\n",
       "      <td>0</td>\n",
       "      <td>0</td>\n",
       "      <td>0</td>\n",
       "      <td>0</td>\n",
       "      <td>0</td>\n",
       "      <td>0</td>\n",
       "      <td>0</td>\n",
       "      <td>0</td>\n",
       "      <td>1</td>\n",
       "      <td>0</td>\n",
       "    </tr>\n",
       "    <tr>\n",
       "      <th>4</th>\n",
       "      <td>0.481668</td>\n",
       "      <td>1.0</td>\n",
       "      <td>0.000000</td>\n",
       "      <td>1</td>\n",
       "      <td>0</td>\n",
       "      <td>0</td>\n",
       "      <td>0</td>\n",
       "      <td>0</td>\n",
       "      <td>0</td>\n",
       "      <td>0</td>\n",
       "      <td>...</td>\n",
       "      <td>0</td>\n",
       "      <td>0</td>\n",
       "      <td>0</td>\n",
       "      <td>0</td>\n",
       "      <td>1</td>\n",
       "      <td>0</td>\n",
       "      <td>0</td>\n",
       "      <td>0</td>\n",
       "      <td>0</td>\n",
       "      <td>0</td>\n",
       "    </tr>\n",
       "    <tr>\n",
       "      <th>...</th>\n",
       "      <td>...</td>\n",
       "      <td>...</td>\n",
       "      <td>...</td>\n",
       "      <td>...</td>\n",
       "      <td>...</td>\n",
       "      <td>...</td>\n",
       "      <td>...</td>\n",
       "      <td>...</td>\n",
       "      <td>...</td>\n",
       "      <td>...</td>\n",
       "      <td>...</td>\n",
       "      <td>...</td>\n",
       "      <td>...</td>\n",
       "      <td>...</td>\n",
       "      <td>...</td>\n",
       "      <td>...</td>\n",
       "      <td>...</td>\n",
       "      <td>...</td>\n",
       "      <td>...</td>\n",
       "      <td>...</td>\n",
       "      <td>...</td>\n",
       "    </tr>\n",
       "    <tr>\n",
       "      <th>24995</th>\n",
       "      <td>1.570573</td>\n",
       "      <td>1.0</td>\n",
       "      <td>6109.768034</td>\n",
       "      <td>0</td>\n",
       "      <td>1</td>\n",
       "      <td>0</td>\n",
       "      <td>0</td>\n",
       "      <td>0</td>\n",
       "      <td>0</td>\n",
       "      <td>0</td>\n",
       "      <td>...</td>\n",
       "      <td>0</td>\n",
       "      <td>0</td>\n",
       "      <td>0</td>\n",
       "      <td>0</td>\n",
       "      <td>0</td>\n",
       "      <td>0</td>\n",
       "      <td>1</td>\n",
       "      <td>0</td>\n",
       "      <td>0</td>\n",
       "      <td>0</td>\n",
       "    </tr>\n",
       "    <tr>\n",
       "      <th>24996</th>\n",
       "      <td>1.570573</td>\n",
       "      <td>1.0</td>\n",
       "      <td>6109.768034</td>\n",
       "      <td>0</td>\n",
       "      <td>1</td>\n",
       "      <td>0</td>\n",
       "      <td>0</td>\n",
       "      <td>0</td>\n",
       "      <td>0</td>\n",
       "      <td>0</td>\n",
       "      <td>...</td>\n",
       "      <td>0</td>\n",
       "      <td>0</td>\n",
       "      <td>0</td>\n",
       "      <td>0</td>\n",
       "      <td>0</td>\n",
       "      <td>0</td>\n",
       "      <td>0</td>\n",
       "      <td>0</td>\n",
       "      <td>0</td>\n",
       "      <td>1</td>\n",
       "    </tr>\n",
       "    <tr>\n",
       "      <th>24997</th>\n",
       "      <td>1.570573</td>\n",
       "      <td>1.0</td>\n",
       "      <td>6109.768034</td>\n",
       "      <td>0</td>\n",
       "      <td>1</td>\n",
       "      <td>0</td>\n",
       "      <td>0</td>\n",
       "      <td>0</td>\n",
       "      <td>0</td>\n",
       "      <td>0</td>\n",
       "      <td>...</td>\n",
       "      <td>0</td>\n",
       "      <td>0</td>\n",
       "      <td>0</td>\n",
       "      <td>0</td>\n",
       "      <td>0</td>\n",
       "      <td>0</td>\n",
       "      <td>0</td>\n",
       "      <td>0</td>\n",
       "      <td>0</td>\n",
       "      <td>0</td>\n",
       "    </tr>\n",
       "    <tr>\n",
       "      <th>24998</th>\n",
       "      <td>1.542412</td>\n",
       "      <td>1.0</td>\n",
       "      <td>6109.768034</td>\n",
       "      <td>1</td>\n",
       "      <td>0</td>\n",
       "      <td>0</td>\n",
       "      <td>0</td>\n",
       "      <td>1</td>\n",
       "      <td>0</td>\n",
       "      <td>0</td>\n",
       "      <td>...</td>\n",
       "      <td>0</td>\n",
       "      <td>0</td>\n",
       "      <td>0</td>\n",
       "      <td>0</td>\n",
       "      <td>0</td>\n",
       "      <td>1</td>\n",
       "      <td>0</td>\n",
       "      <td>0</td>\n",
       "      <td>0</td>\n",
       "      <td>0</td>\n",
       "    </tr>\n",
       "    <tr>\n",
       "      <th>24999</th>\n",
       "      <td>1.542412</td>\n",
       "      <td>1.0</td>\n",
       "      <td>6109.768034</td>\n",
       "      <td>1</td>\n",
       "      <td>0</td>\n",
       "      <td>0</td>\n",
       "      <td>0</td>\n",
       "      <td>1</td>\n",
       "      <td>0</td>\n",
       "      <td>0</td>\n",
       "      <td>...</td>\n",
       "      <td>1</td>\n",
       "      <td>0</td>\n",
       "      <td>0</td>\n",
       "      <td>0</td>\n",
       "      <td>0</td>\n",
       "      <td>0</td>\n",
       "      <td>0</td>\n",
       "      <td>0</td>\n",
       "      <td>0</td>\n",
       "      <td>0</td>\n",
       "    </tr>\n",
       "  </tbody>\n",
       "</table>\n",
       "<p>25000 rows × 41 columns</p>\n",
       "</div>"
      ],
      "text/plain": [
       "       distance  surge_multiplier         hour  cab_provider_Lyft  \\\n",
       "0      0.481668               1.0     0.000000                  1   \n",
       "1      0.481668               1.0     0.000000                  1   \n",
       "2      2.444188               1.0     0.000000                  0   \n",
       "3      0.916622               1.0     0.000000                  0   \n",
       "4      0.481668               1.0     0.000000                  1   \n",
       "...         ...               ...          ...                ...   \n",
       "24995  1.570573               1.0  6109.768034                  0   \n",
       "24996  1.570573               1.0  6109.768034                  0   \n",
       "24997  1.570573               1.0  6109.768034                  0   \n",
       "24998  1.542412               1.0  6109.768034                  1   \n",
       "24999  1.542412               1.0  6109.768034                  1   \n",
       "\n",
       "       cab_provider_Uber  source_Back Bay  source_Beacon Hill  \\\n",
       "0                      0                0                   0   \n",
       "1                      0                0                   0   \n",
       "2                      1                0                   0   \n",
       "3                      1                0                   1   \n",
       "4                      0                0                   0   \n",
       "...                  ...              ...                 ...   \n",
       "24995                  1                0                   0   \n",
       "24996                  1                0                   0   \n",
       "24997                  1                0                   0   \n",
       "24998                  0                0                   0   \n",
       "24999                  0                0                   0   \n",
       "\n",
       "       source_Boston University  source_Fenway  source_Financial District  \\\n",
       "0                             0              0                          0   \n",
       "1                             0              0                          0   \n",
       "2                             0              0                          1   \n",
       "3                             0              0                          0   \n",
       "4                             0              0                          0   \n",
       "...                         ...            ...                        ...   \n",
       "24995                         0              0                          0   \n",
       "24996                         0              0                          0   \n",
       "24997                         0              0                          0   \n",
       "24998                         1              0                          0   \n",
       "24999                         1              0                          0   \n",
       "\n",
       "       ...  cab_type_Lux  cab_type_Lux Black  cab_type_Lux Black XL  \\\n",
       "0      ...             1                   0                      0   \n",
       "1      ...             0                   0                      1   \n",
       "2      ...             0                   0                      0   \n",
       "3      ...             0                   0                      0   \n",
       "4      ...             0                   0                      0   \n",
       "...    ...           ...                 ...                    ...   \n",
       "24995  ...             0                   0                      0   \n",
       "24996  ...             0                   0                      0   \n",
       "24997  ...             0                   0                      0   \n",
       "24998  ...             0                   0                      0   \n",
       "24999  ...             1                   0                      0   \n",
       "\n",
       "       cab_type_Lyft  cab_type_Lyft XL  cab_type_Shared  cab_type_UberPool  \\\n",
       "0                  0                 0                0                  0   \n",
       "1                  0                 0                0                  0   \n",
       "2                  0                 0                0                  0   \n",
       "3                  0                 0                0                  0   \n",
       "4                  0                 1                0                  0   \n",
       "...              ...               ...              ...                ...   \n",
       "24995              0                 0                0                  1   \n",
       "24996              0                 0                0                  0   \n",
       "24997              0                 0                0                  0   \n",
       "24998              0                 0                1                  0   \n",
       "24999              0                 0                0                  0   \n",
       "\n",
       "       cab_type_UberX  cab_type_UberXL  cab_type_WAV  \n",
       "0                   0                0             0  \n",
       "1                   0                0             0  \n",
       "2                   1                0             0  \n",
       "3                   0                1             0  \n",
       "4                   0                0             0  \n",
       "...               ...              ...           ...  \n",
       "24995               0                0             0  \n",
       "24996               0                0             1  \n",
       "24997               0                0             0  \n",
       "24998               0                0             0  \n",
       "24999               0                0             0  \n",
       "\n",
       "[25000 rows x 41 columns]"
      ]
     },
     "execution_count": 50,
     "metadata": {},
     "output_type": "execute_result"
    }
   ],
   "source": [
    "xtest"
   ]
  },
  {
   "cell_type": "markdown",
   "id": "56033b38",
   "metadata": {},
   "source": [
    "# Models , Evaluation Metrics and Tuning"
   ]
  },
  {
   "cell_type": "markdown",
   "id": "869f4b8d",
   "metadata": {},
   "source": [
    "## Training and test sets"
   ]
  },
  {
   "cell_type": "code",
   "execution_count": 51,
   "id": "e3cf6629",
   "metadata": {},
   "outputs": [],
   "source": [
    "from sklearn.model_selection import train_test_split\n",
    "from sklearn.preprocessing import StandardScaler\n"
   ]
  },
  {
   "cell_type": "code",
   "execution_count": 52,
   "id": "b70c84bc",
   "metadata": {},
   "outputs": [],
   "source": [
    "extrain = xxtrain.copy()\n",
    "extrain = extrain.sample(frac = 1)\n",
    "extrain = extrain.iloc[:25000]"
   ]
  },
  {
   "cell_type": "code",
   "execution_count": 53,
   "id": "b24a6e35",
   "metadata": {},
   "outputs": [],
   "source": [
    "X = extrain.drop('fare', axis = 1)\n",
    "y = extrain['fare']\n",
    "\n",
    "# test data\n",
    "\n",
    "tX = xtest.copy()"
   ]
  },
  {
   "cell_type": "code",
   "execution_count": 54,
   "id": "454ecd0b",
   "metadata": {},
   "outputs": [],
   "source": [
    "scaler = StandardScaler()"
   ]
  },
  {
   "cell_type": "markdown",
   "id": "under-davis",
   "metadata": {},
   "source": [
    "**Scaling Training Data**"
   ]
  },
  {
   "cell_type": "code",
   "execution_count": 55,
   "id": "desperate-indonesian",
   "metadata": {},
   "outputs": [
    {
     "data": {
      "text/html": [
       "<div>\n",
       "<style scoped>\n",
       "    .dataframe tbody tr th:only-of-type {\n",
       "        vertical-align: middle;\n",
       "    }\n",
       "\n",
       "    .dataframe tbody tr th {\n",
       "        vertical-align: top;\n",
       "    }\n",
       "\n",
       "    .dataframe thead th {\n",
       "        text-align: right;\n",
       "    }\n",
       "</style>\n",
       "<table border=\"1\" class=\"dataframe\">\n",
       "  <thead>\n",
       "    <tr style=\"text-align: right;\">\n",
       "      <th></th>\n",
       "      <th>distance</th>\n",
       "      <th>surge_multiplier</th>\n",
       "      <th>hour</th>\n",
       "      <th>cab_provider_Lyft</th>\n",
       "      <th>cab_provider_Uber</th>\n",
       "      <th>source_Back Bay</th>\n",
       "      <th>source_Beacon Hill</th>\n",
       "      <th>source_Boston University</th>\n",
       "      <th>source_Fenway</th>\n",
       "      <th>source_Financial District</th>\n",
       "      <th>...</th>\n",
       "      <th>cab_type_Lux</th>\n",
       "      <th>cab_type_Lux Black</th>\n",
       "      <th>cab_type_Lux Black XL</th>\n",
       "      <th>cab_type_Lyft</th>\n",
       "      <th>cab_type_Lyft XL</th>\n",
       "      <th>cab_type_Shared</th>\n",
       "      <th>cab_type_UberPool</th>\n",
       "      <th>cab_type_UberX</th>\n",
       "      <th>cab_type_UberXL</th>\n",
       "      <th>cab_type_WAV</th>\n",
       "    </tr>\n",
       "  </thead>\n",
       "  <tbody>\n",
       "    <tr>\n",
       "      <th>1294</th>\n",
       "      <td>1.210284</td>\n",
       "      <td>1.25</td>\n",
       "      <td>1.951272</td>\n",
       "      <td>1</td>\n",
       "      <td>0</td>\n",
       "      <td>0</td>\n",
       "      <td>0</td>\n",
       "      <td>0</td>\n",
       "      <td>0</td>\n",
       "      <td>0</td>\n",
       "      <td>...</td>\n",
       "      <td>0</td>\n",
       "      <td>0</td>\n",
       "      <td>0</td>\n",
       "      <td>0</td>\n",
       "      <td>1</td>\n",
       "      <td>0</td>\n",
       "      <td>0</td>\n",
       "      <td>0</td>\n",
       "      <td>0</td>\n",
       "      <td>0</td>\n",
       "    </tr>\n",
       "    <tr>\n",
       "      <th>2285</th>\n",
       "      <td>1.879746</td>\n",
       "      <td>2.00</td>\n",
       "      <td>3.769450</td>\n",
       "      <td>1</td>\n",
       "      <td>0</td>\n",
       "      <td>0</td>\n",
       "      <td>0</td>\n",
       "      <td>0</td>\n",
       "      <td>1</td>\n",
       "      <td>0</td>\n",
       "      <td>...</td>\n",
       "      <td>0</td>\n",
       "      <td>0</td>\n",
       "      <td>1</td>\n",
       "      <td>0</td>\n",
       "      <td>0</td>\n",
       "      <td>0</td>\n",
       "      <td>0</td>\n",
       "      <td>0</td>\n",
       "      <td>0</td>\n",
       "      <td>0</td>\n",
       "    </tr>\n",
       "    <tr>\n",
       "      <th>100</th>\n",
       "      <td>1.326930</td>\n",
       "      <td>1.25</td>\n",
       "      <td>2.459737</td>\n",
       "      <td>1</td>\n",
       "      <td>0</td>\n",
       "      <td>0</td>\n",
       "      <td>0</td>\n",
       "      <td>0</td>\n",
       "      <td>0</td>\n",
       "      <td>0</td>\n",
       "      <td>...</td>\n",
       "      <td>0</td>\n",
       "      <td>1</td>\n",
       "      <td>0</td>\n",
       "      <td>0</td>\n",
       "      <td>0</td>\n",
       "      <td>0</td>\n",
       "      <td>0</td>\n",
       "      <td>0</td>\n",
       "      <td>0</td>\n",
       "      <td>0</td>\n",
       "    </tr>\n",
       "    <tr>\n",
       "      <th>4087</th>\n",
       "      <td>2.162638</td>\n",
       "      <td>1.00</td>\n",
       "      <td>2.221856</td>\n",
       "      <td>0</td>\n",
       "      <td>1</td>\n",
       "      <td>1</td>\n",
       "      <td>0</td>\n",
       "      <td>0</td>\n",
       "      <td>0</td>\n",
       "      <td>0</td>\n",
       "      <td>...</td>\n",
       "      <td>0</td>\n",
       "      <td>0</td>\n",
       "      <td>0</td>\n",
       "      <td>0</td>\n",
       "      <td>0</td>\n",
       "      <td>0</td>\n",
       "      <td>1</td>\n",
       "      <td>0</td>\n",
       "      <td>0</td>\n",
       "      <td>0</td>\n",
       "    </tr>\n",
       "    <tr>\n",
       "      <th>2785</th>\n",
       "      <td>1.103583</td>\n",
       "      <td>1.50</td>\n",
       "      <td>4.425609</td>\n",
       "      <td>1</td>\n",
       "      <td>0</td>\n",
       "      <td>0</td>\n",
       "      <td>1</td>\n",
       "      <td>0</td>\n",
       "      <td>0</td>\n",
       "      <td>0</td>\n",
       "      <td>...</td>\n",
       "      <td>1</td>\n",
       "      <td>0</td>\n",
       "      <td>0</td>\n",
       "      <td>0</td>\n",
       "      <td>0</td>\n",
       "      <td>0</td>\n",
       "      <td>0</td>\n",
       "      <td>0</td>\n",
       "      <td>0</td>\n",
       "      <td>0</td>\n",
       "    </tr>\n",
       "    <tr>\n",
       "      <th>...</th>\n",
       "      <td>...</td>\n",
       "      <td>...</td>\n",
       "      <td>...</td>\n",
       "      <td>...</td>\n",
       "      <td>...</td>\n",
       "      <td>...</td>\n",
       "      <td>...</td>\n",
       "      <td>...</td>\n",
       "      <td>...</td>\n",
       "      <td>...</td>\n",
       "      <td>...</td>\n",
       "      <td>...</td>\n",
       "      <td>...</td>\n",
       "      <td>...</td>\n",
       "      <td>...</td>\n",
       "      <td>...</td>\n",
       "      <td>...</td>\n",
       "      <td>...</td>\n",
       "      <td>...</td>\n",
       "      <td>...</td>\n",
       "      <td>...</td>\n",
       "    </tr>\n",
       "    <tr>\n",
       "      <th>3941</th>\n",
       "      <td>1.236166</td>\n",
       "      <td>1.00</td>\n",
       "      <td>2.221856</td>\n",
       "      <td>0</td>\n",
       "      <td>1</td>\n",
       "      <td>0</td>\n",
       "      <td>0</td>\n",
       "      <td>0</td>\n",
       "      <td>0</td>\n",
       "      <td>0</td>\n",
       "      <td>...</td>\n",
       "      <td>0</td>\n",
       "      <td>0</td>\n",
       "      <td>0</td>\n",
       "      <td>0</td>\n",
       "      <td>0</td>\n",
       "      <td>0</td>\n",
       "      <td>0</td>\n",
       "      <td>0</td>\n",
       "      <td>1</td>\n",
       "      <td>0</td>\n",
       "    </tr>\n",
       "    <tr>\n",
       "      <th>4680</th>\n",
       "      <td>1.236166</td>\n",
       "      <td>1.00</td>\n",
       "      <td>2.459737</td>\n",
       "      <td>0</td>\n",
       "      <td>1</td>\n",
       "      <td>0</td>\n",
       "      <td>0</td>\n",
       "      <td>0</td>\n",
       "      <td>0</td>\n",
       "      <td>0</td>\n",
       "      <td>...</td>\n",
       "      <td>0</td>\n",
       "      <td>0</td>\n",
       "      <td>0</td>\n",
       "      <td>0</td>\n",
       "      <td>0</td>\n",
       "      <td>0</td>\n",
       "      <td>0</td>\n",
       "      <td>0</td>\n",
       "      <td>1</td>\n",
       "      <td>0</td>\n",
       "    </tr>\n",
       "    <tr>\n",
       "      <th>2685</th>\n",
       "      <td>1.875812</td>\n",
       "      <td>1.25</td>\n",
       "      <td>4.327257</td>\n",
       "      <td>1</td>\n",
       "      <td>0</td>\n",
       "      <td>0</td>\n",
       "      <td>0</td>\n",
       "      <td>0</td>\n",
       "      <td>0</td>\n",
       "      <td>0</td>\n",
       "      <td>...</td>\n",
       "      <td>0</td>\n",
       "      <td>0</td>\n",
       "      <td>1</td>\n",
       "      <td>0</td>\n",
       "      <td>0</td>\n",
       "      <td>0</td>\n",
       "      <td>0</td>\n",
       "      <td>0</td>\n",
       "      <td>0</td>\n",
       "      <td>0</td>\n",
       "    </tr>\n",
       "    <tr>\n",
       "      <th>5125</th>\n",
       "      <td>1.840134</td>\n",
       "      <td>1.00</td>\n",
       "      <td>2.459737</td>\n",
       "      <td>0</td>\n",
       "      <td>1</td>\n",
       "      <td>0</td>\n",
       "      <td>0</td>\n",
       "      <td>0</td>\n",
       "      <td>0</td>\n",
       "      <td>0</td>\n",
       "      <td>...</td>\n",
       "      <td>0</td>\n",
       "      <td>0</td>\n",
       "      <td>0</td>\n",
       "      <td>0</td>\n",
       "      <td>0</td>\n",
       "      <td>0</td>\n",
       "      <td>0</td>\n",
       "      <td>1</td>\n",
       "      <td>0</td>\n",
       "      <td>0</td>\n",
       "    </tr>\n",
       "    <tr>\n",
       "      <th>1180</th>\n",
       "      <td>1.385476</td>\n",
       "      <td>1.25</td>\n",
       "      <td>1.251395</td>\n",
       "      <td>1</td>\n",
       "      <td>0</td>\n",
       "      <td>0</td>\n",
       "      <td>1</td>\n",
       "      <td>0</td>\n",
       "      <td>0</td>\n",
       "      <td>0</td>\n",
       "      <td>...</td>\n",
       "      <td>0</td>\n",
       "      <td>0</td>\n",
       "      <td>0</td>\n",
       "      <td>1</td>\n",
       "      <td>0</td>\n",
       "      <td>0</td>\n",
       "      <td>0</td>\n",
       "      <td>0</td>\n",
       "      <td>0</td>\n",
       "      <td>0</td>\n",
       "    </tr>\n",
       "  </tbody>\n",
       "</table>\n",
       "<p>5719 rows × 41 columns</p>\n",
       "</div>"
      ],
      "text/plain": [
       "      distance  surge_multiplier      hour  cab_provider_Lyft  \\\n",
       "1294  1.210284              1.25  1.951272                  1   \n",
       "2285  1.879746              2.00  3.769450                  1   \n",
       "100   1.326930              1.25  2.459737                  1   \n",
       "4087  2.162638              1.00  2.221856                  0   \n",
       "2785  1.103583              1.50  4.425609                  1   \n",
       "...        ...               ...       ...                ...   \n",
       "3941  1.236166              1.00  2.221856                  0   \n",
       "4680  1.236166              1.00  2.459737                  0   \n",
       "2685  1.875812              1.25  4.327257                  1   \n",
       "5125  1.840134              1.00  2.459737                  0   \n",
       "1180  1.385476              1.25  1.251395                  1   \n",
       "\n",
       "      cab_provider_Uber  source_Back Bay  source_Beacon Hill  \\\n",
       "1294                  0                0                   0   \n",
       "2285                  0                0                   0   \n",
       "100                   0                0                   0   \n",
       "4087                  1                1                   0   \n",
       "2785                  0                0                   1   \n",
       "...                 ...              ...                 ...   \n",
       "3941                  1                0                   0   \n",
       "4680                  1                0                   0   \n",
       "2685                  0                0                   0   \n",
       "5125                  1                0                   0   \n",
       "1180                  0                0                   1   \n",
       "\n",
       "      source_Boston University  source_Fenway  source_Financial District  ...  \\\n",
       "1294                         0              0                          0  ...   \n",
       "2285                         0              1                          0  ...   \n",
       "100                          0              0                          0  ...   \n",
       "4087                         0              0                          0  ...   \n",
       "2785                         0              0                          0  ...   \n",
       "...                        ...            ...                        ...  ...   \n",
       "3941                         0              0                          0  ...   \n",
       "4680                         0              0                          0  ...   \n",
       "2685                         0              0                          0  ...   \n",
       "5125                         0              0                          0  ...   \n",
       "1180                         0              0                          0  ...   \n",
       "\n",
       "      cab_type_Lux  cab_type_Lux Black  cab_type_Lux Black XL  cab_type_Lyft  \\\n",
       "1294             0                   0                      0              0   \n",
       "2285             0                   0                      1              0   \n",
       "100              0                   1                      0              0   \n",
       "4087             0                   0                      0              0   \n",
       "2785             1                   0                      0              0   \n",
       "...            ...                 ...                    ...            ...   \n",
       "3941             0                   0                      0              0   \n",
       "4680             0                   0                      0              0   \n",
       "2685             0                   0                      1              0   \n",
       "5125             0                   0                      0              0   \n",
       "1180             0                   0                      0              1   \n",
       "\n",
       "      cab_type_Lyft XL  cab_type_Shared  cab_type_UberPool  cab_type_UberX  \\\n",
       "1294                 1                0                  0               0   \n",
       "2285                 0                0                  0               0   \n",
       "100                  0                0                  0               0   \n",
       "4087                 0                0                  1               0   \n",
       "2785                 0                0                  0               0   \n",
       "...                ...              ...                ...             ...   \n",
       "3941                 0                0                  0               0   \n",
       "4680                 0                0                  0               0   \n",
       "2685                 0                0                  0               0   \n",
       "5125                 0                0                  0               1   \n",
       "1180                 0                0                  0               0   \n",
       "\n",
       "      cab_type_UberXL  cab_type_WAV  \n",
       "1294                0             0  \n",
       "2285                0             0  \n",
       "100                 0             0  \n",
       "4087                0             0  \n",
       "2785                0             0  \n",
       "...               ...           ...  \n",
       "3941                1             0  \n",
       "4680                1             0  \n",
       "2685                0             0  \n",
       "5125                0             0  \n",
       "1180                0             0  \n",
       "\n",
       "[5719 rows x 41 columns]"
      ]
     },
     "execution_count": 55,
     "metadata": {},
     "output_type": "execute_result"
    }
   ],
   "source": [
    "X"
   ]
  },
  {
   "cell_type": "code",
   "execution_count": 56,
   "id": "5e115701",
   "metadata": {},
   "outputs": [],
   "source": [
    "X[['distance','hour']] = scaler.fit_transform(X[['distance','hour']])"
   ]
  },
  {
   "cell_type": "code",
   "execution_count": 57,
   "id": "619a0d2d",
   "metadata": {},
   "outputs": [
    {
     "data": {
      "text/html": [
       "<div>\n",
       "<style scoped>\n",
       "    .dataframe tbody tr th:only-of-type {\n",
       "        vertical-align: middle;\n",
       "    }\n",
       "\n",
       "    .dataframe tbody tr th {\n",
       "        vertical-align: top;\n",
       "    }\n",
       "\n",
       "    .dataframe thead th {\n",
       "        text-align: right;\n",
       "    }\n",
       "</style>\n",
       "<table border=\"1\" class=\"dataframe\">\n",
       "  <thead>\n",
       "    <tr style=\"text-align: right;\">\n",
       "      <th></th>\n",
       "      <th>distance</th>\n",
       "      <th>surge_multiplier</th>\n",
       "      <th>hour</th>\n",
       "      <th>cab_provider_Lyft</th>\n",
       "      <th>cab_provider_Uber</th>\n",
       "      <th>source_Back Bay</th>\n",
       "      <th>source_Beacon Hill</th>\n",
       "      <th>source_Boston University</th>\n",
       "      <th>source_Fenway</th>\n",
       "      <th>source_Financial District</th>\n",
       "      <th>...</th>\n",
       "      <th>cab_type_Lux</th>\n",
       "      <th>cab_type_Lux Black</th>\n",
       "      <th>cab_type_Lux Black XL</th>\n",
       "      <th>cab_type_Lyft</th>\n",
       "      <th>cab_type_Lyft XL</th>\n",
       "      <th>cab_type_Shared</th>\n",
       "      <th>cab_type_UberPool</th>\n",
       "      <th>cab_type_UberX</th>\n",
       "      <th>cab_type_UberXL</th>\n",
       "      <th>cab_type_WAV</th>\n",
       "    </tr>\n",
       "  </thead>\n",
       "  <tbody>\n",
       "    <tr>\n",
       "      <th>1294</th>\n",
       "      <td>-0.376402</td>\n",
       "      <td>1.25</td>\n",
       "      <td>-0.873965</td>\n",
       "      <td>1</td>\n",
       "      <td>0</td>\n",
       "      <td>0</td>\n",
       "      <td>0</td>\n",
       "      <td>0</td>\n",
       "      <td>0</td>\n",
       "      <td>0</td>\n",
       "      <td>...</td>\n",
       "      <td>0</td>\n",
       "      <td>0</td>\n",
       "      <td>0</td>\n",
       "      <td>0</td>\n",
       "      <td>1</td>\n",
       "      <td>0</td>\n",
       "      <td>0</td>\n",
       "      <td>0</td>\n",
       "      <td>0</td>\n",
       "      <td>0</td>\n",
       "    </tr>\n",
       "    <tr>\n",
       "      <th>2285</th>\n",
       "      <td>0.946687</td>\n",
       "      <td>2.00</td>\n",
       "      <td>0.873920</td>\n",
       "      <td>1</td>\n",
       "      <td>0</td>\n",
       "      <td>0</td>\n",
       "      <td>0</td>\n",
       "      <td>0</td>\n",
       "      <td>1</td>\n",
       "      <td>0</td>\n",
       "      <td>...</td>\n",
       "      <td>0</td>\n",
       "      <td>0</td>\n",
       "      <td>1</td>\n",
       "      <td>0</td>\n",
       "      <td>0</td>\n",
       "      <td>0</td>\n",
       "      <td>0</td>\n",
       "      <td>0</td>\n",
       "      <td>0</td>\n",
       "      <td>0</td>\n",
       "    </tr>\n",
       "    <tr>\n",
       "      <th>100</th>\n",
       "      <td>-0.145870</td>\n",
       "      <td>1.25</td>\n",
       "      <td>-0.385158</td>\n",
       "      <td>1</td>\n",
       "      <td>0</td>\n",
       "      <td>0</td>\n",
       "      <td>0</td>\n",
       "      <td>0</td>\n",
       "      <td>0</td>\n",
       "      <td>0</td>\n",
       "      <td>...</td>\n",
       "      <td>0</td>\n",
       "      <td>1</td>\n",
       "      <td>0</td>\n",
       "      <td>0</td>\n",
       "      <td>0</td>\n",
       "      <td>0</td>\n",
       "      <td>0</td>\n",
       "      <td>0</td>\n",
       "      <td>0</td>\n",
       "      <td>0</td>\n",
       "    </tr>\n",
       "    <tr>\n",
       "      <th>4087</th>\n",
       "      <td>1.505780</td>\n",
       "      <td>1.00</td>\n",
       "      <td>-0.613842</td>\n",
       "      <td>0</td>\n",
       "      <td>1</td>\n",
       "      <td>1</td>\n",
       "      <td>0</td>\n",
       "      <td>0</td>\n",
       "      <td>0</td>\n",
       "      <td>0</td>\n",
       "      <td>...</td>\n",
       "      <td>0</td>\n",
       "      <td>0</td>\n",
       "      <td>0</td>\n",
       "      <td>0</td>\n",
       "      <td>0</td>\n",
       "      <td>0</td>\n",
       "      <td>1</td>\n",
       "      <td>0</td>\n",
       "      <td>0</td>\n",
       "      <td>0</td>\n",
       "    </tr>\n",
       "    <tr>\n",
       "      <th>2785</th>\n",
       "      <td>-0.587281</td>\n",
       "      <td>1.50</td>\n",
       "      <td>1.504710</td>\n",
       "      <td>1</td>\n",
       "      <td>0</td>\n",
       "      <td>0</td>\n",
       "      <td>1</td>\n",
       "      <td>0</td>\n",
       "      <td>0</td>\n",
       "      <td>0</td>\n",
       "      <td>...</td>\n",
       "      <td>1</td>\n",
       "      <td>0</td>\n",
       "      <td>0</td>\n",
       "      <td>0</td>\n",
       "      <td>0</td>\n",
       "      <td>0</td>\n",
       "      <td>0</td>\n",
       "      <td>0</td>\n",
       "      <td>0</td>\n",
       "      <td>0</td>\n",
       "    </tr>\n",
       "    <tr>\n",
       "      <th>...</th>\n",
       "      <td>...</td>\n",
       "      <td>...</td>\n",
       "      <td>...</td>\n",
       "      <td>...</td>\n",
       "      <td>...</td>\n",
       "      <td>...</td>\n",
       "      <td>...</td>\n",
       "      <td>...</td>\n",
       "      <td>...</td>\n",
       "      <td>...</td>\n",
       "      <td>...</td>\n",
       "      <td>...</td>\n",
       "      <td>...</td>\n",
       "      <td>...</td>\n",
       "      <td>...</td>\n",
       "      <td>...</td>\n",
       "      <td>...</td>\n",
       "      <td>...</td>\n",
       "      <td>...</td>\n",
       "      <td>...</td>\n",
       "      <td>...</td>\n",
       "    </tr>\n",
       "    <tr>\n",
       "      <th>3941</th>\n",
       "      <td>-0.325250</td>\n",
       "      <td>1.00</td>\n",
       "      <td>-0.613842</td>\n",
       "      <td>0</td>\n",
       "      <td>1</td>\n",
       "      <td>0</td>\n",
       "      <td>0</td>\n",
       "      <td>0</td>\n",
       "      <td>0</td>\n",
       "      <td>0</td>\n",
       "      <td>...</td>\n",
       "      <td>0</td>\n",
       "      <td>0</td>\n",
       "      <td>0</td>\n",
       "      <td>0</td>\n",
       "      <td>0</td>\n",
       "      <td>0</td>\n",
       "      <td>0</td>\n",
       "      <td>0</td>\n",
       "      <td>1</td>\n",
       "      <td>0</td>\n",
       "    </tr>\n",
       "    <tr>\n",
       "      <th>4680</th>\n",
       "      <td>-0.325250</td>\n",
       "      <td>1.00</td>\n",
       "      <td>-0.385158</td>\n",
       "      <td>0</td>\n",
       "      <td>1</td>\n",
       "      <td>0</td>\n",
       "      <td>0</td>\n",
       "      <td>0</td>\n",
       "      <td>0</td>\n",
       "      <td>0</td>\n",
       "      <td>...</td>\n",
       "      <td>0</td>\n",
       "      <td>0</td>\n",
       "      <td>0</td>\n",
       "      <td>0</td>\n",
       "      <td>0</td>\n",
       "      <td>0</td>\n",
       "      <td>0</td>\n",
       "      <td>0</td>\n",
       "      <td>1</td>\n",
       "      <td>0</td>\n",
       "    </tr>\n",
       "    <tr>\n",
       "      <th>2685</th>\n",
       "      <td>0.938913</td>\n",
       "      <td>1.25</td>\n",
       "      <td>1.410160</td>\n",
       "      <td>1</td>\n",
       "      <td>0</td>\n",
       "      <td>0</td>\n",
       "      <td>0</td>\n",
       "      <td>0</td>\n",
       "      <td>0</td>\n",
       "      <td>0</td>\n",
       "      <td>...</td>\n",
       "      <td>0</td>\n",
       "      <td>0</td>\n",
       "      <td>1</td>\n",
       "      <td>0</td>\n",
       "      <td>0</td>\n",
       "      <td>0</td>\n",
       "      <td>0</td>\n",
       "      <td>0</td>\n",
       "      <td>0</td>\n",
       "      <td>0</td>\n",
       "    </tr>\n",
       "    <tr>\n",
       "      <th>5125</th>\n",
       "      <td>0.868401</td>\n",
       "      <td>1.00</td>\n",
       "      <td>-0.385158</td>\n",
       "      <td>0</td>\n",
       "      <td>1</td>\n",
       "      <td>0</td>\n",
       "      <td>0</td>\n",
       "      <td>0</td>\n",
       "      <td>0</td>\n",
       "      <td>0</td>\n",
       "      <td>...</td>\n",
       "      <td>0</td>\n",
       "      <td>0</td>\n",
       "      <td>0</td>\n",
       "      <td>0</td>\n",
       "      <td>0</td>\n",
       "      <td>0</td>\n",
       "      <td>0</td>\n",
       "      <td>1</td>\n",
       "      <td>0</td>\n",
       "      <td>0</td>\n",
       "    </tr>\n",
       "    <tr>\n",
       "      <th>1180</th>\n",
       "      <td>-0.030163</td>\n",
       "      <td>1.25</td>\n",
       "      <td>-1.546784</td>\n",
       "      <td>1</td>\n",
       "      <td>0</td>\n",
       "      <td>0</td>\n",
       "      <td>1</td>\n",
       "      <td>0</td>\n",
       "      <td>0</td>\n",
       "      <td>0</td>\n",
       "      <td>...</td>\n",
       "      <td>0</td>\n",
       "      <td>0</td>\n",
       "      <td>0</td>\n",
       "      <td>1</td>\n",
       "      <td>0</td>\n",
       "      <td>0</td>\n",
       "      <td>0</td>\n",
       "      <td>0</td>\n",
       "      <td>0</td>\n",
       "      <td>0</td>\n",
       "    </tr>\n",
       "  </tbody>\n",
       "</table>\n",
       "<p>5719 rows × 41 columns</p>\n",
       "</div>"
      ],
      "text/plain": [
       "      distance  surge_multiplier      hour  cab_provider_Lyft  \\\n",
       "1294 -0.376402              1.25 -0.873965                  1   \n",
       "2285  0.946687              2.00  0.873920                  1   \n",
       "100  -0.145870              1.25 -0.385158                  1   \n",
       "4087  1.505780              1.00 -0.613842                  0   \n",
       "2785 -0.587281              1.50  1.504710                  1   \n",
       "...        ...               ...       ...                ...   \n",
       "3941 -0.325250              1.00 -0.613842                  0   \n",
       "4680 -0.325250              1.00 -0.385158                  0   \n",
       "2685  0.938913              1.25  1.410160                  1   \n",
       "5125  0.868401              1.00 -0.385158                  0   \n",
       "1180 -0.030163              1.25 -1.546784                  1   \n",
       "\n",
       "      cab_provider_Uber  source_Back Bay  source_Beacon Hill  \\\n",
       "1294                  0                0                   0   \n",
       "2285                  0                0                   0   \n",
       "100                   0                0                   0   \n",
       "4087                  1                1                   0   \n",
       "2785                  0                0                   1   \n",
       "...                 ...              ...                 ...   \n",
       "3941                  1                0                   0   \n",
       "4680                  1                0                   0   \n",
       "2685                  0                0                   0   \n",
       "5125                  1                0                   0   \n",
       "1180                  0                0                   1   \n",
       "\n",
       "      source_Boston University  source_Fenway  source_Financial District  ...  \\\n",
       "1294                         0              0                          0  ...   \n",
       "2285                         0              1                          0  ...   \n",
       "100                          0              0                          0  ...   \n",
       "4087                         0              0                          0  ...   \n",
       "2785                         0              0                          0  ...   \n",
       "...                        ...            ...                        ...  ...   \n",
       "3941                         0              0                          0  ...   \n",
       "4680                         0              0                          0  ...   \n",
       "2685                         0              0                          0  ...   \n",
       "5125                         0              0                          0  ...   \n",
       "1180                         0              0                          0  ...   \n",
       "\n",
       "      cab_type_Lux  cab_type_Lux Black  cab_type_Lux Black XL  cab_type_Lyft  \\\n",
       "1294             0                   0                      0              0   \n",
       "2285             0                   0                      1              0   \n",
       "100              0                   1                      0              0   \n",
       "4087             0                   0                      0              0   \n",
       "2785             1                   0                      0              0   \n",
       "...            ...                 ...                    ...            ...   \n",
       "3941             0                   0                      0              0   \n",
       "4680             0                   0                      0              0   \n",
       "2685             0                   0                      1              0   \n",
       "5125             0                   0                      0              0   \n",
       "1180             0                   0                      0              1   \n",
       "\n",
       "      cab_type_Lyft XL  cab_type_Shared  cab_type_UberPool  cab_type_UberX  \\\n",
       "1294                 1                0                  0               0   \n",
       "2285                 0                0                  0               0   \n",
       "100                  0                0                  0               0   \n",
       "4087                 0                0                  1               0   \n",
       "2785                 0                0                  0               0   \n",
       "...                ...              ...                ...             ...   \n",
       "3941                 0                0                  0               0   \n",
       "4680                 0                0                  0               0   \n",
       "2685                 0                0                  0               0   \n",
       "5125                 0                0                  0               1   \n",
       "1180                 0                0                  0               0   \n",
       "\n",
       "      cab_type_UberXL  cab_type_WAV  \n",
       "1294                0             0  \n",
       "2285                0             0  \n",
       "100                 0             0  \n",
       "4087                0             0  \n",
       "2785                0             0  \n",
       "...               ...           ...  \n",
       "3941                1             0  \n",
       "4680                1             0  \n",
       "2685                0             0  \n",
       "5125                0             0  \n",
       "1180                0             0  \n",
       "\n",
       "[5719 rows x 41 columns]"
      ]
     },
     "execution_count": 57,
     "metadata": {},
     "output_type": "execute_result"
    }
   ],
   "source": [
    "X"
   ]
  },
  {
   "cell_type": "code",
   "execution_count": 58,
   "id": "arbitrary-combine",
   "metadata": {},
   "outputs": [],
   "source": [
    "scaler = StandardScaler()"
   ]
  },
  {
   "cell_type": "markdown",
   "id": "broadband-arthur",
   "metadata": {},
   "source": [
    "**Scaling Testing Data**"
   ]
  },
  {
   "cell_type": "code",
   "execution_count": 59,
   "id": "synthetic-botswana",
   "metadata": {},
   "outputs": [
    {
     "data": {
      "text/html": [
       "<div>\n",
       "<style scoped>\n",
       "    .dataframe tbody tr th:only-of-type {\n",
       "        vertical-align: middle;\n",
       "    }\n",
       "\n",
       "    .dataframe tbody tr th {\n",
       "        vertical-align: top;\n",
       "    }\n",
       "\n",
       "    .dataframe thead th {\n",
       "        text-align: right;\n",
       "    }\n",
       "</style>\n",
       "<table border=\"1\" class=\"dataframe\">\n",
       "  <thead>\n",
       "    <tr style=\"text-align: right;\">\n",
       "      <th></th>\n",
       "      <th>distance</th>\n",
       "      <th>surge_multiplier</th>\n",
       "      <th>hour</th>\n",
       "      <th>cab_provider_Lyft</th>\n",
       "      <th>cab_provider_Uber</th>\n",
       "      <th>source_Back Bay</th>\n",
       "      <th>source_Beacon Hill</th>\n",
       "      <th>source_Boston University</th>\n",
       "      <th>source_Fenway</th>\n",
       "      <th>source_Financial District</th>\n",
       "      <th>...</th>\n",
       "      <th>cab_type_Lux</th>\n",
       "      <th>cab_type_Lux Black</th>\n",
       "      <th>cab_type_Lux Black XL</th>\n",
       "      <th>cab_type_Lyft</th>\n",
       "      <th>cab_type_Lyft XL</th>\n",
       "      <th>cab_type_Shared</th>\n",
       "      <th>cab_type_UberPool</th>\n",
       "      <th>cab_type_UberX</th>\n",
       "      <th>cab_type_UberXL</th>\n",
       "      <th>cab_type_WAV</th>\n",
       "    </tr>\n",
       "  </thead>\n",
       "  <tbody>\n",
       "    <tr>\n",
       "      <th>0</th>\n",
       "      <td>0.481668</td>\n",
       "      <td>1.0</td>\n",
       "      <td>0.000000</td>\n",
       "      <td>1</td>\n",
       "      <td>0</td>\n",
       "      <td>0</td>\n",
       "      <td>0</td>\n",
       "      <td>0</td>\n",
       "      <td>0</td>\n",
       "      <td>0</td>\n",
       "      <td>...</td>\n",
       "      <td>1</td>\n",
       "      <td>0</td>\n",
       "      <td>0</td>\n",
       "      <td>0</td>\n",
       "      <td>0</td>\n",
       "      <td>0</td>\n",
       "      <td>0</td>\n",
       "      <td>0</td>\n",
       "      <td>0</td>\n",
       "      <td>0</td>\n",
       "    </tr>\n",
       "    <tr>\n",
       "      <th>1</th>\n",
       "      <td>0.481668</td>\n",
       "      <td>1.0</td>\n",
       "      <td>0.000000</td>\n",
       "      <td>1</td>\n",
       "      <td>0</td>\n",
       "      <td>0</td>\n",
       "      <td>0</td>\n",
       "      <td>0</td>\n",
       "      <td>0</td>\n",
       "      <td>0</td>\n",
       "      <td>...</td>\n",
       "      <td>0</td>\n",
       "      <td>0</td>\n",
       "      <td>1</td>\n",
       "      <td>0</td>\n",
       "      <td>0</td>\n",
       "      <td>0</td>\n",
       "      <td>0</td>\n",
       "      <td>0</td>\n",
       "      <td>0</td>\n",
       "      <td>0</td>\n",
       "    </tr>\n",
       "    <tr>\n",
       "      <th>2</th>\n",
       "      <td>2.444188</td>\n",
       "      <td>1.0</td>\n",
       "      <td>0.000000</td>\n",
       "      <td>0</td>\n",
       "      <td>1</td>\n",
       "      <td>0</td>\n",
       "      <td>0</td>\n",
       "      <td>0</td>\n",
       "      <td>0</td>\n",
       "      <td>1</td>\n",
       "      <td>...</td>\n",
       "      <td>0</td>\n",
       "      <td>0</td>\n",
       "      <td>0</td>\n",
       "      <td>0</td>\n",
       "      <td>0</td>\n",
       "      <td>0</td>\n",
       "      <td>0</td>\n",
       "      <td>1</td>\n",
       "      <td>0</td>\n",
       "      <td>0</td>\n",
       "    </tr>\n",
       "    <tr>\n",
       "      <th>3</th>\n",
       "      <td>0.916622</td>\n",
       "      <td>1.0</td>\n",
       "      <td>0.000000</td>\n",
       "      <td>0</td>\n",
       "      <td>1</td>\n",
       "      <td>0</td>\n",
       "      <td>1</td>\n",
       "      <td>0</td>\n",
       "      <td>0</td>\n",
       "      <td>0</td>\n",
       "      <td>...</td>\n",
       "      <td>0</td>\n",
       "      <td>0</td>\n",
       "      <td>0</td>\n",
       "      <td>0</td>\n",
       "      <td>0</td>\n",
       "      <td>0</td>\n",
       "      <td>0</td>\n",
       "      <td>0</td>\n",
       "      <td>1</td>\n",
       "      <td>0</td>\n",
       "    </tr>\n",
       "    <tr>\n",
       "      <th>4</th>\n",
       "      <td>0.481668</td>\n",
       "      <td>1.0</td>\n",
       "      <td>0.000000</td>\n",
       "      <td>1</td>\n",
       "      <td>0</td>\n",
       "      <td>0</td>\n",
       "      <td>0</td>\n",
       "      <td>0</td>\n",
       "      <td>0</td>\n",
       "      <td>0</td>\n",
       "      <td>...</td>\n",
       "      <td>0</td>\n",
       "      <td>0</td>\n",
       "      <td>0</td>\n",
       "      <td>0</td>\n",
       "      <td>1</td>\n",
       "      <td>0</td>\n",
       "      <td>0</td>\n",
       "      <td>0</td>\n",
       "      <td>0</td>\n",
       "      <td>0</td>\n",
       "    </tr>\n",
       "    <tr>\n",
       "      <th>...</th>\n",
       "      <td>...</td>\n",
       "      <td>...</td>\n",
       "      <td>...</td>\n",
       "      <td>...</td>\n",
       "      <td>...</td>\n",
       "      <td>...</td>\n",
       "      <td>...</td>\n",
       "      <td>...</td>\n",
       "      <td>...</td>\n",
       "      <td>...</td>\n",
       "      <td>...</td>\n",
       "      <td>...</td>\n",
       "      <td>...</td>\n",
       "      <td>...</td>\n",
       "      <td>...</td>\n",
       "      <td>...</td>\n",
       "      <td>...</td>\n",
       "      <td>...</td>\n",
       "      <td>...</td>\n",
       "      <td>...</td>\n",
       "      <td>...</td>\n",
       "    </tr>\n",
       "    <tr>\n",
       "      <th>24995</th>\n",
       "      <td>1.570573</td>\n",
       "      <td>1.0</td>\n",
       "      <td>6109.768034</td>\n",
       "      <td>0</td>\n",
       "      <td>1</td>\n",
       "      <td>0</td>\n",
       "      <td>0</td>\n",
       "      <td>0</td>\n",
       "      <td>0</td>\n",
       "      <td>0</td>\n",
       "      <td>...</td>\n",
       "      <td>0</td>\n",
       "      <td>0</td>\n",
       "      <td>0</td>\n",
       "      <td>0</td>\n",
       "      <td>0</td>\n",
       "      <td>0</td>\n",
       "      <td>1</td>\n",
       "      <td>0</td>\n",
       "      <td>0</td>\n",
       "      <td>0</td>\n",
       "    </tr>\n",
       "    <tr>\n",
       "      <th>24996</th>\n",
       "      <td>1.570573</td>\n",
       "      <td>1.0</td>\n",
       "      <td>6109.768034</td>\n",
       "      <td>0</td>\n",
       "      <td>1</td>\n",
       "      <td>0</td>\n",
       "      <td>0</td>\n",
       "      <td>0</td>\n",
       "      <td>0</td>\n",
       "      <td>0</td>\n",
       "      <td>...</td>\n",
       "      <td>0</td>\n",
       "      <td>0</td>\n",
       "      <td>0</td>\n",
       "      <td>0</td>\n",
       "      <td>0</td>\n",
       "      <td>0</td>\n",
       "      <td>0</td>\n",
       "      <td>0</td>\n",
       "      <td>0</td>\n",
       "      <td>1</td>\n",
       "    </tr>\n",
       "    <tr>\n",
       "      <th>24997</th>\n",
       "      <td>1.570573</td>\n",
       "      <td>1.0</td>\n",
       "      <td>6109.768034</td>\n",
       "      <td>0</td>\n",
       "      <td>1</td>\n",
       "      <td>0</td>\n",
       "      <td>0</td>\n",
       "      <td>0</td>\n",
       "      <td>0</td>\n",
       "      <td>0</td>\n",
       "      <td>...</td>\n",
       "      <td>0</td>\n",
       "      <td>0</td>\n",
       "      <td>0</td>\n",
       "      <td>0</td>\n",
       "      <td>0</td>\n",
       "      <td>0</td>\n",
       "      <td>0</td>\n",
       "      <td>0</td>\n",
       "      <td>0</td>\n",
       "      <td>0</td>\n",
       "    </tr>\n",
       "    <tr>\n",
       "      <th>24998</th>\n",
       "      <td>1.542412</td>\n",
       "      <td>1.0</td>\n",
       "      <td>6109.768034</td>\n",
       "      <td>1</td>\n",
       "      <td>0</td>\n",
       "      <td>0</td>\n",
       "      <td>0</td>\n",
       "      <td>1</td>\n",
       "      <td>0</td>\n",
       "      <td>0</td>\n",
       "      <td>...</td>\n",
       "      <td>0</td>\n",
       "      <td>0</td>\n",
       "      <td>0</td>\n",
       "      <td>0</td>\n",
       "      <td>0</td>\n",
       "      <td>1</td>\n",
       "      <td>0</td>\n",
       "      <td>0</td>\n",
       "      <td>0</td>\n",
       "      <td>0</td>\n",
       "    </tr>\n",
       "    <tr>\n",
       "      <th>24999</th>\n",
       "      <td>1.542412</td>\n",
       "      <td>1.0</td>\n",
       "      <td>6109.768034</td>\n",
       "      <td>1</td>\n",
       "      <td>0</td>\n",
       "      <td>0</td>\n",
       "      <td>0</td>\n",
       "      <td>1</td>\n",
       "      <td>0</td>\n",
       "      <td>0</td>\n",
       "      <td>...</td>\n",
       "      <td>1</td>\n",
       "      <td>0</td>\n",
       "      <td>0</td>\n",
       "      <td>0</td>\n",
       "      <td>0</td>\n",
       "      <td>0</td>\n",
       "      <td>0</td>\n",
       "      <td>0</td>\n",
       "      <td>0</td>\n",
       "      <td>0</td>\n",
       "    </tr>\n",
       "  </tbody>\n",
       "</table>\n",
       "<p>25000 rows × 41 columns</p>\n",
       "</div>"
      ],
      "text/plain": [
       "       distance  surge_multiplier         hour  cab_provider_Lyft  \\\n",
       "0      0.481668               1.0     0.000000                  1   \n",
       "1      0.481668               1.0     0.000000                  1   \n",
       "2      2.444188               1.0     0.000000                  0   \n",
       "3      0.916622               1.0     0.000000                  0   \n",
       "4      0.481668               1.0     0.000000                  1   \n",
       "...         ...               ...          ...                ...   \n",
       "24995  1.570573               1.0  6109.768034                  0   \n",
       "24996  1.570573               1.0  6109.768034                  0   \n",
       "24997  1.570573               1.0  6109.768034                  0   \n",
       "24998  1.542412               1.0  6109.768034                  1   \n",
       "24999  1.542412               1.0  6109.768034                  1   \n",
       "\n",
       "       cab_provider_Uber  source_Back Bay  source_Beacon Hill  \\\n",
       "0                      0                0                   0   \n",
       "1                      0                0                   0   \n",
       "2                      1                0                   0   \n",
       "3                      1                0                   1   \n",
       "4                      0                0                   0   \n",
       "...                  ...              ...                 ...   \n",
       "24995                  1                0                   0   \n",
       "24996                  1                0                   0   \n",
       "24997                  1                0                   0   \n",
       "24998                  0                0                   0   \n",
       "24999                  0                0                   0   \n",
       "\n",
       "       source_Boston University  source_Fenway  source_Financial District  \\\n",
       "0                             0              0                          0   \n",
       "1                             0              0                          0   \n",
       "2                             0              0                          1   \n",
       "3                             0              0                          0   \n",
       "4                             0              0                          0   \n",
       "...                         ...            ...                        ...   \n",
       "24995                         0              0                          0   \n",
       "24996                         0              0                          0   \n",
       "24997                         0              0                          0   \n",
       "24998                         1              0                          0   \n",
       "24999                         1              0                          0   \n",
       "\n",
       "       ...  cab_type_Lux  cab_type_Lux Black  cab_type_Lux Black XL  \\\n",
       "0      ...             1                   0                      0   \n",
       "1      ...             0                   0                      1   \n",
       "2      ...             0                   0                      0   \n",
       "3      ...             0                   0                      0   \n",
       "4      ...             0                   0                      0   \n",
       "...    ...           ...                 ...                    ...   \n",
       "24995  ...             0                   0                      0   \n",
       "24996  ...             0                   0                      0   \n",
       "24997  ...             0                   0                      0   \n",
       "24998  ...             0                   0                      0   \n",
       "24999  ...             1                   0                      0   \n",
       "\n",
       "       cab_type_Lyft  cab_type_Lyft XL  cab_type_Shared  cab_type_UberPool  \\\n",
       "0                  0                 0                0                  0   \n",
       "1                  0                 0                0                  0   \n",
       "2                  0                 0                0                  0   \n",
       "3                  0                 0                0                  0   \n",
       "4                  0                 1                0                  0   \n",
       "...              ...               ...              ...                ...   \n",
       "24995              0                 0                0                  1   \n",
       "24996              0                 0                0                  0   \n",
       "24997              0                 0                0                  0   \n",
       "24998              0                 0                1                  0   \n",
       "24999              0                 0                0                  0   \n",
       "\n",
       "       cab_type_UberX  cab_type_UberXL  cab_type_WAV  \n",
       "0                   0                0             0  \n",
       "1                   0                0             0  \n",
       "2                   1                0             0  \n",
       "3                   0                1             0  \n",
       "4                   0                0             0  \n",
       "...               ...              ...           ...  \n",
       "24995               0                0             0  \n",
       "24996               0                0             1  \n",
       "24997               0                0             0  \n",
       "24998               0                0             0  \n",
       "24999               0                0             0  \n",
       "\n",
       "[25000 rows x 41 columns]"
      ]
     },
     "execution_count": 59,
     "metadata": {},
     "output_type": "execute_result"
    }
   ],
   "source": [
    "tX"
   ]
  },
  {
   "cell_type": "code",
   "execution_count": 60,
   "id": "altered-subsection",
   "metadata": {},
   "outputs": [],
   "source": [
    "tX[['distance','hour']] = scaler.fit_transform(tX[['distance','hour']])"
   ]
  },
  {
   "cell_type": "code",
   "execution_count": 61,
   "id": "suffering-theme",
   "metadata": {},
   "outputs": [
    {
     "data": {
      "text/html": [
       "<div>\n",
       "<style scoped>\n",
       "    .dataframe tbody tr th:only-of-type {\n",
       "        vertical-align: middle;\n",
       "    }\n",
       "\n",
       "    .dataframe tbody tr th {\n",
       "        vertical-align: top;\n",
       "    }\n",
       "\n",
       "    .dataframe thead th {\n",
       "        text-align: right;\n",
       "    }\n",
       "</style>\n",
       "<table border=\"1\" class=\"dataframe\">\n",
       "  <thead>\n",
       "    <tr style=\"text-align: right;\">\n",
       "      <th></th>\n",
       "      <th>distance</th>\n",
       "      <th>surge_multiplier</th>\n",
       "      <th>hour</th>\n",
       "      <th>cab_provider_Lyft</th>\n",
       "      <th>cab_provider_Uber</th>\n",
       "      <th>source_Back Bay</th>\n",
       "      <th>source_Beacon Hill</th>\n",
       "      <th>source_Boston University</th>\n",
       "      <th>source_Fenway</th>\n",
       "      <th>source_Financial District</th>\n",
       "      <th>...</th>\n",
       "      <th>cab_type_Lux</th>\n",
       "      <th>cab_type_Lux Black</th>\n",
       "      <th>cab_type_Lux Black XL</th>\n",
       "      <th>cab_type_Lyft</th>\n",
       "      <th>cab_type_Lyft XL</th>\n",
       "      <th>cab_type_Shared</th>\n",
       "      <th>cab_type_UberPool</th>\n",
       "      <th>cab_type_UberX</th>\n",
       "      <th>cab_type_UberXL</th>\n",
       "      <th>cab_type_WAV</th>\n",
       "    </tr>\n",
       "  </thead>\n",
       "  <tbody>\n",
       "    <tr>\n",
       "      <th>0</th>\n",
       "      <td>-1.723543</td>\n",
       "      <td>1.0</td>\n",
       "      <td>-1.765259</td>\n",
       "      <td>1</td>\n",
       "      <td>0</td>\n",
       "      <td>0</td>\n",
       "      <td>0</td>\n",
       "      <td>0</td>\n",
       "      <td>0</td>\n",
       "      <td>0</td>\n",
       "      <td>...</td>\n",
       "      <td>1</td>\n",
       "      <td>0</td>\n",
       "      <td>0</td>\n",
       "      <td>0</td>\n",
       "      <td>0</td>\n",
       "      <td>0</td>\n",
       "      <td>0</td>\n",
       "      <td>0</td>\n",
       "      <td>0</td>\n",
       "      <td>0</td>\n",
       "    </tr>\n",
       "    <tr>\n",
       "      <th>1</th>\n",
       "      <td>-1.723543</td>\n",
       "      <td>1.0</td>\n",
       "      <td>-1.765259</td>\n",
       "      <td>1</td>\n",
       "      <td>0</td>\n",
       "      <td>0</td>\n",
       "      <td>0</td>\n",
       "      <td>0</td>\n",
       "      <td>0</td>\n",
       "      <td>0</td>\n",
       "      <td>...</td>\n",
       "      <td>0</td>\n",
       "      <td>0</td>\n",
       "      <td>1</td>\n",
       "      <td>0</td>\n",
       "      <td>0</td>\n",
       "      <td>0</td>\n",
       "      <td>0</td>\n",
       "      <td>0</td>\n",
       "      <td>0</td>\n",
       "      <td>0</td>\n",
       "    </tr>\n",
       "    <tr>\n",
       "      <th>2</th>\n",
       "      <td>2.919424</td>\n",
       "      <td>1.0</td>\n",
       "      <td>-1.765259</td>\n",
       "      <td>0</td>\n",
       "      <td>1</td>\n",
       "      <td>0</td>\n",
       "      <td>0</td>\n",
       "      <td>0</td>\n",
       "      <td>0</td>\n",
       "      <td>1</td>\n",
       "      <td>...</td>\n",
       "      <td>0</td>\n",
       "      <td>0</td>\n",
       "      <td>0</td>\n",
       "      <td>0</td>\n",
       "      <td>0</td>\n",
       "      <td>0</td>\n",
       "      <td>0</td>\n",
       "      <td>1</td>\n",
       "      <td>0</td>\n",
       "      <td>0</td>\n",
       "    </tr>\n",
       "    <tr>\n",
       "      <th>3</th>\n",
       "      <td>-0.694521</td>\n",
       "      <td>1.0</td>\n",
       "      <td>-1.765259</td>\n",
       "      <td>0</td>\n",
       "      <td>1</td>\n",
       "      <td>0</td>\n",
       "      <td>1</td>\n",
       "      <td>0</td>\n",
       "      <td>0</td>\n",
       "      <td>0</td>\n",
       "      <td>...</td>\n",
       "      <td>0</td>\n",
       "      <td>0</td>\n",
       "      <td>0</td>\n",
       "      <td>0</td>\n",
       "      <td>0</td>\n",
       "      <td>0</td>\n",
       "      <td>0</td>\n",
       "      <td>0</td>\n",
       "      <td>1</td>\n",
       "      <td>0</td>\n",
       "    </tr>\n",
       "    <tr>\n",
       "      <th>4</th>\n",
       "      <td>-1.723543</td>\n",
       "      <td>1.0</td>\n",
       "      <td>-1.765259</td>\n",
       "      <td>1</td>\n",
       "      <td>0</td>\n",
       "      <td>0</td>\n",
       "      <td>0</td>\n",
       "      <td>0</td>\n",
       "      <td>0</td>\n",
       "      <td>0</td>\n",
       "      <td>...</td>\n",
       "      <td>0</td>\n",
       "      <td>0</td>\n",
       "      <td>0</td>\n",
       "      <td>0</td>\n",
       "      <td>1</td>\n",
       "      <td>0</td>\n",
       "      <td>0</td>\n",
       "      <td>0</td>\n",
       "      <td>0</td>\n",
       "      <td>0</td>\n",
       "    </tr>\n",
       "    <tr>\n",
       "      <th>...</th>\n",
       "      <td>...</td>\n",
       "      <td>...</td>\n",
       "      <td>...</td>\n",
       "      <td>...</td>\n",
       "      <td>...</td>\n",
       "      <td>...</td>\n",
       "      <td>...</td>\n",
       "      <td>...</td>\n",
       "      <td>...</td>\n",
       "      <td>...</td>\n",
       "      <td>...</td>\n",
       "      <td>...</td>\n",
       "      <td>...</td>\n",
       "      <td>...</td>\n",
       "      <td>...</td>\n",
       "      <td>...</td>\n",
       "      <td>...</td>\n",
       "      <td>...</td>\n",
       "      <td>...</td>\n",
       "      <td>...</td>\n",
       "      <td>...</td>\n",
       "    </tr>\n",
       "    <tr>\n",
       "      <th>24995</th>\n",
       "      <td>0.852610</td>\n",
       "      <td>1.0</td>\n",
       "      <td>2.409603</td>\n",
       "      <td>0</td>\n",
       "      <td>1</td>\n",
       "      <td>0</td>\n",
       "      <td>0</td>\n",
       "      <td>0</td>\n",
       "      <td>0</td>\n",
       "      <td>0</td>\n",
       "      <td>...</td>\n",
       "      <td>0</td>\n",
       "      <td>0</td>\n",
       "      <td>0</td>\n",
       "      <td>0</td>\n",
       "      <td>0</td>\n",
       "      <td>0</td>\n",
       "      <td>1</td>\n",
       "      <td>0</td>\n",
       "      <td>0</td>\n",
       "      <td>0</td>\n",
       "    </tr>\n",
       "    <tr>\n",
       "      <th>24996</th>\n",
       "      <td>0.852610</td>\n",
       "      <td>1.0</td>\n",
       "      <td>2.409603</td>\n",
       "      <td>0</td>\n",
       "      <td>1</td>\n",
       "      <td>0</td>\n",
       "      <td>0</td>\n",
       "      <td>0</td>\n",
       "      <td>0</td>\n",
       "      <td>0</td>\n",
       "      <td>...</td>\n",
       "      <td>0</td>\n",
       "      <td>0</td>\n",
       "      <td>0</td>\n",
       "      <td>0</td>\n",
       "      <td>0</td>\n",
       "      <td>0</td>\n",
       "      <td>0</td>\n",
       "      <td>0</td>\n",
       "      <td>0</td>\n",
       "      <td>1</td>\n",
       "    </tr>\n",
       "    <tr>\n",
       "      <th>24997</th>\n",
       "      <td>0.852610</td>\n",
       "      <td>1.0</td>\n",
       "      <td>2.409603</td>\n",
       "      <td>0</td>\n",
       "      <td>1</td>\n",
       "      <td>0</td>\n",
       "      <td>0</td>\n",
       "      <td>0</td>\n",
       "      <td>0</td>\n",
       "      <td>0</td>\n",
       "      <td>...</td>\n",
       "      <td>0</td>\n",
       "      <td>0</td>\n",
       "      <td>0</td>\n",
       "      <td>0</td>\n",
       "      <td>0</td>\n",
       "      <td>0</td>\n",
       "      <td>0</td>\n",
       "      <td>0</td>\n",
       "      <td>0</td>\n",
       "      <td>0</td>\n",
       "    </tr>\n",
       "    <tr>\n",
       "      <th>24998</th>\n",
       "      <td>0.785986</td>\n",
       "      <td>1.0</td>\n",
       "      <td>2.409603</td>\n",
       "      <td>1</td>\n",
       "      <td>0</td>\n",
       "      <td>0</td>\n",
       "      <td>0</td>\n",
       "      <td>1</td>\n",
       "      <td>0</td>\n",
       "      <td>0</td>\n",
       "      <td>...</td>\n",
       "      <td>0</td>\n",
       "      <td>0</td>\n",
       "      <td>0</td>\n",
       "      <td>0</td>\n",
       "      <td>0</td>\n",
       "      <td>1</td>\n",
       "      <td>0</td>\n",
       "      <td>0</td>\n",
       "      <td>0</td>\n",
       "      <td>0</td>\n",
       "    </tr>\n",
       "    <tr>\n",
       "      <th>24999</th>\n",
       "      <td>0.785986</td>\n",
       "      <td>1.0</td>\n",
       "      <td>2.409603</td>\n",
       "      <td>1</td>\n",
       "      <td>0</td>\n",
       "      <td>0</td>\n",
       "      <td>0</td>\n",
       "      <td>1</td>\n",
       "      <td>0</td>\n",
       "      <td>0</td>\n",
       "      <td>...</td>\n",
       "      <td>1</td>\n",
       "      <td>0</td>\n",
       "      <td>0</td>\n",
       "      <td>0</td>\n",
       "      <td>0</td>\n",
       "      <td>0</td>\n",
       "      <td>0</td>\n",
       "      <td>0</td>\n",
       "      <td>0</td>\n",
       "      <td>0</td>\n",
       "    </tr>\n",
       "  </tbody>\n",
       "</table>\n",
       "<p>25000 rows × 41 columns</p>\n",
       "</div>"
      ],
      "text/plain": [
       "       distance  surge_multiplier      hour  cab_provider_Lyft  \\\n",
       "0     -1.723543               1.0 -1.765259                  1   \n",
       "1     -1.723543               1.0 -1.765259                  1   \n",
       "2      2.919424               1.0 -1.765259                  0   \n",
       "3     -0.694521               1.0 -1.765259                  0   \n",
       "4     -1.723543               1.0 -1.765259                  1   \n",
       "...         ...               ...       ...                ...   \n",
       "24995  0.852610               1.0  2.409603                  0   \n",
       "24996  0.852610               1.0  2.409603                  0   \n",
       "24997  0.852610               1.0  2.409603                  0   \n",
       "24998  0.785986               1.0  2.409603                  1   \n",
       "24999  0.785986               1.0  2.409603                  1   \n",
       "\n",
       "       cab_provider_Uber  source_Back Bay  source_Beacon Hill  \\\n",
       "0                      0                0                   0   \n",
       "1                      0                0                   0   \n",
       "2                      1                0                   0   \n",
       "3                      1                0                   1   \n",
       "4                      0                0                   0   \n",
       "...                  ...              ...                 ...   \n",
       "24995                  1                0                   0   \n",
       "24996                  1                0                   0   \n",
       "24997                  1                0                   0   \n",
       "24998                  0                0                   0   \n",
       "24999                  0                0                   0   \n",
       "\n",
       "       source_Boston University  source_Fenway  source_Financial District  \\\n",
       "0                             0              0                          0   \n",
       "1                             0              0                          0   \n",
       "2                             0              0                          1   \n",
       "3                             0              0                          0   \n",
       "4                             0              0                          0   \n",
       "...                         ...            ...                        ...   \n",
       "24995                         0              0                          0   \n",
       "24996                         0              0                          0   \n",
       "24997                         0              0                          0   \n",
       "24998                         1              0                          0   \n",
       "24999                         1              0                          0   \n",
       "\n",
       "       ...  cab_type_Lux  cab_type_Lux Black  cab_type_Lux Black XL  \\\n",
       "0      ...             1                   0                      0   \n",
       "1      ...             0                   0                      1   \n",
       "2      ...             0                   0                      0   \n",
       "3      ...             0                   0                      0   \n",
       "4      ...             0                   0                      0   \n",
       "...    ...           ...                 ...                    ...   \n",
       "24995  ...             0                   0                      0   \n",
       "24996  ...             0                   0                      0   \n",
       "24997  ...             0                   0                      0   \n",
       "24998  ...             0                   0                      0   \n",
       "24999  ...             1                   0                      0   \n",
       "\n",
       "       cab_type_Lyft  cab_type_Lyft XL  cab_type_Shared  cab_type_UberPool  \\\n",
       "0                  0                 0                0                  0   \n",
       "1                  0                 0                0                  0   \n",
       "2                  0                 0                0                  0   \n",
       "3                  0                 0                0                  0   \n",
       "4                  0                 1                0                  0   \n",
       "...              ...               ...              ...                ...   \n",
       "24995              0                 0                0                  1   \n",
       "24996              0                 0                0                  0   \n",
       "24997              0                 0                0                  0   \n",
       "24998              0                 0                1                  0   \n",
       "24999              0                 0                0                  0   \n",
       "\n",
       "       cab_type_UberX  cab_type_UberXL  cab_type_WAV  \n",
       "0                   0                0             0  \n",
       "1                   0                0             0  \n",
       "2                   1                0             0  \n",
       "3                   0                1             0  \n",
       "4                   0                0             0  \n",
       "...               ...              ...           ...  \n",
       "24995               0                0             0  \n",
       "24996               0                0             1  \n",
       "24997               0                0             0  \n",
       "24998               0                0             0  \n",
       "24999               0                0             0  \n",
       "\n",
       "[25000 rows x 41 columns]"
      ]
     },
     "execution_count": 61,
     "metadata": {},
     "output_type": "execute_result"
    }
   ],
   "source": [
    "tX"
   ]
  },
  {
   "cell_type": "code",
   "execution_count": 62,
   "id": "395b9b67",
   "metadata": {},
   "outputs": [],
   "source": [
    "X_train, X_test, y_train, y_test = train_test_split(X, y, test_size = 0.2, random_state = 42)"
   ]
  },
  {
   "cell_type": "markdown",
   "id": "9387357c",
   "metadata": {},
   "source": [
    "## Setup cross validation and define error metrics"
   ]
  },
  {
   "cell_type": "code",
   "execution_count": 63,
   "id": "688a4e53",
   "metadata": {},
   "outputs": [],
   "source": [
    "from sklearn.model_selection import GridSearchCV\n",
    "from sklearn.model_selection import KFold, cross_val_score\n",
    "from sklearn.metrics import mean_squared_error\n",
    "from sklearn.preprocessing import OneHotEncoder\n",
    "from sklearn.preprocessing import LabelEncoder\n",
    "from sklearn.pipeline import make_pipeline\n",
    "from sklearn.preprocessing import scale\n",
    "from sklearn.preprocessing import StandardScaler\n",
    "from sklearn.preprocessing import RobustScaler\n",
    "from sklearn.decomposition import PCA"
   ]
  },
  {
   "cell_type": "code",
   "execution_count": 64,
   "id": "b360a762",
   "metadata": {},
   "outputs": [],
   "source": [
    "# Setup cross validation folds\n",
    "\n",
    "kf = KFold(n_splits = 11, random_state = 42, shuffle = True)"
   ]
  },
  {
   "cell_type": "code",
   "execution_count": 65,
   "id": "bored-chemistry",
   "metadata": {},
   "outputs": [],
   "source": [
    "# Define error metrics\n",
    "def rmsle(y, y_pred):\n",
    "    return np.sqrt(mean_squared_error(y, y_pred))\n",
    "\n",
    "def cv_rmse(model, X=X):\n",
    "    rmse = np.sqrt(-cross_val_score(model, X, y, scoring=\"neg_mean_squared_error\", cv=kf))\n",
    "    return (rmse)"
   ]
  },
  {
   "cell_type": "markdown",
   "id": "ed0a00b1",
   "metadata": {},
   "source": [
    "### Setup models"
   ]
  },
  {
   "cell_type": "code",
   "execution_count": 66,
   "id": "f3497e9d",
   "metadata": {},
   "outputs": [],
   "source": [
    "# Models\n",
    "from sklearn.ensemble import RandomForestRegressor, GradientBoostingRegressor, AdaBoostRegressor, BaggingRegressor\n",
    "from sklearn.kernel_ridge import KernelRidge\n",
    "from sklearn.linear_model import Ridge, RidgeCV\n",
    "from sklearn.linear_model import ElasticNet, ElasticNetCV\n",
    "from sklearn.svm import SVR\n",
    "from mlxtend.regressor import StackingCVRegressor\n",
    "import lightgbm as lgb\n",
    "from lightgbm import LGBMRegressor\n",
    "from xgboost import XGBRegressor\n",
    "from sklearn.linear_model import LinearRegression\n",
    "\n",
    "from sklearn.metrics import r2_score, mean_squared_error, mean_absolute_error\n"
   ]
  },
  {
   "cell_type": "markdown",
   "id": "cbf07d79",
   "metadata": {},
   "source": [
    "#### Linear Regression"
   ]
  },
  {
   "cell_type": "code",
   "execution_count": 67,
   "id": "04179cb2",
   "metadata": {},
   "outputs": [],
   "source": [
    "model = LinearRegression()"
   ]
  },
  {
   "cell_type": "code",
   "execution_count": 68,
   "id": "6bb6e112",
   "metadata": {},
   "outputs": [
    {
     "data": {
      "text/plain": [
       "LinearRegression()"
      ]
     },
     "execution_count": 68,
     "metadata": {},
     "output_type": "execute_result"
    }
   ],
   "source": [
    "model.fit(X_train, y_train)"
   ]
  },
  {
   "cell_type": "code",
   "execution_count": 69,
   "id": "5731ddf5",
   "metadata": {},
   "outputs": [
    {
     "name": "stdout",
     "output_type": "stream",
     "text": [
      "Test R^2 Score: 0.96114\n"
     ]
    }
   ],
   "source": [
    "print(\"Test R^2 Score: {:.5f}\".format(model.score(X_test, y_test)))"
   ]
  },
  {
   "cell_type": "markdown",
   "id": "b7a68587",
   "metadata": {},
   "source": [
    "#### Light GBM"
   ]
  },
  {
   "cell_type": "code",
   "execution_count": 70,
   "id": "d5b137c2",
   "metadata": {},
   "outputs": [
    {
     "name": "stdout",
     "output_type": "stream",
     "text": [
      "Fitting 2 folds for each of 2916 candidates, totalling 5832 fits\n"
     ]
    },
    {
     "data": {
      "text/plain": [
       "GridSearchCV(cv=2, estimator=LGBMRegressor(), n_jobs=5,\n",
       "             param_grid={'colsample_bytree': [0.7, 0.8],\n",
       "                         'max_depth': [15, 20, 25],\n",
       "                         'min_split_gain': [0.3, 0.4],\n",
       "                         'n_estimators': [400, 700, 1000],\n",
       "                         'num_leaves': [50, 100, 200],\n",
       "                         'reg_alpha': [1.1, 1.2, 1.3],\n",
       "                         'reg_lambda': [1.1, 1.2, 1.3],\n",
       "                         'subsample': [0.7, 0.8, 0.9], 'subsample_freq': [20]},\n",
       "             verbose=True)"
      ]
     },
     "execution_count": 70,
     "metadata": {},
     "output_type": "execute_result"
    }
   ],
   "source": [
    "# Light Gradient Boosting Regressor\n",
    "\n",
    "lightgbm = LGBMRegressor()\n",
    "\n",
    "param_grid = {\n",
    "    'n_estimators': [400, 700, 1000],\n",
    "    'colsample_bytree': [0.7, 0.8],\n",
    "    'max_depth': [15,20,25],\n",
    "    'num_leaves': [50, 100, 200],\n",
    "    'reg_alpha': [1.1, 1.2, 1.3],\n",
    "    'reg_lambda': [1.1, 1.2, 1.3],\n",
    "    'min_split_gain': [0.3, 0.4],\n",
    "    'subsample': [0.7, 0.8, 0.9],\n",
    "    'subsample_freq': [20]\n",
    "}\n",
    "\n",
    "gbm_grid = GridSearchCV(lightgbm, \n",
    "                   param_grid, \n",
    "                   cv = 2, \n",
    "                   n_jobs = 5,\n",
    "                   verbose = True)\n",
    "gbm_grid.fit(X_train, y_train)"
   ]
  },
  {
   "cell_type": "code",
   "execution_count": 71,
   "id": "d8ff23b6",
   "metadata": {},
   "outputs": [
    {
     "name": "stdout",
     "output_type": "stream",
     "text": [
      "0.959120045967707\n"
     ]
    }
   ],
   "source": [
    "print(gbm_grid.best_score_)"
   ]
  },
  {
   "cell_type": "code",
   "execution_count": 72,
   "id": "596b2b68",
   "metadata": {},
   "outputs": [
    {
     "name": "stdout",
     "output_type": "stream",
     "text": [
      "{'colsample_bytree': 0.8, 'max_depth': 15, 'min_split_gain': 0.3, 'n_estimators': 400, 'num_leaves': 50, 'reg_alpha': 1.1, 'reg_lambda': 1.1, 'subsample': 0.9, 'subsample_freq': 20}\n"
     ]
    }
   ],
   "source": [
    "print(gbm_grid.best_params_)"
   ]
  },
  {
   "cell_type": "code",
   "execution_count": 73,
   "id": "suited-energy",
   "metadata": {},
   "outputs": [],
   "source": [
    "lgbm_params = {'colsample_bytree': 0.7, \n",
    "          'max_depth': 15, \n",
    "          'min_split_gain': 0.3, \n",
    "          'n_estimators': 400, \n",
    "          'num_leaves': 50, \n",
    "          'reg_alpha': 1.1, \n",
    "          'reg_lambda': 1.1, \n",
    "          'subsample': 0.9, \n",
    "          'subsample_freq': 20}\n",
    "\n",
    "lightgbm = LGBMRegressor(**lgbm_params)"
   ]
  },
  {
   "cell_type": "markdown",
   "id": "5003eda4",
   "metadata": {},
   "source": [
    "#### XGBoost"
   ]
  },
  {
   "cell_type": "code",
   "execution_count": 74,
   "id": "innovative-receipt",
   "metadata": {},
   "outputs": [],
   "source": [
    "from xgboost import XGBRegressor"
   ]
  },
  {
   "cell_type": "code",
   "execution_count": 75,
   "id": "b788afb9",
   "metadata": {},
   "outputs": [
    {
     "name": "stdout",
     "output_type": "stream",
     "text": [
      "Fitting 2 folds for each of 9 candidates, totalling 18 fits\n",
      "[15:42:37] WARNING: C:/Users/Administrator/workspace/xgboost-win64_release_1.3.0/src/objective/regression_obj.cu:170: reg:linear is now deprecated in favor of reg:squarederror.\n",
      "[15:42:38] WARNING: C:/Users/Administrator/workspace/xgboost-win64_release_1.3.0/src/learner.cc:541: \n",
      "Parameters: { silent } might not be used.\n",
      "\n",
      "  This may not be accurate due to some parameters are only used in language bindings but\n",
      "  passed down to XGBoost core.  Or some parameters are not used but slip through this\n",
      "  verification. Please open an issue if you find above cases.\n",
      "\n",
      "\n"
     ]
    },
    {
     "data": {
      "text/plain": [
       "GridSearchCV(cv=2,\n",
       "             estimator=XGBRegressor(base_score=None, booster=None,\n",
       "                                    colsample_bylevel=None,\n",
       "                                    colsample_bynode=None,\n",
       "                                    colsample_bytree=None, gamma=None,\n",
       "                                    gpu_id=None, importance_type='gain',\n",
       "                                    interaction_constraints=None,\n",
       "                                    learning_rate=None, max_delta_step=None,\n",
       "                                    max_depth=None, min_child_weight=None,\n",
       "                                    missing=nan, monotone_constraints=None,\n",
       "                                    n_estimators=100, n_jobs=...\n",
       "                                    reg_alpha=None, reg_lambda=None,\n",
       "                                    scale_pos_weight=None, subsample=None,\n",
       "                                    tree_method=None, validate_parameters=None,\n",
       "                                    verbosity=None),\n",
       "             n_jobs=5,\n",
       "             param_grid={'colsample_bytree': [0.7],\n",
       "                         'learning_rate': [0.03, 0.05, 0.07],\n",
       "                         'max_depth': [5, 6, 7], 'min_child_weight': [4],\n",
       "                         'n_estimators': [500], 'nthread': [4],\n",
       "                         'objective': ['reg:linear'], 'silent': [1],\n",
       "                         'subsample': [0.7]},\n",
       "             verbose=True)"
      ]
     },
     "execution_count": 75,
     "metadata": {},
     "output_type": "execute_result"
    }
   ],
   "source": [
    "# XGBoost Regressor\n",
    "xgboost = XGBRegressor()\n",
    "\n",
    "param_grid = {'nthread':[4], #when use hyperthread, xgboost may become slower\n",
    "              'objective':['reg:linear'],\n",
    "              'learning_rate': [.03, 0.05, .07], #so called `eta` value\n",
    "              'max_depth': [5, 6, 7],\n",
    "              'min_child_weight': [4],\n",
    "              'silent': [1],\n",
    "              'subsample': [0.7],\n",
    "              'colsample_bytree': [0.7],\n",
    "              'n_estimators': [500]}\n",
    "\n",
    "xgb_grid = GridSearchCV(xgboost, \n",
    "                   param_grid, \n",
    "                   cv = 2, \n",
    "                   n_jobs = 5, \n",
    "                   verbose = True)\n",
    "\n",
    "xgb_grid.fit(X_train, y_train)"
   ]
  },
  {
   "cell_type": "code",
   "execution_count": 76,
   "id": "fffa7d26",
   "metadata": {},
   "outputs": [
    {
     "name": "stdout",
     "output_type": "stream",
     "text": [
      "0.971800010912125\n"
     ]
    }
   ],
   "source": [
    "print(xgb_grid.best_score_)"
   ]
  },
  {
   "cell_type": "code",
   "execution_count": 77,
   "id": "surprised-corner",
   "metadata": {},
   "outputs": [
    {
     "name": "stdout",
     "output_type": "stream",
     "text": [
      "{'colsample_bytree': 0.7, 'learning_rate': 0.03, 'max_depth': 6, 'min_child_weight': 4, 'n_estimators': 500, 'nthread': 4, 'objective': 'reg:linear', 'silent': 1, 'subsample': 0.7}\n"
     ]
    }
   ],
   "source": [
    "print(xgb_grid.best_params_)"
   ]
  },
  {
   "cell_type": "code",
   "execution_count": 1,
   "id": "sapphire-leonard",
   "metadata": {},
   "outputs": [
    {
     "ename": "NameError",
     "evalue": "name 'XGBRegressor' is not defined",
     "output_type": "error",
     "traceback": [
      "\u001b[1;31m---------------------------------------------------------------------------\u001b[0m",
      "\u001b[1;31mNameError\u001b[0m                                 Traceback (most recent call last)",
      "\u001b[1;32m<ipython-input-1-5697923b752c>\u001b[0m in \u001b[0;36m<module>\u001b[1;34m\u001b[0m\n\u001b[0;32m      1\u001b[0m \u001b[0mxgb_params\u001b[0m \u001b[1;33m=\u001b[0m \u001b[1;33m{\u001b[0m\u001b[1;34m'colsample_bytree'\u001b[0m\u001b[1;33m:\u001b[0m \u001b[1;36m0.7\u001b[0m\u001b[1;33m,\u001b[0m \u001b[1;34m'learning_rate'\u001b[0m\u001b[1;33m:\u001b[0m \u001b[1;36m0.03\u001b[0m\u001b[1;33m,\u001b[0m \u001b[1;34m'max_depth'\u001b[0m\u001b[1;33m:\u001b[0m \u001b[1;36m6\u001b[0m\u001b[1;33m,\u001b[0m \u001b[1;34m'min_child_weight'\u001b[0m\u001b[1;33m:\u001b[0m \u001b[1;36m4\u001b[0m\u001b[1;33m,\u001b[0m \u001b[1;34m'n_estimators'\u001b[0m\u001b[1;33m:\u001b[0m \u001b[1;36m500\u001b[0m\u001b[1;33m,\u001b[0m \u001b[1;34m'nthread'\u001b[0m\u001b[1;33m:\u001b[0m \u001b[1;36m4\u001b[0m\u001b[1;33m,\u001b[0m \u001b[1;34m'objective'\u001b[0m\u001b[1;33m:\u001b[0m \u001b[1;34m'reg:linear'\u001b[0m\u001b[1;33m,\u001b[0m \u001b[1;34m'silent'\u001b[0m\u001b[1;33m:\u001b[0m \u001b[1;36m1\u001b[0m\u001b[1;33m,\u001b[0m \u001b[1;34m'subsample'\u001b[0m\u001b[1;33m:\u001b[0m \u001b[1;36m0.7\u001b[0m\u001b[1;33m}\u001b[0m\u001b[1;33m\u001b[0m\u001b[1;33m\u001b[0m\u001b[0m\n\u001b[0;32m      2\u001b[0m \u001b[1;33m\u001b[0m\u001b[0m\n\u001b[1;32m----> 3\u001b[1;33m \u001b[0mxgboost\u001b[0m \u001b[1;33m=\u001b[0m \u001b[0mXGBRegressor\u001b[0m\u001b[1;33m(\u001b[0m\u001b[1;33m**\u001b[0m\u001b[0mxgb_params\u001b[0m\u001b[1;33m)\u001b[0m\u001b[1;33m\u001b[0m\u001b[1;33m\u001b[0m\u001b[0m\n\u001b[0m",
      "\u001b[1;31mNameError\u001b[0m: name 'XGBRegressor' is not defined"
     ]
    }
   ],
   "source": [
    "xgb_params = {'colsample_bytree': 0.7, \n",
    "             'learning_rate': 0.03, \n",
    "             'max_depth': 5, \n",
    "             'min_child_weight': 4, \n",
    "             'n_estimators': 500, \n",
    "             'nthread': 4, \n",
    "             'objective': 'reg:linear', \n",
    "             'silent': 1, \n",
    "             'subsample': 0.7}\n",
    "\n",
    "xgboost = XGBRegressor(**xgb_params)"
   ]
  },
  {
   "cell_type": "markdown",
   "id": "b09121d7",
   "metadata": {},
   "source": [
    "### Ridge Regressor"
   ]
  },
  {
   "cell_type": "code",
   "execution_count": 79,
   "id": "5d05a835",
   "metadata": {},
   "outputs": [
    {
     "name": "stdout",
     "output_type": "stream",
     "text": [
      "Fitting 2 folds for each of 6 candidates, totalling 12 fits\n"
     ]
    },
    {
     "data": {
      "text/plain": [
       "GridSearchCV(cv=2, estimator=Ridge(), n_jobs=5,\n",
       "             param_grid={'alpha': array([1.e+00, 1.e-01, 1.e-02, 1.e-03, 1.e-04, 0.e+00])},\n",
       "             verbose=True)"
      ]
     },
     "execution_count": 79,
     "metadata": {},
     "output_type": "execute_result"
    }
   ],
   "source": [
    "# Ridge Regressor\n",
    "alphas = np.array([1,0.1,0.01,0.001,0.0001,0])\n",
    "\n",
    "ridge_reg = Ridge()\n",
    "\n",
    "ridge_grid = GridSearchCV(ridge_reg, \n",
    "                     param_grid = dict(alpha= alphas), \n",
    "                     cv = 2, \n",
    "                     n_jobs = 5, \n",
    "                     verbose = True)\n",
    "\n",
    "ridge_grid.fit(X_train, y_train)"
   ]
  },
  {
   "cell_type": "code",
   "execution_count": 80,
   "id": "specialized-yield",
   "metadata": {},
   "outputs": [
    {
     "name": "stdout",
     "output_type": "stream",
     "text": [
      "0.9635137460605931\n"
     ]
    }
   ],
   "source": [
    "print(ridge_grid.best_score_)"
   ]
  },
  {
   "cell_type": "code",
   "execution_count": 81,
   "id": "vulnerable-geneva",
   "metadata": {},
   "outputs": [
    {
     "name": "stdout",
     "output_type": "stream",
     "text": [
      "{'alpha': 0.0001}\n"
     ]
    }
   ],
   "source": [
    "print(ridge_grid.best_params_)"
   ]
  },
  {
   "cell_type": "code",
   "execution_count": 82,
   "id": "revised-clinic",
   "metadata": {},
   "outputs": [],
   "source": [
    "ridge_params = {'alpha': 0.0001}\n",
    "\n",
    "ridge = Ridge(**ridge_params)"
   ]
  },
  {
   "cell_type": "markdown",
   "id": "ecf56203",
   "metadata": {},
   "source": [
    "### Support Vector Regressor"
   ]
  },
  {
   "cell_type": "code",
   "execution_count": 83,
   "id": "e8ba3488",
   "metadata": {},
   "outputs": [
    {
     "name": "stdout",
     "output_type": "stream",
     "text": [
      "Fitting 2 folds for each of 308 candidates, totalling 616 fits\n"
     ]
    },
    {
     "data": {
      "text/plain": [
       "GridSearchCV(cv=2, estimator=SVR(), n_jobs=-1,\n",
       "             param_grid={'C': [0.1, 1, 100, 1000],\n",
       "                         'epsilon': [0.0001, 0.0005, 0.001, 0.005, 0.01, 0.05,\n",
       "                                     0.1, 0.5, 1, 5, 10],\n",
       "                         'gamma': [0.0001, 0.001, 0.005, 0.1, 1, 3, 5]},\n",
       "             scoring='neg_mean_squared_error', verbose=True)"
      ]
     },
     "execution_count": 83,
     "metadata": {},
     "output_type": "execute_result"
    }
   ],
   "source": [
    "# SVR\n",
    "\n",
    "param_grid={\n",
    "    \n",
    "        'C': [0.1, 1, 100, 1000],\n",
    "        \n",
    "        'epsilon': [0.0001, 0.0005, 0.001, 0.005, 0.01, 0.05, 0.1, 0.5, 1, 5, 10],\n",
    "        \n",
    "        'gamma': [0.0001, 0.001, 0.005, 0.1, 1, 3, 5]\n",
    "        \n",
    "    }\n",
    "    \n",
    "\n",
    "svr = SVR(kernel = 'rbf')\n",
    "\n",
    "svr_grid = GridSearchCV(svr,\n",
    "                      param_grid,\n",
    "                      cv = 2, \n",
    "                      scoring = 'neg_mean_squared_error',\n",
    "                      verbose = True, \n",
    "                      n_jobs = -1)\n",
    "\n",
    "svr_grid.fit(X_train, y_train)"
   ]
  },
  {
   "cell_type": "code",
   "execution_count": 84,
   "id": "present-identity",
   "metadata": {},
   "outputs": [
    {
     "name": "stdout",
     "output_type": "stream",
     "text": [
      "-0.009438031095030929\n"
     ]
    }
   ],
   "source": [
    "print(svr_grid.best_score_)"
   ]
  },
  {
   "cell_type": "code",
   "execution_count": 85,
   "id": "played-desktop",
   "metadata": {},
   "outputs": [
    {
     "name": "stdout",
     "output_type": "stream",
     "text": [
      "{'C': 100, 'epsilon': 0.05, 'gamma': 0.005}\n"
     ]
    }
   ],
   "source": [
    "print(svr_grid.best_params_)"
   ]
  },
  {
   "cell_type": "code",
   "execution_count": 86,
   "id": "collect-accountability",
   "metadata": {},
   "outputs": [],
   "source": [
    "svr_params = {'C': 100, 'epsilon': 0.05, 'gamma': 0.005}"
   ]
  },
  {
   "cell_type": "code",
   "execution_count": 87,
   "id": "vertical-hands",
   "metadata": {},
   "outputs": [],
   "source": [
    "svr = SVR(**svr_params)"
   ]
  },
  {
   "cell_type": "markdown",
   "id": "eb3f91ea",
   "metadata": {},
   "source": [
    "### Gradient Boosting Regressor"
   ]
  },
  {
   "cell_type": "code",
   "execution_count": 88,
   "id": "e5426ad4",
   "metadata": {},
   "outputs": [
    {
     "name": "stdout",
     "output_type": "stream",
     "text": [
      "Fitting 2 folds for each of 36 candidates, totalling 72 fits\n"
     ]
    },
    {
     "data": {
      "text/plain": [
       "GridSearchCV(cv=2, estimator=GradientBoostingRegressor(), n_jobs=5,\n",
       "             param_grid={'learning_rate': [0.1, 0.2, 0.3],\n",
       "                         'loss': ['ls', 'lad', 'huber', 'quantile'],\n",
       "                         'max_depth': [3, 5, 6]},\n",
       "             verbose=True)"
      ]
     },
     "execution_count": 88,
     "metadata": {},
     "output_type": "execute_result"
    }
   ],
   "source": [
    "# GBR\n",
    "\n",
    "params = {\n",
    "    'loss': ['ls', 'lad','huber','quantile'],\n",
    "    'learning_rate': [0.1, 0.2,0.3],\n",
    "    'max_depth': [3,5,6]\n",
    "} \n",
    "\n",
    "gbr_model = GradientBoostingRegressor()\n",
    "\n",
    "gbr_grid = GridSearchCV(gbr_model,\n",
    "                  params,\n",
    "                  cv = 2,\n",
    "                  verbose = True,\n",
    "                  n_jobs = 5)\n",
    "\n",
    "gbr_grid.fit(X_train, y_train)"
   ]
  },
  {
   "cell_type": "code",
   "execution_count": 89,
   "id": "stainless-india",
   "metadata": {},
   "outputs": [
    {
     "name": "stdout",
     "output_type": "stream",
     "text": [
      "0.9692264832750632\n"
     ]
    }
   ],
   "source": [
    "print(gbr_grid.best_score_)"
   ]
  },
  {
   "cell_type": "code",
   "execution_count": 90,
   "id": "1bbb4276",
   "metadata": {},
   "outputs": [
    {
     "name": "stdout",
     "output_type": "stream",
     "text": [
      "{'learning_rate': 0.1, 'loss': 'huber', 'max_depth': 5}\n"
     ]
    }
   ],
   "source": [
    "print(gbr_grid.best_params_)"
   ]
  },
  {
   "cell_type": "code",
   "execution_count": 91,
   "id": "separate-phone",
   "metadata": {},
   "outputs": [],
   "source": [
    "gbr_params = {'learning_rate': 0.1, 'loss': 'huber', 'max_depth': 5}\n",
    "\n",
    "gbr = GradientBoostingRegressor(**gbr_params)"
   ]
  },
  {
   "cell_type": "markdown",
   "id": "tribal-drove",
   "metadata": {},
   "source": [
    "**GBR with balanced dataset**\n",
    "\n",
    "- R2 Score: 0.9704435818146127\n",
    "- Mean Squarred Error: 0.009362925635660182\n",
    "- RMSE: 0.09676221181670137\n",
    "- Mean Absolute Error : 0.06750763991137315"
   ]
  },
  {
   "cell_type": "markdown",
   "id": "spectacular-recognition",
   "metadata": {},
   "source": [
    "## RandomForest"
   ]
  },
  {
   "cell_type": "code",
   "execution_count": 92,
   "id": "5a59f67d",
   "metadata": {},
   "outputs": [
    {
     "data": {
      "text/plain": [
       "GridSearchCV(cv=2, estimator=RandomForestRegressor(), n_jobs=5,\n",
       "             param_grid={'bootstrap': [True, False],\n",
       "                         'max_features': ['auto', 'log2', 'sqrt'],\n",
       "                         'min_samples_split': [2, 4, 8],\n",
       "                         'n_estimators': [10, 50, 100]})"
      ]
     },
     "execution_count": 92,
     "metadata": {},
     "output_type": "execute_result"
    }
   ],
   "source": [
    "### RandomForestRegressor\n",
    "\n",
    "# Random Forest Regressor\n",
    "\n",
    "para_grids = {\n",
    "            \"n_estimators\" : [10,50,100],\n",
    "            \"max_features\" : [\"auto\", \"log2\", \"sqrt\"],\n",
    "            \"min_samples_split\":[2,4,8],\n",
    "            \"bootstrap\"    : [True, False]\n",
    "        }\n",
    "\n",
    "rf = RandomForestRegressor()\n",
    "\n",
    "rf_cv = GridSearchCV(rf,\n",
    "                    para_grids,\n",
    "                    n_jobs = 5,\n",
    "                    cv = 2)\n",
    "\n",
    "rf_cv.fit(X_train,y_train)"
   ]
  },
  {
   "cell_type": "code",
   "execution_count": 93,
   "id": "444169fc",
   "metadata": {},
   "outputs": [
    {
     "name": "stdout",
     "output_type": "stream",
     "text": [
      "0.9664115367602836\n"
     ]
    }
   ],
   "source": [
    "print(rf_cv.best_score_)"
   ]
  },
  {
   "cell_type": "code",
   "execution_count": 94,
   "id": "senior-azerbaijan",
   "metadata": {},
   "outputs": [
    {
     "name": "stdout",
     "output_type": "stream",
     "text": [
      "{'bootstrap': True, 'max_features': 'auto', 'min_samples_split': 8, 'n_estimators': 100}\n"
     ]
    }
   ],
   "source": [
    "print(rf_cv.best_params_)"
   ]
  },
  {
   "cell_type": "code",
   "execution_count": 95,
   "id": "center-innocent",
   "metadata": {},
   "outputs": [],
   "source": [
    "rf_params = {'bootstrap': True, 'max_features': 'auto', 'min_samples_split': 8, 'n_estimators': 50}"
   ]
  },
  {
   "cell_type": "code",
   "execution_count": 96,
   "id": "reasonable-context",
   "metadata": {},
   "outputs": [],
   "source": [
    "rf = RandomForestRegressor(**rf_params)"
   ]
  },
  {
   "cell_type": "markdown",
   "id": "racial-mirror",
   "metadata": {},
   "source": [
    "### StackingCVRegressor"
   ]
  },
  {
   "cell_type": "code",
   "execution_count": 97,
   "id": "judicial-relation",
   "metadata": {},
   "outputs": [],
   "source": [
    "# \n",
    "stack_gen = StackingCVRegressor(regressors = (xgboost, \n",
    "                                              lightgbm, \n",
    "                                              svr, \n",
    "                                              ridge, \n",
    "                                              gbr, \n",
    "                                              rf),\n",
    "                               meta_regressor = xgboost,\n",
    "                               use_features_in_secondary = True)"
   ]
  },
  {
   "cell_type": "code",
   "execution_count": null,
   "id": "capable-wireless",
   "metadata": {},
   "outputs": [],
   "source": []
  },
  {
   "cell_type": "markdown",
   "id": "exceptional-leader",
   "metadata": {},
   "source": [
    "## Train Models"
   ]
  },
  {
   "cell_type": "code",
   "execution_count": 98,
   "id": "secondary-bible",
   "metadata": {},
   "outputs": [
    {
     "name": "stdout",
     "output_type": "stream",
     "text": [
      "lightgmb: 0.1045 (0.0039)\n"
     ]
    }
   ],
   "source": [
    "scores = {}\n",
    "\n",
    "score = cv_rmse(lightgbm)\n",
    "print(\"lightgmb: {:.4f} ({:.4f})\".format(score.mean(), score.std()))\n",
    "scores['lgb'] = (score.mean(), score.std())"
   ]
  },
  {
   "cell_type": "code",
   "execution_count": 99,
   "id": "civilian-intellectual",
   "metadata": {},
   "outputs": [
    {
     "name": "stdout",
     "output_type": "stream",
     "text": [
      "[15:49:18] WARNING: C:/Users/Administrator/workspace/xgboost-win64_release_1.3.0/src/objective/regression_obj.cu:170: reg:linear is now deprecated in favor of reg:squarederror.\n",
      "[15:49:18] WARNING: C:/Users/Administrator/workspace/xgboost-win64_release_1.3.0/src/learner.cc:541: \n",
      "Parameters: { silent } might not be used.\n",
      "\n",
      "  This may not be accurate due to some parameters are only used in language bindings but\n",
      "  passed down to XGBoost core.  Or some parameters are not used but slip through this\n",
      "  verification. Please open an issue if you find above cases.\n",
      "\n",
      "\n",
      "[15:49:20] WARNING: C:/Users/Administrator/workspace/xgboost-win64_release_1.3.0/src/objective/regression_obj.cu:170: reg:linear is now deprecated in favor of reg:squarederror.\n",
      "[15:49:20] WARNING: C:/Users/Administrator/workspace/xgboost-win64_release_1.3.0/src/learner.cc:541: \n",
      "Parameters: { silent } might not be used.\n",
      "\n",
      "  This may not be accurate due to some parameters are only used in language bindings but\n",
      "  passed down to XGBoost core.  Or some parameters are not used but slip through this\n",
      "  verification. Please open an issue if you find above cases.\n",
      "\n",
      "\n",
      "[15:49:22] WARNING: C:/Users/Administrator/workspace/xgboost-win64_release_1.3.0/src/objective/regression_obj.cu:170: reg:linear is now deprecated in favor of reg:squarederror.\n",
      "[15:49:22] WARNING: C:/Users/Administrator/workspace/xgboost-win64_release_1.3.0/src/learner.cc:541: \n",
      "Parameters: { silent } might not be used.\n",
      "\n",
      "  This may not be accurate due to some parameters are only used in language bindings but\n",
      "  passed down to XGBoost core.  Or some parameters are not used but slip through this\n",
      "  verification. Please open an issue if you find above cases.\n",
      "\n",
      "\n",
      "[15:49:24] WARNING: C:/Users/Administrator/workspace/xgboost-win64_release_1.3.0/src/objective/regression_obj.cu:170: reg:linear is now deprecated in favor of reg:squarederror.\n",
      "[15:49:24] WARNING: C:/Users/Administrator/workspace/xgboost-win64_release_1.3.0/src/learner.cc:541: \n",
      "Parameters: { silent } might not be used.\n",
      "\n",
      "  This may not be accurate due to some parameters are only used in language bindings but\n",
      "  passed down to XGBoost core.  Or some parameters are not used but slip through this\n",
      "  verification. Please open an issue if you find above cases.\n",
      "\n",
      "\n",
      "[15:49:25] WARNING: C:/Users/Administrator/workspace/xgboost-win64_release_1.3.0/src/objective/regression_obj.cu:170: reg:linear is now deprecated in favor of reg:squarederror.\n",
      "[15:49:25] WARNING: C:/Users/Administrator/workspace/xgboost-win64_release_1.3.0/src/learner.cc:541: \n",
      "Parameters: { silent } might not be used.\n",
      "\n",
      "  This may not be accurate due to some parameters are only used in language bindings but\n",
      "  passed down to XGBoost core.  Or some parameters are not used but slip through this\n",
      "  verification. Please open an issue if you find above cases.\n",
      "\n",
      "\n",
      "[15:49:27] WARNING: C:/Users/Administrator/workspace/xgboost-win64_release_1.3.0/src/objective/regression_obj.cu:170: reg:linear is now deprecated in favor of reg:squarederror.\n",
      "[15:49:27] WARNING: C:/Users/Administrator/workspace/xgboost-win64_release_1.3.0/src/learner.cc:541: \n",
      "Parameters: { silent } might not be used.\n",
      "\n",
      "  This may not be accurate due to some parameters are only used in language bindings but\n",
      "  passed down to XGBoost core.  Or some parameters are not used but slip through this\n",
      "  verification. Please open an issue if you find above cases.\n",
      "\n",
      "\n",
      "[15:49:29] WARNING: C:/Users/Administrator/workspace/xgboost-win64_release_1.3.0/src/objective/regression_obj.cu:170: reg:linear is now deprecated in favor of reg:squarederror.\n",
      "[15:49:29] WARNING: C:/Users/Administrator/workspace/xgboost-win64_release_1.3.0/src/learner.cc:541: \n",
      "Parameters: { silent } might not be used.\n",
      "\n",
      "  This may not be accurate due to some parameters are only used in language bindings but\n",
      "  passed down to XGBoost core.  Or some parameters are not used but slip through this\n",
      "  verification. Please open an issue if you find above cases.\n",
      "\n",
      "\n",
      "[15:49:31] WARNING: C:/Users/Administrator/workspace/xgboost-win64_release_1.3.0/src/objective/regression_obj.cu:170: reg:linear is now deprecated in favor of reg:squarederror.\n",
      "[15:49:31] WARNING: C:/Users/Administrator/workspace/xgboost-win64_release_1.3.0/src/learner.cc:541: \n",
      "Parameters: { silent } might not be used.\n",
      "\n",
      "  This may not be accurate due to some parameters are only used in language bindings but\n",
      "  passed down to XGBoost core.  Or some parameters are not used but slip through this\n",
      "  verification. Please open an issue if you find above cases.\n",
      "\n",
      "\n",
      "[15:49:32] WARNING: C:/Users/Administrator/workspace/xgboost-win64_release_1.3.0/src/objective/regression_obj.cu:170: reg:linear is now deprecated in favor of reg:squarederror.\n",
      "[15:49:32] WARNING: C:/Users/Administrator/workspace/xgboost-win64_release_1.3.0/src/learner.cc:541: \n",
      "Parameters: { silent } might not be used.\n",
      "\n",
      "  This may not be accurate due to some parameters are only used in language bindings but\n",
      "  passed down to XGBoost core.  Or some parameters are not used but slip through this\n",
      "  verification. Please open an issue if you find above cases.\n",
      "\n",
      "\n",
      "[15:49:34] WARNING: C:/Users/Administrator/workspace/xgboost-win64_release_1.3.0/src/objective/regression_obj.cu:170: reg:linear is now deprecated in favor of reg:squarederror.\n",
      "[15:49:34] WARNING: C:/Users/Administrator/workspace/xgboost-win64_release_1.3.0/src/learner.cc:541: \n",
      "Parameters: { silent } might not be used.\n",
      "\n",
      "  This may not be accurate due to some parameters are only used in language bindings but\n",
      "  passed down to XGBoost core.  Or some parameters are not used but slip through this\n",
      "  verification. Please open an issue if you find above cases.\n",
      "\n",
      "\n",
      "[15:49:36] WARNING: C:/Users/Administrator/workspace/xgboost-win64_release_1.3.0/src/objective/regression_obj.cu:170: reg:linear is now deprecated in favor of reg:squarederror.\n",
      "[15:49:36] WARNING: C:/Users/Administrator/workspace/xgboost-win64_release_1.3.0/src/learner.cc:541: \n",
      "Parameters: { silent } might not be used.\n",
      "\n",
      "  This may not be accurate due to some parameters are only used in language bindings but\n",
      "  passed down to XGBoost core.  Or some parameters are not used but slip through this\n",
      "  verification. Please open an issue if you find above cases.\n",
      "\n",
      "\n",
      "xgboost: 0.0921 (0.0035)\n"
     ]
    }
   ],
   "source": [
    "score = cv_rmse(xgboost)\n",
    "print(\"xgboost: {:.4f} ({:.4f})\".format(score.mean(), score.std()))\n",
    "scores['xgb'] = (score.mean(), score.std())"
   ]
  },
  {
   "cell_type": "code",
   "execution_count": 100,
   "id": "hollow-burning",
   "metadata": {},
   "outputs": [
    {
     "name": "stdout",
     "output_type": "stream",
     "text": [
      "SVR: 0.0952 (0.0048)\n"
     ]
    }
   ],
   "source": [
    "score = cv_rmse(svr)\n",
    "print(\"SVR: {:.4f} ({:.4f})\".format(score.mean(), score.std()))\n",
    "scores['svr'] = (score.mean(), score.std())"
   ]
  },
  {
   "cell_type": "code",
   "execution_count": 101,
   "id": "prime-classroom",
   "metadata": {},
   "outputs": [
    {
     "name": "stdout",
     "output_type": "stream",
     "text": [
      "ridge: 0.1085 (0.0033)\n"
     ]
    }
   ],
   "source": [
    "score = cv_rmse(ridge)\n",
    "print(\"ridge: {:.4f} ({:.4f})\".format(score.mean(), score.std()))\n",
    "scores['ridge'] = (score.mean(), score.std())"
   ]
  },
  {
   "cell_type": "code",
   "execution_count": 102,
   "id": "magnetic-edwards",
   "metadata": {},
   "outputs": [
    {
     "name": "stdout",
     "output_type": "stream",
     "text": [
      "rf: 0.0998 (0.0042)\n"
     ]
    }
   ],
   "source": [
    "score = cv_rmse(rf)\n",
    "print(\"rf: {:.4f} ({:.4f})\".format(score.mean(), score.std()))\n",
    "scores['rf'] = (score.mean(), score.std())"
   ]
  },
  {
   "cell_type": "code",
   "execution_count": 103,
   "id": "psychological-mission",
   "metadata": {},
   "outputs": [
    {
     "name": "stdout",
     "output_type": "stream",
     "text": [
      "gbr: 0.0958 (0.0048)\n"
     ]
    }
   ],
   "source": [
    "score = cv_rmse(gbr)\n",
    "print(\"gbr: {:.4f} ({:.4f})\".format(score.mean(), score.std()))\n",
    "scores['gbr'] = (score.mean(), score.std())"
   ]
  },
  {
   "cell_type": "markdown",
   "id": "modular-child",
   "metadata": {},
   "source": [
    "### Fit the models"
   ]
  },
  {
   "cell_type": "code",
   "execution_count": 104,
   "id": "corrected-intersection",
   "metadata": {},
   "outputs": [
    {
     "name": "stdout",
     "output_type": "stream",
     "text": [
      "stack_gen\n",
      "[15:50:42] WARNING: C:/Users/Administrator/workspace/xgboost-win64_release_1.3.0/src/objective/regression_obj.cu:170: reg:linear is now deprecated in favor of reg:squarederror.\n",
      "[15:50:42] WARNING: C:/Users/Administrator/workspace/xgboost-win64_release_1.3.0/src/learner.cc:541: \n",
      "Parameters: { silent } might not be used.\n",
      "\n",
      "  This may not be accurate due to some parameters are only used in language bindings but\n",
      "  passed down to XGBoost core.  Or some parameters are not used but slip through this\n",
      "  verification. Please open an issue if you find above cases.\n",
      "\n",
      "\n",
      "[15:50:44] WARNING: C:/Users/Administrator/workspace/xgboost-win64_release_1.3.0/src/objective/regression_obj.cu:170: reg:linear is now deprecated in favor of reg:squarederror.\n",
      "[15:50:44] WARNING: C:/Users/Administrator/workspace/xgboost-win64_release_1.3.0/src/learner.cc:541: \n",
      "Parameters: { silent } might not be used.\n",
      "\n",
      "  This may not be accurate due to some parameters are only used in language bindings but\n",
      "  passed down to XGBoost core.  Or some parameters are not used but slip through this\n",
      "  verification. Please open an issue if you find above cases.\n",
      "\n",
      "\n",
      "[15:50:46] WARNING: C:/Users/Administrator/workspace/xgboost-win64_release_1.3.0/src/objective/regression_obj.cu:170: reg:linear is now deprecated in favor of reg:squarederror.\n",
      "[15:50:46] WARNING: C:/Users/Administrator/workspace/xgboost-win64_release_1.3.0/src/learner.cc:541: \n",
      "Parameters: { silent } might not be used.\n",
      "\n",
      "  This may not be accurate due to some parameters are only used in language bindings but\n",
      "  passed down to XGBoost core.  Or some parameters are not used but slip through this\n",
      "  verification. Please open an issue if you find above cases.\n",
      "\n",
      "\n",
      "[15:50:47] WARNING: C:/Users/Administrator/workspace/xgboost-win64_release_1.3.0/src/objective/regression_obj.cu:170: reg:linear is now deprecated in favor of reg:squarederror.\n",
      "[15:50:47] WARNING: C:/Users/Administrator/workspace/xgboost-win64_release_1.3.0/src/learner.cc:541: \n",
      "Parameters: { silent } might not be used.\n",
      "\n",
      "  This may not be accurate due to some parameters are only used in language bindings but\n",
      "  passed down to XGBoost core.  Or some parameters are not used but slip through this\n",
      "  verification. Please open an issue if you find above cases.\n",
      "\n",
      "\n",
      "[15:50:49] WARNING: C:/Users/Administrator/workspace/xgboost-win64_release_1.3.0/src/objective/regression_obj.cu:170: reg:linear is now deprecated in favor of reg:squarederror.\n",
      "[15:50:49] WARNING: C:/Users/Administrator/workspace/xgboost-win64_release_1.3.0/src/learner.cc:541: \n",
      "Parameters: { silent } might not be used.\n",
      "\n",
      "  This may not be accurate due to some parameters are only used in language bindings but\n",
      "  passed down to XGBoost core.  Or some parameters are not used but slip through this\n",
      "  verification. Please open an issue if you find above cases.\n",
      "\n",
      "\n",
      "[15:51:18] WARNING: C:/Users/Administrator/workspace/xgboost-win64_release_1.3.0/src/objective/regression_obj.cu:170: reg:linear is now deprecated in favor of reg:squarederror.\n",
      "[15:51:18] WARNING: C:/Users/Administrator/workspace/xgboost-win64_release_1.3.0/src/learner.cc:541: \n",
      "Parameters: { silent } might not be used.\n",
      "\n",
      "  This may not be accurate due to some parameters are only used in language bindings but\n",
      "  passed down to XGBoost core.  Or some parameters are not used but slip through this\n",
      "  verification. Please open an issue if you find above cases.\n",
      "\n",
      "\n",
      "[15:51:21] WARNING: C:/Users/Administrator/workspace/xgboost-win64_release_1.3.0/src/objective/regression_obj.cu:170: reg:linear is now deprecated in favor of reg:squarederror.\n",
      "[15:51:21] WARNING: C:/Users/Administrator/workspace/xgboost-win64_release_1.3.0/src/learner.cc:541: \n",
      "Parameters: { silent } might not be used.\n",
      "\n",
      "  This may not be accurate due to some parameters are only used in language bindings but\n",
      "  passed down to XGBoost core.  Or some parameters are not used but slip through this\n",
      "  verification. Please open an issue if you find above cases.\n",
      "\n",
      "\n"
     ]
    }
   ],
   "source": [
    "print('stack_gen')\n",
    "stack_gen_model = stack_gen.fit(np.array(X), np.array(y))"
   ]
  },
  {
   "cell_type": "code",
   "execution_count": 105,
   "id": "supported-trust",
   "metadata": {},
   "outputs": [
    {
     "name": "stdout",
     "output_type": "stream",
     "text": [
      "lightgbm\n"
     ]
    }
   ],
   "source": [
    "print('lightgbm')\n",
    "lgb_model_full_data = lightgbm.fit(X, y)"
   ]
  },
  {
   "cell_type": "code",
   "execution_count": 106,
   "id": "sixth-rouge",
   "metadata": {},
   "outputs": [
    {
     "name": "stdout",
     "output_type": "stream",
     "text": [
      "xgboost\n",
      "[15:51:30] WARNING: C:/Users/Administrator/workspace/xgboost-win64_release_1.3.0/src/objective/regression_obj.cu:170: reg:linear is now deprecated in favor of reg:squarederror.\n",
      "[15:51:30] WARNING: C:/Users/Administrator/workspace/xgboost-win64_release_1.3.0/src/learner.cc:541: \n",
      "Parameters: { silent } might not be used.\n",
      "\n",
      "  This may not be accurate due to some parameters are only used in language bindings but\n",
      "  passed down to XGBoost core.  Or some parameters are not used but slip through this\n",
      "  verification. Please open an issue if you find above cases.\n",
      "\n",
      "\n"
     ]
    }
   ],
   "source": [
    "print('xgboost')\n",
    "xgb_model_full_data = xgboost.fit(X, y)"
   ]
  },
  {
   "cell_type": "code",
   "execution_count": 107,
   "id": "exact-suggestion",
   "metadata": {},
   "outputs": [
    {
     "name": "stdout",
     "output_type": "stream",
     "text": [
      "Svr\n"
     ]
    }
   ],
   "source": [
    "print('Svr')\n",
    "svr_model_full_data = svr.fit(X, y)"
   ]
  },
  {
   "cell_type": "code",
   "execution_count": 108,
   "id": "adjacent-opera",
   "metadata": {},
   "outputs": [
    {
     "name": "stdout",
     "output_type": "stream",
     "text": [
      "Ridge\n"
     ]
    }
   ],
   "source": [
    "print('Ridge')\n",
    "ridge_model_full_data = ridge.fit(X, y)"
   ]
  },
  {
   "cell_type": "code",
   "execution_count": 109,
   "id": "romance-survey",
   "metadata": {},
   "outputs": [
    {
     "name": "stdout",
     "output_type": "stream",
     "text": [
      "RandomForest\n"
     ]
    }
   ],
   "source": [
    "print('RandomForest')\n",
    "rf_model_full_data = rf.fit(X, y)"
   ]
  },
  {
   "cell_type": "code",
   "execution_count": 110,
   "id": "boring-future",
   "metadata": {},
   "outputs": [
    {
     "name": "stdout",
     "output_type": "stream",
     "text": [
      "GradientBoosting\n"
     ]
    }
   ],
   "source": [
    "print('GradientBoosting')\n",
    "gbr_model_full_data = gbr.fit(X, y)"
   ]
  },
  {
   "cell_type": "markdown",
   "id": "several-article",
   "metadata": {},
   "source": [
    "### Blend models and get Predictions"
   ]
  },
  {
   "cell_type": "code",
   "execution_count": 111,
   "id": "persistent-companion",
   "metadata": {},
   "outputs": [],
   "source": [
    "# Blend models in order to make the final predictions more robust to overfitting\n",
    "def blended_predictions(X):\n",
    "    return ((0.1 * ridge_model_full_data.predict(X)) + \\\n",
    "            (0.2 * svr_model_full_data.predict(X)) + \\\n",
    "            (0.1 * gbr_model_full_data.predict(X)) + \\\n",
    "            (0.1 * xgb_model_full_data.predict(X)) + \\\n",
    "            (0.1 * lgb_model_full_data.predict(X)) + \\\n",
    "            (0.05 * rf_model_full_data.predict(X)) + \\\n",
    "            (0.35 * stack_gen_model.predict(np.array(X))))"
   ]
  },
  {
   "cell_type": "code",
   "execution_count": 112,
   "id": "pursuant-interaction",
   "metadata": {},
   "outputs": [
    {
     "name": "stdout",
     "output_type": "stream",
     "text": [
      "RMSLE score on train data:\n",
      "0.08244721991970726\n"
     ]
    }
   ],
   "source": [
    "# Get final precitions from the blended model\n",
    "blended_score = rmsle(y, blended_predictions(X))\n",
    "scores['blended'] = (blended_score, 0)\n",
    "print('RMSLE score on train data:')\n",
    "print(blended_score)"
   ]
  },
  {
   "cell_type": "markdown",
   "id": "charming-egypt",
   "metadata": {},
   "source": [
    "**Blended Predictions:** (Attempt 1)\n",
    "\n",
    "- RMSLE score on train data: 0.08116570706030446"
   ]
  },
  {
   "cell_type": "code",
   "execution_count": 163,
   "id": "alone-cleaner",
   "metadata": {},
   "outputs": [
    {
     "data": {
      "image/png": "[encoded data removed]",
      "text/plain": [
       "<Figure size 1728x864 with 1 Axes>"
      ]
     },
     "metadata": {},
     "output_type": "display_data"
    }
   ],
   "source": [
    "# Plot the predictions for each model\n",
    "sns.set_style(\"white\")\n",
    "fig = plt.figure(figsize=(24, 12))\n",
    "\n",
    "ax = sns.pointplot(x=list(scores.keys()), y=[score for score, _ in scores.values()], markers=['o'], linestyles=['-'])\n",
    "for i, score in enumerate(scores.values()):\n",
    "    ax.text(i, score[0] + 0.002, '{:.6f}'.format(score[0]), horizontalalignment='left', size='large', color='black', weight='semibold')\n",
    "\n",
    "plt.ylabel('Score (RMSE)', size=20, labelpad=12.5)\n",
    "plt.xlabel('Model', size=20, labelpad=12.5)\n",
    "plt.tick_params(axis='x', labelsize=13.5)\n",
    "plt.tick_params(axis='y', labelsize=12.5)\n",
    "\n",
    "plt.title('Scores of Models', size=20)\n",
    "\n",
    "plt.show()"
   ]
  },
  {
   "cell_type": "code",
   "execution_count": null,
   "id": "bronze-mills",
   "metadata": {},
   "outputs": [],
   "source": []
  },
  {
   "cell_type": "code",
   "execution_count": null,
   "id": "social-titanium",
   "metadata": {},
   "outputs": [],
   "source": []
  },
  {
   "cell_type": "code",
   "execution_count": null,
   "id": "reported-harvard",
   "metadata": {},
   "outputs": [],
   "source": []
  },
  {
   "cell_type": "code",
   "execution_count": null,
   "id": "diverse-domestic",
   "metadata": {},
   "outputs": [],
   "source": []
  },
  {
   "cell_type": "code",
   "execution_count": null,
   "id": "roman-norfolk",
   "metadata": {},
   "outputs": [],
   "source": []
  },
  {
   "cell_type": "code",
   "execution_count": null,
   "id": "forty-orange",
   "metadata": {},
   "outputs": [],
   "source": []
  },
  {
   "cell_type": "markdown",
   "id": "partial-geography",
   "metadata": {},
   "source": [
    "### Neural Network"
   ]
  },
  {
   "cell_type": "code",
   "execution_count": 90,
   "id": "productive-testimony",
   "metadata": {
    "scrolled": true
   },
   "outputs": [
    {
     "data": {
      "text/plain": [
       "(4575, 41)"
      ]
     },
     "execution_count": 90,
     "metadata": {},
     "output_type": "execute_result"
    }
   ],
   "source": [
    "X_train.shape"
   ]
  },
  {
   "cell_type": "code",
   "execution_count": 138,
   "id": "adolescent-inspector",
   "metadata": {},
   "outputs": [],
   "source": [
    "\n",
    "from tensorflow.keras.layers import Input, Dense, Activation,Dropout\n",
    "from tensorflow.keras.models import Model\n",
    "from wandb.keras import WandbCallback"
   ]
  },
  {
   "cell_type": "markdown",
   "id": "proud-viewer",
   "metadata": {
    "scrolled": false
   },
   "source": [
    "# Initialising the NN\n",
    "\n",
    "model = Sequential()\n",
    "\n",
    "input_layer = Input(shape=(X.shape[1],))\n",
    "dense_layer_1 = Dense(100, activation='relu')(input_layer)\n",
    "dense_layer_2 = Dense(50, activation='relu')(dense_layer_1)\n",
    "dense_layer_3 = Dense(25, activation='relu')(dense_layer_2)\n",
    "output = Dense(1)(dense_layer_3)\n",
    "\n",
    "model = Model(inputs=input_layer, outputs=output)\n",
    "model.compile(loss=\"mean_squared_error\" , optimizer=\"adam\", metrics=[\"mean_squared_error\"])\n"
   ]
  },
  {
   "cell_type": "markdown",
   "id": "comfortable-thunder",
   "metadata": {},
   "source": [
    "model = Sequential()\n",
    "model.add(Dense(50, input_dim=378, kernel_initializer='normal', activation='relu'))\n",
    "model.add(Dense(20, kernel_initializer='normal', activation='relu'))\n",
    "model.add(Dense(1, kernel_initializer='normal'))\n",
    "\n",
    "Compile model\n",
    "model.compile(loss='mean_squared_error', optimizer=keras.optimizers.Adadelta())\n",
    "\n",
    "model.fit(X_train, y_train, epochs=20, batch_size=10, verbose=0)"
   ]
  },
  {
   "cell_type": "code",
   "execution_count": 130,
   "id": "understanding-asthma",
   "metadata": {},
   "outputs": [
    {
     "name": "stdout",
     "output_type": "stream",
     "text": [
      "0.0920322863060501\n",
      "0.1257858337706249\n"
     ]
    }
   ],
   "source": [
    "from sklearn.metrics import mean_squared_error\n",
    "from math import sqrt\n",
    "\n",
    "pred_train = model.predict(X_train)\n",
    "print(np.sqrt(mean_squared_error(y_train,pred_train)))\n",
    "\n",
    "pred = model.predict(X_test)\n",
    "print(np.sqrt(mean_squared_error(y_test,pred)))"
   ]
  },
  {
   "cell_type": "code",
   "execution_count": 132,
   "id": "reverse-advice",
   "metadata": {},
   "outputs": [
    {
     "data": {
      "text/plain": [
       "0.9636443601597512"
      ]
     },
     "execution_count": 132,
     "metadata": {},
     "output_type": "execute_result"
    }
   ],
   "source": [
    "r2_score(y_test, nn_pred)"
   ]
  },
  {
   "cell_type": "markdown",
   "id": "guilty-interest",
   "metadata": {
    "scrolled": true
   },
   "source": [
    "print(cross_val_score(model, X_train, y_train, cv = 3))"
   ]
  },
  {
   "cell_type": "code",
   "execution_count": 268,
   "id": "classified-minister",
   "metadata": {},
   "outputs": [
    {
     "name": "stdout",
     "output_type": "stream",
     "text": [
      "R2 Score: 0.9704370713710249\n",
      "Mean Squarred Error: 0.009364988023557952\n",
      "RMSE: 0.09677286822016774\n",
      "Mean Absolute Error : 0.06752220095216618\n"
     ]
    }
   ],
   "source": [
    "print(\"R2 Score:\", r2_score(y_test, nn_pred))\n",
    "print(\"Mean Squarred Error:\", mean_squared_error(y_test, nn_pred))\n",
    "print(\"RMSE:\", math.sqrt(mean_squared_error(y_test, nn_pred)))\n",
    "print(\"Mean Absolute Error : \" + str(mean_absolute_error(y_test,nn_pred)))"
   ]
  },
  {
   "cell_type": "code",
   "execution_count": null,
   "id": "marked-warrant",
   "metadata": {},
   "outputs": [],
   "source": []
  },
  {
   "cell_type": "code",
   "execution_count": null,
   "id": "computational-sector",
   "metadata": {},
   "outputs": [],
   "source": []
  },
  {
   "cell_type": "code",
   "execution_count": null,
   "id": "corresponding-longitude",
   "metadata": {},
   "outputs": [],
   "source": []
  },
  {
   "cell_type": "code",
   "execution_count": null,
   "id": "recovered-characterization",
   "metadata": {},
   "outputs": [],
   "source": []
  },
  {
   "cell_type": "code",
   "execution_count": null,
   "id": "surprising-earthquake",
   "metadata": {},
   "outputs": [],
   "source": []
  },
  {
   "cell_type": "code",
   "execution_count": null,
   "id": "brave-cruise",
   "metadata": {},
   "outputs": [],
   "source": []
  },
  {
   "cell_type": "code",
   "execution_count": null,
   "id": "fitting-playing",
   "metadata": {},
   "outputs": [],
   "source": []
  },
  {
   "cell_type": "code",
   "execution_count": 189,
   "id": "1c9b0cf1",
   "metadata": {},
   "outputs": [],
   "source": [
    "## Submit predictions\n",
    "\n",
    "submission = pd.read_csv('sample_submission.csv')"
   ]
  },
  {
   "cell_type": "code",
   "execution_count": 190,
   "id": "0b6c4dc7",
   "metadata": {},
   "outputs": [
    {
     "data": {
      "text/html": [
       "<div>\n",
       "<style scoped>\n",
       "    .dataframe tbody tr th:only-of-type {\n",
       "        vertical-align: middle;\n",
       "    }\n",
       "\n",
       "    .dataframe tbody tr th {\n",
       "        vertical-align: top;\n",
       "    }\n",
       "\n",
       "    .dataframe thead th {\n",
       "        text-align: right;\n",
       "    }\n",
       "</style>\n",
       "<table border=\"1\" class=\"dataframe\">\n",
       "  <thead>\n",
       "    <tr style=\"text-align: right;\">\n",
       "      <th></th>\n",
       "      <th>index</th>\n",
       "      <th>fare</th>\n",
       "    </tr>\n",
       "  </thead>\n",
       "  <tbody>\n",
       "    <tr>\n",
       "      <th>0</th>\n",
       "      <td>0</td>\n",
       "      <td>11.0</td>\n",
       "    </tr>\n",
       "    <tr>\n",
       "      <th>1</th>\n",
       "      <td>1</td>\n",
       "      <td>26.0</td>\n",
       "    </tr>\n",
       "    <tr>\n",
       "      <th>2</th>\n",
       "      <td>2</td>\n",
       "      <td>18.5</td>\n",
       "    </tr>\n",
       "    <tr>\n",
       "      <th>3</th>\n",
       "      <td>3</td>\n",
       "      <td>11.5</td>\n",
       "    </tr>\n",
       "    <tr>\n",
       "      <th>4</th>\n",
       "      <td>4</td>\n",
       "      <td>9.0</td>\n",
       "    </tr>\n",
       "    <tr>\n",
       "      <th>5</th>\n",
       "      <td>5</td>\n",
       "      <td>10.5</td>\n",
       "    </tr>\n",
       "    <tr>\n",
       "      <th>6</th>\n",
       "      <td>6</td>\n",
       "      <td>7.0</td>\n",
       "    </tr>\n",
       "    <tr>\n",
       "      <th>7</th>\n",
       "      <td>7</td>\n",
       "      <td>7.0</td>\n",
       "    </tr>\n",
       "    <tr>\n",
       "      <th>8</th>\n",
       "      <td>8</td>\n",
       "      <td>26.0</td>\n",
       "    </tr>\n",
       "    <tr>\n",
       "      <th>9</th>\n",
       "      <td>9</td>\n",
       "      <td>5.0</td>\n",
       "    </tr>\n",
       "    <tr>\n",
       "      <th>10</th>\n",
       "      <td>10</td>\n",
       "      <td>32.5</td>\n",
       "    </tr>\n",
       "    <tr>\n",
       "      <th>11</th>\n",
       "      <td>11</td>\n",
       "      <td>19.5</td>\n",
       "    </tr>\n",
       "  </tbody>\n",
       "</table>\n",
       "</div>"
      ],
      "text/plain": [
       "    index  fare\n",
       "0       0  11.0\n",
       "1       1  26.0\n",
       "2       2  18.5\n",
       "3       3  11.5\n",
       "4       4   9.0\n",
       "5       5  10.5\n",
       "6       6   7.0\n",
       "7       7   7.0\n",
       "8       8  26.0\n",
       "9       9   5.0\n",
       "10     10  32.5\n",
       "11     11  19.5"
      ]
     },
     "execution_count": 190,
     "metadata": {},
     "output_type": "execute_result"
    }
   ],
   "source": [
    "submission"
   ]
  },
  {
   "cell_type": "code",
   "execution_count": 113,
   "id": "9f7c283a",
   "metadata": {},
   "outputs": [],
   "source": [
    "output = pd.DataFrame(columns = ['index','fare'])"
   ]
  },
  {
   "cell_type": "code",
   "execution_count": 114,
   "id": "660bb5c7",
   "metadata": {},
   "outputs": [],
   "source": [
    "output['index'] = test.index"
   ]
  },
  {
   "cell_type": "code",
   "execution_count": 115,
   "id": "1da4059f",
   "metadata": {},
   "outputs": [],
   "source": [
    "output['index'] = output['index'].astype('str')"
   ]
  },
  {
   "cell_type": "code",
   "execution_count": 116,
   "id": "87f5bcda",
   "metadata": {},
   "outputs": [],
   "source": [
    "output['fare'] = np.floor(np.expm1(blended_predictions(tX)))"
   ]
  },
  {
   "cell_type": "code",
   "execution_count": 117,
   "id": "3b75ea36",
   "metadata": {},
   "outputs": [
    {
     "data": {
      "text/html": [
       "<div>\n",
       "<style scoped>\n",
       "    .dataframe tbody tr th:only-of-type {\n",
       "        vertical-align: middle;\n",
       "    }\n",
       "\n",
       "    .dataframe tbody tr th {\n",
       "        vertical-align: top;\n",
       "    }\n",
       "\n",
       "    .dataframe thead th {\n",
       "        text-align: right;\n",
       "    }\n",
       "</style>\n",
       "<table border=\"1\" class=\"dataframe\">\n",
       "  <thead>\n",
       "    <tr style=\"text-align: right;\">\n",
       "      <th></th>\n",
       "      <th>index</th>\n",
       "      <th>fare</th>\n",
       "    </tr>\n",
       "  </thead>\n",
       "  <tbody>\n",
       "    <tr>\n",
       "      <th>0</th>\n",
       "      <td>0</td>\n",
       "      <td>11.0</td>\n",
       "    </tr>\n",
       "    <tr>\n",
       "      <th>1</th>\n",
       "      <td>1</td>\n",
       "      <td>26.0</td>\n",
       "    </tr>\n",
       "    <tr>\n",
       "      <th>2</th>\n",
       "      <td>2</td>\n",
       "      <td>14.0</td>\n",
       "    </tr>\n",
       "    <tr>\n",
       "      <th>3</th>\n",
       "      <td>3</td>\n",
       "      <td>12.0</td>\n",
       "    </tr>\n",
       "    <tr>\n",
       "      <th>4</th>\n",
       "      <td>4</td>\n",
       "      <td>10.0</td>\n",
       "    </tr>\n",
       "    <tr>\n",
       "      <th>...</th>\n",
       "      <td>...</td>\n",
       "      <td>...</td>\n",
       "    </tr>\n",
       "    <tr>\n",
       "      <th>24995</th>\n",
       "      <td>24995</td>\n",
       "      <td>9.0</td>\n",
       "    </tr>\n",
       "    <tr>\n",
       "      <th>24996</th>\n",
       "      <td>24996</td>\n",
       "      <td>10.0</td>\n",
       "    </tr>\n",
       "    <tr>\n",
       "      <th>24997</th>\n",
       "      <td>24997</td>\n",
       "      <td>33.0</td>\n",
       "    </tr>\n",
       "    <tr>\n",
       "      <th>24998</th>\n",
       "      <td>24998</td>\n",
       "      <td>7.0</td>\n",
       "    </tr>\n",
       "    <tr>\n",
       "      <th>24999</th>\n",
       "      <td>24999</td>\n",
       "      <td>19.0</td>\n",
       "    </tr>\n",
       "  </tbody>\n",
       "</table>\n",
       "<p>25000 rows × 2 columns</p>\n",
       "</div>"
      ],
      "text/plain": [
       "       index  fare\n",
       "0          0  11.0\n",
       "1          1  26.0\n",
       "2          2  14.0\n",
       "3          3  12.0\n",
       "4          4  10.0\n",
       "...      ...   ...\n",
       "24995  24995   9.0\n",
       "24996  24996  10.0\n",
       "24997  24997  33.0\n",
       "24998  24998   7.0\n",
       "24999  24999  19.0\n",
       "\n",
       "[25000 rows x 2 columns]"
      ]
     },
     "execution_count": 117,
     "metadata": {},
     "output_type": "execute_result"
    }
   ],
   "source": [
    "output"
   ]
  },
  {
   "cell_type": "code",
   "execution_count": 120,
   "id": "6b29433f",
   "metadata": {},
   "outputs": [],
   "source": [
    "# Fix outlier predictions\n",
    "\n",
    "q1 = output['fare'].quantile(0.0045)\n",
    "q2 = output['fare'].quantile(0.99)\n",
    "output['fare'] = output['fare'].apply(lambda x: x if x > q1 else x * 0.77)\n",
    "output['fare'] = output['fare'].apply(lambda x: x if x < q2 else x * 1.1)\n",
    "\n"
   ]
  },
  {
   "cell_type": "code",
   "execution_count": 121,
   "id": "regulated-lying",
   "metadata": {},
   "outputs": [
    {
     "data": {
      "text/html": [
       "<div>\n",
       "<style scoped>\n",
       "    .dataframe tbody tr th:only-of-type {\n",
       "        vertical-align: middle;\n",
       "    }\n",
       "\n",
       "    .dataframe tbody tr th {\n",
       "        vertical-align: top;\n",
       "    }\n",
       "\n",
       "    .dataframe thead th {\n",
       "        text-align: right;\n",
       "    }\n",
       "</style>\n",
       "<table border=\"1\" class=\"dataframe\">\n",
       "  <thead>\n",
       "    <tr style=\"text-align: right;\">\n",
       "      <th></th>\n",
       "      <th>index</th>\n",
       "      <th>fare</th>\n",
       "    </tr>\n",
       "  </thead>\n",
       "  <tbody>\n",
       "    <tr>\n",
       "      <th>0</th>\n",
       "      <td>0</td>\n",
       "      <td>11.0</td>\n",
       "    </tr>\n",
       "    <tr>\n",
       "      <th>1</th>\n",
       "      <td>1</td>\n",
       "      <td>26.0</td>\n",
       "    </tr>\n",
       "    <tr>\n",
       "      <th>2</th>\n",
       "      <td>2</td>\n",
       "      <td>14.0</td>\n",
       "    </tr>\n",
       "    <tr>\n",
       "      <th>3</th>\n",
       "      <td>3</td>\n",
       "      <td>12.0</td>\n",
       "    </tr>\n",
       "    <tr>\n",
       "      <th>4</th>\n",
       "      <td>4</td>\n",
       "      <td>10.0</td>\n",
       "    </tr>\n",
       "    <tr>\n",
       "      <th>...</th>\n",
       "      <td>...</td>\n",
       "      <td>...</td>\n",
       "    </tr>\n",
       "    <tr>\n",
       "      <th>24995</th>\n",
       "      <td>24995</td>\n",
       "      <td>9.0</td>\n",
       "    </tr>\n",
       "    <tr>\n",
       "      <th>24996</th>\n",
       "      <td>24996</td>\n",
       "      <td>10.0</td>\n",
       "    </tr>\n",
       "    <tr>\n",
       "      <th>24997</th>\n",
       "      <td>24997</td>\n",
       "      <td>33.0</td>\n",
       "    </tr>\n",
       "    <tr>\n",
       "      <th>24998</th>\n",
       "      <td>24998</td>\n",
       "      <td>7.0</td>\n",
       "    </tr>\n",
       "    <tr>\n",
       "      <th>24999</th>\n",
       "      <td>24999</td>\n",
       "      <td>19.0</td>\n",
       "    </tr>\n",
       "  </tbody>\n",
       "</table>\n",
       "<p>25000 rows × 2 columns</p>\n",
       "</div>"
      ],
      "text/plain": [
       "       index  fare\n",
       "0          0  11.0\n",
       "1          1  26.0\n",
       "2          2  14.0\n",
       "3          3  12.0\n",
       "4          4  10.0\n",
       "...      ...   ...\n",
       "24995  24995   9.0\n",
       "24996  24996  10.0\n",
       "24997  24997  33.0\n",
       "24998  24998   7.0\n",
       "24999  24999  19.0\n",
       "\n",
       "[25000 rows x 2 columns]"
      ]
     },
     "execution_count": 121,
     "metadata": {},
     "output_type": "execute_result"
    }
   ],
   "source": [
    "output"
   ]
  },
  {
   "cell_type": "code",
   "execution_count": 122,
   "id": "distant-lloyd",
   "metadata": {},
   "outputs": [],
   "source": [
    "output.to_csv(\"submission_regression.csv\", index = False)"
   ]
  },
  {
   "cell_type": "code",
   "execution_count": 262,
   "id": "interstate-pacific",
   "metadata": {},
   "outputs": [
    {
     "data": {
      "text/html": [
       "<div>\n",
       "<style scoped>\n",
       "    .dataframe tbody tr th:only-of-type {\n",
       "        vertical-align: middle;\n",
       "    }\n",
       "\n",
       "    .dataframe tbody tr th {\n",
       "        vertical-align: top;\n",
       "    }\n",
       "\n",
       "    .dataframe thead th {\n",
       "        text-align: right;\n",
       "    }\n",
       "</style>\n",
       "<table border=\"1\" class=\"dataframe\">\n",
       "  <thead>\n",
       "    <tr style=\"text-align: right;\">\n",
       "      <th></th>\n",
       "      <th>index</th>\n",
       "      <th>fare</th>\n",
       "    </tr>\n",
       "  </thead>\n",
       "  <tbody>\n",
       "    <tr>\n",
       "      <th>0</th>\n",
       "      <td>0</td>\n",
       "      <td>12.1</td>\n",
       "    </tr>\n",
       "    <tr>\n",
       "      <th>1</th>\n",
       "      <td>1</td>\n",
       "      <td>28.6</td>\n",
       "    </tr>\n",
       "    <tr>\n",
       "      <th>2</th>\n",
       "      <td>2</td>\n",
       "      <td>15.4</td>\n",
       "    </tr>\n",
       "    <tr>\n",
       "      <th>3</th>\n",
       "      <td>3</td>\n",
       "      <td>13.2</td>\n",
       "    </tr>\n",
       "    <tr>\n",
       "      <th>4</th>\n",
       "      <td>4</td>\n",
       "      <td>11.0</td>\n",
       "    </tr>\n",
       "    <tr>\n",
       "      <th>...</th>\n",
       "      <td>...</td>\n",
       "      <td>...</td>\n",
       "    </tr>\n",
       "    <tr>\n",
       "      <th>24995</th>\n",
       "      <td>24995</td>\n",
       "      <td>9.9</td>\n",
       "    </tr>\n",
       "    <tr>\n",
       "      <th>24996</th>\n",
       "      <td>24996</td>\n",
       "      <td>11.0</td>\n",
       "    </tr>\n",
       "    <tr>\n",
       "      <th>24997</th>\n",
       "      <td>24997</td>\n",
       "      <td>36.3</td>\n",
       "    </tr>\n",
       "    <tr>\n",
       "      <th>24998</th>\n",
       "      <td>24998</td>\n",
       "      <td>7.7</td>\n",
       "    </tr>\n",
       "    <tr>\n",
       "      <th>24999</th>\n",
       "      <td>24999</td>\n",
       "      <td>20.9</td>\n",
       "    </tr>\n",
       "  </tbody>\n",
       "</table>\n",
       "<p>25000 rows × 2 columns</p>\n",
       "</div>"
      ],
      "text/plain": [
       "       index  fare\n",
       "0          0  12.1\n",
       "1          1  28.6\n",
       "2          2  15.4\n",
       "3          3  13.2\n",
       "4          4  11.0\n",
       "...      ...   ...\n",
       "24995  24995   9.9\n",
       "24996  24996  11.0\n",
       "24997  24997  36.3\n",
       "24998  24998   7.7\n",
       "24999  24999  20.9\n",
       "\n",
       "[25000 rows x 2 columns]"
      ]
     },
     "execution_count": 262,
     "metadata": {},
     "output_type": "execute_result"
    }
   ],
   "source": [
    "output"
   ]
  },
  {
   "cell_type": "code",
   "execution_count": 263,
   "id": "reflected-boston",
   "metadata": {},
   "outputs": [],
   "source": [
    "output.to_csv('custom_output.csv', index = False)"
   ]
  },
  {
   "cell_type": "code",
   "execution_count": 264,
   "id": "incorporated-maximum",
   "metadata": {},
   "outputs": [],
   "source": [
    "one83 = pd.read_csv('1dot83rmse.csv')"
   ]
  },
  {
   "cell_type": "code",
   "execution_count": 265,
   "id": "cubic-charles",
   "metadata": {},
   "outputs": [
    {
     "data": {
      "text/html": [
       "<div>\n",
       "<style scoped>\n",
       "    .dataframe tbody tr th:only-of-type {\n",
       "        vertical-align: middle;\n",
       "    }\n",
       "\n",
       "    .dataframe tbody tr th {\n",
       "        vertical-align: top;\n",
       "    }\n",
       "\n",
       "    .dataframe thead th {\n",
       "        text-align: right;\n",
       "    }\n",
       "</style>\n",
       "<table border=\"1\" class=\"dataframe\">\n",
       "  <thead>\n",
       "    <tr style=\"text-align: right;\">\n",
       "      <th></th>\n",
       "      <th>index</th>\n",
       "      <th>fare</th>\n",
       "    </tr>\n",
       "  </thead>\n",
       "  <tbody>\n",
       "    <tr>\n",
       "      <th>0</th>\n",
       "      <td>0</td>\n",
       "      <td>11.017809</td>\n",
       "    </tr>\n",
       "    <tr>\n",
       "      <th>1</th>\n",
       "      <td>1</td>\n",
       "      <td>26.042094</td>\n",
       "    </tr>\n",
       "    <tr>\n",
       "      <th>2</th>\n",
       "      <td>2</td>\n",
       "      <td>14.022666</td>\n",
       "    </tr>\n",
       "    <tr>\n",
       "      <th>3</th>\n",
       "      <td>3</td>\n",
       "      <td>12.019428</td>\n",
       "    </tr>\n",
       "    <tr>\n",
       "      <th>4</th>\n",
       "      <td>4</td>\n",
       "      <td>10.016190</td>\n",
       "    </tr>\n",
       "    <tr>\n",
       "      <th>...</th>\n",
       "      <td>...</td>\n",
       "      <td>...</td>\n",
       "    </tr>\n",
       "    <tr>\n",
       "      <th>24995</th>\n",
       "      <td>24995</td>\n",
       "      <td>10.016190</td>\n",
       "    </tr>\n",
       "    <tr>\n",
       "      <th>24996</th>\n",
       "      <td>24996</td>\n",
       "      <td>10.016190</td>\n",
       "    </tr>\n",
       "    <tr>\n",
       "      <th>24997</th>\n",
       "      <td>24997</td>\n",
       "      <td>33.053427</td>\n",
       "    </tr>\n",
       "    <tr>\n",
       "      <th>24998</th>\n",
       "      <td>24998</td>\n",
       "      <td>7.011333</td>\n",
       "    </tr>\n",
       "    <tr>\n",
       "      <th>24999</th>\n",
       "      <td>24999</td>\n",
       "      <td>19.030761</td>\n",
       "    </tr>\n",
       "  </tbody>\n",
       "</table>\n",
       "<p>25000 rows × 2 columns</p>\n",
       "</div>"
      ],
      "text/plain": [
       "       index       fare\n",
       "0          0  11.017809\n",
       "1          1  26.042094\n",
       "2          2  14.022666\n",
       "3          3  12.019428\n",
       "4          4  10.016190\n",
       "...      ...        ...\n",
       "24995  24995  10.016190\n",
       "24996  24996  10.016190\n",
       "24997  24997  33.053427\n",
       "24998  24998   7.011333\n",
       "24999  24999  19.030761\n",
       "\n",
       "[25000 rows x 2 columns]"
      ]
     },
     "execution_count": 265,
     "metadata": {},
     "output_type": "execute_result"
    }
   ],
   "source": [
    "one83"
   ]
  },
  {
   "cell_type": "code",
   "execution_count": null,
   "id": "second-currency",
   "metadata": {},
   "outputs": [],
   "source": []
  }
 ],
 "metadata": {
  "kernelspec": {
   "display_name": "tfgpu",
   "language": "python",
   "name": "tfgpu"
  },
  "language_info": {
   "codemirror_mode": {
    "name": "ipython",
    "version": 3
   },
   "file_extension": ".py",
   "mimetype": "text/x-python",
   "name": "python",
   "nbconvert_exporter": "python",
   "pygments_lexer": "ipython3",
   "version": "3.8.0"
  }
 },
 "nbformat": 4,
 "nbformat_minor": 5
}
